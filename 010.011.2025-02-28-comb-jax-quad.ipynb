{
 "cells": [
  {
   "cell_type": "code",
   "execution_count": 1,
   "id": "f1a63516",
   "metadata": {},
   "outputs": [],
   "source": [
    "import jax\n",
    "import jax.numpy as jnp"
   ]
  },
  {
   "cell_type": "code",
   "execution_count": 2,
   "id": "eab3fe05",
   "metadata": {},
   "outputs": [],
   "source": [
    "from LIMxCMBL.init import *\n"
   ]
  },
  {
   "cell_type": "code",
   "execution_count": 3,
   "id": "1b993b2e",
   "metadata": {},
   "outputs": [
    {
     "name": "stdout",
     "output_type": "stream",
     "text": [
      "/scratch/users/delon/LIMxCMBL/I_auto/comb_zmin_3.5_zmax_8.1_Lambda_idx_18_nb_100_l_0_tplquad.npy\n"
     ]
    }
   ],
   "source": [
    "# Lambda_idx = int(sys.argv[1])\n",
    "# nbins = int(sys.argv[2])\n",
    "# ell_idx = int(sys.argv[3])\n",
    "\n",
    "Lambda_idx = 18\n",
    "nbins = 100\n",
    "ell_idx = 0\n",
    "\n",
    "Lambda = Lambdas[Lambda_idx]\n",
    "\n",
    "# CCAT-prime\n",
    "zmin = 3.5\n",
    "zmax = 8.1\n",
    "\n",
    "oup_fname = '/scratch/users/delon/LIMxCMBL/I_auto/comb'\n",
    "oup_fname += '_zmin_%.1f_zmax_%.1f_Lambda_idx_%d_nb_%d_l_%d_tplquad.npy'%(zmin, zmax, Lambda_idx, nbins,ell_idx)\n",
    "print(oup_fname)"
   ]
  },
  {
   "cell_type": "code",
   "execution_count": 4,
   "id": "eb891544",
   "metadata": {},
   "outputs": [],
   "source": [
    "Omega_field = 8 * (np.pi/180)**2 #rad^2\n",
    "Pei = 2.3e4 #Mpc^3 kJy^2 /sr^2 \n",
    "chimin = ccl.comoving_angular_distance(cosmo, 1/(1+zmin))\n",
    "chimax = ccl.comoving_angular_distance(cosmo, 1/(1+zmax))"
   ]
  },
  {
   "cell_type": "code",
   "execution_count": 5,
   "id": "86cb8d4e",
   "metadata": {},
   "outputs": [],
   "source": [
    "from scipy.interpolate import interp1d, LinearNDInterpolator\n",
    "from scipy.integrate import quad, quad_vec, trapezoid, tplquad\n",
    "\n",
    "inner_dkparp_integral = np.load('/oak/stanford/orgs/kipac/users/delon/LIMxCMBL/inner_dkparp_integral.npy')\n",
    "tmp_chibs = []\n",
    "tmp_log_deltas = []\n",
    "tmp_fnctn = []\n",
    "for i in range(len(chibs)):\n",
    "    for j in range(len(deltas)):\n",
    "        tmp_chibs += [chibs[i]]\n",
    "        tmp_log_deltas += [np.log10(deltas[j])]\n",
    "        tmp_fnctn += [inner_dkparp_integral[ell_idx,i,j]]\n",
    "        \n",
    "f_inner_integral = LinearNDInterpolator(list(zip(tmp_chibs, tmp_log_deltas)), tmp_fnctn)\n",
    "f_inner_integral_LoLo = interp1d(x = chibs, y = inner_dkparp_integral[ell_idx], axis = 0)"
   ]
  },
  {
   "cell_type": "code",
   "execution_count": 7,
   "id": "33bd27cf",
   "metadata": {},
   "outputs": [],
   "source": [
    "from interpax import interp2d, interp1d\n",
    "inner_dkparp_integral = jnp.array(inner_dkparp_integral.astype(np.float64))"
   ]
  },
  {
   "cell_type": "code",
   "execution_count": 8,
   "id": "1511d9ac",
   "metadata": {},
   "outputs": [
    {
     "data": {
      "text/plain": [
       "array(752.78944199)"
      ]
     },
     "execution_count": 8,
     "metadata": {},
     "output_type": "execute_result"
    }
   ],
   "source": [
    "f_inner_integral((7838, np.log10(0.001)))"
   ]
  },
  {
   "cell_type": "code",
   "execution_count": 9,
   "id": "91fb536c",
   "metadata": {},
   "outputs": [
    {
     "data": {
      "text/plain": [
       "Array([752.7989], dtype=float32)"
      ]
     },
     "execution_count": 9,
     "metadata": {},
     "output_type": "execute_result"
    }
   ],
   "source": [
    "interp2d(xq = [7838], yq=[np.log(0.001)], \n",
    "         x = chibs, y = np.log(deltas), f=inner_dkparp_integral[ell_idx],\n",
    "        method='linear',)"
   ]
  },
  {
   "cell_type": "code",
   "execution_count": 10,
   "id": "67fefb98",
   "metadata": {},
   "outputs": [],
   "source": [
    "chi_bin_edges = jnp.linspace(chimin*(1+1e-8), chimax*(1 - 1e-8), nbins + 1)\n",
    "chi_bin_centers = (chi_bin_edges[1:] + chi_bin_edges[:-1])/2\n",
    "dchi_binned = jnp.mean(jnp.diff(chi_bin_edges))"
   ]
  },
  {
   "cell_type": "code",
   "execution_count": 11,
   "id": "a00a7135",
   "metadata": {},
   "outputs": [],
   "source": [
    "from jax import jit"
   ]
  },
  {
   "cell_type": "code",
   "execution_count": 36,
   "id": "2097d324",
   "metadata": {},
   "outputs": [],
   "source": [
    "_tmp = np.load('LIMxCMBL/_KI.npy')\n",
    "_chis, _KI = _tmp[0], _tmp[1]"
   ]
  },
  {
   "cell_type": "code",
   "execution_count": 40,
   "id": "00526484",
   "metadata": {},
   "outputs": [],
   "source": [
    "_chis = jnp.array(_chis)\n",
    "_KI = jnp.array(_KI)"
   ]
  },
  {
   "cell_type": "code",
   "execution_count": 46,
   "id": "6a60808d",
   "metadata": {},
   "outputs": [],
   "source": [
    "\n",
    "def f_KI1D(chi):\n",
    "    return np.interp(x = chi, xp = _chis, fp = _KI, left = 0, right = 0)\n",
    "\n"
   ]
  },
  {
   "cell_type": "code",
   "execution_count": 60,
   "id": "96692ac5",
   "metadata": {},
   "outputs": [],
   "source": [
    "@jit\n",
    "def f_KILo(chi, external_chi, Lambda):\n",
    "    return (Lambda / jnp.pi \n",
    "            * jnp.interp(x = chi, xp = _chis, \n",
    "                         fp = _KI, left = 0, right = 0) \n",
    "            * jnp.sinc(Lambda * (external_chi - chi) / np.pi))\n",
    "\n",
    "@jit\n",
    "def f_integrand(_chib, chip, chi):\n",
    "    # by assumption chimin <= chi,chip <= chimax\n",
    "    #I Lo\n",
    "    _delta = jnp.abs(1 - chi/_chib) #(1)\n",
    "    _delta = jnp.where(_delta < 1e-6, 1e-6, _delta)\n",
    "    _delta = jnp.where(_delta > 0.7, 0.7, _delta)\n",
    "    c1    = jnp.where(chimin <= (2*_chib - chi), \n",
    "            jnp.where((2*_chib - chi) <= chimax, \n",
    "            jnp.where(chimin <= chi, \n",
    "            jnp.where(chi <= chimax,\n",
    "                2 * jnp.interp(x = chi, xp = _chis, fp = _KI, left = 0, right = 0)\n",
    "                * interp2d(xq = [_chib], yq=[jnp.log(_delta)], \n",
    "                           x = chibs, y = jnp.log(deltas), f=inner_dkparp_integral[ell_idx],\n",
    "                           method='linear',)\n",
    "                / (_chib**2)\n",
    "                * f_KILo(2*_chib - chi, external_chi = chip, Lambda=Lambda),\n",
    "                      0),0),0),0)\n",
    "    _delta = jnp.abs(1 - chip/_chib) #(1)\n",
    "    _delta = jnp.where(_delta < 1e-6, 1e-6, _delta)\n",
    "    _delta = jnp.where(_delta > 0.7, 0.7, _delta)\n",
    "\n",
    "    c2    = jnp.where(chimin <= (2*_chib - chip), \n",
    "            jnp.where((2*_chib - chip) <= chimax, \n",
    "            jnp.where(chimin <= chip, \n",
    "            jnp.where(chip <= chimax,\n",
    "                2 * jnp.interp(x = chip, xp = _chis, fp = _KI, left = 0, right = 0)\n",
    "                * interp2d(xq = [_chib], yq=[jnp.log(_delta)], \n",
    "                           x = chibs, y = jnp.log(deltas), f=inner_dkparp_integral[ell_idx],\n",
    "                           method='linear',)\n",
    "                / (_chib**2)\n",
    "                * f_KILo(2*_chib - chip, external_chi = chi, Lambda=Lambda),\n",
    "                      0),0),0),0)\n",
    "\n",
    "    cross_integrand = c1+c2\n",
    "    \n",
    "    #LoLo\n",
    "    plus = _chib*(1+deltas) #(d)\n",
    "    mins = _chib*(1-deltas) #(d)\n",
    "    _idxs = (chimin < plus) & (plus < chimax) & (chimin < mins) & (mins < chimax)\n",
    "    LoLo_integrand  = jnp.where(_idxs,\n",
    "                               f_KILo(plus, external_chi = chi, Lambda=Lambda) * f_KILo(mins, external_chi = chip, Lambda=Lambda),\n",
    "                               0) #(d)\n",
    "    LoLo_integrand += jnp.where(_idxs,\n",
    "                               f_KILo(mins, external_chi = chi, Lambda=Lambda) * f_KILo(plus, external_chi = chip, Lambda=Lambda),\n",
    "                               0) #(d)\n",
    "    \n",
    "    LoLo_integrand *= (2 / _chib) #(d)\n",
    "    LoLo_integrand *= deltas\n",
    "    LoLo_integrand *= interp1d(xq = [_chib],\n",
    "                           x = chibs, f=inner_dkparp_integral[ell_idx],\n",
    "                           method='linear',)\n",
    "    LoLo_integrand = jnp.trapezoid(x = jnp.log(deltas), y = LoLo_integrand, axis=-1)\n",
    "    return LoLo_integrand - cross_integrand"
   ]
  },
  {
   "cell_type": "code",
   "execution_count": 61,
   "id": "3778e523",
   "metadata": {},
   "outputs": [
    {
     "data": {
      "text/plain": [
       "Array([-6.635824e-09], dtype=float32)"
      ]
     },
     "execution_count": 61,
     "metadata": {},
     "output_type": "execute_result"
    }
   ],
   "source": [
    "f_integrand(8000, 8001, 8004)"
   ]
  },
  {
   "cell_type": "code",
   "execution_count": 62,
   "id": "f485b391",
   "metadata": {},
   "outputs": [],
   "source": [
    "def r():\n",
    "    return np.random.uniform(chimin, chimax)\n",
    "_tmp = jnp.array([ (r(), r(), r()) for _ in range(10000)])"
   ]
  },
  {
   "cell_type": "code",
   "execution_count": 64,
   "id": "58c5a925",
   "metadata": {},
   "outputs": [
    {
     "name": "stdout",
     "output_type": "stream",
     "text": [
      "         235882 function calls in 0.488 seconds\n",
      "\n",
      "   Ordered by: standard name\n",
      "\n",
      "   ncalls  tottime  percall  cumtime  percall filename:lineno(function)\n",
      "        1    0.303    0.303    0.476    0.476 <string>:1(<listcomp>)\n",
      "        1    0.012    0.012    0.488    0.488 <string>:1(<module>)\n",
      "       32    0.000    0.000    0.000    0.000 __init__.py:96(_xla_gc_callback)\n",
      "    20406    0.004    0.000    0.004    0.000 array.py:225(shape)\n",
      "        1    0.000    0.000    0.000    0.000 array.py:229(dtype)\n",
      "    10201    0.004    0.000    0.008    0.000 array.py:233(ndim)\n",
      "        2    0.000    0.000    0.000    0.000 array.py:237(size)\n",
      "    20004    0.003    0.000    0.003    0.000 array.py:241(sharding)\n",
      "        1    0.000    0.000    0.000    0.000 array.py:258(__bool__)\n",
      "        1    0.000    0.000    0.000    0.000 array.py:282(__index__)\n",
      "    10001    0.013    0.000    0.041    0.000 array.py:338(__iter__)\n",
      "    50001    0.099    0.000    0.131    0.000 array.py:344(<genexpr>)\n",
      "    10003    0.005    0.000    0.008    0.000 array.py:352(is_fully_replicated)\n",
      "        2    0.000    0.000    0.000    0.000 array.py:557(_check_if_deleted)\n",
      "        2    0.000    0.000    0.000    0.000 array.py:587(_value)\n",
      "    20101    0.006    0.000    0.032    0.000 array_methods.py:341(_chunk_iter)\n",
      "      300    0.001    0.000    0.003    0.000 config.py:192(trace_context)\n",
      "     6900    0.002    0.000    0.003    0.000 config.py:278(value)\n",
      "      300    0.000    0.000    0.000    0.000 contextlib.py:114(__enter__)\n",
      "      300    0.000    0.000    0.000    0.000 contextlib.py:123(__exit__)\n",
      "      300    0.000    0.000    0.001    0.000 contextlib.py:261(helper)\n",
      "      300    0.000    0.000    0.000    0.000 contextlib.py:86(__init__)\n",
      "      300    0.000    0.000    0.000    0.000 core.py:1096(cur_sublevel)\n",
      "      600    0.000    0.000    0.000    0.000 core.py:1255(pop_level)\n",
      "      300    0.000    0.000    0.000    0.000 core.py:1348(full_lower)\n",
      "      300    0.000    0.000    0.002    0.000 core.py:1358(find_top_trace)\n",
      "      300    0.000    0.000    0.000    0.000 core.py:1359(<genexpr>)\n",
      "      300    0.000    0.000    0.000    0.000 core.py:1657(_canonicalize_dimension)\n",
      "      100    0.000    0.000    0.000    0.000 core.py:1676(canonicalize_shape)\n",
      "      200    0.000    0.000    0.000    0.000 core.py:2099(is_constant_dim)\n",
      "      300    0.000    0.000    0.015    0.000 core.py:413(bind)\n",
      "      300    0.001    0.000    0.013    0.000 core.py:418(bind_with_trace)\n",
      "      300    0.000    0.000    0.000    0.000 core.py:506(__init__)\n",
      "      500    0.000    0.000    0.001    0.000 core.py:511(full_raise)\n",
      "        1    0.000    0.000    0.000    0.000 core.py:644(check_integer_conversion)\n",
      "        1    0.000    0.000    0.000    0.000 core.py:649(check_bool_conversion)\n",
      "      500    0.000    0.000    0.000    0.000 core.py:912(pure)\n",
      "      300    0.000    0.000    0.010    0.000 core.py:915(process_primitive)\n",
      "      300    0.000    0.000    0.001    0.000 core.py:970(with_cur_sublevel)\n",
      "      300    0.006    0.000    0.009    0.000 dispatch.py:80(apply_primitive)\n",
      "      800    0.001    0.000    0.001    0.000 dtypes.py:239(canonicalize_dtype)\n",
      "      100    0.000    0.000    0.001    0.000 dtypes.py:252(scalar_type_of)\n",
      "     1001    0.001    0.000    0.001    0.000 dtypes.py:329(issubdtype)\n",
      "      200    0.000    0.000    0.000    0.000 dtypes.py:643(is_weakly_typed)\n",
      "      100    0.000    0.000    0.000    0.000 dtypes.py:651(is_python_scalar)\n",
      "     1100    0.001    0.000    0.003    0.000 dtypes.py:662(dtype)\n",
      "      200    0.000    0.000    0.015    0.000 lax.py:502(convert_element_type)\n",
      "      100    0.000    0.000    0.002    0.000 lax.py:5079(_const)\n",
      "      200    0.001    0.000    0.015    0.000 lax.py:519(_convert_element_type)\n",
      "      200    0.000    0.000    0.000    0.000 multiarray.py:669(result_type)\n",
      "      400    0.000    0.000    0.000    0.000 numerictypes.py:283(issubclass_)\n",
      "      200    0.000    0.000    0.000    0.000 numerictypes.py:357(issubdtype)\n",
      "        2    0.000    0.000    0.000    0.000 profiler.py:332(wrapper)\n",
      "    10001    0.006    0.000    0.012    0.000 sharding_impls.py:1540(is_single_device_sharding)\n",
      "    10001    0.003    0.000    0.003    0.000 sharding_impls.py:346(device_set)\n",
      "    10003    0.001    0.000    0.001    0.000 sharding_impls.py:367(is_fully_replicated)\n",
      "      100    0.000    0.000    0.022    0.000 slicing.py:113(dynamic_slice)\n",
      "      100    0.001    0.000    0.017    0.000 slicing.py:2605(_dynamic_slice_indices)\n",
      "      100    0.001    0.000    0.025    0.000 slicing.py:840(dynamic_slice_in_dim)\n",
      "        2    0.000    0.000    0.000    0.000 typing.py:1375(cast)\n",
      "      300    0.001    0.000    0.004    0.000 util.py:306(wrapper)\n",
      "      501    0.000    0.000    0.000    0.000 {built-in method _operator.index}\n",
      "        1    0.000    0.000    0.488    0.488 {built-in method builtins.exec}\n",
      "      700    0.000    0.000    0.000    0.000 {built-in method builtins.getattr}\n",
      "      700    0.000    0.000    0.000    0.000 {built-in method builtins.hasattr}\n",
      "    14703    0.003    0.000    0.003    0.000 {built-in method builtins.isinstance}\n",
      "      600    0.000    0.000    0.000    0.000 {built-in method builtins.issubclass}\n",
      "    20302    0.002    0.000    0.002    0.000 {built-in method builtins.len}\n",
      "      300    0.000    0.000    0.001    0.000 {built-in method builtins.max}\n",
      "      600    0.000    0.000    0.000    0.000 {built-in method builtins.next}\n",
      "        2    0.000    0.000    0.000    0.000 {built-in method math.prod}\n",
      "      200    0.000    0.000    0.000    0.000 {built-in method numpy.asarray}\n",
      "      300    0.000    0.000    0.001    0.000 {jaxlib.utils.safe_map}\n",
      "      100    0.000    0.000    0.000    0.000 {jaxlib.utils.safe_zip}\n",
      "      200    0.000    0.000    0.000    0.000 {method 'append' of 'list' objects}\n",
      "      200    0.000    0.000    0.000    0.000 {method 'astype' of 'numpy.ndarray' objects}\n",
      "        1    0.000    0.000    0.000    0.000 {method 'disable' of '_lsprof.Profiler' objects}\n",
      "     6900    0.001    0.000    0.001    0.000 {method 'get' of 'dict' objects}\n",
      "\n",
      "\n"
     ]
    }
   ],
   "source": [
    "import cProfile\n",
    "cProfile.run('[f_integrand(a,b,c).block_until_ready() for a,b,c in _tmp]')"
   ]
  },
  {
   "cell_type": "code",
   "execution_count": 65,
   "id": "2bc8dd2c",
   "metadata": {},
   "outputs": [],
   "source": [
    "from quadax import quadgk"
   ]
  },
  {
   "cell_type": "code",
   "execution_count": 72,
   "id": "070c69dc",
   "metadata": {},
   "outputs": [],
   "source": [
    "def chib_quad(y, x, L, R):\n",
    "    return quadgk(f_integrand, [L, R],\n",
    "                  epsabs = 0.0, epsrel = 1e-3,\n",
    "                  args=(y, x))[0]\n",
    "\n",
    "def bin_j_quad(x, lj, L, rj, R):\n",
    "    return quadgk(chib_quad, [lj, rj],\n",
    "                  epsabs = 0.0, epsrel = 1e-3,\n",
    "                  args=(x, L, R))[0]\n",
    "\n",
    "def bin_i_quad(li, lj, L, ri, rj, R):\n",
    "    return quadgk(bin_j_quad, [li, ri],\n",
    "                  epsabs = 0.0, epsrel = 1e-3,\n",
    "                  args=(lj, L, rj, R))[0]"
   ]
  },
  {
   "cell_type": "code",
   "execution_count": 73,
   "id": "5978c5dc",
   "metadata": {},
   "outputs": [],
   "source": [
    "i = 13\n",
    "li, ri = chi_bin_edges[i], chi_bin_edges[i+1]\n",
    "\n",
    "j = 14\n",
    "lj, rj = chi_bin_edges[j], chi_bin_edges[j+1]\n"
   ]
  },
  {
   "cell_type": "code",
   "execution_count": null,
   "id": "7069824b",
   "metadata": {},
   "outputs": [
    {
     "name": "stderr",
     "output_type": "stream",
     "text": [
      "/home/users/delon/.local/lib/python3.9/site-packages/jax/_src/core.py:678: FutureWarning: unhashable type: <class 'jax._src.interpreters.partial_eval.DynamicJaxprTracer'>. Attempting to hash a tracer will lead to an error in a future JAX release.\n",
      "  warnings.warn(\n",
      "/home/users/delon/.local/lib/python3.9/site-packages/jax/_src/core.py:678: FutureWarning: unhashable type: <class 'jax._src.interpreters.partial_eval.DynamicJaxprTracer'>. Attempting to hash a tracer will lead to an error in a future JAX release.\n",
      "  warnings.warn(\n",
      "/home/users/delon/.local/lib/python3.9/site-packages/jax/_src/core.py:678: FutureWarning: unhashable type: <class 'jax._src.interpreters.partial_eval.DynamicJaxprTracer'>. Attempting to hash a tracer will lead to an error in a future JAX release.\n",
      "  warnings.warn(\n",
      "/home/users/delon/.local/lib/python3.9/site-packages/jax/_src/core.py:678: FutureWarning: unhashable type: <class 'jax._src.interpreters.partial_eval.DynamicJaxprTracer'>. Attempting to hash a tracer will lead to an error in a future JAX release.\n",
      "  warnings.warn(\n"
     ]
    }
   ],
   "source": [
    "bin_i_quad(li, lj, 10, ri, rj, chimax_sample)"
   ]
  }
 ],
 "metadata": {
  "kernelspec": {
   "display_name": "cosmology",
   "language": "python",
   "name": "cosmology"
  },
  "language_info": {
   "codemirror_mode": {
    "name": "ipython",
    "version": 3
   },
   "file_extension": ".py",
   "mimetype": "text/x-python",
   "name": "python",
   "nbconvert_exporter": "python",
   "pygments_lexer": "ipython3",
   "version": "3.9.19"
  }
 },
 "nbformat": 4,
 "nbformat_minor": 5
}
