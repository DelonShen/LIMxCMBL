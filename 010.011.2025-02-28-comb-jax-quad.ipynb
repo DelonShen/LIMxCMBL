{
 "cells": [
  {
   "cell_type": "code",
   "execution_count": null,
   "id": "b5856779",
   "metadata": {},
   "outputs": [],
   "source": [
    "import jax\n",
    "import jax.numpy as jnp"
   ]
  },
  {
   "cell_type": "code",
   "execution_count": null,
   "id": "163548a9",
   "metadata": {},
   "outputs": [],
   "source": [
    "from LIMxCMBL.init import *\n"
   ]
  },
  {
   "cell_type": "code",
   "execution_count": null,
   "id": "469398ba",
   "metadata": {},
   "outputs": [],
   "source": [
    "# Lambda_idx = int(sys.argv[1])\n",
    "# nbins = int(sys.argv[2])\n",
    "# ell_idx = int(sys.argv[3])\n",
    "\n",
    "Lambda_idx = 18\n",
    "nbins = 100\n",
    "ell_idx = 0\n",
    "\n",
    "Lambda = Lambdas[Lambda_idx]\n",
    "\n",
    "# CCAT-prime\n",
    "zmin = 3.5\n",
    "zmax = 8.1\n",
    "\n",
    "oup_fname = '/scratch/users/delon/LIMxCMBL/I_auto/comb'\n",
    "oup_fname += '_zmin_%.1f_zmax_%.1f_Lambda_idx_%d_nb_%d_l_%d_tplquad.npy'%(zmin, zmax, Lambda_idx, nbins,ell_idx)\n",
    "print(oup_fname)"
   ]
  },
  {
   "cell_type": "code",
   "execution_count": null,
   "id": "24b3deb9",
   "metadata": {},
   "outputs": [],
   "source": [
    "Omega_field = 8 * (np.pi/180)**2 #rad^2\n",
    "Pei = 2.3e4 #Mpc^3 kJy^2 /sr^2 \n",
    "chimin = ccl.comoving_angular_distance(cosmo, 1/(1+zmin))\n",
    "chimax = ccl.comoving_angular_distance(cosmo, 1/(1+zmax))"
   ]
  },
  {
   "cell_type": "code",
   "execution_count": null,
   "id": "29356ade",
   "metadata": {},
   "outputs": [],
   "source": [
    "from scipy.interpolate import interp1d, LinearNDInterpolator\n",
    "from scipy.integrate import quad, quad_vec, trapezoid, tplquad\n",
    "\n",
    "inner_dkparp_integral = np.load('/oak/stanford/orgs/kipac/users/delon/LIMxCMBL/inner_dkparp_integral.npy')\n",
    "tmp_chibs = []\n",
    "tmp_log_deltas = []\n",
    "tmp_fnctn = []\n",
    "for i in range(len(chibs)):\n",
    "    for j in range(len(deltas)):\n",
    "        tmp_chibs += [chibs[i]]\n",
    "        tmp_log_deltas += [np.log10(deltas[j])]\n",
    "        tmp_fnctn += [inner_dkparp_integral[ell_idx,i,j]]\n",
    "        \n",
    "f_inner_integral = LinearNDInterpolator(list(zip(tmp_chibs, tmp_log_deltas)), tmp_fnctn)\n",
    "f_inner_integral_LoLo = interp1d(x = chibs, y = inner_dkparp_integral[ell_idx], axis = 0)"
   ]
  },
  {
   "cell_type": "code",
   "execution_count": null,
   "id": "72643948",
   "metadata": {},
   "outputs": [],
   "source": [
    "from interpax import interp2d, interp1d\n",
    "inner_dkparp_integral = jnp.array(inner_dkparp_integral.astype(np.float64))"
   ]
  },
  {
   "cell_type": "code",
   "execution_count": null,
   "id": "93f0bd99",
   "metadata": {},
   "outputs": [],
   "source": [
    "f_inner_integral((7838, np.log10(0.001)))"
   ]
  },
  {
   "cell_type": "code",
   "execution_count": null,
   "id": "91d8b587",
   "metadata": {},
   "outputs": [],
   "source": [
    "interp2d(xq = [7838], yq=[np.log(0.001)], \n",
    "         x = chibs, y = np.log(deltas), f=inner_dkparp_integral[ell_idx],\n",
    "        method='linear',)"
   ]
  },
  {
   "cell_type": "code",
   "execution_count": null,
   "id": "005ed06e",
   "metadata": {},
   "outputs": [],
   "source": [
    "chi_bin_edges = jnp.linspace(chimin*(1+1e-8), chimax*(1 - 1e-8), nbins + 1)\n",
    "chi_bin_centers = (chi_bin_edges[1:] + chi_bin_edges[:-1])/2\n",
    "dchi_binned = jnp.mean(jnp.diff(chi_bin_edges))"
   ]
  },
  {
   "cell_type": "code",
   "execution_count": null,
   "id": "0348a309",
   "metadata": {},
   "outputs": [],
   "source": [
    "from jax import jit"
   ]
  },
  {
   "cell_type": "code",
   "execution_count": null,
   "id": "d024bdc1",
   "metadata": {},
   "outputs": [],
   "source": [
    "_tmp = np.load('LIMxCMBL/_KI.npy')\n",
    "_chis, _KI = _tmp[0], _tmp[1]"
   ]
  },
  {
   "cell_type": "code",
   "execution_count": null,
   "id": "1e2deded",
   "metadata": {},
   "outputs": [],
   "source": [
    "_chis = jnp.array(_chis)\n",
    "_KI = jnp.array(_KI)"
   ]
  },
  {
   "cell_type": "code",
   "execution_count": null,
   "id": "388d94dd",
   "metadata": {},
   "outputs": [],
   "source": [
    "\n",
    "def f_KI1D(chi):\n",
    "    return np.interp(x = chi, xp = _chis, fp = _KI, left = 0, right = 0)\n",
    "\n"
   ]
  },
  {
   "cell_type": "code",
   "execution_count": null,
   "id": "7045e82e",
   "metadata": {},
   "outputs": [],
   "source": [
    "@jit\n",
    "def f_KILo(chi, external_chi, Lambda):\n",
    "    return (Lambda / jnp.pi \n",
    "            * jnp.interp(x = chi, xp = _chis, \n",
    "                         fp = _KI, left = 0, right = 0) \n",
    "            * jnp.sinc(Lambda * (external_chi - chi) / np.pi))\n",
    "\n",
    "@jit\n",
    "def f_integrand(_chib, chip, chi):\n",
    "    # by assumption chimin <= chi,chip <= chimax\n",
    "    #I Lo\n",
    "    _delta = jnp.abs(1 - chi/_chib) #(1)\n",
    "    _delta = jnp.where(_delta < 1e-6, 1e-6, _delta)\n",
    "    _delta = jnp.where(_delta > 0.7, 0.7, _delta)\n",
    "    c1    = jnp.where(chimin <= (2*_chib - chi), \n",
    "            jnp.where((2*_chib - chi) <= chimax, \n",
    "            jnp.where(chimin <= chi, \n",
    "            jnp.where(chi <= chimax,\n",
    "                2 * jnp.interp(x = chi, xp = _chis, fp = _KI, left = 0, right = 0)\n",
    "                * interp2d(xq = [_chib], yq=[jnp.log(_delta)], \n",
    "                           x = chibs, y = jnp.log(deltas), f=inner_dkparp_integral[ell_idx],\n",
    "                           method='linear',)\n",
    "                / (_chib**2)\n",
    "                * f_KILo(2*_chib - chi, external_chi = chip, Lambda=Lambda),\n",
    "                      0),0),0),0)\n",
    "    _delta = jnp.abs(1 - chip/_chib) #(1)\n",
    "    _delta = jnp.where(_delta < 1e-6, 1e-6, _delta)\n",
    "    _delta = jnp.where(_delta > 0.7, 0.7, _delta)\n",
    "\n",
    "    c2    = jnp.where(chimin <= (2*_chib - chip), \n",
    "            jnp.where((2*_chib - chip) <= chimax, \n",
    "            jnp.where(chimin <= chip, \n",
    "            jnp.where(chip <= chimax,\n",
    "                2 * jnp.interp(x = chip, xp = _chis, fp = _KI, left = 0, right = 0)\n",
    "                * interp2d(xq = [_chib], yq=[jnp.log(_delta)], \n",
    "                           x = chibs, y = jnp.log(deltas), f=inner_dkparp_integral[ell_idx],\n",
    "                           method='linear',)\n",
    "                / (_chib**2)\n",
    "                * f_KILo(2*_chib - chip, external_chi = chi, Lambda=Lambda),\n",
    "                      0),0),0),0)\n",
    "\n",
    "    cross_integrand = c1+c2\n",
    "    \n",
    "    #LoLo\n",
    "    plus = _chib*(1+deltas) #(d)\n",
    "    mins = _chib*(1-deltas) #(d)\n",
    "    _idxs = (chimin < plus) & (plus < chimax) & (chimin < mins) & (mins < chimax)\n",
    "    LoLo_integrand  = jnp.where(_idxs,\n",
    "                               f_KILo(plus, external_chi = chi, Lambda=Lambda) * f_KILo(mins, external_chi = chip, Lambda=Lambda),\n",
    "                               0) #(d)\n",
    "    LoLo_integrand += jnp.where(_idxs,\n",
    "                               f_KILo(mins, external_chi = chi, Lambda=Lambda) * f_KILo(plus, external_chi = chip, Lambda=Lambda),\n",
    "                               0) #(d)\n",
    "    \n",
    "    LoLo_integrand *= (2 / _chib) #(d)\n",
    "    LoLo_integrand *= deltas\n",
    "    LoLo_integrand *= interp1d(xq = [_chib],\n",
    "                           x = chibs, f=inner_dkparp_integral[ell_idx],\n",
    "                           method='linear',)\n",
    "    LoLo_integrand = jnp.trapezoid(x = jnp.log(deltas), y = LoLo_integrand, axis=-1)\n",
    "    return LoLo_integrand - cross_integrand"
   ]
  },
  {
   "cell_type": "code",
   "execution_count": null,
   "id": "22c9fed7",
   "metadata": {},
   "outputs": [],
   "source": [
    "f_integrand(8000, 8001, 8004)"
   ]
  },
  {
   "cell_type": "code",
   "execution_count": null,
   "id": "17687c96",
   "metadata": {},
   "outputs": [],
   "source": [
    "def r():\n",
    "    return np.random.uniform(chimin, chimax)\n",
    "_tmp = jnp.array([ (r(), r(), r()) for _ in range(10000)])"
   ]
  },
  {
   "cell_type": "code",
   "execution_count": null,
   "id": "428be3ce",
   "metadata": {},
   "outputs": [],
   "source": [
    "import cProfile\n",
    "cProfile.run('[f_integrand(a,b,c).block_until_ready() for a,b,c in _tmp]')"
   ]
  },
  {
   "cell_type": "code",
   "execution_count": null,
   "id": "399dace4",
   "metadata": {},
   "outputs": [],
   "source": [
    "from quadax import quadgk"
   ]
  },
  {
   "cell_type": "code",
   "execution_count": null,
   "id": "fc69533e",
   "metadata": {},
   "outputs": [],
   "source": [
    "def chib_quad(y, x, L, R):\n",
    "    return quadgk(f_integrand, [L, R],\n",
    "                  epsabs = 0.0, epsrel = 1e-3,\n",
    "                  args=(y, x))[0]\n",
    "\n",
    "def bin_j_quad(x, lj, L, rj, R):\n",
    "    return quadgk(chib_quad, [lj, rj],\n",
    "                  epsabs = 0.0, epsrel = 1e-3,\n",
    "                  args=(x, L, R))[0]\n",
    "\n",
    "def bin_i_quad(li, lj, L, ri, rj, R):\n",
    "    return quadgk(bin_j_quad, [li, ri],\n",
    "                  epsabs = 0.0, epsrel = 1e-3,\n",
    "                  args=(lj, L, rj, R))[0]"
   ]
  },
  {
   "cell_type": "code",
   "execution_count": null,
   "id": "aba2be90",
   "metadata": {},
   "outputs": [],
   "source": [
    "i = 13\n",
    "li, ri = chi_bin_edges[i], chi_bin_edges[i+1]\n",
    "\n",
    "j = 14\n",
    "lj, rj = chi_bin_edges[j], chi_bin_edges[j+1]\n"
   ]
  },
  {
   "cell_type": "code",
   "execution_count": null,
   "id": "52ccff61",
   "metadata": {},
   "outputs": [],
   "source": [
    "bin_i_quad(li, lj, 10, ri, rj, chimax_sample)"
   ]
  }
 ],
 "metadata": {
  "kernelspec": {
   "display_name": "cosmology",
   "language": "python",
   "name": "cosmology"
  },
  "language_info": {
   "codemirror_mode": {
    "name": "ipython",
    "version": 3
   },
   "file_extension": ".py",
   "mimetype": "text/x-python",
   "name": "python",
   "nbconvert_exporter": "python",
   "pygments_lexer": "ipython3",
   "version": "3.9.19"
  }
 },
 "nbformat": 4,
 "nbformat_minor": 5
}
