{
 "cells": [
  {
   "cell_type": "code",
   "execution_count": 1,
   "id": "1942793d",
   "metadata": {},
   "outputs": [],
   "source": [
    "from LIMxCMBL.init import *"
   ]
  },
  {
   "cell_type": "code",
   "execution_count": 2,
   "id": "6b3cba8a",
   "metadata": {},
   "outputs": [],
   "source": [
    "from tqdm import trange"
   ]
  },
  {
   "cell_type": "code",
   "execution_count": 3,
   "id": "f57d41b1",
   "metadata": {},
   "outputs": [],
   "source": [
    "import matplotlib.pyplot as plt"
   ]
  },
  {
   "cell_type": "code",
   "execution_count": 4,
   "id": "083b4035",
   "metadata": {},
   "outputs": [],
   "source": [
    "c1 = plt.cm.rainbow(np.linspace(0, 1, len(deltas)))[::-1]\n",
    "c2 = plt.cm.rainbow(np.linspace(0, 1, len(chibs)))"
   ]
  },
  {
   "cell_type": "code",
   "execution_count": 5,
   "id": "90f1d4c4",
   "metadata": {},
   "outputs": [
    {
     "name": "stdout",
     "output_type": "stream",
     "text": [
      "[1.00000000e+01 5.29752115e+01 9.59504230e+01 1.38925634e+02\n",
      " 1.81900846e+02 2.24876057e+02 2.67851269e+02 3.10826480e+02\n",
      " 3.53801692e+02 3.96776903e+02 4.39752115e+02 4.82727326e+02\n",
      " 5.25702538e+02 5.68677749e+02 6.11652961e+02 6.54628172e+02\n",
      " 6.97603384e+02 7.40578595e+02 7.83553807e+02 8.26529018e+02\n",
      " 8.69504230e+02 9.12479441e+02 9.55454653e+02 9.98429864e+02\n",
      " 1.04140508e+03 1.08438029e+03 1.12735550e+03 1.17033071e+03\n",
      " 1.21330592e+03 1.25628113e+03 1.29925634e+03 1.34223156e+03\n",
      " 1.38520677e+03 1.42818198e+03 1.47115719e+03 1.51413240e+03\n",
      " 1.55710761e+03 1.60008282e+03 1.64305804e+03 1.68603325e+03\n",
      " 1.72900846e+03 1.77198367e+03 1.81495888e+03 1.85793409e+03\n",
      " 1.90090931e+03 1.94388452e+03 1.98685973e+03 2.02983494e+03\n",
      " 2.07281015e+03 2.11578536e+03 2.15876057e+03 2.20173579e+03\n",
      " 2.24471100e+03 2.28768621e+03 2.33066142e+03 2.37363663e+03\n",
      " 2.41661184e+03 2.45958705e+03 2.50256227e+03 2.54553748e+03\n",
      " 2.58851269e+03 2.63148790e+03 2.67446311e+03 2.71743832e+03\n",
      " 2.76041354e+03 2.80338875e+03 2.84636396e+03 2.88933917e+03\n",
      " 2.93231438e+03 2.97528959e+03 3.01826480e+03 3.06124002e+03\n",
      " 3.10421523e+03 3.14719044e+03 3.19016565e+03 3.23314086e+03\n",
      " 3.27611607e+03 3.31909128e+03 3.36206650e+03 3.40504171e+03\n",
      " 3.44801692e+03 3.49099213e+03 3.53396734e+03 3.57694255e+03\n",
      " 3.61991776e+03 3.66289298e+03 3.70586819e+03 3.74884340e+03\n",
      " 3.79181861e+03 3.83479382e+03 3.87776903e+03 3.92074425e+03\n",
      " 3.96371946e+03 4.00669467e+03 4.04966988e+03 4.09264509e+03\n",
      " 4.13562030e+03 4.17859551e+03 4.22157073e+03 4.26454594e+03\n",
      " 4.30752115e+03 4.35049636e+03 4.39347157e+03 4.43644678e+03\n",
      " 4.47942199e+03 4.52239721e+03 4.56537242e+03 4.60834763e+03\n",
      " 4.65132284e+03 4.69429805e+03 4.73727326e+03 4.78024847e+03\n",
      " 4.82322369e+03 4.86619890e+03 4.90917411e+03 4.95214932e+03\n",
      " 4.99512453e+03 5.03809974e+03 5.08107496e+03 5.12405017e+03\n",
      " 5.16702538e+03 5.21000059e+03 5.25297580e+03 5.29595101e+03\n",
      " 5.33892622e+03 5.38190144e+03 5.42487665e+03 5.46785186e+03\n",
      " 5.51082707e+03 5.55380228e+03 5.59677749e+03 5.63975270e+03\n",
      " 5.68272792e+03 5.72570313e+03 5.76867834e+03 5.81165355e+03\n",
      " 5.85462876e+03 5.89760397e+03 5.94057919e+03 5.98355440e+03\n",
      " 6.02652961e+03 6.06950482e+03 6.11248003e+03 6.15545524e+03\n",
      " 6.19843045e+03 6.24140567e+03 6.28438088e+03 6.32735609e+03\n",
      " 6.37033130e+03 6.41330651e+03 6.45628172e+03 6.49925693e+03\n",
      " 6.54223215e+03 6.58520736e+03 6.62818257e+03 6.67115778e+03\n",
      " 6.71413299e+03 6.75710820e+03 6.80008341e+03 6.84305863e+03\n",
      " 6.88603384e+03 6.92900905e+03 6.97198426e+03 7.01495947e+03\n",
      " 7.05793468e+03 7.10090990e+03 7.14388511e+03 7.18686032e+03\n",
      " 7.22983553e+03 7.27281074e+03 7.31578595e+03 7.35876116e+03\n",
      " 7.40173638e+03 7.44471159e+03 7.48768680e+03 7.53066201e+03\n",
      " 7.57363722e+03 7.61661243e+03 7.65958764e+03 7.70256286e+03\n",
      " 7.74553807e+03 7.78851328e+03 7.83148849e+03 7.87446370e+03\n",
      " 7.91743891e+03 7.96041412e+03 8.00338934e+03 8.04636455e+03\n",
      " 8.08933976e+03 8.13231497e+03 8.17529018e+03 8.21826539e+03\n",
      " 8.26124061e+03 8.30421582e+03 8.34719103e+03 8.39016624e+03\n",
      " 8.43314145e+03 8.47611666e+03 8.51909187e+03 8.56206709e+03\n",
      " 8.60504230e+03 8.64801751e+03 8.69099272e+03 8.73396793e+03\n",
      " 8.77694314e+03 8.81991835e+03 8.86289357e+03 8.90586878e+03\n",
      " 8.94884399e+03 8.99181920e+03 9.03479441e+03 9.07776962e+03\n",
      " 9.12074483e+03 9.16372005e+03 9.20669526e+03 9.24967047e+03\n",
      " 9.29264568e+03 9.33562089e+03 9.37859610e+03 9.42157132e+03\n",
      " 9.46454653e+03 9.50752174e+03 9.55049695e+03 9.59347216e+03\n",
      " 9.63644737e+03 9.67942258e+03 9.72239780e+03 9.76537301e+03\n",
      " 9.80834822e+03 9.85132343e+03 9.89429864e+03 9.93727385e+03\n",
      " 9.98024906e+03 1.00232243e+04 1.00661995e+04 1.01091747e+04\n",
      " 1.01521499e+04 1.01951251e+04 1.02381003e+04 1.02810755e+04\n",
      " 1.03240508e+04 1.03670260e+04 1.04100012e+04 1.04529764e+04\n",
      " 1.04959516e+04 1.05389268e+04 1.05819020e+04 1.06248772e+04\n",
      " 1.06678524e+04 1.07108277e+04 1.07538029e+04 1.07967781e+04\n",
      " 1.08397533e+04 1.08827285e+04 1.09257037e+04 1.09686789e+04]\n"
     ]
    }
   ],
   "source": [
    "print(chibs)"
   ]
  },
  {
   "cell_type": "code",
   "execution_count": 6,
   "id": "5984fe9c",
   "metadata": {},
   "outputs": [
    {
     "data": {
      "text/plain": [
       "(128, 4)"
      ]
     },
     "execution_count": 6,
     "metadata": {},
     "output_type": "execute_result"
    }
   ],
   "source": [
    "c1.shape"
   ]
  },
  {
   "cell_type": "code",
   "execution_count": 10,
   "id": "512c17d5",
   "metadata": {
    "scrolled": false
   },
   "outputs": [
    {
     "name": "stderr",
     "output_type": "stream",
     "text": [
      "100%|██████████| 100/100 [00:00<00:00, 14925.82it/s]"
     ]
    },
    {
     "name": "stdout",
     "output_type": "stream",
     "text": [
      "0\n",
      "1\n",
      "2\n",
      "3\n",
      "4\n",
      "5\n",
      "6\n",
      "7\n",
      "8\n",
      "9\n",
      "10\n",
      "11\n",
      "12\n",
      "13\n",
      "14\n",
      "15\n",
      "16\n",
      "17\n",
      "18\n",
      "19\n",
      "20\n",
      "21\n",
      "22\n",
      "23\n",
      "24\n",
      "25\n",
      "26\n",
      "27\n",
      "28\n",
      "29\n",
      "30\n",
      "31\n",
      "32\n",
      "33\n",
      "34\n",
      "35\n",
      "36\n",
      "37\n",
      "38\n",
      "39\n",
      "40\n",
      "41\n",
      "42\n",
      "43\n",
      "44\n",
      "45\n",
      "46\n",
      "47\n",
      "48\n",
      "49\n",
      "50\n",
      "51\n",
      "52\n",
      "53\n",
      "54\n",
      "55\n",
      "56\n",
      "57\n",
      "58\n",
      "59\n",
      "60\n",
      "61\n",
      "62\n",
      "63\n",
      "64\n",
      "65\n",
      "66\n",
      "67\n",
      "68\n",
      "69\n",
      "70\n",
      "71\n",
      "72\n",
      "73\n",
      "74\n",
      "75\n",
      "76\n",
      "77\n",
      "78\n",
      "79\n",
      "80\n",
      "81\n",
      "82\n",
      "83\n",
      "84\n",
      "85\n",
      "86\n",
      "87\n",
      "88\n",
      "89\n",
      "90\n",
      "91\n",
      "92\n",
      "93\n",
      "94\n",
      "95\n",
      "96\n",
      "97\n",
      "98\n",
      "99\n"
     ]
    },
    {
     "name": "stderr",
     "output_type": "stream",
     "text": [
      "\n"
     ]
    }
   ],
   "source": [
    "oup = np.zeros((len(ells), len(chibs), len(deltas)), dtype=np.float128)\n",
    "for ell_idx in trange(len(ells)):\n",
    "    ell = ells[ell_idx]\n",
    "    try:\n",
    "        oup_fname = '/scratch/users/delon/LIMxCMBL/NON_LIN_dkparp_integral/ell_idx_%d.npy'%(ell_idx)\n",
    "        oup[ell_idx] = np.load(oup_fname)\n",
    "        if(ell_idx % 10 !=0):\n",
    "            continue\n",
    "    #     plt.figure(figsize=(8.5,11))\n",
    "        for chib_idx, c in enumerate(c2):\n",
    "            plt.plot(deltas, \n",
    "                     oup[ell_idx][chib_idx]/np.max(oup[ell_idx][chib_idx], axis=-1), \n",
    "                     label=chibs[chib_idx] if (chib_idx ==0 or chib_idx == len(c2)-1) else None, \n",
    "                     c=c)\n",
    "        plt.xlabel('delta')\n",
    "        plt.xscale('log')\n",
    "        plt.legend(frameon=False, title='chib')\n",
    "        plt.title('ell=%.3f'%(ell))\n",
    "        plt.show()\n",
    "\n",
    "    #     plt.figure(figsize=(8.5,22))\n",
    "        for i, c in enumerate(c1):\n",
    "            plt.plot(chibs, \n",
    "                     oup[ell_idx,:,i], \n",
    "                     label=deltas[i] if (i ==0 or i == len(c1)-1) else None, \n",
    "                     c=c)\n",
    "\n",
    "        plt.xlabel('chib')\n",
    "        plt.legend(frameon=False, title='deltas')\n",
    "        plt.show()\n",
    "    except:\n",
    "        print(ell_idx)"
   ]
  },
  {
   "cell_type": "code",
   "execution_count": null,
   "id": "7ea56351",
   "metadata": {
    "scrolled": false
   },
   "outputs": [],
   "source": [
    "for delta_idx in range(len(deltas)):\n",
    "    if(delta_idx % 20 != 0):\n",
    "        continue\n",
    "    for chib_idx in range(len(chibs)):\n",
    "        plt.plot(ells, \n",
    "                 oup[:,chib_idx,delta_idx], \n",
    "                 label=chibs[chib_idx] if (chib_idx ==0 or chib_idx == len(c2)-1) else None, \n",
    "                 c=c2[chib_idx])\n",
    "    plt.legend(frameon=False, title='chib', loc='upper right')\n",
    "    plt.xlabel('ell')\n",
    "    plt.xscale('log')\n",
    "    plt.title('delta=%.3e'%(deltas[delta_idx]))\n",
    "    plt.show()"
   ]
  },
  {
   "cell_type": "code",
   "execution_count": null,
   "id": "b088cd9b",
   "metadata": {
    "scrolled": false
   },
   "outputs": [],
   "source": [
    "for chib_idx in range(len(chibs)):\n",
    "    if(chib_idx % 10 != 0):\n",
    "        continue\n",
    "    for delta_idx in range(len(deltas)):\n",
    "        plt.plot(ells, \n",
    "                 oup[:,chib_idx,delta_idx], \n",
    "                 label=deltas[delta_idx] if (delta_idx ==0 or delta_idx == len(c1)-1) else None, \n",
    "                 c=c1[delta_idx])\n",
    "    plt.legend(frameon=False, title='delta', loc='upper right')\n",
    "    plt.xlabel('ell')\n",
    "    plt.xscale('log')\n",
    "    plt.title('chib=%.3e'%(chibs[chib_idx]))\n",
    "    plt.show()"
   ]
  },
  {
   "cell_type": "code",
   "execution_count": null,
   "id": "b81a0f43",
   "metadata": {},
   "outputs": [],
   "source": [
    "oup.shape"
   ]
  },
  {
   "cell_type": "code",
   "execution_count": null,
   "id": "40ace06f",
   "metadata": {},
   "outputs": [],
   "source": [
    "np.save('/oak/stanford/orgs/kipac/users/delon/LIMxCMBL/inner_dkparp_integral.npy', oup)"
   ]
  }
 ],
 "metadata": {
  "kernelspec": {
   "display_name": "cosmology",
   "language": "python",
   "name": "cosmology"
  },
  "language_info": {
   "codemirror_mode": {
    "name": "ipython",
    "version": 3
   },
   "file_extension": ".py",
   "mimetype": "text/x-python",
   "name": "python",
   "nbconvert_exporter": "python",
   "pygments_lexer": "ipython3",
   "version": "3.9.19"
  }
 },
 "nbformat": 4,
 "nbformat_minor": 5
}
