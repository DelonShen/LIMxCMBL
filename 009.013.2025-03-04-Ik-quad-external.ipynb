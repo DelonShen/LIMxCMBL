{
 "cells": [
  {
   "cell_type": "code",
   "execution_count": 1,
   "id": "594260d7",
   "metadata": {},
   "outputs": [],
   "source": [
    "import time\n",
    "\n",
    "time.sleep(10800)"
   ]
  },
  {
   "cell_type": "code",
   "execution_count": 2,
   "id": "4cf89701",
   "metadata": {},
   "outputs": [
    {
     "name": "stdout",
     "output_type": "stream",
     "text": [
      "/scratch/users/delon/LIMxCMBL/IHiKappa/Ik_zmin_3.50000_zmax_8.10000_quad_next_3001.npy\n"
     ]
    }
   ],
   "source": [
    "from LIMxCMBL.init import *\n",
    "from LIMxCMBL.noise import *\n",
    "\n",
    "import sys\n",
    "n_external = 3001\n",
    "\n",
    "zmin = 3.5\n",
    "zmax = 8.1\n",
    "\n",
    "chimin = ccl.comoving_angular_distance(cosmo, 1/(1+zmin))\n",
    "chimax = ccl.comoving_angular_distance(cosmo, 1/(1+zmax))\n",
    "\n",
    "oup_fname = '/scratch/users/delon/LIMxCMBL/IHiKappa/Ik_'\n",
    "oup_fname +='zmin_%.5f_zmax_%.5f_quad_next_%d.npy'%(zmin, \n",
    "                                                    zmax, \n",
    "                                                    n_external)\n",
    "print(oup_fname)"
   ]
  },
  {
   "cell_type": "code",
   "execution_count": 3,
   "id": "ded52398",
   "metadata": {},
   "outputs": [],
   "source": [
    "# get CMB lensing component\n",
    "from LIMxCMBL.kernels import get_f_Kkappa\n",
    "f_WkD = get_f_Kkappa()\n",
    "\n",
    "from LIMxCMBL.cross_spectrum import *\n",
    "ClKK = d_chib_integral(f_WkD, f_WkD) #[Mpc]^2\n",
    "\n",
    "\n",
    "# beam=1.4, noise=7\n",
    "from scipy.interpolate import interp1d\n",
    "N0_ells = np.logspace(1, np.log10(5000), 500)\n",
    "with open('LIMxCMBL/N0.npy', 'rb') as f:\n",
    "    N0 = np.load(f)\n",
    "    \n",
    "f_N0 = interp1d(x = N0_ells, y = N0)"
   ]
  },
  {
   "cell_type": "code",
   "execution_count": 4,
   "id": "7b7ece18",
   "metadata": {},
   "outputs": [],
   "source": [
    "# if no high pass IKappa\n",
    "from  LIMxCMBL.kernels import *\n",
    "f_Kkappa = get_f_Kkappa()"
   ]
  },
  {
   "cell_type": "code",
   "execution_count": 5,
   "id": "4431ab04",
   "metadata": {},
   "outputs": [],
   "source": [
    "_KI = np.array(KI)"
   ]
  },
  {
   "cell_type": "code",
   "execution_count": 6,
   "id": "d4008bb6",
   "metadata": {},
   "outputs": [],
   "source": [
    "from interpax import interp2d, interp1d\n",
    "import jax.numpy as jnp\n",
    "from jax import jit"
   ]
  },
  {
   "cell_type": "code",
   "execution_count": 7,
   "id": "c049209b",
   "metadata": {},
   "outputs": [],
   "source": [
    "inner_dkparp_integral = np.load('/oak/stanford/orgs/kipac/users/delon/LIMxCMBL/inner_dkparp_integral.npy')\n",
    "inner_dkparp_integral = inner_dkparp_integral.astype(np.float64)\n",
    "\n",
    "from scipy.interpolate import interp1d, interp2d, LinearNDInterpolator\n",
    "\n",
    "tmp_chibs = []\n",
    "tmp_log_deltas = []\n",
    "tmp_fnctn = []\n",
    "for i in range(len(chibs)):\n",
    "    for j in range(len(deltas)):\n",
    "        tmp_chibs += [chibs[i]]\n",
    "        tmp_log_deltas += [np.log(deltas[j])]\n",
    "        tmp_fnctn += [inner_dkparp_integral[:,i,j]]\n",
    "        \n",
    "f_inner_integral = LinearNDInterpolator(list(zip(tmp_chibs, tmp_log_deltas)), tmp_fnctn)"
   ]
  },
  {
   "cell_type": "code",
   "execution_count": 8,
   "id": "a5197e3a",
   "metadata": {},
   "outputs": [],
   "source": [
    "import matplotlib.pyplot as plt"
   ]
  },
  {
   "cell_type": "code",
   "execution_count": 9,
   "id": "36eefa5d",
   "metadata": {},
   "outputs": [
    {
     "data": {
      "text/plain": [
       "<matplotlib.lines.Line2D at 0x7f26a2ed5d60>"
      ]
     },
     "execution_count": 9,
     "metadata": {},
     "output_type": "execute_result"
    },
    {
     "data": {
      "image/png": "[encoded data removed]",
      "text/plain": [
       "<Figure size 432x288 with 1 Axes>"
      ]
     },
     "metadata": {
      "needs_background": "light"
     },
     "output_type": "display_data"
    }
   ],
   "source": [
    "plt.plot(chis, _KI/np.max(_KI), 'g')\n",
    "plt.plot(chis, Wk * Dz/np.max(Wk * Dz), 'k')\n",
    "\n",
    "plt.axvline(chimin, c='r')\n",
    "plt.axvline(chimax, c='b')"
   ]
  },
  {
   "cell_type": "code",
   "execution_count": 10,
   "id": "12362ffa",
   "metadata": {},
   "outputs": [],
   "source": [
    "external_chis = np.linspace(chimin*(1+1e-8), chimax*(1 - 1e-8), n_external)"
   ]
  },
  {
   "cell_type": "code",
   "execution_count": 11,
   "id": "66003cb4",
   "metadata": {},
   "outputs": [
    {
     "data": {
      "text/plain": [
       "2209.5380240233635"
      ]
     },
     "execution_count": 11,
     "metadata": {},
     "output_type": "execute_result"
    }
   ],
   "source": [
    "chimax-chimin"
   ]
  },
  {
   "cell_type": "code",
   "execution_count": 12,
   "id": "d422d698",
   "metadata": {},
   "outputs": [],
   "source": [
    "def integrand(chib):\n",
    "    _delta = np.abs(1 - external_chis / chib)\n",
    "    _delta = np.where(_delta < 1e-6, 1e-6,\n",
    "                     np.where(_delta > 0.7, \n",
    "                             0.7,\n",
    "                             _delta))    \n",
    "    return np.einsum('x,x,xl->lx',\n",
    "                     2 * np.interp(x = external_chis, xp = chis, fp = _KI, left = 0, right = 0),\n",
    "                     np.interp(x = 2*chib - external_chis, xp = chis, fp = Wk * Dz, left = 0, right = 0),\n",
    "                     f_inner_integral((chib, np.log(_delta)))) / chib**2"
   ]
  },
  {
   "cell_type": "code",
   "execution_count": 13,
   "id": "cdf8061b",
   "metadata": {},
   "outputs": [
    {
     "data": {
      "text/plain": [
       "(100, 3001)"
      ]
     },
     "execution_count": 13,
     "metadata": {},
     "output_type": "execute_result"
    }
   ],
   "source": [
    "integrand(8080).shape"
   ]
  },
  {
   "cell_type": "code",
   "execution_count": 14,
   "id": "e6eea0f4",
   "metadata": {},
   "outputs": [
    {
     "data": {
      "text/plain": [
       "array([0.00000000e+00, 1.09697762e+00, 2.19395523e+00, ...,\n",
       "       1.09664852e+04, 1.09675822e+04, 1.09686792e+04])"
      ]
     },
     "execution_count": 14,
     "metadata": {},
     "output_type": "execute_result"
    }
   ],
   "source": [
    "chis"
   ]
  },
  {
   "cell_type": "code",
   "execution_count": 15,
   "id": "8f88ea73",
   "metadata": {},
   "outputs": [],
   "source": [
    "from scipy.integrate import quad_vec, dblquad, nquad\n"
   ]
  },
  {
   "cell_type": "code",
   "execution_count": 16,
   "id": "c4b8183c",
   "metadata": {},
   "outputs": [],
   "source": [
    "I_kappa, _ = quad_vec(integrand, 10, chimax_sample,\n",
    "                      limit = 11234567,\n",
    "                      epsabs = 0.0,\n",
    "                      epsrel=1e-3,\n",
    "                     workers=32)"
   ]
  },
  {
   "cell_type": "code",
   "execution_count": 17,
   "id": "2c6f7218",
   "metadata": {},
   "outputs": [
    {
     "data": {
      "text/plain": [
       "(100, 3001)"
      ]
     },
     "execution_count": 17,
     "metadata": {},
     "output_type": "execute_result"
    }
   ],
   "source": [
    "I_kappa.shape"
   ]
  },
  {
   "cell_type": "code",
   "execution_count": 18,
   "id": "b9b55c58",
   "metadata": {},
   "outputs": [
    {
     "data": {
      "text/plain": [
       "1.1373669935071544e-07"
      ]
     },
     "execution_count": 18,
     "metadata": {},
     "output_type": "execute_result"
    }
   ],
   "source": [
    "np.max(np.abs(I_kappa))"
   ]
  },
  {
   "cell_type": "code",
   "execution_count": 19,
   "id": "5d8b70da",
   "metadata": {},
   "outputs": [],
   "source": [
    "np.save(oup_fname, I_kappa)"
   ]
  },
  {
   "cell_type": "code",
   "execution_count": 20,
   "id": "2791441b",
   "metadata": {},
   "outputs": [],
   "source": [
    "n_bins = 100\n",
    "chi_bin_edges = np.linspace(chimin*(1+1e-8), chimax*(1 - 1e-8), n_bins + 1)\n",
    "chi_bin_centers = (chi_bin_edges[1:] + chi_bin_edges[:-1])/2\n",
    "dchi_binned = np.mean(np.diff(chi_bin_edges))"
   ]
  },
  {
   "cell_type": "code",
   "execution_count": 21,
   "id": "205ef3ef",
   "metadata": {},
   "outputs": [],
   "source": [
    "def get_binned(base, n_external = 300):\n",
    "    external_chis = np.linspace(chimin*(1+1e-8), chimax*(1 - 1e-8), n_external)\n",
    "#     print('external chi spacing', np.mean(np.diff(external_chis)))\n",
    "    \n",
    "    oup = np.zeros((100, n_bins), dtype=np.float64)\n",
    "    for i, (l1, r1) in enumerate(zip(chi_bin_edges, chi_bin_edges[1:])):\n",
    "            idx1 = np.where((external_chis > l1) & (external_chis <= r1))[0]\n",
    "            oup[:,i] = (np.sum(base[:,idx1[0]:idx1[-1]+1,], \n",
    "                                 axis=(1)) / len(idx1))\n",
    "    return oup"
   ]
  },
  {
   "cell_type": "code",
   "execution_count": 22,
   "id": "3eb05fdb",
   "metadata": {},
   "outputs": [
    {
     "data": {
      "text/plain": [
       "<matplotlib.image.AxesImage at 0x7f26a0d3a250>"
      ]
     },
     "execution_count": 22,
     "metadata": {},
     "output_type": "execute_result"
    },
    {
     "data": {
      "image/png": "[encoded data removed]",
      "text/plain": [
       "<Figure size 432x288 with 1 Axes>"
      ]
     },
     "metadata": {
      "needs_background": "light"
     },
     "output_type": "display_data"
    }
   ],
   "source": [
    "plt.imshow(I_kappa)"
   ]
  },
  {
   "cell_type": "code",
   "execution_count": 23,
   "id": "856e5e9b",
   "metadata": {},
   "outputs": [],
   "source": [
    "I_kappa_binned = get_binned(I_kappa, n_external = n_external)"
   ]
  },
  {
   "cell_type": "code",
   "execution_count": 24,
   "id": "b6a9ba06",
   "metadata": {},
   "outputs": [
    {
     "data": {
      "text/plain": [
       "<matplotlib.image.AxesImage at 0x7f27a8d88940>"
      ]
     },
     "execution_count": 24,
     "metadata": {},
     "output_type": "execute_result"
    },
    {
     "data": {
      "image/png": "[encoded data removed]",
      "text/plain": [
       "<Figure size 432x288 with 1 Axes>"
      ]
     },
     "metadata": {
      "needs_background": "light"
     },
     "output_type": "display_data"
    }
   ],
   "source": [
    "plt.imshow(I_kappa_binned)"
   ]
  }
 ],
 "metadata": {
  "kernelspec": {
   "display_name": "cosmology",
   "language": "python",
   "name": "cosmology"
  },
  "language_info": {
   "codemirror_mode": {
    "name": "ipython",
    "version": 3
   },
   "file_extension": ".py",
   "mimetype": "text/x-python",
   "name": "python",
   "nbconvert_exporter": "python",
   "pygments_lexer": "ipython3",
   "version": "3.9.19"
  }
 },
 "nbformat": 4,
 "nbformat_minor": 5
}
