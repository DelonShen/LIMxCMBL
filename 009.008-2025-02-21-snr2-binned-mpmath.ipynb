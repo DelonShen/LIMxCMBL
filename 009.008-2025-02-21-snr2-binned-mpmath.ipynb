{
 "cells": [
  {
   "cell_type": "code",
   "execution_count": 1,
   "id": "4bcc87cb",
   "metadata": {},
   "outputs": [],
   "source": [
    "from LIMxCMBL.init import *\n",
    "from LIMxCMBL.noise import *"
   ]
  },
  {
   "cell_type": "code",
   "execution_count": 2,
   "id": "c9ffd3c2",
   "metadata": {},
   "outputs": [],
   "source": [
    "nbins = 100"
   ]
  },
  {
   "cell_type": "code",
   "execution_count": 3,
   "id": "e62532d9",
   "metadata": {},
   "outputs": [],
   "source": [
    "# CCAT-prime\n",
    "zmin = 3.5\n",
    "zmax = 8.1\n",
    "\n",
    "Omega_field = 8 * (np.pi/180)**2 #rad^2\n",
    "Pei = 2.3e4 #Mpc^3 kJy^2 /sr^2 \n",
    "chimin = ccl.comoving_angular_distance(cosmo, 1/(1+zmin))\n",
    "chimax = ccl.comoving_angular_distance(cosmo, 1/(1+zmax))"
   ]
  },
  {
   "cell_type": "code",
   "execution_count": 4,
   "id": "64652c1f",
   "metadata": {},
   "outputs": [
    {
     "data": {
      "text/plain": [
       "[]"
      ]
     },
     "execution_count": 4,
     "metadata": {},
     "output_type": "execute_result"
    },
    {
     "data": {
      "image/png": "[encoded data removed]",
      "text/plain": [
       "<Figure size 432x288 with 1 Axes>"
      ]
     },
     "metadata": {
      "needs_background": "light"
     },
     "output_type": "display_data"
    }
   ],
   "source": [
    "# get CMB lensing component\n",
    "from LIMxCMBL.kernels import get_f_Kkappa\n",
    "f_WkD = get_f_Kkappa()\n",
    "\n",
    "from LIMxCMBL.cross_spectrum import *\n",
    "ClKK = d_chib_integral(f_WkD, f_WkD) #[Mpc]^2\n",
    "\n",
    "\n",
    "# beam=1.4, noise=7\n",
    "from scipy.interpolate import interp1d\n",
    "N0_ells = np.logspace(1, np.log10(5000), 500)\n",
    "with open('LIMxCMBL/N0.npy', 'rb') as f:\n",
    "    N0 = np.load(f)\n",
    "    \n",
    "f_N0 = interp1d(x = N0_ells, y = N0)\n",
    "\n",
    "    \n",
    "plt.plot(ells, ClKK)\n",
    "plt.plot(ells, f_N0(ells))\n",
    "plt.loglog()"
   ]
  },
  {
   "cell_type": "code",
   "execution_count": 5,
   "id": "bec1d8fd",
   "metadata": {},
   "outputs": [],
   "source": [
    "# if no high pass IKappa\n",
    "from  LIMxCMBL.kernels import *\n",
    "f_KLIM   = get_f_KI()\n",
    "f_Kkappa = get_f_Kkappa()\n",
    "\n",
    "f_KLIM_windowed = apply_window(f_K = f_KLIM,\n",
    "                               chimin = chimin,\n",
    "                               chimax = chimax)"
   ]
  },
  {
   "cell_type": "code",
   "execution_count": 6,
   "id": "44f4599e",
   "metadata": {},
   "outputs": [],
   "source": [
    "\n",
    "chi_bin_edges = np.linspace(chimin*(1+1e-8), chimax*(1 - 1e-8), nbins + 1)\n",
    "chi_bin_centers = (chi_bin_edges[1:] + chi_bin_edges[:-1])/2\n",
    "dchi_binned = np.mean(np.diff(chi_bin_edges))"
   ]
  },
  {
   "cell_type": "code",
   "execution_count": 7,
   "id": "f18f8a92",
   "metadata": {},
   "outputs": [],
   "source": [
    "Ik_fname = '/scratch/users/delon/LIMxCMBL/IHiKappa/Ik_zmin_%.5f_zmax_%.5f_quad_nbins_%d.npy'%(zmin, zmax, nbins)\n",
    "I_kappa = np.load(Ik_fname)"
   ]
  },
  {
   "cell_type": "code",
   "execution_count": 8,
   "id": "8a90b439",
   "metadata": {},
   "outputs": [],
   "source": [
    "external_chis   = chi_bin_centers\n",
    "from scipy.integrate import simpson, trapezoid, quad_vec\n",
    "\n",
    "# if no high pass IKappa\n",
    "from  LIMxCMBL.kernels import *\n",
    "f_KLIM   = get_f_KI()\n",
    "f_Kkappa = get_f_Kkappa()\n",
    "\n",
    "f_KLIM_windowed = apply_window(f_K = f_KLIM,\n",
    "                               chimin = chimin,\n",
    "                               chimax = chimax)\n",
    "\n",
    "_deltas = deltas.reshape(1, -1)\n",
    "\n",
    "def f_Ik(chi):\n",
    "    _minus = chi * (1 - _deltas)\n",
    "    _plus  = chi * (1 + _deltas)\n",
    "\n",
    "    f_Kpsi = f_KLIM_windowed\n",
    "    f_Kphi = f_Kkappa\n",
    "\n",
    "    prefactor = 2 / chi\n",
    "    kernels = (f_Kpsi(_minus) * f_Kphi(_plus) + f_Kpsi(_plus) * f_Kphi(_minus))\n",
    "    inner_integral_resampled = f_inner_integral(chi)\n",
    "    integrand = prefactor*kernels*inner_integral_resampled*deltas_reshaped\n",
    "    return trapezoid(y=integrand, x=np.log(deltas), axis = -1)\n",
    "\n",
    "integrand =  lambda chi: (f_Ik(chi)**2 / (Pei/chi**2))[0]\n",
    "no_filter_SNR2, _ = quad_vec(integrand, chimin, chimax, epsabs = 0.0, epsrel = 1e-3)\n",
    "no_filter_SNR2 /= (ClKK + f_N0(ells))"
   ]
  },
  {
   "cell_type": "code",
   "execution_count": 9,
   "id": "fbbd4f92",
   "metadata": {},
   "outputs": [],
   "source": [
    "Lambda_idx = 0\n",
    "eHIeHI_oup_fname = '/scratch/users/delon/LIMxCMBL/eHIeHI/mpmath_zmin_%.5f_zmax_%.5f_Lambda_idx_%.d_from_quad_nbins_%d.npy'%(zmin, zmax, Lambda_idx, nbins)"
   ]
  },
  {
   "cell_type": "code",
   "execution_count": 10,
   "id": "1e873e17",
   "metadata": {},
   "outputs": [],
   "source": [
    "import pickle\n",
    "with open(eHIeHI_oup_fname+'_results.pkl', 'rb') as f:\n",
    "    results = pickle.load(f)"
   ]
  },
  {
   "cell_type": "code",
   "execution_count": 11,
   "id": "129a3459",
   "metadata": {},
   "outputs": [],
   "source": [
    "eHIeHI = [[0]*(nbins) for _ in range(nbins)]"
   ]
  },
  {
   "cell_type": "code",
   "execution_count": 12,
   "id": "dbea032f",
   "metadata": {},
   "outputs": [],
   "source": [
    "for i, j, value in results:\n",
    "        eHIeHI[i][j] = mpm.re(value)"
   ]
  },
  {
   "cell_type": "code",
   "execution_count": 13,
   "id": "ec86d4a8",
   "metadata": {},
   "outputs": [],
   "source": [
    "eHIeHI = mpm.matrix(eHIeHI)"
   ]
  },
  {
   "cell_type": "code",
   "execution_count": 14,
   "id": "d0dd6c35",
   "metadata": {},
   "outputs": [],
   "source": [
    "ILo_kappa_fname = '/scratch/users/delon/LIMxCMBL/IHiKappa/ILok_zmin_%.5f_zmax_%.5f_idx_%d_quad_nbins_%d.npy'%(zmin, zmax, Lambda_idx, nbins)\n",
    "ILo_kappa = np.load(ILo_kappa_fname)\n",
    "IHi_kappa = I_kappa - ILo_kappa"
   ]
  },
  {
   "cell_type": "code",
   "execution_count": 15,
   "id": "cb109e90",
   "metadata": {},
   "outputs": [],
   "source": [
    "ell_idx = 20\n",
    "curr_IHi_kappa = mpm.matrix(IHi_kappa[ell_idx])\n",
    "cov = (ClKK[ell_idx] + f_N0(ells[ell_idx])) * Pei * eHIeHI\n",
    "x = mpm.cholesky_solve(cov, curr_IHi_kappa)\n",
    "mpmath_snr2_per_mode = mpm.fdot(x, curr_IHi_kappa)"
   ]
  },
  {
   "cell_type": "code",
   "execution_count": 16,
   "id": "1f143ad4",
   "metadata": {},
   "outputs": [],
   "source": [
    "SNR2_per_mode = {}\n",
    "eHIeHI_oup_fname = '/scratch/users/delon/LIMxCMBL/eHIeHI/mpmath_zmin_%.5f_zmax_%.5f_Lambda_idx_%.d_from_quad_nbins_%d.npy'%(zmin, zmax, Lambda_idx, nbins)\n",
    "eHIeHI_binned = np.load(eHIeHI_oup_fname)\n",
    "\n",
    "cov = np.einsum('i, jk->ijk', (ClKK + f_N0(ells)),  Pei * eHIeHI_binned)\n",
    "cov = cov.astype(np.float64)\n",
    "cov = cov\n",
    "Lambda = Lambdas[Lambda_idx]\n",
    "SNR2_per_mode[Lambda] = np.zeros_like(ells)\n",
    "for ell_idx in range(len(ells)):\n",
    "    L = np.linalg.cholesky(cov[ell_idx])\n",
    "    y = np.linalg.solve(L, IHi_kappa[ell_idx])\n",
    "    x = np.linalg.solve(L.T, y)\n",
    "    SNR2_per_mode[Lambda][ell_idx] = np.dot(IHi_kappa[ell_idx], x)"
   ]
  },
  {
   "cell_type": "code",
   "execution_count": 17,
   "id": "950752e7",
   "metadata": {},
   "outputs": [
    {
     "name": "stdout",
     "output_type": "stream",
     "text": [
      "-0.633175773980471164966586839296822\n"
     ]
    }
   ],
   "source": [
    "print((SNR2_per_mode[Lambda][0] - mpmath_snr2_per_mode) / mpmath_snr2_per_mode)"
   ]
  }
 ],
 "metadata": {
  "kernelspec": {
   "display_name": "cosmology",
   "language": "python",
   "name": "cosmology"
  },
  "language_info": {
   "codemirror_mode": {
    "name": "ipython",
    "version": 3
   },
   "file_extension": ".py",
   "mimetype": "text/x-python",
   "name": "python",
   "nbconvert_exporter": "python",
   "pygments_lexer": "ipython3",
   "version": "3.9.19"
  }
 },
 "nbformat": 4,
 "nbformat_minor": 5
}
