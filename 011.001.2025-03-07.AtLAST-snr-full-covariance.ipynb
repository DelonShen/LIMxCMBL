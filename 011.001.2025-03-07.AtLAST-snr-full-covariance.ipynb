{
 "cells": [
  {
   "cell_type": "code",
   "execution_count": 1,
   "id": "d0a20b60",
   "metadata": {},
   "outputs": [],
   "source": [
    "from LIMxCMBL.init import *\n",
    "from scipy.integrate import simpson, trapezoid"
   ]
  },
  {
   "cell_type": "code",
   "execution_count": 2,
   "id": "1d0e5e54",
   "metadata": {},
   "outputs": [],
   "source": [
    "# AtLAST\n",
    "zmin = 1\n",
    "zmax = 5\n",
    "\n",
    "Omega_field = 7500 * (np.pi/180)**2 #rad^2\n",
    "Pei = 1.5e2 #Mpc^3 kJy^2 /sr^2 \n",
    "chimin = ccl.comoving_angular_distance(cosmo, 1/(1+zmin))\n",
    "chimax = ccl.comoving_angular_distance(cosmo, 1/(1+zmax))"
   ]
  },
  {
   "cell_type": "code",
   "execution_count": 3,
   "id": "b3e3216d",
   "metadata": {},
   "outputs": [],
   "source": [
    "n_bins = 100\n",
    "chi_bin_edges = np.linspace(chimin*(1+1e-8), chimax*(1 - 1e-8), n_bins + 1)\n",
    "chi_bin_centers = (chi_bin_edges[1:] + chi_bin_edges[:-1])/2\n",
    "dchi_binned = np.mean(np.diff(chi_bin_edges))"
   ]
  },
  {
   "cell_type": "code",
   "execution_count": 4,
   "id": "481c865a",
   "metadata": {},
   "outputs": [],
   "source": [
    "import matplotlib.pyplot as plt"
   ]
  },
  {
   "cell_type": "code",
   "execution_count": 5,
   "id": "88f7da34",
   "metadata": {},
   "outputs": [
    {
     "data": {
      "text/plain": [
       "<matplotlib.image.AxesImage at 0x7f2257652550>"
      ]
     },
     "execution_count": 5,
     "metadata": {},
     "output_type": "execute_result"
    },
    {
     "data": {
      "image/png": "[encoded data removed]",
      "text/plain": [
       "<Figure size 432x288 with 1 Axes>"
      ]
     },
     "metadata": {
      "needs_background": "light"
     },
     "output_type": "display_data"
    }
   ],
   "source": [
    "I_kappa_fname = '/scratch/users/delon/LIMxCMBL/IHiKappa/Ik_'\n",
    "I_kappa_fname +='zmin_%.5f_zmax_%.5f_quad_next_%d.npy'%(zmin, \n",
    "                                                        zmax, \n",
    "                                                        3001)\n",
    "\n",
    "I_kappa_unbinned = np.load(I_kappa_fname)\n",
    "\n",
    "I_kappa = np.zeros((len(ells), n_bins))\n",
    "external_chis = np.linspace(chimin*(1+1e-8), chimax*(1 - 1e-8), 3001)\n",
    "for i, (l1, r1) in enumerate(zip(chi_bin_edges, chi_bin_edges[1:])):\n",
    "            idx1 = np.where((external_chis > l1) & (external_chis <= r1))[0]\n",
    "            I_kappa[:,i] = (np.sum(I_kappa_unbinned[:,idx1[0]:idx1[-1]+1,], \n",
    "                                 axis=(1)) / len(idx1))\n",
    "            \n",
    "plt.imshow(I_kappa)"
   ]
  },
  {
   "cell_type": "code",
   "execution_count": 6,
   "id": "8cd38fb8",
   "metadata": {},
   "outputs": [
    {
     "name": "stdout",
     "output_type": "stream",
     "text": [
      "1.1577489494684771e-06\n"
     ]
    }
   ],
   "source": [
    "print(np.max(np.abs(I_kappa)))"
   ]
  },
  {
   "cell_type": "code",
   "execution_count": 7,
   "id": "fde1680a",
   "metadata": {},
   "outputs": [],
   "source": [
    "def get_binned(base, n_external = 300):\n",
    "    external_chis = np.linspace(chimin*(1+1e-8), chimax*(1 - 1e-8), n_external)\n",
    "#     print('external chi spacing', np.mean(np.diff(external_chis)))\n",
    "    \n",
    "    oup = np.zeros((100, n_bins, n_bins), dtype=np.float64)\n",
    "    for i, (l1, r1) in enumerate(zip(chi_bin_edges, chi_bin_edges[1:])):\n",
    "        for j, (l2, r2) in enumerate(zip(chi_bin_edges, chi_bin_edges[1:])):\n",
    "            idx1 = np.where((external_chis > l1) & (external_chis <= r1))[0]\n",
    "            idx2 = np.where((external_chis > l2) & (external_chis <= r2))[0]\n",
    "            oup[:,i,j] = (np.sum(base[:,\n",
    "                                      idx1[0]:idx1[-1]+1,\n",
    "                                      idx2[0]:idx2[-1]+1], \n",
    "                                 axis=(1, 2)) / len(idx1) / len(idx2))\n",
    "    return oup"
   ]
  },
  {
   "cell_type": "code",
   "execution_count": 8,
   "id": "5f474f41",
   "metadata": {},
   "outputs": [
    {
     "ename": "FileNotFoundError",
     "evalue": "[Errno 2] No such file or directory: '/scratch/users/delon/LIMxCMBL/I_auto/I_auto_n_ext_6001_zmin_1.0_zmax_5.0.npy'",
     "output_type": "error",
     "traceback": [
      "\u001b[0;31m---------------------------------------------------------------------------\u001b[0m",
      "\u001b[0;31mFileNotFoundError\u001b[0m                         Traceback (most recent call last)",
      "\u001b[0;32m/tmp/ipykernel_3901/3895711920.py\u001b[0m in \u001b[0;36m<module>\u001b[0;34m\u001b[0m\n\u001b[1;32m      1\u001b[0m \u001b[0;31m#get <II>\u001b[0m\u001b[0;34m\u001b[0m\u001b[0;34m\u001b[0m\u001b[0m\n\u001b[1;32m      2\u001b[0m \u001b[0;34m\u001b[0m\u001b[0m\n\u001b[0;32m----> 3\u001b[0;31m I_I_unbinned = np.load('/scratch/users/delon/LIMxCMBL/I_auto/'+\n\u001b[0m\u001b[1;32m      4\u001b[0m                           'I_auto_n_ext_%d_zmin_%.1f_zmax_%.1f.npy'%(6001, \n\u001b[1;32m      5\u001b[0m                                                                      \u001b[0mzmin\u001b[0m\u001b[0;34m,\u001b[0m\u001b[0;34m\u001b[0m\u001b[0;34m\u001b[0m\u001b[0m\n",
      "\u001b[0;32m~/.local/lib/python3.9/site-packages/numpy/lib/npyio.py\u001b[0m in \u001b[0;36mload\u001b[0;34m(file, mmap_mode, allow_pickle, fix_imports, encoding, max_header_size)\u001b[0m\n\u001b[1;32m    425\u001b[0m             \u001b[0mown_fid\u001b[0m \u001b[0;34m=\u001b[0m \u001b[0;32mFalse\u001b[0m\u001b[0;34m\u001b[0m\u001b[0;34m\u001b[0m\u001b[0m\n\u001b[1;32m    426\u001b[0m         \u001b[0;32melse\u001b[0m\u001b[0;34m:\u001b[0m\u001b[0;34m\u001b[0m\u001b[0;34m\u001b[0m\u001b[0m\n\u001b[0;32m--> 427\u001b[0;31m             \u001b[0mfid\u001b[0m \u001b[0;34m=\u001b[0m \u001b[0mstack\u001b[0m\u001b[0;34m.\u001b[0m\u001b[0menter_context\u001b[0m\u001b[0;34m(\u001b[0m\u001b[0mopen\u001b[0m\u001b[0;34m(\u001b[0m\u001b[0mos_fspath\u001b[0m\u001b[0;34m(\u001b[0m\u001b[0mfile\u001b[0m\u001b[0;34m)\u001b[0m\u001b[0;34m,\u001b[0m \u001b[0;34m\"rb\"\u001b[0m\u001b[0;34m)\u001b[0m\u001b[0;34m)\u001b[0m\u001b[0;34m\u001b[0m\u001b[0;34m\u001b[0m\u001b[0m\n\u001b[0m\u001b[1;32m    428\u001b[0m             \u001b[0mown_fid\u001b[0m \u001b[0;34m=\u001b[0m \u001b[0;32mTrue\u001b[0m\u001b[0;34m\u001b[0m\u001b[0;34m\u001b[0m\u001b[0m\n\u001b[1;32m    429\u001b[0m \u001b[0;34m\u001b[0m\u001b[0m\n",
      "\u001b[0;31mFileNotFoundError\u001b[0m: [Errno 2] No such file or directory: '/scratch/users/delon/LIMxCMBL/I_auto/I_auto_n_ext_6001_zmin_1.0_zmax_5.0.npy'"
     ]
    }
   ],
   "source": [
    "#get <II>\n",
    "\n",
    "I_I_unbinned = np.load('/scratch/users/delon/LIMxCMBL/I_auto/'+\n",
    "                          'I_auto_n_ext_%d_zmin_%.1f_zmax_%.1f.npy'%(6001, \n",
    "                                                                     zmin, \n",
    "                                                                     zmax))\n",
    "\n",
    "plt.imshow(I_I_unbinned[0])\n",
    "plt.show()\n",
    "I_I = get_binned(I_I_unbinned, n_external = 6001)\n",
    "plt.imshow(I_I[0])"
   ]
  },
  {
   "cell_type": "code",
   "execution_count": null,
   "id": "61c74c18",
   "metadata": {},
   "outputs": [],
   "source": [
    "# get CMB lensing component\n",
    "from LIMxCMBL.kernels import get_f_Kkappa\n",
    "f_WkD = get_f_Kkappa()\n",
    "\n",
    "from LIMxCMBL.cross_spectrum import *\n",
    "ClKK = d_chib_integral(f_WkD, f_WkD) #[Mpc]^2\n",
    "\n",
    "\n",
    "# beam=1.4, noise=7\n",
    "from scipy.interpolate import interp1d\n",
    "N0_ells = np.logspace(1, np.log10(5000), 500)\n",
    "with open('LIMxCMBL/N0.npy', 'rb') as f:\n",
    "    N0 = np.load(f)\n",
    "    \n",
    "f_N0 = interp1d(x = N0_ells, y = N0)\n",
    "\n",
    "    \n",
    "plt.plot(ells, ClKK)\n",
    "plt.plot(ells, f_N0(ells))\n",
    "plt.loglog()"
   ]
  },
  {
   "cell_type": "code",
   "execution_count": null,
   "id": "1cec31ba",
   "metadata": {},
   "outputs": [],
   "source": [
    "from tqdm import tqdm"
   ]
  },
  {
   "cell_type": "code",
   "execution_count": null,
   "id": "93e0b245",
   "metadata": {},
   "outputs": [],
   "source": [
    "SNR2_per_mode_full = {}\n",
    "SNR2_per_mode_noise_dom = {}"
   ]
  },
  {
   "cell_type": "markdown",
   "id": "86e2cf7f",
   "metadata": {},
   "source": [
    "# full cov no filtering SNR per mode"
   ]
  },
  {
   "cell_type": "code",
   "execution_count": null,
   "id": "63f89d4f",
   "metadata": {},
   "outputs": [],
   "source": [
    "from LIMxCMBL.noise import f_eIeI\n",
    "cov  = np.einsum('l  , xy->lxy', (ClKK + f_N0(ells)),  Pei * np.diag(f_eIeI(chi=chi_bin_centers, dchi=dchi_binned, Lambda=0)))\n",
    "cov += np.einsum('l  ,lxy->lxy', (ClKK + f_N0(ells)),  I_I)\n",
    "cov += np.einsum('lx ,l y->lxy', I_kappa, I_kappa)\n",
    "cov = cov.astype(np.float64)\n",
    "\n",
    "SNR2_per_mode_full[0.0] = np.zeros_like(ells)\n",
    "for ell_idx in range(len(ells)):\n",
    "    L = np.linalg.cholesky(cov[ell_idx])\n",
    "    y = np.linalg.solve(L, I_kappa[ell_idx])\n",
    "    x = np.linalg.solve(L.T, y)\n",
    "    SNR2_per_mode_full[0.0][ell_idx] = np.dot(I_kappa[ell_idx], x)"
   ]
  },
  {
   "cell_type": "markdown",
   "id": "5ec9a21a",
   "metadata": {},
   "source": [
    "# noise dom no filtering SNR per mode"
   ]
  },
  {
   "cell_type": "code",
   "execution_count": null,
   "id": "b333fee0",
   "metadata": {},
   "outputs": [],
   "source": [
    "from LIMxCMBL.noise import f_eIeI\n",
    "cov  = np.einsum('l  , xy->lxy', (ClKK + f_N0(ells)),  Pei * np.diag(f_eIeI(chi=chi_bin_centers, dchi=dchi_binned, Lambda=0)))\n",
    "cov = cov.astype(np.float64)\n",
    "\n",
    "SNR2_per_mode_noise_dom[0.0] = np.zeros_like(ells)\n",
    "for ell_idx in range(len(ells)):\n",
    "    L = np.linalg.cholesky(cov[ell_idx])\n",
    "    y = np.linalg.solve(L, I_kappa[ell_idx])\n",
    "    x = np.linalg.solve(L.T, y)\n",
    "    SNR2_per_mode_noise_dom[0.0][ell_idx] = np.dot(I_kappa[ell_idx], x)"
   ]
  },
  {
   "cell_type": "markdown",
   "id": "6c274733",
   "metadata": {},
   "source": [
    "# SNR per mode with filtering"
   ]
  },
  {
   "cell_type": "code",
   "execution_count": null,
   "id": "f1ba0565",
   "metadata": {},
   "outputs": [],
   "source": [
    "from tqdm import trange"
   ]
  },
  {
   "cell_type": "code",
   "execution_count": null,
   "id": "eda8e14d",
   "metadata": {},
   "outputs": [],
   "source": [
    "Lambda_idx = 0\n",
    "\n",
    "for Lambda_idx in trange(20,25):\n",
    "    Lambda = Lambdas[Lambda_idx]\n",
    "    if(Lambda < 2*np.pi/(chimax - chimin)):\n",
    "        continue\n",
    "    #IHi_kappa##########################################\n",
    "    ILo_kappa = np.zeros((100, n_bins))\n",
    "\n",
    "    for curr_bin in range(n_bins):\n",
    "        oup_fname = '/scratch/users/delon/LIMxCMBL/IHiKappa/ILok_zmin_%.5f_zmax_%.5f_idx_%d_dblquad_n_bins_%d_curr_%d.npy'%(zmin, zmax, \n",
    "                                                                                                                            Lambda_idx, n_bins, \n",
    "                                                                                                                            curr_bin)\n",
    "        ILo_kappa[:,curr_bin] = np.load(oup_fname)\n",
    "\n",
    "\n",
    "    IHi_kappa = I_kappa - ILo_kappa\n",
    "    ####################################################\n",
    "    #IHi_IHi############################################\n",
    "    ## comb = LoLo - cross\n",
    "    comb_n_external = 1201\n",
    "    comb_unbinned = np.zeros((len(ells), comb_n_external, comb_n_external))\n",
    "    for ell_idx in range(len(ells)):\n",
    "        comb_fname = '/scratch/users/delon/LIMxCMBL/I_auto/comb_'\n",
    "        comb_fname += 'zmin_%.1f_zmax_%.1f_Lambda_idx_%d_n_ext_%d_l_%d_jax_quad.npy'%(zmin, zmax, \n",
    "                                                                                      Lambda_idx, \n",
    "                                                                                      comb_n_external,\n",
    "                                                                                      ell_idx)\n",
    "        comb_unbinned[ell_idx] = np.load(comb_fname)\n",
    "        \n",
    "    comb = get_binned(comb_unbinned, n_external = comb_n_external)\n",
    "    ##IHi IHi\n",
    "    IHiIHi = I_I + comb\n",
    "\n",
    "    ####################################################\n",
    "    #eHI eHI############################################\n",
    "    eComb_fname = '/scratch/users/delon/LIMxCMBL/eHIeHI/mpmath_comb_'\n",
    "    eComb_fname +='zmin_%.5f_zmax_%.5f_Lambda_idx_%.d_from_quad_nbins_%d.npy'%(zmin, \n",
    "                                                                               zmax, \n",
    "                                                                               Lambda_idx, \n",
    "                                                                               n_bins)\n",
    "    eComb = np.load(eComb_fname)\n",
    "    eHIeHI_binned = eComb\n",
    "    ####################################################\n",
    "    #full cov###########################################\n",
    "    #l -> ells\n",
    "    #x -> chi\n",
    "    #y -> chi'\n",
    "    cov  = np.einsum('l  , xy->lxy', (ClKK + f_N0(ells)),  Pei * eHIeHI_binned)\n",
    "    cov += np.einsum('l  ,lxy->lxy', (ClKK + f_N0(ells)),  IHiIHi)\n",
    "#     cov += np.einsum('lx ,l y->lxy', IHi_kappa, IHi_kappa)\n",
    "    cov = cov.astype(np.float64)\n",
    "\n",
    "    SNR2_per_mode_full[Lambda] = np.zeros_like(ells)\n",
    "    for ell_idx in range(len(ells)):\n",
    "        L = np.linalg.cholesky(cov[ell_idx])\n",
    "        y = np.linalg.solve(L, IHi_kappa[ell_idx])\n",
    "        x = np.linalg.solve(L.T, y)\n",
    "        SNR2_per_mode_full[Lambda][ell_idx] = np.dot(IHi_kappa[ell_idx], x)\n",
    "    ####################################################\n",
    "    #noise-dom cov######################################\n",
    "    cov  = np.einsum('l  , xy->lxy', (ClKK + f_N0(ells)),  Pei * eHIeHI_binned)\n",
    "    cov = cov.astype(np.float64)\n",
    "    SNR2_per_mode_noise_dom[Lambda] = np.zeros_like(ells)\n",
    "    for ell_idx in range(len(ells)):\n",
    "        L = np.linalg.cholesky(cov[ell_idx])\n",
    "        y = np.linalg.solve(L, IHi_kappa[ell_idx])\n",
    "        x = np.linalg.solve(L.T, y)\n",
    "        SNR2_per_mode_noise_dom[Lambda][ell_idx] = np.dot(IHi_kappa[ell_idx], x)\n",
    "    ####################################################\n"
   ]
  },
  {
   "cell_type": "code",
   "execution_count": null,
   "id": "af688c33",
   "metadata": {},
   "outputs": [],
   "source": [
    "plt.imshow(comb_unbinned[0])"
   ]
  },
  {
   "cell_type": "code",
   "execution_count": null,
   "id": "9fe2e587",
   "metadata": {},
   "outputs": [],
   "source": [
    "Lambdas = np.array(sorted(list(SNR2_per_mode_full.keys())))"
   ]
  },
  {
   "cell_type": "code",
   "execution_count": null,
   "id": "2eef96a5",
   "metadata": {},
   "outputs": [],
   "source": [
    "rainbow_colors = plt.cm.rainbow(np.linspace(0, 1, len(SNR2_per_mode_full)))\n",
    "plt.rcParams['axes.prop_cycle'] = plt.cycler(color=rainbow_colors[::-1])"
   ]
  },
  {
   "cell_type": "code",
   "execution_count": null,
   "id": "f44e434d",
   "metadata": {},
   "outputs": [],
   "source": [
    "plt.figure(facecolor = 'w')\n",
    "for Lambda in Lambdas:\n",
    "    if(Lambda < 2*np.pi/(chimax - chimin)):\n",
    "        continue\n",
    "\n",
    "    label = None\n",
    "    if(Lambda == 1e-5 or Lambda == 1e-1):\n",
    "        label = r'$\\Lambda=$%.1e'%(Lambda)\n",
    "    plt.plot(ells, ells**2 * SNR2_per_mode_full[Lambda], label=label, lw = 1)\n",
    "\n",
    "    \n",
    "    \n",
    "plt.xscale('log')\n",
    "plt.xlabel('ells')\n",
    "plt.title('binned full cov')\n",
    "plt.ylabel(r'$\\ell^2\\times$(snr2 per mode)')\n",
    "plt.yscale('log')\n",
    "\n",
    "plt.legend(frameon=False)"
   ]
  },
  {
   "cell_type": "code",
   "execution_count": null,
   "id": "439d4455",
   "metadata": {},
   "outputs": [],
   "source": [
    "plt.figure(facecolor = 'w')\n",
    "for Lambda in Lambdas:\n",
    "    if(Lambda < 2*np.pi/(chimax - chimin)):\n",
    "        continue\n",
    "    label = None\n",
    "    if(Lambda == 1e-5 or Lambda == 1e-1):\n",
    "        label = r'$\\Lambda=$%.1e'%(Lambda)\n",
    "    plt.plot(ells, ells**2 * SNR2_per_mode_noise_dom[Lambda], label=label, lw = 1)\n",
    "\n",
    "plt.xscale('log')\n",
    "plt.xlabel('ells')\n",
    "plt.title('binned noise dom(only Lambda > 2 pi / Dchi)')\n",
    "plt.ylabel(r'$\\ell^2\\times$(snr2 per mode)')\n",
    "plt.yscale('log')\n",
    "plt.legend(frameon=False)"
   ]
  },
  {
   "cell_type": "code",
   "execution_count": null,
   "id": "32108fb1",
   "metadata": {},
   "outputs": [],
   "source": [
    "#new calculation\n",
    "SNR2_per_Omega_full      = np.zeros(len(Lambdas))\n",
    "SNR2_per_Omega_noise_dom = np.zeros(len(Lambdas))\n",
    "\n",
    "for Lambda_idx,Lambda in enumerate(Lambdas):\n",
    "    SNR2_per_Omega_noise_dom[Lambda_idx] = trapezoid(x = np.log(ells), \n",
    "                                                     y = SNR2_per_mode_noise_dom[Lambda] \n",
    "                                                     * ells ** 2 \n",
    "                                                     / 2 / np.pi)\n",
    "    \n",
    "    SNR2_per_Omega_full[Lambda_idx] = trapezoid(x = np.log(ells), \n",
    "                                                y = SNR2_per_mode_full[Lambda] \n",
    "                                                * ells ** 2 \n",
    "                                                / 2 / np.pi)"
   ]
  },
  {
   "cell_type": "code",
   "execution_count": null,
   "id": "4d49c29f",
   "metadata": {
    "scrolled": false
   },
   "outputs": [],
   "source": [
    "plt.figure(figsize = (5,5) ,dpi = 300, facecolor = 'w')\n",
    "\n",
    "\n",
    "\n",
    "_idxs = np.where(SNR2_per_Omega_noise_dom <= SNR2_per_Omega_noise_dom[0])\n",
    "\n",
    "\n",
    "# plt.scatter(Lambdas, np.sqrt(SNR2_per_Omega_noise_dom * Omega_field), marker='+', alpha=0.1)\n",
    "\n",
    "plt.scatter(Lambdas[_idxs], np.sqrt(SNR2_per_Omega_full[_idxs] * Omega_field), \n",
    "         c='k',\n",
    "            marker='+',\n",
    "        label='full')\n",
    "\n",
    "\n",
    "fundamental = 2*np.pi/(chimax - chimin)\n",
    "\n",
    "plt.xscale('symlog', linthresh = 5 * fundamental)\n",
    "plt.yscale('log')\n",
    "plt.xlim(0, 1e-1)\n",
    "\n",
    "\n",
    "plt.xlabel(r'$\\Lambda$')\n",
    "plt.ylabel(r'${\\sf SNR}$')\n",
    "plt.title('AtLAST')\n",
    "plt.legend(frameon=False)"
   ]
  }
 ],
 "metadata": {
  "kernelspec": {
   "display_name": "cosmology",
   "language": "python",
   "name": "cosmology"
  },
  "language_info": {
   "codemirror_mode": {
    "name": "ipython",
    "version": 3
   },
   "file_extension": ".py",
   "mimetype": "text/x-python",
   "name": "python",
   "nbconvert_exporter": "python",
   "pygments_lexer": "ipython3",
   "version": "3.9.19"
  }
 },
 "nbformat": 4,
 "nbformat_minor": 5
}
