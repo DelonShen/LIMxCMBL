{
 "cells": [
  {
   "cell_type": "code",
   "execution_count": null,
   "id": "fb72d481",
   "metadata": {},
   "outputs": [],
   "source": [
    "%matplotlib inline"
   ]
  },
  {
   "cell_type": "code",
   "execution_count": null,
   "id": "d1cca9b5",
   "metadata": {},
   "outputs": [],
   "source": [
    "from LIMxCMBL.init import *"
   ]
  },
  {
   "cell_type": "code",
   "execution_count": null,
   "id": "f1cc8315",
   "metadata": {},
   "outputs": [],
   "source": [
    "from tqdm import trange"
   ]
  },
  {
   "cell_type": "code",
   "execution_count": null,
   "id": "f36fd6fd",
   "metadata": {},
   "outputs": [],
   "source": [
    "a = np.array([[1,2,3,4],[5,6,7,8],[9,10,11,12]])\n",
    "b = np.reshape(a, (12))\n",
    "c = np.reshape(b, (3, 4))"
   ]
  },
  {
   "cell_type": "code",
   "execution_count": null,
   "id": "9931da19",
   "metadata": {},
   "outputs": [],
   "source": [
    "a"
   ]
  },
  {
   "cell_type": "code",
   "execution_count": null,
   "id": "35191951",
   "metadata": {},
   "outputs": [],
   "source": [
    "b"
   ]
  },
  {
   "cell_type": "code",
   "execution_count": null,
   "id": "8f8ea2d0",
   "metadata": {},
   "outputs": [],
   "source": [
    "c"
   ]
  },
  {
   "cell_type": "code",
   "execution_count": null,
   "id": "847ec0d7",
   "metadata": {},
   "outputs": [],
   "source": [
    "a==c"
   ]
  },
  {
   "cell_type": "code",
   "execution_count": null,
   "id": "4d4a78e0",
   "metadata": {},
   "outputs": [],
   "source": [
    "print(chibs.shape, deltas.shape)"
   ]
  },
  {
   "cell_type": "code",
   "execution_count": null,
   "id": "b2d4f307",
   "metadata": {},
   "outputs": [],
   "source": [
    "for ell_idx in trange(len(ells)):\n",
    "    ell_curr = ells[ell_idx]\n",
    "    oup_fname = '/scratch/users/delon/LIMxCMBL/dkparp_integral/ell_%.3f.npy'%(ell_curr)\n",
    "    _chibs, _deltas = np.meshgrid(chibs, deltas, indexing='ij')\n",
    "\n",
    "    _chibs  = np.reshape(_chibs,  (len(chibs) * len(deltas)))\n",
    "    _deltas = np.reshape(_deltas, (len(chibs) * len(deltas)))\n",
    "\n",
    "    kperp2s = ell_curr**2 / (_chibs**2 * (1 - _deltas**2))\n",
    "\n",
    "    from scipy.integrate import quad, quad_vec\n",
    "    from scipy.interpolate import interp1d\n",
    "\n",
    "    for i in range(len(chibs)):\n",
    "        for j in range(len(deltas)):\n",
    "            assert(np.abs(kperp2s[i*len(deltas)+j] - ell_curr**2 / (chibs[i]**2 * (1 - deltas[j]**2))) < 1e-8)\n",
    "\n",
    "    def integrand(kparp):\n",
    "        return 2/(2*np.pi) * np.cos(kparp * 2 * _chibs * _deltas) * ccl.linear_matter_power(cosmo, np.sqrt(kparp**2 + kperp2s), 1)\n",
    "\n",
    "    res, err = quad_vec(integrand, 0, np.inf,\n",
    "                      epsabs = 0.0, epsrel=1e-3, limit=1123456, workers=32)\n",
    "\n",
    "    oup = np.reshape(res, (len(chibs), len(deltas)))\n",
    "\n",
    "#     print(chibs.shape, deltas.shape)\n",
    "#     print(oup.shape)\n",
    "\n",
    "    np.save(oup_fname, oup)\n",
    "#     print('saved to', oup_fname)"
   ]
  }
 ],
 "metadata": {
  "kernelspec": {
   "display_name": "massfunction",
   "language": "python",
   "name": "massfunction"
  },
  "language_info": {
   "codemirror_mode": {
    "name": "ipython",
    "version": 3
   },
   "file_extension": ".py",
   "mimetype": "text/x-python",
   "name": "python",
   "nbconvert_exporter": "python",
   "pygments_lexer": "ipython3",
   "version": "3.9.16"
  }
 },
 "nbformat": 4,
 "nbformat_minor": 5
}
