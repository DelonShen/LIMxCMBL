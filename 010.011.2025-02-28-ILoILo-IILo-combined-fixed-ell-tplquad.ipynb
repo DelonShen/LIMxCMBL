{
 "cells": [
  {
   "cell_type": "code",
   "execution_count": 1,
   "id": "ad2fb941",
   "metadata": {},
   "outputs": [
    {
     "name": "stdout",
     "output_type": "stream",
     "text": [
      "/scratch/users/delon/LIMxCMBL/I_auto/comb_zmin_3.5_zmax_8.1_Lambda_idx_18_nb_100_l_0_tplquad.npy\n"
     ]
    }
   ],
   "source": [
    "from LIMxCMBL.init import *\n",
    "from LIMxCMBL.kernels import *\n",
    "import sys\n",
    "\n",
    "# Lambda_idx = int(sys.argv[1])\n",
    "# nbins = int(sys.argv[2])\n",
    "# ell_idx = int(sys.argv[3])\n",
    "\n",
    "Lambda_idx = 18\n",
    "nbins = 100\n",
    "ell_idx = 0\n",
    "\n",
    "Lambda = Lambdas[Lambda_idx]\n",
    "\n",
    "# CCAT-prime\n",
    "zmin = 3.5\n",
    "zmax = 8.1\n",
    "\n",
    "oup_fname = '/scratch/users/delon/LIMxCMBL/I_auto/comb'\n",
    "oup_fname += '_zmin_%.1f_zmax_%.1f_Lambda_idx_%d_nb_%d_l_%d_tplquad.npy'%(zmin, zmax, Lambda_idx, nbins,ell_idx)\n",
    "print(oup_fname)"
   ]
  },
  {
   "cell_type": "code",
   "execution_count": 2,
   "id": "9981add2",
   "metadata": {},
   "outputs": [],
   "source": [
    "Omega_field = 8 * (np.pi/180)**2 #rad^2\n",
    "Pei = 2.3e4 #Mpc^3 kJy^2 /sr^2 \n",
    "chimin = ccl.comoving_angular_distance(cosmo, 1/(1+zmin))\n",
    "chimax = ccl.comoving_angular_distance(cosmo, 1/(1+zmax))"
   ]
  },
  {
   "cell_type": "code",
   "execution_count": 3,
   "id": "997a9062",
   "metadata": {},
   "outputs": [],
   "source": [
    "from scipy.interpolate import interp1d, LinearNDInterpolator\n",
    "from scipy.integrate import quad, quad_vec, trapezoid, tplquad\n",
    "\n",
    "inner_dkparp_integral = np.load('/oak/stanford/orgs/kipac/users/delon/LIMxCMBL/inner_dkparp_integral.npy')\n",
    "tmp_chibs = []\n",
    "tmp_log_deltas = []\n",
    "tmp_fnctn = []\n",
    "for i in range(len(chibs)):\n",
    "    for j in range(len(deltas)):\n",
    "        tmp_chibs += [chibs[i]]\n",
    "        tmp_log_deltas += [np.log10(deltas[j])]\n",
    "        tmp_fnctn += [inner_dkparp_integral[ell_idx,i,j]]\n",
    "        \n",
    "f_inner_integral = LinearNDInterpolator(list(zip(tmp_chibs, tmp_log_deltas)), tmp_fnctn)\n",
    "f_inner_integral_LoLo = interp1d(x = chibs, y = inner_dkparp_integral[ell_idx], axis = 0)"
   ]
  },
  {
   "cell_type": "code",
   "execution_count": 4,
   "id": "9575c27d",
   "metadata": {},
   "outputs": [
    {
     "data": {
      "text/plain": [
       "(256, 128)"
      ]
     },
     "execution_count": 4,
     "metadata": {},
     "output_type": "execute_result"
    }
   ],
   "source": [
    "inner_dkparp_integral[ell_idx].shape"
   ]
  },
  {
   "cell_type": "code",
   "execution_count": 5,
   "id": "d819ad95",
   "metadata": {},
   "outputs": [],
   "source": [
    "chi_bin_edges = np.linspace(chimin*(1+1e-8), chimax*(1 - 1e-8), nbins + 1)\n",
    "chi_bin_centers = (chi_bin_edges[1:] + chi_bin_edges[:-1])/2\n",
    "dchi_binned = np.mean(np.diff(chi_bin_edges))"
   ]
  },
  {
   "cell_type": "code",
   "execution_count": 36,
   "id": "fda17742",
   "metadata": {},
   "outputs": [],
   "source": [
    "from tqdm import trange\n",
    "\n",
    "# f_KLIM   = get_f_KI()\n",
    "def f_cross_integrand(_chib, chip, chi):\n",
    "    #I Lo\n",
    "    _delta = np.abs(1 - chi/_chib) #(1)\n",
    "    _delta = max(1e-6, min(_delta, 0.7))\n",
    "    \n",
    "    cross1_integrand = 0\n",
    "    if(chimin <= 2*_chib - chi <= chimax and chimin <= chi <= chimax):\n",
    "        cross1_integrand = 2 * f_KI1D(chi) #chi (1)\n",
    "        cross1_integrand *= f_inner_integral((_chib, np.log10(_delta))) #(1)\n",
    "        cross1_integrand /= (_chib**2) #(1)\n",
    "        cross1_integrand *=  f_KILo(max(10, (2*_chib - chi)), external_chi = chip, Lambda=Lambda)\n",
    "\n",
    "    #Lo I\n",
    "    _delta = np.abs(1 - chip/_chib) #(1)\n",
    "    _delta = max(1e-6, min(_delta, 0.7))\n",
    "    \n",
    "    cross2_integrand = 0\n",
    "    if(chimin <= 2*_chib - chip <= chimax and chimin <= chip <= chimax):\n",
    "        cross2_integrand = 2 * f_KI1D(chip) #chip (1)\n",
    "        cross2_integrand *= f_inner_integral((_chib, np.log10(_delta))) #(1)\n",
    "        cross2_integrand /= (_chib**2) #(1)\n",
    "        cross2_integrand *=  f_KILo(max(10, (2*_chib - chip)), external_chi = chi, Lambda=Lambda)\n",
    "\n",
    "    return cross1_integrand + cross2_integrand\n",
    "    \n"
   ]
  },
  {
   "cell_type": "code",
   "execution_count": 45,
   "id": "d4c11f84",
   "metadata": {},
   "outputs": [],
   "source": [
    "from tqdm import trange\n",
    "\n",
    "# f_KLIM   = get_f_KI()\n",
    "def f_integrand(_chib, chip, chi):\n",
    "    #I Lo\n",
    "    _delta = np.abs(1 - chi/_chib) #(1)\n",
    "    _delta = max(1e-6, min(_delta, 0.7))\n",
    "    \n",
    "    cross1_integrand = 0\n",
    "    if(chimin <= 2*_chib - chi <= chimax and chimin <= chi <= chimax):\n",
    "        cross1_integrand = 2 * f_KI1D(chi) #chi (1)\n",
    "        cross1_integrand *= f_inner_integral((_chib, np.log10(_delta))) #(1)\n",
    "        cross1_integrand /= (_chib**2) #(1)\n",
    "        cross1_integrand *=  f_KILo(max(10, (2*_chib - chi)), external_chi = chip, Lambda=Lambda)\n",
    "\n",
    "    #Lo I\n",
    "    _delta = np.abs(1 - chip/_chib) #(1)\n",
    "    _delta = max(1e-6, min(_delta, 0.7))\n",
    "    \n",
    "    cross2_integrand = 0\n",
    "    if(chimin <= 2*_chib - chip <= chimax and chimin <= chip <= chimax):\n",
    "        cross2_integrand = 2 * f_KI1D(chip) #chip (1)\n",
    "        cross2_integrand *= f_inner_integral((_chib, np.log10(_delta))) #(1)\n",
    "        cross2_integrand /= (_chib**2) #(1)\n",
    "        cross2_integrand *=  f_KILo(max(10, (2*_chib - chip)), external_chi = chi, Lambda=Lambda)\n",
    "\n",
    "    cross_integrand = cross1_integrand + cross2_integrand\n",
    "    \n",
    "    #LoLo\n",
    "    plus = _chib*(1+deltas) #(d)\n",
    "    mins = _chib*(1-deltas) #(d)\n",
    "    _idxs = (chimin < plus) & (plus < chimax) & (chimin < mins) & (mins < chimax)\n",
    "    LoLo_integrand  = np.where(_idxs,\n",
    "                               f_KILo(plus, external_chi = chi, Lambda=Lambda) * f_KILo(mins, external_chi = chip, Lambda=Lambda),\n",
    "                               0) #(d)\n",
    "    LoLo_integrand += np.where(_idxs,\n",
    "                               f_KILo(mins, external_chi = chi, Lambda=Lambda) * f_KILo(plus, external_chi = chip, Lambda=Lambda),\n",
    "                               0) #(d)\n",
    "    \n",
    "    LoLo_integrand *= (2 / _chib) #(d)\n",
    "    LoLo_integrand *= deltas\n",
    "    LoLo_integrand *= f_inner_integral_LoLo(_chib)\n",
    "    LoLo_integrand = trapezoid(x = np.log(deltas), y = LoLo_integrand, axis=-1)\n",
    "    \n",
    "    return LoLo_integrand - cross_integrand"
   ]
  },
  {
   "cell_type": "code",
   "execution_count": 46,
   "id": "fd1ae04c",
   "metadata": {},
   "outputs": [
    {
     "data": {
      "text/plain": [
       "-6.635861184860739e-09"
      ]
     },
     "execution_count": 46,
     "metadata": {},
     "output_type": "execute_result"
    }
   ],
   "source": [
    "f_integrand(8000, 8001, 8004)"
   ]
  },
  {
   "cell_type": "code",
   "execution_count": 8,
   "id": "ddf5cec7",
   "metadata": {},
   "outputs": [],
   "source": [
    "def r():\n",
    "    return np.random.uniform(chimin, chimax)"
   ]
  },
  {
   "cell_type": "code",
   "execution_count": 9,
   "id": "246f079b",
   "metadata": {
    "scrolled": true
   },
   "outputs": [
    {
     "data": {
      "text/plain": [
       "7551.625483920592"
      ]
     },
     "execution_count": 9,
     "metadata": {},
     "output_type": "execute_result"
    }
   ],
   "source": [
    "r()"
   ]
  },
  {
   "cell_type": "code",
   "execution_count": 10,
   "id": "a0122c7b",
   "metadata": {},
   "outputs": [],
   "source": [
    "_tmp = [ (r(), r(), r()) for _ in range(10000)]"
   ]
  },
  {
   "cell_type": "code",
   "execution_count": 11,
   "id": "70c49908",
   "metadata": {},
   "outputs": [
    {
     "name": "stdout",
     "output_type": "stream",
     "text": [
      "         1379560 function calls in 2.862 seconds\n",
      "\n",
      "   Ordered by: standard name\n",
      "\n",
      "   ncalls  tottime  percall  cumtime  percall filename:lineno(function)\n",
      "    10000    0.908    0.000    2.852    0.000 4145848165.py:4(f_integrand)\n",
      "        1    0.010    0.010    2.862    2.862 <string>:1(<listcomp>)\n",
      "        1    0.000    0.000    2.862    2.862 <string>:1(<module>)\n",
      "    10000    0.003    0.000    0.005    0.000 _base.py:1513(issparse)\n",
      "    10000    0.220    0.000    0.300    0.000 _interpolate.py:690(_call_linear)\n",
      "    10000    0.061    0.000    0.475    0.000 _interpolate.py:759(_evaluate)\n",
      "    10000    0.050    0.000    0.112    0.000 _interpolate.py:774(_check_bounds)\n",
      "    10000    0.004    0.000    0.030    0.000 _methods.py:47(_sum)\n",
      "    20000    0.007    0.000    0.052    0.000 _methods.py:55(_any)\n",
      "    10000    0.030    0.000    0.030    0.000 _methods.py:90(_clip)\n",
      "    10000    0.015    0.000    0.595    0.000 _polyint.py:59(__call__)\n",
      "    10000    0.010    0.000    0.090    0.000 _polyint.py:90(_prepare_x)\n",
      "    10000    0.007    0.000    0.015    0.000 _polyint.py:96(_finish_y)\n",
      "    10000    0.081    0.000    0.184    0.000 _quadrature.py:22(trapezoid)\n",
      "    10000    0.035    0.000    0.076    0.000 _util.py:275(_asarray_validated)\n",
      "    10000    0.003    0.000    0.004    0.000 core.py:6485(isMaskedArray)\n",
      "    49988    0.294    0.000    0.310    0.000 dufunc.py:274(__call__)\n",
      "    10000    0.002    0.000    0.002    0.000 fromnumeric.py:1328(_searchsorted_dispatcher)\n",
      "    10000    0.008    0.000    0.031    0.000 fromnumeric.py:1332(searchsorted)\n",
      "    10000    0.008    0.000    0.023    0.000 fromnumeric.py:53(_wrapfunc)\n",
      "    10000    0.002    0.000    0.002    0.000 function_base.py:1320(_diff_dispatcher)\n",
      "    10000    0.052    0.000    0.059    0.000 function_base.py:1324(diff)\n",
      "    59976    0.009    0.000    0.009    0.000 function_base.py:1457(_interp_dispatcher)\n",
      "    59976    0.071    0.000    0.299    0.000 function_base.py:1461(interp)\n",
      "    19976    0.003    0.000    0.003    0.000 function_base.py:869(_copy_dispatcher)\n",
      "    19976    0.007    0.000    0.045    0.000 function_base.py:873(copy)\n",
      "     9988    0.010    0.000    0.047    0.000 kernels.py:163(f_KI1D)\n",
      "    49988    0.392    0.000    0.974    0.000 kernels.py:195(f_KILo)\n",
      "    20000    0.003    0.000    0.003    0.000 multiarray.py:346(where)\n",
      "    20000    0.010    0.000    0.017    0.000 numerictypes.py:283(issubclass_)\n",
      "    10000    0.010    0.000    0.028    0.000 numerictypes.py:357(issubdtype)\n",
      "     9988    0.022    0.000    0.024    0.000 stride_tricks.py:416(_broadcast_shape)\n",
      "     9988    0.001    0.000    0.001    0.000 stride_tricks.py:476(_broadcast_arrays_dispatcher)\n",
      "     9988    0.018    0.000    0.074    0.000 stride_tricks.py:480(broadcast_arrays)\n",
      "     9988    0.008    0.000    0.019    0.000 stride_tricks.py:538(<listcomp>)\n",
      "    29964    0.006    0.000    0.006    0.000 stride_tricks.py:542(<genexpr>)\n",
      "    59976    0.008    0.000    0.008    0.000 type_check.py:205(_is_type_dispatcher)\n",
      "    59976    0.029    0.000    0.036    0.000 type_check.py:302(iscomplexobj)\n",
      "     9988    0.007    0.000    0.013    0.000 {built-in method builtins.all}\n",
      "        1    0.000    0.000    2.862    2.862 {built-in method builtins.exec}\n",
      "    59988    0.011    0.000    0.011    0.000 {built-in method builtins.getattr}\n",
      "    20000    0.003    0.000    0.003    0.000 {built-in method builtins.isinstance}\n",
      "    89976    0.014    0.000    0.014    0.000 {built-in method builtins.issubclass}\n",
      "    39988    0.006    0.000    0.006    0.000 {built-in method builtins.len}\n",
      "    29988    0.009    0.000    0.009    0.000 {built-in method builtins.max}\n",
      "    20000    0.008    0.000    0.008    0.000 {built-in method builtins.min}\n",
      "    39952    0.049    0.000    0.049    0.000 {built-in method numpy.array}\n",
      "    30000    0.003    0.000    0.003    0.000 {built-in method numpy.asanyarray}\n",
      "    79976    0.013    0.000    0.013    0.000 {built-in method numpy.asarray}\n",
      "    59976    0.178    0.000    0.178    0.000 {built-in method numpy.core._multiarray_umath.interp}\n",
      "    10000    0.003    0.000    0.003    0.000 {built-in method numpy.core._multiarray_umath.normalize_axis_index}\n",
      "    20000    0.010    0.000    0.062    0.000 {method 'any' of 'numpy.ndarray' objects}\n",
      "    10000    0.002    0.000    0.002    0.000 {method 'append' of 'list' objects}\n",
      "    10000    0.010    0.000    0.010    0.000 {method 'astype' of 'numpy.ndarray' objects}\n",
      "    10000    0.006    0.000    0.036    0.000 {method 'clip' of 'numpy.ndarray' objects}\n",
      "        1    0.000    0.000    0.000    0.000 {method 'disable' of '_lsprof.Profiler' objects}\n",
      "    10000    0.004    0.000    0.004    0.000 {method 'ravel' of 'numpy.ndarray' objects}\n",
      "    30000    0.072    0.000    0.072    0.000 {method 'reduce' of 'numpy.ufunc' objects}\n",
      "    20000    0.013    0.000    0.013    0.000 {method 'reshape' of 'numpy.ndarray' objects}\n",
      "    10000    0.014    0.000    0.014    0.000 {method 'searchsorted' of 'numpy.ndarray' objects}\n",
      "    10000    0.006    0.000    0.035    0.000 {method 'sum' of 'numpy.ndarray' objects}\n",
      "    49988    0.007    0.000    0.007    0.000 {method 'values' of 'dict' objects}\n",
      "\n",
      "\n"
     ]
    }
   ],
   "source": [
    "import cProfile\n",
    "cProfile.run('[f_integrand(a,b,c) for a,b,c in _tmp]')"
   ]
  },
  {
   "cell_type": "code",
   "execution_count": 15,
   "id": "b79117af",
   "metadata": {},
   "outputs": [],
   "source": [
    "# i = 13\n",
    "# li, ri = chi_bin_edges[i], chi_bin_edges[i+1]\n",
    "\n",
    "# j = 14\n",
    "# lj, rj = chi_bin_edges[j], chi_bin_edges[j+1]\n",
    "\n",
    "# res, _ = tplquad(f_cross_integrand, li, ri, lj, rj, chimin, chimax,\n",
    "#                 epsrel = 1e-3, epsabs = 0.0)"
   ]
  },
  {
   "cell_type": "code",
   "execution_count": 18,
   "id": "57437f92",
   "metadata": {},
   "outputs": [],
   "source": [
    "i = 13\n",
    "li, ri = chi_bin_edges[i], chi_bin_edges[i+1]\n",
    "\n",
    "j = 14\n",
    "lj, rj = chi_bin_edges[j], chi_bin_edges[j+1]\n",
    "\n",
    "res, _ = tplquad(f_integrand, li, ri, lj, rj, 10, chimax_sample,\n",
    "                epsrel = 1e-3, epsabs = 0.0)"
   ]
  },
  {
   "cell_type": "code",
   "execution_count": 21,
   "id": "6b658db1",
   "metadata": {},
   "outputs": [
    {
     "name": "stdout",
     "output_type": "stream",
     "text": [
      "-8.460922465496914e-07\n"
     ]
    }
   ],
   "source": [
    "print(res/dchi_binned**2)"
   ]
  },
  {
   "cell_type": "code",
   "execution_count": 20,
   "id": "c977ea6c",
   "metadata": {},
   "outputs": [],
   "source": [
    "comb_binned = np.zeros((nbins, nbins))"
   ]
  },
  {
   "cell_type": "code",
   "execution_count": null,
   "id": "e45a070d",
   "metadata": {},
   "outputs": [],
   "source": [
    "for i in range(nbins):\n",
    "    print(i+1,'/',nbins)\n",
    "    for j in trange(i, nbins):\n",
    "        li, ri = chi_bin_edges[i], chi_bin_edges[i+1]\n",
    "        lj, rj = chi_bin_edges[j], chi_bin_edges[j+1]\n",
    "        comb_binned[i,j], _ = tplquad(f_integrand, li, ri, lj, rj, 10, chimax_sample,\n",
    "                                      epsrel = 1e-3, epsabs = 0.0)\n",
    "        comb_binned[i,j] /= dchi_binned**2\n",
    "        comb_binned[j, i] = comb_binned[i,j]"
   ]
  },
  {
   "cell_type": "code",
   "execution_count": null,
   "id": "8728253b",
   "metadata": {},
   "outputs": [],
   "source": [
    "np.save(oup_fname, comb_binned)\n",
    "print('outputted')"
   ]
  }
 ],
 "metadata": {
  "kernelspec": {
   "display_name": "cosmology",
   "language": "python",
   "name": "cosmology"
  },
  "language_info": {
   "codemirror_mode": {
    "name": "ipython",
    "version": 3
   },
   "file_extension": ".py",
   "mimetype": "text/x-python",
   "name": "python",
   "nbconvert_exporter": "python",
   "pygments_lexer": "ipython3",
   "version": "3.9.19"
  }
 },
 "nbformat": 4,
 "nbformat_minor": 5
}
