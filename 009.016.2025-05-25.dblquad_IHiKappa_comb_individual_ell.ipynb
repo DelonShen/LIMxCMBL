{
 "cells": [
  {
   "cell_type": "markdown",
   "id": "9054f7f3",
   "metadata": {},
   "source": [
    "basically original 009.016 with quad_vec taking really long and I'm impatient so will submit 100 jobs for each ell_idx"
   ]
  },
  {
   "cell_type": "code",
   "execution_count": 1,
   "id": "c9ccb886",
   "metadata": {},
   "outputs": [
    {
     "name": "stdout",
     "output_type": "stream",
     "text": [
      "/scratch/users/delon/LIMxCMBL/IHiKappa/Lya_IHik_zmin_5.2_zmax_8.0_idx_23_dblquad_n_bins_15_curr_2_ell_idx_0.npy\n"
     ]
    }
   ],
   "source": [
    "from LIMxCMBL.init import *\n",
    "from LIMxCMBL.kernels import *\n",
    "from LIMxCMBL.noise import *\n",
    "\n",
    "import sys\n",
    "\n",
    "Lambda_idx = 23#int(sys.argv[1])\n",
    "nbins = 15#int(sys.argv[2])\n",
    "curr_bin = 2#int(sys.argv[3])\n",
    "Lambda = Lambdas[Lambda_idx]\n",
    "\n",
    "zmin = 5.2#float(sys.argv[4])\n",
    "zmax = 8#float(sys.argv[5])\n",
    "\n",
    "line_str = 'Lya'#sys.argv[6]\n",
    "ell_idx = 0#int(sys.argv[7])\n",
    "\n",
    "chimin = ccl.comoving_angular_distance(cosmo, 1/(1+zmin))\n",
    "chimax = ccl.comoving_angular_distance(cosmo, 1/(1+zmax))\n",
    "chi_bin_edges = np.linspace(chimin*(1+1e-8), chimax*(1 - 1e-8), nbins + 1)\n",
    "chi_bin_centers = (chi_bin_edges[1:] + chi_bin_edges[:-1])/2\n",
    "dchi_binned = np.mean(np.diff(chi_bin_edges))\n",
    "\n",
    "\n",
    "oup_fname = '/scratch/users/delon/LIMxCMBL/IHiKappa/'\n",
    "oup_fname += '%s_IHik_zmin_%.1f_zmax_%.1f_idx_%d_dblquad_n_bins_%d_curr_%d_ell_idx_%d.npy'%(line_str,\n",
    "                                                                                 zmin, \n",
    "                                                                                 zmax, \n",
    "                                                                                 Lambda_idx, \n",
    "                                                                                 nbins, \n",
    "                                                                                 curr_bin,\n",
    "                                                                                           ell_idx)\n",
    "print(oup_fname)"
   ]
  },
  {
   "cell_type": "code",
   "execution_count": 2,
   "id": "66c358fb",
   "metadata": {},
   "outputs": [],
   "source": [
    "# get CMB lensing component\n",
    "from LIMxCMBL.kernels import get_f_Kkappa\n",
    "f_WkD = get_f_Kkappa()\n",
    "\n",
    "from LIMxCMBL.cross_spectrum import *\n",
    "ClKK = d_chib_integral(f_WkD, f_WkD) #[Mpc]^2\n",
    "\n",
    "kernels = {}\n",
    "kernels['CII'] = np.array(KI)\n",
    "kernels['CO'] = np.array(KI_CO)\n",
    "kernels['Lya'] = np.array(KI_Lya)\n",
    "kernels['HI'] = np.array(KI_HI)\n",
    "\n",
    "\n",
    "_KI = kernels[line_str]\n",
    "\n",
    "\n",
    "from  LIMxCMBL.kernels import *\n",
    "f_KLIM   = interp1d(x=chis, y = _KI, bounds_error = False, fill_value=0)\n",
    "f_Kkappa = get_f_Kkappa()\n",
    "\n",
    "f_KLIM_windowed = apply_window(f_K = f_KLIM,\n",
    "                               chimin = chimin,\n",
    "                               chimax = chimax)\n",
    "\n",
    "from scipy.interpolate import interp1d\n",
    "from scipy.integrate import quad, quad_vec, trapezoid\n",
    "\n",
    "inner_dkparp_integral = np.load('/oak/stanford/orgs/kipac/users/delon/LIMxCMBL/inner_dkparp_integral.npy')\n",
    "inner_dkparp_integral = inner_dkparp_integral.astype(np.float64)\n",
    "\n"
   ]
  },
  {
   "cell_type": "code",
   "execution_count": 3,
   "id": "50cdfea8",
   "metadata": {},
   "outputs": [
    {
     "data": {
      "text/plain": [
       "(100, 256, 128)"
      ]
     },
     "execution_count": 3,
     "metadata": {},
     "output_type": "execute_result"
    }
   ],
   "source": [
    "inner_dkparp_integral.shape"
   ]
  },
  {
   "cell_type": "code",
   "execution_count": 4,
   "id": "f6b3f71c",
   "metadata": {},
   "outputs": [],
   "source": [
    "f_inner_integral = interp1d(x = chibs, y = inner_dkparp_integral[ell_idx], axis = 0)\n",
    "\n",
    "from scipy.interpolate import interp1d, interp2d, LinearNDInterpolator"
   ]
  },
  {
   "cell_type": "code",
   "execution_count": 5,
   "id": "47ad6952",
   "metadata": {},
   "outputs": [],
   "source": [
    "tmp_chibs = []\n",
    "tmp_log_deltas = []\n",
    "tmp_fnctn = []\n",
    "for i in range(len(chibs)):\n",
    "    for j in range(len(deltas)):\n",
    "        tmp_chibs += [chibs[i]]\n",
    "        tmp_log_deltas += [np.log(deltas[j])]\n",
    "        tmp_fnctn += [inner_dkparp_integral[ell_idx,i,j]]\n",
    "        \n",
    "f_inner_integral_2d = LinearNDInterpolator(list(zip(tmp_chibs, tmp_log_deltas)), tmp_fnctn)"
   ]
  },
  {
   "cell_type": "code",
   "execution_count": 6,
   "id": "21c7e007",
   "metadata": {},
   "outputs": [],
   "source": [
    "def f_KILo(chi, external_chi, Lambda):\n",
    "    return (Lambda / np.pi \n",
    "            * np.interp(x = chi, xp = chis, \n",
    "                         fp = _KI, left = 0, right = 0) \n",
    "            * np.sinc(Lambda * (external_chi - chi) / np.pi))"
   ]
  },
  {
   "cell_type": "code",
   "execution_count": 7,
   "id": "709c386d",
   "metadata": {},
   "outputs": [],
   "source": [
    "def OLD_bin_integrand(_chib, chi):\n",
    "    \n",
    "    f_KLIMLo = get_f_KILo(external_chi = chi, Lambda=Lambda)\n",
    "    f_KLIMLo_windowed = apply_window(f_K = f_KLIMLo,\n",
    "                                     chimin = chimin,\n",
    "                                     chimax = chimax)\n",
    "    \n",
    "    _curr_KI = 2 * np.interp(x = chi, xp = chis, fp = _KI, left = 0, right = 0)\n",
    "    \n",
    "    \n",
    "    #inner integrand\n",
    "    #Low passed\n",
    "    plus = _chib*(1+deltas)\n",
    "    mins = _chib*(1-deltas)\n",
    "\n",
    "    _interm  = f_KLIMLo_windowed(plus) * f_Kkappa(mins)\n",
    "    _interm += f_KLIMLo_windowed(mins) * f_Kkappa(plus) \n",
    "\n",
    "    _factor = (2 / _chib)\n",
    "    _factor = _factor * deltas\n",
    "    _factor *= f_inner_integral(_chib)\n",
    "\n",
    "    _interm  *= _factor\n",
    "\n",
    "    LO_integrand = trapezoid(x = np.log(deltas), y = _interm, axis=-1)\n",
    "\n",
    "    #unfiltered\n",
    "    _delta = np.abs(1 - chi / _chib)\n",
    "    _delta = np.where(_delta < 1e-6, 1e-6,\n",
    "                     np.where(_delta > 0.7, \n",
    "                             0.7,\n",
    "                             _delta))\n",
    "    unfiltered_integrand = (_curr_KI \n",
    "                            * np.interp(x = 2*_chib - chi, \n",
    "                                        xp = chis, fp = Wk * Dz, \n",
    "                                        left = 0, right = 0)\n",
    "                            * f_inner_integral_2d((_chib, np.log(_delta))) \n",
    "                            / _chib**2)\n",
    "\n",
    "    return unfiltered_integrand - LO_integrand"
   ]
  },
  {
   "cell_type": "code",
   "execution_count": 8,
   "id": "ca7de940",
   "metadata": {},
   "outputs": [],
   "source": [
    "def bin_integrand(_chib, chi):\n",
    "    \n",
    "    _curr_KI = 2 * np.interp(x = chi, xp = chis, fp = _KI, left = 0, right = 0)\n",
    "    \n",
    "    \n",
    "    #inner integrand\n",
    "    #Low passed\n",
    "    plus = _chib*(1+deltas)\n",
    "    mins = _chib*(1-deltas)\n",
    "\n",
    "    _interm  = np.where((plus >= chimin) & (plus <= chimax),\n",
    "                        f_KILo(plus, external_chi = chi, Lambda=Lambda) \n",
    "                        * np.interp(x = mins, xp = chis, fp = Wk * Dz, left = 0, right = 0),\n",
    "                        0)\n",
    "    _interm += np.where((mins >= chimin) & (mins <= chimax),\n",
    "                        f_KILo(mins, external_chi = chi, Lambda=Lambda) \n",
    "                        * np.interp(x = plus, xp = chis, fp = Wk * Dz, left = 0, right = 0),\n",
    "                        0)\n",
    "    _factor = (2 / _chib)\n",
    "    _factor = _factor * deltas\n",
    "    _factor *= f_inner_integral(_chib)\n",
    "\n",
    "    _interm  *= _factor\n",
    "\n",
    "    LO_integrand = trapezoid(x = np.log(deltas), y = _interm, axis=-1)\n",
    "\n",
    "    #unfiltered\n",
    "    _delta = np.abs(1 - chi / _chib)\n",
    "    _delta = np.where(_delta < 1e-6, 1e-6,\n",
    "                     np.where(_delta > 0.7, \n",
    "                             0.7,\n",
    "                             _delta))\n",
    "    unfiltered_integrand = (_curr_KI \n",
    "                            * np.interp(x = 2*_chib - chi, \n",
    "                                        xp = chis, fp = Wk * Dz, \n",
    "                                        left = 0, right = 0)\n",
    "                            * f_inner_integral_2d((_chib, np.log(_delta))) \n",
    "                            / _chib**2)\n",
    "\n",
    "    return unfiltered_integrand - LO_integrand"
   ]
  },
  {
   "cell_type": "code",
   "execution_count": 9,
   "id": "ea3342de",
   "metadata": {
    "scrolled": true
   },
   "outputs": [
    {
     "data": {
      "text/plain": [
       "1.7203217206309548e-13"
      ]
     },
     "execution_count": 9,
     "metadata": {},
     "output_type": "execute_result"
    }
   ],
   "source": [
    "bin_integrand((chimin+chimax)/2, (chimin+chimax)/2)"
   ]
  },
  {
   "cell_type": "code",
   "execution_count": 10,
   "id": "5ded4903",
   "metadata": {},
   "outputs": [
    {
     "data": {
      "text/plain": [
       "-3.445311882808094e-13"
      ]
     },
     "execution_count": 10,
     "metadata": {},
     "output_type": "execute_result"
    }
   ],
   "source": [
    "OLD_bin_integrand((chimin+chimax)/2, (chimin+chimax)/2)"
   ]
  },
  {
   "cell_type": "code",
   "execution_count": 11,
   "id": "00547799",
   "metadata": {},
   "outputs": [],
   "source": [
    "import cProfile"
   ]
  },
  {
   "cell_type": "code",
   "execution_count": 12,
   "id": "4b7f834e",
   "metadata": {
    "scrolled": true
   },
   "outputs": [
    {
     "name": "stdout",
     "output_type": "stream",
     "text": [
      "         340004 function calls in 0.398 seconds\n",
      "\n",
      "   Ordered by: standard name\n",
      "\n",
      "   ncalls  tottime  percall  cumtime  percall filename:lineno(function)\n",
      "     1000    0.060    0.000    0.396    0.000 350217941.py:1(OLD_bin_integrand)\n",
      "        1    0.002    0.002    0.398    0.398 <string>:1(<listcomp>)\n",
      "        1    0.000    0.000    0.398    0.398 <string>:1(<module>)\n",
      "     7000    0.001    0.000    0.002    0.000 _base.py:1513(issparse)\n",
      "     2000    0.001    0.000    0.001    0.000 _interpolate.py:381(_do_extrapolate)\n",
      "     1000    0.018    0.000    0.078    0.000 _interpolate.py:496(__init__)\n",
      "     1000    0.001    0.000    0.001    0.000 _interpolate.py:649(fill_value)\n",
      "     1000    0.000    0.000    0.000    0.000 _interpolate.py:680(_check_and_update_bounds_error_for_extrapolation)\n",
      "     2000    0.001    0.000    0.012    0.000 _interpolate.py:686(_call_linear_np)\n",
      "     5000    0.052    0.000    0.087    0.000 _interpolate.py:690(_call_linear)\n",
      "     7000    0.012    0.000    0.126    0.000 _interpolate.py:759(_evaluate)\n",
      "     3000    0.009    0.000    0.014    0.000 _interpolate.py:774(_check_bounds)\n",
      "     1000    0.000    0.000    0.002    0.000 _methods.py:47(_sum)\n",
      "     2000    0.001    0.000    0.005    0.000 _methods.py:55(_any)\n",
      "     5000    0.009    0.000    0.009    0.000 _methods.py:90(_clip)\n",
      "     1000    0.002    0.000    0.013    0.000 _polyint.py:107(_reshape_yi)\n",
      "     1000    0.002    0.000    0.007    0.000 _polyint.py:115(_set_yi)\n",
      "     1000    0.001    0.000    0.005    0.000 _polyint.py:135(_set_dtype)\n",
      "     1000    0.001    0.000    0.008    0.000 _polyint.py:52(__init__)\n",
      "     7000    0.006    0.000    0.172    0.000 _polyint.py:59(__call__)\n",
      "     7000    0.004    0.000    0.035    0.000 _polyint.py:90(_prepare_x)\n",
      "     7000    0.003    0.000    0.005    0.000 _polyint.py:96(_finish_y)\n",
      "     1000    0.006    0.000    0.014    0.000 _quadrature.py:22(trapezoid)\n",
      "     7000    0.013    0.000    0.029    0.000 _util.py:275(_asarray_validated)\n",
      "     7000    0.001    0.000    0.002    0.000 core.py:6485(isMaskedArray)\n",
      "     1000    0.000    0.000    0.000    0.000 fromnumeric.py:1021(_argsort_dispatcher)\n",
      "     1000    0.001    0.000    0.020    0.000 fromnumeric.py:1025(argsort)\n",
      "     5000    0.001    0.000    0.001    0.000 fromnumeric.py:1328(_searchsorted_dispatcher)\n",
      "     5000    0.002    0.000    0.020    0.000 fromnumeric.py:1332(searchsorted)\n",
      "     7000    0.004    0.000    0.048    0.000 fromnumeric.py:53(_wrapfunc)\n",
      "     1000    0.000    0.000    0.000    0.000 fromnumeric.py:91(_take_dispatcher)\n",
      "     1000    0.001    0.000    0.012    0.000 fromnumeric.py:95(take)\n",
      "     1000    0.000    0.000    0.000    0.000 function_base.py:1320(_diff_dispatcher)\n",
      "     1000    0.004    0.000    0.005    0.000 function_base.py:1324(diff)\n",
      "     4000    0.001    0.000    0.001    0.000 function_base.py:1457(_interp_dispatcher)\n",
      "     4000    0.004    0.000    0.016    0.000 function_base.py:1461(interp)\n",
      "     2000    0.000    0.000    0.000    0.000 function_base.py:3628(_sinc_dispatcher)\n",
      "     2000    0.018    0.000    0.018    0.000 function_base.py:3632(sinc)\n",
      "     2000    0.000    0.000    0.000    0.000 function_base.py:869(_copy_dispatcher)\n",
      "     2000    0.001    0.000    0.004    0.000 function_base.py:873(copy)\n",
      "     1000    0.013    0.000    0.097    0.000 kernels.py:187(get_window)\n",
      "     1000    0.001    0.000    0.097    0.000 kernels.py:192(apply_window)\n",
      "     2000    0.003    0.000    0.123    0.000 kernels.py:194(<lambda>)\n",
      "     1000    0.000    0.000    0.000    0.000 kernels.py:213(get_f_KILo)\n",
      "     2000    0.013    0.000    0.068    0.000 kernels.py:215(<lambda>)\n",
      "     1000    0.000    0.000    0.000    0.000 multiarray.py:1080(copyto)\n",
      "     4000    0.000    0.000    0.000    0.000 multiarray.py:346(where)\n",
      "     1000    0.000    0.000    0.000    0.000 multiarray.py:85(empty_like)\n",
      "     2000    0.003    0.000    0.005    0.000 numeric.py:1330(normalize_axis_tuple)\n",
      "     2000    0.001    0.000    0.001    0.000 numeric.py:1380(<listcomp>)\n",
      "     1000    0.000    0.000    0.000    0.000 numeric.py:1389(_moveaxis_dispatcher)\n",
      "     1000    0.003    0.000    0.010    0.000 numeric.py:1393(moveaxis)\n",
      "     1000    0.000    0.000    0.000    0.000 numeric.py:1455(<listcomp>)\n",
      "     1000    0.000    0.000    0.000    0.000 numeric.py:63(_zeros_like_dispatcher)\n",
      "     1000    0.005    0.000    0.005    0.000 numeric.py:67(zeros_like)\n",
      "    18000    0.005    0.000    0.008    0.000 numerictypes.py:283(issubclass_)\n",
      "     9000    0.006    0.000    0.014    0.000 numerictypes.py:357(issubdtype)\n",
      "     1000    0.002    0.000    0.002    0.000 stride_tricks.py:416(_broadcast_shape)\n",
      "     1000    0.000    0.000    0.000    0.000 stride_tricks.py:476(_broadcast_arrays_dispatcher)\n",
      "     1000    0.002    0.000    0.006    0.000 stride_tricks.py:480(broadcast_arrays)\n",
      "     1000    0.001    0.000    0.002    0.000 stride_tricks.py:538(<listcomp>)\n",
      "     3000    0.001    0.000    0.001    0.000 stride_tricks.py:542(<genexpr>)\n",
      "     4000    0.001    0.000    0.001    0.000 type_check.py:205(_is_type_dispatcher)\n",
      "     4000    0.002    0.000    0.002    0.000 type_check.py:302(iscomplexobj)\n",
      "     2000    0.000    0.000    0.000    0.000 {built-in method _operator.index}\n",
      "     1000    0.001    0.000    0.001    0.000 {built-in method builtins.all}\n",
      "        1    0.000    0.000    0.398    0.398 {built-in method builtins.exec}\n",
      "     7000    0.001    0.000    0.001    0.000 {built-in method builtins.getattr}\n",
      "    17000    0.002    0.000    0.002    0.000 {built-in method builtins.isinstance}\n",
      "    32000    0.004    0.000    0.004    0.000 {built-in method builtins.issubclass}\n",
      "    18000    0.002    0.000    0.002    0.000 {built-in method builtins.len}\n",
      "     1000    0.001    0.000    0.001    0.000 {built-in method builtins.sorted}\n",
      "     6000    0.009    0.000    0.009    0.000 {built-in method numpy.array}\n",
      "     5000    0.001    0.000    0.001    0.000 {built-in method numpy.asanyarray}\n",
      "    20000    0.002    0.000    0.002    0.000 {built-in method numpy.asarray}\n",
      "     4000    0.009    0.000    0.009    0.000 {built-in method numpy.core._multiarray_umath.interp}\n",
      "     3000    0.001    0.000    0.001    0.000 {built-in method numpy.core._multiarray_umath.normalize_axis_index}\n",
      "     1000    0.000    0.000    0.000    0.000 {built-in method numpy.zeros}\n",
      "     2000    0.001    0.000    0.005    0.000 {method 'any' of 'numpy.ndarray' objects}\n",
      "     1000    0.000    0.000    0.000    0.000 {method 'append' of 'list' objects}\n",
      "     1000    0.018    0.000    0.018    0.000 {method 'argsort' of 'numpy.ndarray' objects}\n",
      "     5000    0.003    0.000    0.003    0.000 {method 'astype' of 'numpy.ndarray' objects}\n",
      "     5000    0.002    0.000    0.011    0.000 {method 'clip' of 'numpy.ndarray' objects}\n",
      "        1    0.000    0.000    0.000    0.000 {method 'disable' of '_lsprof.Profiler' objects}\n",
      "     1000    0.000    0.000    0.000    0.000 {method 'insert' of 'list' objects}\n",
      "     7000    0.001    0.000    0.001    0.000 {method 'ravel' of 'numpy.ndarray' objects}\n",
      "     3000    0.006    0.000    0.006    0.000 {method 'reduce' of 'numpy.ufunc' objects}\n",
      "     9000    0.003    0.000    0.003    0.000 {method 'reshape' of 'numpy.ndarray' objects}\n",
      "     5000    0.015    0.000    0.015    0.000 {method 'searchsorted' of 'numpy.ndarray' objects}\n",
      "     1000    0.000    0.000    0.003    0.000 {method 'sum' of 'numpy.ndarray' objects}\n",
      "     1000    0.011    0.000    0.011    0.000 {method 'take' of 'numpy.ndarray' objects}\n",
      "     1000    0.000    0.000    0.000    0.000 {method 'transpose' of 'numpy.ndarray' objects}\n",
      "\n",
      "\n"
     ]
    }
   ],
   "source": [
    "cProfile.run('[OLD_bin_integrand((chimin+chimax)/2, (chimin+chimax)/2) for _ in range(1000)]')"
   ]
  },
  {
   "cell_type": "code",
   "execution_count": 13,
   "id": "636cafad",
   "metadata": {
    "scrolled": true
   },
   "outputs": [
    {
     "name": "stdout",
     "output_type": "stream",
     "text": [
      "         124004 function calls in 0.175 seconds\n",
      "\n",
      "   Ordered by: standard name\n",
      "\n",
      "   ncalls  tottime  percall  cumtime  percall filename:lineno(function)\n",
      "     1000    0.066    0.000    0.174    0.000 1352390920.py:1(bin_integrand)\n",
      "     2000    0.012    0.000    0.035    0.000 1612985584.py:1(f_KILo)\n",
      "        1    0.001    0.001    0.175    0.175 <string>:1(<listcomp>)\n",
      "        1    0.000    0.000    0.175    0.175 <string>:1(<module>)\n",
      "     1000    0.000    0.000    0.000    0.000 _base.py:1513(issparse)\n",
      "     1000    0.012    0.000    0.018    0.000 _interpolate.py:690(_call_linear)\n",
      "     1000    0.004    0.000    0.030    0.000 _interpolate.py:759(_evaluate)\n",
      "     1000    0.003    0.000    0.008    0.000 _interpolate.py:774(_check_bounds)\n",
      "     1000    0.000    0.000    0.002    0.000 _methods.py:47(_sum)\n",
      "     2000    0.001    0.000    0.004    0.000 _methods.py:55(_any)\n",
      "     1000    0.002    0.000    0.002    0.000 _methods.py:90(_clip)\n",
      "     1000    0.001    0.000    0.039    0.000 _polyint.py:59(__call__)\n",
      "     1000    0.001    0.000    0.007    0.000 _polyint.py:90(_prepare_x)\n",
      "     1000    0.001    0.000    0.001    0.000 _polyint.py:96(_finish_y)\n",
      "     1000    0.005    0.000    0.012    0.000 _quadrature.py:22(trapezoid)\n",
      "     1000    0.003    0.000    0.006    0.000 _util.py:275(_asarray_validated)\n",
      "     1000    0.000    0.000    0.000    0.000 core.py:6485(isMaskedArray)\n",
      "     1000    0.000    0.000    0.000    0.000 fromnumeric.py:1328(_searchsorted_dispatcher)\n",
      "     1000    0.001    0.000    0.003    0.000 fromnumeric.py:1332(searchsorted)\n",
      "     1000    0.001    0.000    0.002    0.000 fromnumeric.py:53(_wrapfunc)\n",
      "     1000    0.000    0.000    0.000    0.000 function_base.py:1320(_diff_dispatcher)\n",
      "     1000    0.004    0.000    0.004    0.000 function_base.py:1324(diff)\n",
      "     6000    0.001    0.000    0.001    0.000 function_base.py:1457(_interp_dispatcher)\n",
      "     6000    0.006    0.000    0.018    0.000 function_base.py:1461(interp)\n",
      "     2000    0.000    0.000    0.000    0.000 function_base.py:3628(_sinc_dispatcher)\n",
      "     2000    0.015    0.000    0.015    0.000 function_base.py:3632(sinc)\n",
      "     2000    0.000    0.000    0.000    0.000 function_base.py:869(_copy_dispatcher)\n",
      "     2000    0.001    0.000    0.003    0.000 function_base.py:873(copy)\n",
      "     6000    0.001    0.000    0.001    0.000 multiarray.py:346(where)\n",
      "     2000    0.001    0.000    0.001    0.000 numerictypes.py:283(issubclass_)\n",
      "     1000    0.001    0.000    0.002    0.000 numerictypes.py:357(issubdtype)\n",
      "     1000    0.001    0.000    0.001    0.000 stride_tricks.py:416(_broadcast_shape)\n",
      "     1000    0.000    0.000    0.000    0.000 stride_tricks.py:476(_broadcast_arrays_dispatcher)\n",
      "     1000    0.001    0.000    0.005    0.000 stride_tricks.py:480(broadcast_arrays)\n",
      "     1000    0.001    0.000    0.001    0.000 stride_tricks.py:538(<listcomp>)\n",
      "     3000    0.000    0.000    0.000    0.000 stride_tricks.py:542(<genexpr>)\n",
      "     6000    0.001    0.000    0.001    0.000 type_check.py:205(_is_type_dispatcher)\n",
      "     6000    0.002    0.000    0.002    0.000 type_check.py:302(iscomplexobj)\n",
      "     1000    0.001    0.000    0.001    0.000 {built-in method builtins.all}\n",
      "        1    0.000    0.000    0.175    0.175 {built-in method builtins.exec}\n",
      "     1000    0.000    0.000    0.000    0.000 {built-in method builtins.getattr}\n",
      "     2000    0.000    0.000    0.000    0.000 {built-in method builtins.isinstance}\n",
      "     9000    0.001    0.000    0.001    0.000 {built-in method builtins.issubclass}\n",
      "     4000    0.000    0.000    0.000    0.000 {built-in method builtins.len}\n",
      "     4000    0.003    0.000    0.003    0.000 {built-in method numpy.array}\n",
      "     5000    0.000    0.000    0.000    0.000 {built-in method numpy.asanyarray}\n",
      "     8000    0.001    0.000    0.001    0.000 {built-in method numpy.asarray}\n",
      "     6000    0.009    0.000    0.009    0.000 {built-in method numpy.core._multiarray_umath.interp}\n",
      "     1000    0.000    0.000    0.000    0.000 {built-in method numpy.core._multiarray_umath.normalize_axis_index}\n",
      "     2000    0.001    0.000    0.005    0.000 {method 'any' of 'numpy.ndarray' objects}\n",
      "     1000    0.000    0.000    0.000    0.000 {method 'append' of 'list' objects}\n",
      "     1000    0.001    0.000    0.001    0.000 {method 'astype' of 'numpy.ndarray' objects}\n",
      "     1000    0.000    0.000    0.002    0.000 {method 'clip' of 'numpy.ndarray' objects}\n",
      "        1    0.000    0.000    0.000    0.000 {method 'disable' of '_lsprof.Profiler' objects}\n",
      "     1000    0.000    0.000    0.000    0.000 {method 'ravel' of 'numpy.ndarray' objects}\n",
      "     3000    0.005    0.000    0.005    0.000 {method 'reduce' of 'numpy.ufunc' objects}\n",
      "     2000    0.001    0.000    0.001    0.000 {method 'reshape' of 'numpy.ndarray' objects}\n",
      "     1000    0.001    0.000    0.001    0.000 {method 'searchsorted' of 'numpy.ndarray' objects}\n",
      "     1000    0.000    0.000    0.002    0.000 {method 'sum' of 'numpy.ndarray' objects}\n",
      "\n",
      "\n"
     ]
    }
   ],
   "source": [
    "cProfile.run('[bin_integrand((chimin+chimax)/2, (chimin+chimax)/2) for _ in range(1000)]')"
   ]
  },
  {
   "cell_type": "code",
   "execution_count": 14,
   "id": "a0a08318",
   "metadata": {},
   "outputs": [
    {
     "name": "stderr",
     "output_type": "stream",
     "text": [
      "/home/users/delon/.local/lib/python3.9/site-packages/scipy/integrate/_quadpack_py.py:1272: IntegrationWarning: The occurrence of roundoff error is detected, which prevents \n",
      "  the requested tolerance from being achieved.  The error may be \n",
      "  underestimated.\n",
      "  quad_r = quad(f, low, high, args=args, full_output=self.full_output,\n"
     ]
    }
   ],
   "source": [
    "from scipy.integrate import nquad\n",
    "left = chi_bin_edges[curr_bin]\n",
    "right = chi_bin_edges[curr_bin + 1]\n",
    "\n",
    "options={'limit':1000, 'epsabs':0.0, 'epsrel':1e-3}\n",
    "\n",
    "res, _ = nquad(bin_integrand, [[10,chimax_sample],[left, right]],\n",
    "               opts=[options,options])\n",
    "\n",
    "res /= dchi_binned\n",
    "\n",
    "# np.save(oup_fname, res)\n",
    "# print('outputted')"
   ]
  },
  {
   "cell_type": "code",
   "execution_count": 15,
   "id": "376294ec",
   "metadata": {},
   "outputs": [],
   "source": [
    "_oup_fname = '/scratch/users/delon/LIMxCMBL/IHiKappa/'\n",
    "_oup_fname += '%s_IHik_zmin_%.1f_zmax_%.1f_idx_%d_dblquad_n_bins_%d_curr_%d.npy'%(line_str,\n",
    "                                                                                 zmin, \n",
    "                                                                                 zmax, \n",
    "                                                                                 Lambda_idx, \n",
    "                                                                                 nbins, \n",
    "                                                                                 curr_bin)\n",
    "dbl_chk = np.load(_oup_fname)"
   ]
  },
  {
   "cell_type": "code",
   "execution_count": 16,
   "id": "3a4aa98c",
   "metadata": {},
   "outputs": [
    {
     "name": "stdout",
     "output_type": "stream",
     "text": [
      "7.563205921477704e-15\n"
     ]
    }
   ],
   "source": [
    "print(res)"
   ]
  },
  {
   "cell_type": "code",
   "execution_count": 17,
   "id": "93c60489",
   "metadata": {},
   "outputs": [
    {
     "name": "stdout",
     "output_type": "stream",
     "text": [
      "7.570638757706707e-15\n"
     ]
    }
   ],
   "source": [
    "print(dbl_chk[ell_idx])"
   ]
  }
 ],
 "metadata": {
  "kernelspec": {
   "display_name": "cosmology",
   "language": "python",
   "name": "cosmology"
  },
  "language_info": {
   "codemirror_mode": {
    "name": "ipython",
    "version": 3
   },
   "file_extension": ".py",
   "mimetype": "text/x-python",
   "name": "python",
   "nbconvert_exporter": "python",
   "pygments_lexer": "ipython3",
   "version": "3.9.19"
  }
 },
 "nbformat": 4,
 "nbformat_minor": 5
}
