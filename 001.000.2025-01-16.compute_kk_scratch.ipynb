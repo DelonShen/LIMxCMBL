{
 "cells": [
  {
   "cell_type": "code",
   "execution_count": 1,
   "id": "5fb482e4",
   "metadata": {},
   "outputs": [],
   "source": [
    "from LIMxCMBL.init import *"
   ]
  },
  {
   "cell_type": "code",
   "execution_count": 2,
   "id": "e56aaf23",
   "metadata": {},
   "outputs": [],
   "source": [
    "inner_dkparp_integral = np.load('/oak/stanford/orgs/kipac/users/delon/LIMxCMBL/inner_dkparp_integral.npy')"
   ]
  },
  {
   "cell_type": "code",
   "execution_count": 3,
   "id": "e16b904d",
   "metadata": {},
   "outputs": [],
   "source": [
    "from scipy.interpolate import interp1d"
   ]
  },
  {
   "cell_type": "code",
   "execution_count": 4,
   "id": "0ccd32d2",
   "metadata": {},
   "outputs": [],
   "source": [
    "# get CMB lensing kernel as a function\n",
    "_chis = np.linspace(0, chimax, 11234567)\n",
    "_a_s = ccl.scale_factor_of_chi(cosmo, _chis)\n",
    "_z_s = 1/_a_s - 1\n",
    "\n",
    "cmbk = ccl.CMBLensingTracer(cosmo, z_source=1100)\n",
    "Dz = ccl.growth_factor(cosmo, _a_s)\n",
    "Wk = cmbk.get_kernel(_chis)[0]\n",
    "\n",
    "f_WkD = interp1d(_chis, Wk * Dz, \n",
    "                 bounds_error = False,\n",
    "                fill_value='extrapolate')"
   ]
  },
  {
   "cell_type": "code",
   "execution_count": 5,
   "id": "55c57bda",
   "metadata": {},
   "outputs": [],
   "source": [
    "test_chis = np.linspace(0, 1.5*chimax, 1123)"
   ]
  },
  {
   "cell_type": "code",
   "execution_count": 6,
   "id": "e6698e9f",
   "metadata": {},
   "outputs": [
    {
     "data": {
      "text/plain": [
       "array(3.18997148e-05)"
      ]
     },
     "execution_count": 6,
     "metadata": {},
     "output_type": "execute_result"
    }
   ],
   "source": [
    "f_WkD(chimax * 1.2)"
   ]
  },
  {
   "cell_type": "code",
   "execution_count": 7,
   "id": "962edf64",
   "metadata": {},
   "outputs": [
    {
     "data": {
      "text/plain": [
       "[<matplotlib.lines.Line2D at 0x7f1e42739160>]"
      ]
     },
     "execution_count": 7,
     "metadata": {},
     "output_type": "execute_result"
    },
    {
     "data": {
      "image/png": "[encoded data removed]",
      "text/plain": [
       "<Figure size 432x288 with 1 Axes>"
      ]
     },
     "metadata": {
      "needs_background": "light"
     },
     "output_type": "display_data"
    }
   ],
   "source": [
    "plt.plot(_chis, Wk * Dz)\n",
    "\n",
    "plt.plot(test_chis, f_WkD(test_chis), 'r-.')"
   ]
  },
  {
   "cell_type": "code",
   "execution_count": 8,
   "id": "2e0ffc20",
   "metadata": {},
   "outputs": [
    {
     "data": {
      "text/plain": [
       "[<matplotlib.lines.Line2D at 0x7f1e508824f0>]"
      ]
     },
     "execution_count": 8,
     "metadata": {},
     "output_type": "execute_result"
    },
    {
     "data": {
      "image/png": "[encoded data removed]",
      "text/plain": [
       "<Figure size 432x288 with 1 Axes>"
      ]
     },
     "metadata": {
      "needs_background": "light"
     },
     "output_type": "display_data"
    }
   ],
   "source": [
    "plt.plot(_z_s, Wk * Dz)"
   ]
  },
  {
   "cell_type": "code",
   "execution_count": 9,
   "id": "0a1a61f6",
   "metadata": {},
   "outputs": [],
   "source": [
    "chib_idx = 42\n",
    "ell_idx  = 76"
   ]
  },
  {
   "cell_type": "code",
   "execution_count": 10,
   "id": "420088d0",
   "metadata": {},
   "outputs": [],
   "source": [
    "deltas_full = np.concatenate((-deltas[::-1], \n",
    "                              [0], \n",
    "                              deltas))"
   ]
  },
  {
   "cell_type": "code",
   "execution_count": 11,
   "id": "ac66a04f",
   "metadata": {},
   "outputs": [],
   "source": [
    "from tqdm import trange"
   ]
  },
  {
   "cell_type": "code",
   "execution_count": 12,
   "id": "1b140880",
   "metadata": {},
   "outputs": [],
   "source": [
    "from scipy.integrate import quad, quad_vec, trapezoid"
   ]
  },
  {
   "cell_type": "code",
   "execution_count": 13,
   "id": "210dfd4a",
   "metadata": {},
   "outputs": [
    {
     "name": "stderr",
     "output_type": "stream",
     "text": [
      "100%|██████████| 64/64 [00:00<00:00, 2097.86it/s]\n"
     ]
    }
   ],
   "source": [
    "oup = np.zeros(len(chibs), dtype = np.float128)\n",
    "ell  = ells[ell_idx]\n",
    "for chib_idx in trange(len(chibs)):\n",
    "    chib = chibs[chib_idx]\n",
    "    inner_dkarp_integral_full = np.concatenate((inner_dkparp_integral[ell_idx,chib_idx][::-1],\n",
    "                                            [inner_dkparp_integral[ell_idx,chib_idx,0]],\n",
    "                                            inner_dkparp_integral[ell_idx][chib_idx]))\n",
    "    f_integrand = interp1d(x = deltas_full, \n",
    "                       y = f_WkD(chib*(1-deltas_full)) * \n",
    "                           f_WkD(chib*(1+deltas_full)) / chib**2  * 2 * chib \n",
    "                           * inner_dkarp_integral_full)\n",
    "    oup[chib_idx] = trapezoid(y = f_WkD(chib*(1-deltas_full)) * f_WkD(chib*(1+deltas_full)) / chib**2  * 2 * chib * inner_dkarp_integral_full,\n",
    "                              x = deltas_full)"
   ]
  },
  {
   "cell_type": "code",
   "execution_count": 14,
   "id": "a497ed83",
   "metadata": {},
   "outputs": [],
   "source": [
    "f_dchib_integrand = interp1d(chibs, oup)"
   ]
  },
  {
   "cell_type": "code",
   "execution_count": 18,
   "id": "9ebf93ab",
   "metadata": {},
   "outputs": [
    {
     "data": {
      "text/plain": [
       "[<matplotlib.lines.Line2D at 0x7f1e4ff5bc10>]"
      ]
     },
     "execution_count": 18,
     "metadata": {},
     "output_type": "execute_result"
    },
    {
     "data": {
      "image/png": "[encoded data removed]",
      "text/plain": [
       "<Figure size 432x288 with 1 Axes>"
      ]
     },
     "metadata": {
      "needs_background": "light"
     },
     "output_type": "display_data"
    }
   ],
   "source": [
    "plt.plot(chibs, oup)"
   ]
  },
  {
   "cell_type": "code",
   "execution_count": 15,
   "id": "18b76b76",
   "metadata": {},
   "outputs": [
    {
     "data": {
      "text/plain": [
       "(6.066313041873672e-09, 1.7599602265904432e-13)"
      ]
     },
     "execution_count": 15,
     "metadata": {},
     "output_type": "execute_result"
    }
   ],
   "source": [
    "quad(f_dchib_integrand, min(chibs), max(chibs),\n",
    "    epsabs = 0.0, epsrel = 1e-4)"
   ]
  },
  {
   "cell_type": "code",
   "execution_count": 16,
   "id": "988011a2",
   "metadata": {},
   "outputs": [],
   "source": [
    "from LIMxCMBL.cross_spectrum import d_delta_integral"
   ]
  },
  {
   "cell_type": "code",
   "execution_count": 17,
   "id": "6a49c011",
   "metadata": {},
   "outputs": [],
   "source": [
    "_oup = d_delta_integral(f_WkD, f_WkD)"
   ]
  },
  {
   "cell_type": "code",
   "execution_count": 20,
   "id": "90054f8c",
   "metadata": {},
   "outputs": [
    {
     "data": {
      "text/plain": [
       "[<matplotlib.lines.Line2D at 0x7f1e4f1c5910>]"
      ]
     },
     "execution_count": 20,
     "metadata": {},
     "output_type": "execute_result"
    },
    {
     "data": {
      "image/png": "[encoded data removed]",
      "text/plain": [
       "<Figure size 432x288 with 1 Axes>"
      ]
     },
     "metadata": {
      "needs_background": "light"
     },
     "output_type": "display_data"
    }
   ],
   "source": [
    "plt.plot(chibs, _oup[ell_idx], 'k')\n",
    "plt.plot(chibs, oup, 'r-.')"
   ]
  },
  {
   "cell_type": "code",
   "execution_count": 28,
   "id": "92abfb4e",
   "metadata": {},
   "outputs": [],
   "source": [
    "f_dchib_integral = interp1d(x = chibs, y = _oup)\n",
    "asdf, _ = quad_vec(f_dchib_integral, min(chibs), max(chibs),\n",
    "               epsabs = 0.0, epsrel = 1e-4)"
   ]
  },
  {
   "cell_type": "code",
   "execution_count": 30,
   "id": "61616007",
   "metadata": {},
   "outputs": [
    {
     "data": {
      "text/plain": [
       "[]"
      ]
     },
     "execution_count": 30,
     "metadata": {},
     "output_type": "execute_result"
    },
    {
     "data": {
      "image/png": "[encoded data removed]",
      "text/plain": [
       "<Figure size 432x288 with 1 Axes>"
      ]
     },
     "metadata": {
      "needs_background": "light"
     },
     "output_type": "display_data"
    }
   ],
   "source": [
    "plt.plot(ells, asdf)\n",
    "plt.loglog()"
   ]
  },
  {
   "cell_type": "code",
   "execution_count": null,
   "id": "dc8f3b21",
   "metadata": {},
   "outputs": [],
   "source": []
  },
  {
   "cell_type": "code",
   "execution_count": null,
   "id": "1e288ca4",
   "metadata": {},
   "outputs": [],
   "source": []
  }
 ],
 "metadata": {
  "kernelspec": {
   "display_name": "cosmology",
   "language": "python",
   "name": "cosmology"
  },
  "language_info": {
   "codemirror_mode": {
    "name": "ipython",
    "version": 3
   },
   "file_extension": ".py",
   "mimetype": "text/x-python",
   "name": "python",
   "nbconvert_exporter": "python",
   "pygments_lexer": "ipython3",
   "version": "3.9.19"
  }
 },
 "nbformat": 4,
 "nbformat_minor": 5
}
