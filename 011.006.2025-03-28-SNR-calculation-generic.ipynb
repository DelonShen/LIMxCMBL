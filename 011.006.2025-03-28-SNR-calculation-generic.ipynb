{
 "cells": [
  {
   "cell_type": "code",
   "execution_count": 1,
   "id": "b13b300f",
   "metadata": {
    "scrolled": true
   },
   "outputs": [],
   "source": [
    "from LIMxCMBL.init import *\n",
    "from scipy.integrate import simpson, trapezoid\n",
    "from tqdm import tqdm, trange"
   ]
  },
  {
   "cell_type": "code",
   "execution_count": 2,
   "id": "0aeced60",
   "metadata": {},
   "outputs": [],
   "source": [
    "experiment = 'CHIME'"
   ]
  },
  {
   "cell_type": "code",
   "execution_count": 3,
   "id": "5412b9e2",
   "metadata": {},
   "outputs": [],
   "source": [
    "from LIMxCMBL.experiments import *"
   ]
  },
  {
   "cell_type": "code",
   "execution_count": 4,
   "id": "fce2b295",
   "metadata": {},
   "outputs": [],
   "source": [
    "zmin = experiments[experiment]['zmin']\n",
    "zmax = experiments[experiment]['zmax']\n",
    "line_str = experiments[experiment]['line_str']\n",
    "\n",
    "Omega_field  =  experiments[experiment]['Omega_field'] #rad^2\n",
    "chimin = ccl.comoving_angular_distance(cosmo, 1/(1+zmin))\n",
    "chimax = ccl.comoving_angular_distance(cosmo, 1/(1+zmax))\n",
    "\n",
    "kpar_fundamental = 2*np.pi/(chimax - chimin)"
   ]
  },
  {
   "cell_type": "code",
   "execution_count": 5,
   "id": "56c5f7ab",
   "metadata": {},
   "outputs": [],
   "source": [
    "ell_fundamental = np.sqrt((2*np.pi)**2 / Omega_field.to(u.rad**2))\n",
    "ell_fundamental = max(np.array(ell_fundamental), 10)"
   ]
  },
  {
   "cell_type": "code",
   "execution_count": 6,
   "id": "e963105a",
   "metadata": {},
   "outputs": [
    {
     "data": {
      "text/plain": [
       "10"
      ]
     },
     "execution_count": 6,
     "metadata": {},
     "output_type": "execute_result"
    }
   ],
   "source": [
    "ell_fundamental"
   ]
  },
  {
   "cell_type": "code",
   "execution_count": 7,
   "id": "088dc8ae",
   "metadata": {},
   "outputs": [],
   "source": [
    "#I think its pi^2/Omega_pix not (2pi)^2/Omega_pix based on np.fft.rfftfreq output\n",
    "ell_max_survey = np.sqrt((np.pi)**2 / experiments[experiment]['Omega_pix'].to(u.rad**2))\n",
    "ell_max_survey = np.array(ell_max_survey)"
   ]
  },
  {
   "cell_type": "code",
   "execution_count": 8,
   "id": "778afa57",
   "metadata": {},
   "outputs": [
    {
     "data": {
      "text/plain": [
       "array(270.)"
      ]
     },
     "execution_count": 8,
     "metadata": {},
     "output_type": "execute_result"
    }
   ],
   "source": [
    "ell_max_survey"
   ]
  },
  {
   "cell_type": "code",
   "execution_count": 9,
   "id": "ee26942c",
   "metadata": {},
   "outputs": [],
   "source": [
    "_, Pei = experiments[experiment]['f_Pei']()\n",
    "Pei = np.max(Pei).to(u.Mpc**3  * (u.kJy/u.sr)**2)\n",
    "Pei = Pei.value # kJy2 Mpc3 / sr2"
   ]
  },
  {
   "cell_type": "code",
   "execution_count": 10,
   "id": "11a07e58",
   "metadata": {},
   "outputs": [],
   "source": [
    "Omega_field = np.array(Omega_field)"
   ]
  },
  {
   "cell_type": "code",
   "execution_count": 11,
   "id": "b8c134f8",
   "metadata": {},
   "outputs": [
    {
     "name": "stdout",
     "output_type": "stream",
     "text": [
      "CHIME\n",
      "zmin: 1.0\n",
      "zmax: 1.3\n",
      "Sky coverate[deg2]: 31000.0\n",
      "White noise[kJy2 Mpc3 / sr2]: 0.8\n",
      "ell sensitivity: 10.0 to 270.0\n"
     ]
    }
   ],
   "source": [
    "print(experiment)\n",
    "print('zmin:',zmin)\n",
    "print('zmax:',zmax)\n",
    "print('Sky coverate[deg2]: %.1f'%(Omega_field/((np.pi/180)**2)))\n",
    "print('White noise[kJy2 Mpc3 / sr2]: %.1f'%Pei)\n",
    "print('ell sensitivity: %.1f to %.1f'%(ell_fundamental, ell_max_survey))"
   ]
  },
  {
   "cell_type": "code",
   "execution_count": 12,
   "id": "c619ae3d",
   "metadata": {},
   "outputs": [],
   "source": [
    "n_bins = 100\n",
    "chi_bin_edges = np.linspace(chimin*(1+1e-8), chimax*(1 - 1e-8), n_bins + 1)\n",
    "chi_bin_centers = (chi_bin_edges[1:] + chi_bin_edges[:-1])/2\n",
    "dchi_binned = np.mean(np.diff(chi_bin_edges))"
   ]
  },
  {
   "cell_type": "code",
   "execution_count": 13,
   "id": "c589f530",
   "metadata": {},
   "outputs": [],
   "source": [
    "import matplotlib.pyplot as plt"
   ]
  },
  {
   "cell_type": "code",
   "execution_count": 14,
   "id": "13dd2616",
   "metadata": {},
   "outputs": [
    {
     "data": {
      "text/plain": [
       "<matplotlib.image.AxesImage at 0x7f28f820a970>"
      ]
     },
     "execution_count": 14,
     "metadata": {},
     "output_type": "execute_result"
    },
    {
     "data": {
      "image/png": "[encoded data removed]",
      "text/plain": [
       "<Figure size 432x288 with 1 Axes>"
      ]
     },
     "metadata": {
      "needs_background": "light"
     },
     "output_type": "display_data"
    }
   ],
   "source": [
    "I_kappa_fname = '/scratch/users/delon/LIMxCMBL/IHiKappa/Ik_'\n",
    "I_kappa_fname +='zmin_%.5f_zmax_%.5f_quad_next_%d.npy'%(zmin, \n",
    "                                                        zmax, \n",
    "                                                        1000)\n",
    "\n",
    "I_kappa_unbinned = np.load(I_kappa_fname)\n",
    "\n",
    "I_kappa = np.zeros((len(ells), n_bins))\n",
    "external_chis = np.linspace(chimin*(1+1e-8), chimax*(1 - 1e-8), 1000)\n",
    "for i, (l1, r1) in enumerate(zip(chi_bin_edges, chi_bin_edges[1:])):\n",
    "            idx1 = np.where((external_chis > l1) & (external_chis <= r1))[0]\n",
    "            I_kappa[:,i] = (np.sum(I_kappa_unbinned[:,idx1[0]:idx1[-1]+1,], \n",
    "                                 axis=(1)) / len(idx1))\n",
    "            \n",
    "plt.imshow(I_kappa)"
   ]
  },
  {
   "cell_type": "code",
   "execution_count": 15,
   "id": "dad33a84",
   "metadata": {},
   "outputs": [],
   "source": [
    "def get_binned(base, n_external = 300):\n",
    "    external_chis = np.linspace(chimin*(1+1e-8), chimax*(1 - 1e-8), n_external)\n",
    "    \n",
    "    oup = np.zeros((100, n_bins, n_bins), dtype=np.float64)\n",
    "    for i, (l1, r1) in enumerate(zip(chi_bin_edges, chi_bin_edges[1:])):\n",
    "        for j, (l2, r2) in enumerate(zip(chi_bin_edges, chi_bin_edges[1:])):\n",
    "            idx1 = np.where((external_chis > l1) & (external_chis <= r1))[0]\n",
    "            idx2 = np.where((external_chis > l2) & (external_chis <= r2))[0]\n",
    "            oup[:,i,j] = (np.sum(base[:,\n",
    "                                      idx1[0]:idx1[-1]+1,\n",
    "                                      idx2[0]:idx2[-1]+1], \n",
    "                                 axis=(1, 2)) / len(idx1) / len(idx2))\n",
    "    return oup"
   ]
  },
  {
   "cell_type": "code",
   "execution_count": 16,
   "id": "a00ed6dc",
   "metadata": {},
   "outputs": [
    {
     "data": {
      "image/png": "[encoded data removed]",
      "text/plain": [
       "<Figure size 432x288 with 1 Axes>"
      ]
     },
     "metadata": {
      "needs_background": "light"
     },
     "output_type": "display_data"
    },
    {
     "data": {
      "text/plain": [
       "<matplotlib.image.AxesImage at 0x7f28f8095610>"
      ]
     },
     "execution_count": 16,
     "metadata": {},
     "output_type": "execute_result"
    },
    {
     "data": {
      "image/png": "[encoded data removed]",
      "text/plain": [
       "<Figure size 432x288 with 1 Axes>"
      ]
     },
     "metadata": {
      "needs_background": "light"
     },
     "output_type": "display_data"
    }
   ],
   "source": [
    "#get <II>\n",
    "\n",
    "I_I_unbinned = np.load('/scratch/users/delon/LIMxCMBL/I_auto/'+\n",
    "                          'I_auto_n_ext_%d_zmin_%.1f_zmax_%.1f.npy'%(3000, \n",
    "                                                                     zmin, \n",
    "                                                                     zmax))\n",
    "\n",
    "plt.imshow(I_I_unbinned[0])\n",
    "plt.show()\n",
    "I_I = get_binned(I_I_unbinned, n_external = 3000)\n",
    "plt.imshow(I_I[0])"
   ]
  },
  {
   "cell_type": "code",
   "execution_count": 17,
   "id": "933636ea",
   "metadata": {},
   "outputs": [
    {
     "data": {
      "text/plain": [
       "[]"
      ]
     },
     "execution_count": 17,
     "metadata": {},
     "output_type": "execute_result"
    },
    {
     "data": {
      "image/png": "[encoded data removed]",
      "text/plain": [
       "<Figure size 432x288 with 1 Axes>"
      ]
     },
     "metadata": {
      "needs_background": "light"
     },
     "output_type": "display_data"
    }
   ],
   "source": [
    "# get CMB lensing component\n",
    "from LIMxCMBL.kernels import get_f_Kkappa\n",
    "f_WkD = get_f_Kkappa()\n",
    "\n",
    "from LIMxCMBL.cross_spectrum import *\n",
    "ClKK = d_chib_integral(f_WkD, f_WkD) # dimensionless\n",
    "\n",
    "\n",
    "# beam=1.4, noise=7\n",
    "from scipy.interpolate import interp1d\n",
    "N0_ells = np.logspace(1, np.log10(5000), 500)\n",
    "with open('LIMxCMBL/N0.npy', 'rb') as f:\n",
    "    N0 = np.load(f)\n",
    "    \n",
    "f_N0 = interp1d(x = N0_ells, y = N0)\n",
    "\n",
    "    \n",
    "plt.plot(ells, f_N0(ells), c='lightgrey', label=r'$N^{(0)}$')\n",
    "plt.plot(ells, ClKK, c='k', label=r'$\\langle \\kappa\\kappa\\rangle$')\n",
    "plt.legend(frameon=False)\n",
    "plt.loglog()"
   ]
  },
  {
   "cell_type": "code",
   "execution_count": 18,
   "id": "2be53746",
   "metadata": {},
   "outputs": [],
   "source": [
    "SNR2_per_mode_full = {}\n",
    "SNR2_per_mode_noise_dom = {}"
   ]
  },
  {
   "cell_type": "markdown",
   "id": "d3500bfb",
   "metadata": {},
   "source": [
    "# full cov no filtering SNR per mode"
   ]
  },
  {
   "cell_type": "code",
   "execution_count": 19,
   "id": "035f81c6",
   "metadata": {},
   "outputs": [],
   "source": [
    "from LIMxCMBL.noise import f_eIeI\n",
    "cov  = np.einsum('l  , xy->lxy', (ClKK + f_N0(ells)),  Pei * np.diag(f_eIeI(chi=chi_bin_centers, dchi=dchi_binned, Lambda=0)))\n",
    "cov += np.einsum('l  ,lxy->lxy', (ClKK + f_N0(ells)),  I_I)\n",
    "cov += np.einsum('lx ,l y->lxy', I_kappa, I_kappa)\n",
    "cov = cov.astype(np.float64)\n",
    "\n",
    "SNR2_per_mode_full[0.0] = np.zeros_like(ells)\n",
    "for ell_idx in range(len(ells)):\n",
    "    L = np.linalg.cholesky(cov[ell_idx])\n",
    "    y = np.linalg.solve(L, I_kappa[ell_idx])\n",
    "    x = np.linalg.solve(L.T, y)\n",
    "    SNR2_per_mode_full[0.0][ell_idx] = np.dot(I_kappa[ell_idx], x)"
   ]
  },
  {
   "cell_type": "markdown",
   "id": "061b18f6",
   "metadata": {},
   "source": [
    "# noise dom no filtering SNR per mode"
   ]
  },
  {
   "cell_type": "code",
   "execution_count": 20,
   "id": "3e842c9a",
   "metadata": {},
   "outputs": [],
   "source": [
    "from LIMxCMBL.noise import f_eIeI\n",
    "cov  = np.einsum('l  , xy->lxy', (ClKK + f_N0(ells)),  Pei * np.diag(f_eIeI(chi=chi_bin_centers, dchi=dchi_binned, Lambda=0)))\n",
    "cov = cov.astype(np.float64)\n",
    "\n",
    "SNR2_per_mode_noise_dom[0.0] = np.zeros_like(ells)\n",
    "for ell_idx in range(len(ells)):\n",
    "    L = np.linalg.cholesky(cov[ell_idx])\n",
    "    y = np.linalg.solve(L, I_kappa[ell_idx])\n",
    "    x = np.linalg.solve(L.T, y)\n",
    "    SNR2_per_mode_noise_dom[0.0][ell_idx] = np.dot(I_kappa[ell_idx], x)"
   ]
  },
  {
   "cell_type": "markdown",
   "id": "51ec2bfa",
   "metadata": {},
   "source": [
    "# SNR per mode with filtering"
   ]
  },
  {
   "cell_type": "code",
   "execution_count": 21,
   "id": "88752a60",
   "metadata": {},
   "outputs": [
    {
     "name": "stdout",
     "output_type": "stream",
     "text": [
      "19\n",
      "20\n",
      "21\n",
      "22\n",
      "23\n",
      "24\n"
     ]
    }
   ],
   "source": [
    "burn = 0\n",
    "for Lambda_idx in range(25):\n",
    "    Lambda = Lambdas[Lambda_idx]\n",
    "    if(Lambda < 2 * np.pi/(chimax-chimin)):\n",
    "        continue\n",
    "    if(burn == 0): #Lambda ~ fundamental is sketchy\n",
    "        burn += 1\n",
    "        continue\n",
    "    print(Lambda_idx)\n",
    "    #IHi_kappa##########################################\n",
    "    IHi_kappa = np.zeros((100, n_bins))\n",
    "\n",
    "    for curr_bin in range(n_bins):\n",
    "        oup_fname = '/scratch/users/delon/LIMxCMBL/IHiKappa/'\n",
    "        oup_fname += '%s_IHik_zmin_%.1f_zmax_%.1f_idx_%d_dblquad_n_bins_%d_curr_%d.npy'%(line_str,\n",
    "                                                                                         zmin, \n",
    "                                                                                         zmax, \n",
    "                                                                                         Lambda_idx, \n",
    "                                                                                         n_bins, \n",
    "                                                                                         curr_bin)\n",
    "        IHi_kappa[:,curr_bin] = np.load(oup_fname)\n",
    "\n",
    "\n",
    "    ####################################################\n",
    "    #IHi_IHi############################################\n",
    "    IHiIHi_oup_fname = '/oak/stanford/orgs/kipac/users/delon/LIMxCMBL/LIM_auto/'\n",
    "    IHiIHi_oup_fname += '%s_zmin_%.1f_zmax_%.1f_Lambda_idx_%d_n_b_%d_jax_qmc.npy'%(line_str,\n",
    "                                                                                   zmin, zmax, \n",
    "                                                                                   Lambda_idx, \n",
    "                                                                                   n_bins)\n",
    "    \n",
    "    IHiIHi = np.load(IHiIHi_oup_fname)\n",
    "\n",
    "    for ell_idx in range(len(ells)):\n",
    "        #Cheng and Higham, 1998\n",
    "        eigenvalues, eigenvectors = np.linalg.eig(IHiIHi[ell_idx])\n",
    "        patched_eigenvalues = np.where(eigenvalues <0, 0.0, eigenvalues)\n",
    "        IHiIHi[ell_idx] = eigenvectors @ np.diag(patched_eigenvalues) @ eigenvectors.T\n",
    "\n",
    "    ####################################################\n",
    "    #eHI eHI############################################\n",
    "    eComb_fname = '/scratch/users/delon/LIMxCMBL/eHIeHI/mpmath_comb_'\n",
    "    eComb_fname +='zmin_%.5f_zmax_%.5f_Lambda_idx_%.d_from_quad_nbins_%d.npy'%(zmin, \n",
    "                                                                               zmax, \n",
    "                                                                               Lambda_idx, \n",
    "                                                                               n_bins)\n",
    "    eComb = np.load(eComb_fname)\n",
    "    eHIeHI_binned = eComb\n",
    "    ####################################################\n",
    "    #full cov###########################################\n",
    "    #l -> ells\n",
    "    #x -> chi\n",
    "    #y -> chi'\n",
    "    cov  = np.einsum('l  , xy->lxy', (ClKK + f_N0(ells)),  Pei * eHIeHI_binned)\n",
    "    cov += np.einsum('l  ,lxy->lxy', (ClKK + f_N0(ells)),  IHiIHi)\n",
    "    cov += np.einsum('lx ,l y->lxy', IHi_kappa, IHi_kappa)\n",
    "    cov = cov.astype(np.float64)\n",
    "\n",
    "    SNR2_per_mode_full[Lambda] = np.zeros_like(ells)\n",
    "    for ell_idx in range(len(ells)):\n",
    "        L = np.linalg.cholesky(cov[ell_idx])\n",
    "        y = np.linalg.solve(L, IHi_kappa[ell_idx])\n",
    "        x = np.linalg.solve(L.T, y)\n",
    "        SNR2_per_mode_full[Lambda][ell_idx] = np.dot(IHi_kappa[ell_idx], x)\n",
    "    ####################################################\n",
    "    #noise-dom cov######################################\n",
    "    cov  = np.einsum('l  , xy->lxy', (ClKK + f_N0(ells)),  Pei * eHIeHI_binned)\n",
    "    cov = cov.astype(np.float64)\n",
    "    SNR2_per_mode_noise_dom[Lambda] = np.zeros_like(ells)\n",
    "    for ell_idx in range(len(ells)):\n",
    "        L = np.linalg.cholesky(cov[ell_idx])\n",
    "        y = np.linalg.solve(L, IHi_kappa[ell_idx])\n",
    "        x = np.linalg.solve(L.T, y)\n",
    "        SNR2_per_mode_noise_dom[Lambda][ell_idx] = np.dot(IHi_kappa[ell_idx], x)\n",
    "    ####################################################\n",
    "    ####################################################"
   ]
  },
  {
   "cell_type": "code",
   "execution_count": 22,
   "id": "bb9fb8c3",
   "metadata": {},
   "outputs": [],
   "source": [
    "_Lambdas = np.array(sorted(list(SNR2_per_mode_full.keys())))"
   ]
  },
  {
   "cell_type": "code",
   "execution_count": 23,
   "id": "b0794822",
   "metadata": {},
   "outputs": [],
   "source": [
    "rainbow_colors = plt.cm.rainbow(np.linspace(0, 1, len(SNR2_per_mode_full)))\n",
    "plt.rcParams['axes.prop_cycle'] = plt.cycler(color=rainbow_colors[::-1])"
   ]
  },
  {
   "cell_type": "code",
   "execution_count": 24,
   "id": "9e87140c",
   "metadata": {},
   "outputs": [
    {
     "data": {
      "text/plain": [
       "<matplotlib.legend.Legend at 0x7f27a0623e50>"
      ]
     },
     "execution_count": 24,
     "metadata": {},
     "output_type": "execute_result"
    },
    {
     "data": {
      "image/png": "[encoded data removed]",
      "text/plain": [
       "<Figure size 432x288 with 1 Axes>"
      ]
     },
     "metadata": {},
     "output_type": "display_data"
    }
   ],
   "source": [
    "plt.figure(facecolor = 'w')\n",
    "\n",
    "for Lambda_idx, Lambda in enumerate(_Lambdas):\n",
    "    label = None\n",
    "    if(Lambda == 0.0 or Lambda == 1e-1):\n",
    "        label = r'$\\Lambda=$%.1e'%(Lambda)\n",
    "    plt.plot(ells, ells**2 * SNR2_per_mode_full[Lambda], \n",
    "             label=label, lw = 1, c=rainbow_colors[Lambda_idx])\n",
    "    plt.axvline(ell_fundamental, c='r')\n",
    "    plt.axvline(ell_max_survey, c='b')\n",
    "\n",
    "#     plt.plot(ells, ells**2 * SNR2_per_mode_noise_dom[Lambda], \n",
    "#              lw = 1, ls='--', c=rainbow_colors[Lambda_idx])\n",
    "\n",
    "plt.xscale('log')\n",
    "plt.xlabel('ells')\n",
    "plt.title('solid: full cov')#\\ndashed: noise dominated')\n",
    "plt.ylabel(r'$\\ell^2\\times$(snr2 per mode)')\n",
    "plt.xlim(min(ells), max(ells))\n",
    "plt.legend(frameon=False)"
   ]
  },
  {
   "cell_type": "code",
   "execution_count": 25,
   "id": "bef12a59",
   "metadata": {},
   "outputs": [],
   "source": [
    "SNR2_per_Omega_full      = np.zeros(len(_Lambdas))\n",
    "SNR2_per_Omega_noise_dom = np.zeros(len(_Lambdas))\n",
    "SNR2_per_Omega_fullsky   = np.zeros(len(_Lambdas))\n",
    "\n",
    "_idxs = np.where((ells >= ell_fundamental) & (ells <= ell_max_survey))\n",
    "for Lambda_idx,Lambda in enumerate(_Lambdas):\n",
    "    SNR2_per_Omega_noise_dom[Lambda_idx] = trapezoid(x = np.log(ells)[_idxs], \n",
    "                                                     y = SNR2_per_mode_noise_dom[Lambda][_idxs] \n",
    "                                                     * ells[_idxs] ** 2 \n",
    "                                                     / 2 / np.pi)\n",
    "    \n",
    "    SNR2_per_Omega_full[Lambda_idx] = trapezoid(x = np.log(ells)[_idxs], \n",
    "                                                y = SNR2_per_mode_full[Lambda][_idxs] \n",
    "                                                * ells[_idxs] ** 2 \n",
    "                                                / 2 / np.pi)\n",
    "    SNR2_per_Omega_fullsky[Lambda_idx] = trapezoid(x = np.log(ells), \n",
    "                                                y = SNR2_per_mode_full[Lambda] \n",
    "                                                * ells ** 2 \n",
    "                                                / 2 / np.pi)\n"
   ]
  },
  {
   "cell_type": "code",
   "execution_count": 26,
   "id": "b9dde65f",
   "metadata": {},
   "outputs": [
    {
     "data": {
      "text/plain": [
       "array(9.44314001)"
      ]
     },
     "execution_count": 26,
     "metadata": {},
     "output_type": "execute_result"
    }
   ],
   "source": [
    "Omega_field"
   ]
  },
  {
   "cell_type": "code",
   "execution_count": 27,
   "id": "2a637b11",
   "metadata": {},
   "outputs": [
    {
     "data": {
      "image/png": "[encoded data removed]",
      "text/plain": [
       "<Figure size 432x288 with 1 Axes>"
      ]
     },
     "metadata": {
      "needs_background": "light"
     },
     "output_type": "display_data"
    }
   ],
   "source": [
    "plt.plot()\n",
    "plt.rcParams.update({\n",
    "    \"text.usetex\": True,\n",
    "    \"font.size\": \"11\",\n",
    "    \"font.family\" : \"serif\",\n",
    "    'figure.constrained_layout.use':True,\n",
    "    'xtick.direction': 'in',\n",
    "    'ytick.direction': 'in'\n",
    "})"
   ]
  },
  {
   "cell_type": "code",
   "execution_count": 28,
   "id": "843da37a",
   "metadata": {
    "scrolled": false
   },
   "outputs": [
    {
     "data": {
      "image/png": "[encoded data removed]",
      "text/plain": [
       "<Figure size 216x216 with 1 Axes>"
      ]
     },
     "metadata": {},
     "output_type": "display_data"
    }
   ],
   "source": [
    "plt.figure(figsize = (3,3), facecolor = 'w')\n",
    "\n",
    "\n",
    "plt.plot(_Lambdas[1:], np.sqrt(SNR2_per_Omega_noise_dom * Omega_field)[1:], \n",
    "         c='r',\n",
    "#             marker='+',s=50,\n",
    "        label='Noise Dom.')\n",
    "\n",
    "plt.plot(_Lambdas[1:], np.sqrt(SNR2_per_Omega_full * Omega_field)[1:], \n",
    "         c='k',\n",
    "#             marker='x', s=50,\n",
    "        label='Full Covariance')\n",
    "\n",
    "# plt.plot(_Lambdas[1:], np.sqrt(SNR2_per_Omega_fullsky * 4*np.pi)[1:], \n",
    "#          c='lightgrey',\n",
    "# #             marker='x', s=50,\n",
    "#         label='Full Sky')\n",
    "\n",
    "\n",
    "\n",
    "plt.plot([kpar_fundamental, _Lambdas[1]], np.sqrt(SNR2_per_Omega_full * Omega_field)[:2], \n",
    "         c='k', ls='--',)\n",
    "\n",
    "plt.plot([kpar_fundamental, _Lambdas[1]], np.sqrt(SNR2_per_Omega_noise_dom * Omega_field)[:2], \n",
    "         c='r', ls='--',)\n",
    "\n",
    "# plt.plot([kpar_fundamental, _Lambdas[1]], np.sqrt(SNR2_per_Omega_fullsky * 4*np.pi)[:2], \n",
    "#          c='lightgrey', ls='--',)\n",
    "\n",
    "\n",
    "unfiltered_SNR_noisedom = np.sqrt(SNR2_per_Omega_noise_dom[0] * Omega_field)\n",
    "unfiltered_SNR_full = np.sqrt(SNR2_per_Omega_full[0] * Omega_field)\n",
    "plt.plot([0, kpar_fundamental], [unfiltered_SNR_full, unfiltered_SNR_full],\n",
    "         c='k',)\n",
    "\n",
    "plt.plot([0, kpar_fundamental], [unfiltered_SNR_noisedom, unfiltered_SNR_noisedom],\n",
    "         c='r',)\n",
    "\n",
    "\n",
    "\n",
    "plt.xscale('log')\n",
    "plt.fill_between([0, kpar_fundamental], [0,0], [10000, 10000],\n",
    "                color = 'lightgrey', )\n",
    "\n",
    "bnd_center = np.sqrt(1/2*kpar_fundamental**2)\n",
    "hcenter = (unfiltered_SNR_noisedom * 1.1)/2\n",
    "plt.text(bnd_center, hcenter,\n",
    "        r'$$ \\hspace{1em}\\Lambda < \\textsf{Fundamental}$$', \n",
    "        ha='center',\n",
    "        va='center',\n",
    "        rotation='vertical',)\n",
    "\n",
    "\n",
    "plt.ylim(0, unfiltered_SNR_noisedom * 1.1)\n",
    "\n",
    "plt.xlim(kpar_fundamental/2, 1e-1)\n",
    "\n",
    "\n",
    "plt.xlabel(r'$\\Lambda$ [1/Mpc]')\n",
    "plt.ylabel(r'$\\textsf{SNR}$')\n",
    "\n",
    "plt_title = r'\\textsf{%s}'%(experiment)\n",
    "    \n",
    "plt.title(plt_title)\n",
    "plt.legend(frameon=False, loc='lower right')\n",
    "\n",
    "fig_fname = 'figures/011.006.%s.pdf'%(experiment)\n",
    "plt.savefig(fig_fname)"
   ]
  },
  {
   "cell_type": "code",
   "execution_count": 29,
   "id": "0d44afa0",
   "metadata": {},
   "outputs": [],
   "source": [
    "SNR_detect = 10\n",
    "noise_dom_y = np.zeros(len(_Lambdas))\n",
    "full_y = np.zeros(len(_Lambdas))\n",
    "\n",
    "for i,Lambda in enumerate(_Lambdas):\n",
    "    \n",
    "    def SNR2_for_Omega_sky(Omega_sky, full=True):\n",
    "        #assume Omega_sky in rad^2\n",
    "        _ell_fundamental = np.sqrt((2*np.pi)**2 / Omega_sky)\n",
    "        _ell_fundamental = max(np.array(ell_fundamental), 10)\n",
    "        _idxs = np.where((ells >= _ell_fundamental) & (ells <= ell_max_survey))\n",
    "        \n",
    "        if(full):\n",
    "            return trapezoid(x = np.log(ells)[_idxs], \n",
    "                         y = SNR2_per_mode_full[Lambda][_idxs] \n",
    "                         * ells[_idxs] ** 2 \n",
    "                         / 2 / np.pi) * Omega_sky\n",
    "        \n",
    "        return trapezoid(x = np.log(ells)[_idxs], \n",
    "                         y = SNR2_per_mode_noise_dom[Lambda][_idxs] \n",
    "                         * ells[_idxs] ** 2 \n",
    "                         / 2 / np.pi) * Omega_sky\n",
    "    \n",
    "    def find(full):\n",
    "        Omega_min = 1e-20\n",
    "        Omega_max = 4 * np.pi * 100 #not physical to go beyond full sky but for binary search    \n",
    "\n",
    "        tolerance = 1e-6\n",
    "        max_iterations = 100\n",
    "        target_SNR2 = SNR_detect**2\n",
    "        for iteration in range(max_iterations):\n",
    "            Omega_mid = (Omega_min + Omega_max) / 2\n",
    "            SNR2_mid = SNR2_for_Omega_sky(Omega_mid, full=full)\n",
    "            if abs((SNR2_mid - target_SNR2)/target_SNR2) < tolerance:\n",
    "                Omega_sky_solution = Omega_mid\n",
    "                break\n",
    "\n",
    "            if SNR2_mid < target_SNR2:\n",
    "                Omega_min = Omega_mid\n",
    "            else:\n",
    "                Omega_max = Omega_mid\n",
    "        else:\n",
    "            print('couldnt converge')\n",
    "            assert(1==0)\n",
    "        return Omega_mid\n",
    "    \n",
    "    noise_dom_y[i] = find(full=False)#/(4*np.pi)\n",
    "    noise_dom_y[i] *= (180/np.pi)**2 #deg2\n",
    "    \n",
    "    full_y[i] = find(full=True)#/(4*np.pi)\n",
    "    full_y[i] *= (180/np.pi)**2 #deg2\n"
   ]
  },
  {
   "cell_type": "code",
   "execution_count": 30,
   "id": "d7b520d6",
   "metadata": {},
   "outputs": [],
   "source": [
    "fid = Omega_field * (180/np.pi)**2\n",
    "full_sky_deg2 = 4*np.pi * (180/np.pi)**2"
   ]
  },
  {
   "cell_type": "code",
   "execution_count": 31,
   "id": "6f77caa1",
   "metadata": {},
   "outputs": [
    {
     "data": {
      "image/png": "[encoded data removed]",
      "text/plain": [
       "<Figure size 216x216 with 1 Axes>"
      ]
     },
     "metadata": {},
     "output_type": "display_data"
    }
   ],
   "source": [
    "fig = plt.figure(figsize = (3,3), facecolor = 'w')\n",
    "plt.tick_params(axis='both', direction='in')\n",
    "\n",
    "plt.plot(_Lambdas[1:], noise_dom_y[1:], \n",
    "         c='r',\n",
    "        label='Noise Dom.')\n",
    "\n",
    "plt.plot(_Lambdas[1:], full_y[1:], \n",
    "         c='k',\n",
    "        label='Full Covariance')\n",
    "\n",
    "\n",
    "\n",
    "plt.plot([kpar_fundamental, _Lambdas[1]], full_y[:2], \n",
    "         c='k', ls='--',)\n",
    "\n",
    "plt.plot([kpar_fundamental, _Lambdas[1]], noise_dom_y[:2], \n",
    "         c='r', ls='--',)\n",
    "\n",
    "\n",
    "unfiltered_SNR_noisedom = noise_dom_y[0]\n",
    "unfiltered_SNR_full = full_y[0]\n",
    "plt.plot([0, kpar_fundamental], [unfiltered_SNR_full, unfiltered_SNR_full],\n",
    "         c='k',)\n",
    "\n",
    "plt.plot([0, kpar_fundamental], [unfiltered_SNR_noisedom, unfiltered_SNR_noisedom],\n",
    "         c='r',)\n",
    "\n",
    "\n",
    "plt.xscale('log')\n",
    "plt.fill_between([0, kpar_fundamental], [0,0], [full_sky_deg2, full_sky_deg2],\n",
    "                color = 'lightgrey', )\n",
    "\n",
    "\n",
    "ymax = full_y[-1] * 1.1\n",
    "bnd_center = np.sqrt(1/2*kpar_fundamental**2)\n",
    "# hcenter = (ymax * 1.1)/2\n",
    "hcenter = np.sqrt(ymax * fid/2)\n",
    "\n",
    "plt.text(bnd_center, hcenter,\n",
    "        r'$$ \\hspace{1em}\\Lambda < \\textsf{Fundamental}$$', \n",
    "        ha='center',\n",
    "        va='center',\n",
    "        rotation='vertical',)\n",
    "\n",
    "\n",
    "plt.ylim(fid/2, min(full_sky_deg2, ymax))\n",
    "plt.yscale('log')\n",
    "plt.xlim(kpar_fundamental/2, 1e-1)\n",
    "\n",
    "plt.axhline(fid, c='b', label=r'Fiducial $\\Omega_{\\sf survey}$')\n",
    "\n",
    "plt.xlabel(r'$\\Lambda$ [1/Mpc]')\n",
    "plt.ylabel(r'$\\Omega_{\\sf survey}\\textsf{ Required for Detection}\\ [\\sf deg^2]$')\n",
    "\n",
    "\n",
    "\n",
    "plt_title = r'\\textsf{%s}'%(experiment)\n",
    "plt.title(plt_title)\n",
    "\n",
    "\n",
    "plt.legend(frameon=False, fontsize=8, loc='center right')\n",
    "fig_fname = 'figures/011.006.aspir_%s.pdf'%(experiment)\n",
    "plt.savefig(fig_fname)"
   ]
  }
 ],
 "metadata": {
  "kernelspec": {
   "display_name": "cosmology",
   "language": "python",
   "name": "cosmology"
  },
  "language_info": {
   "codemirror_mode": {
    "name": "ipython",
    "version": 3
   },
   "file_extension": ".py",
   "mimetype": "text/x-python",
   "name": "python",
   "nbconvert_exporter": "python",
   "pygments_lexer": "ipython3",
   "version": "3.9.19"
  }
 },
 "nbformat": 4,
 "nbformat_minor": 5
}
