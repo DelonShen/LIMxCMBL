{
 "cells": [
  {
   "cell_type": "code",
   "execution_count": 15,
   "id": "a32d51c8",
   "metadata": {},
   "outputs": [
    {
     "name": "stdout",
     "output_type": "stream",
     "text": [
      "CO\n",
      "/scratch/users/delon/LIMxCMBL/I_auto/cross_CO_zmin_2.4_zmax_3.4_Lambda_idx_24_n_b_100_0_0_jax_quad.npy\n"
     ]
    }
   ],
   "source": [
    "from LIMxCMBL.init import *\n",
    "from LIMxCMBL.kernels import *\n",
    "\n",
    "from scipy.interpolate import interp1d, LinearNDInterpolator\n",
    "from scipy.integrate import quad, quad_vec, trapezoid, qmc_quad\n",
    "\n",
    "import sys\n",
    "from os.path import isfile\n",
    "import jax\n",
    "import jax.numpy as jnp\n",
    "\n",
    "from jax import config\n",
    "config.update(\"jax_enable_x64\", True)\n",
    "# config.update('jax_platform_name', 'cpu')\n",
    "\n",
    "\n",
    "\n",
    "\n",
    "Lambda_idx = 24#int(sys.argv[1])\n",
    "n_bins = 100#int(sys.argv[2])\n",
    "\n",
    "idx1 = 0#int(sys.argv[3])\n",
    "idx2 = 0#int(sys.argv[4])\n",
    "\n",
    "Lambda = Lambdas[Lambda_idx]\n",
    "\n",
    "zmin = 2.4#float(sys.argv[5])\n",
    "zmax = 3.4#float(sys.argv[6])\n",
    "\n",
    "kernels = {}\n",
    "kernels['CII'] = np.array(KI)\n",
    "kernels['CO'] = np.array(KI_CO)\n",
    "kernels['Lya'] = np.array(KI_Lya)\n",
    "kernels['HI'] = np.array(KI_HI)\n",
    "\n",
    "\n",
    "line_str = 'CO'#sys.argv[7]\n",
    "print(line_str)\n",
    "_KI = kernels[line_str]\n",
    "\n",
    "oup_fname = '/scratch/users/delon/LIMxCMBL/I_auto/cross_'\n",
    "oup_fname += '%s_zmin_%.1f_zmax_%.1f_Lambda_idx_%d_n_b_%d_%d_%d_jax_quad.npy'%(line_str,\n",
    "                                                                                zmin, zmax, \n",
    "                                                                                Lambda_idx, \n",
    "                                                                                n_bins,idx1, idx2)\n",
    "\n",
    "\n",
    "print(oup_fname)\n",
    "\n",
    "chimin = ccl.comoving_angular_distance(cosmo, 1/(1+zmin))\n",
    "chimax = ccl.comoving_angular_distance(cosmo, 1/(1+zmax))\n",
    "\n",
    "inner_dkparp_integral = np.load('/oak/stanford/orgs/kipac/users/delon/LIMxCMBL/inner_dkparp_integral.npy')\n",
    "inner_dkparp_integral = inner_dkparp_integral.astype(np.float64)\n",
    "inner_dkparp_integral = np.moveaxis(inner_dkparp_integral, 0, -1)\n",
    "\n",
    "@jax.jit\n",
    "def f_KILo(chi, external_chi, Lambda):\n",
    "    return (Lambda / jnp.pi \n",
    "            * jnp.interp(x = chi, xp = chis, \n",
    "                         fp = _KI, left = 0, right = 0) \n",
    "            * jnp.sinc(Lambda * (external_chi - chi) / np.pi))\n"
   ]
  },
  {
   "cell_type": "code",
   "execution_count": 16,
   "id": "ebd050d0",
   "metadata": {},
   "outputs": [],
   "source": [
    "chi_bin_edges = np.linspace(chimin*(1+1e-8), chimax*(1 - 1e-8), n_bins + 1)\n",
    "chi_bin_centers = (chi_bin_edges[1:] + chi_bin_edges[:-1])/2\n",
    "dchi_binned = np.mean(np.diff(chi_bin_edges))"
   ]
  },
  {
   "cell_type": "code",
   "execution_count": null,
   "id": "fab7ded9",
   "metadata": {},
   "outputs": [],
   "source": []
  },
  {
   "cell_type": "code",
   "execution_count": 17,
   "id": "3a1b4fb9",
   "metadata": {},
   "outputs": [],
   "source": [
    "from interpax import interp2d\n",
    "from interpax import interp1d as interp1dx\n",
    "\n",
    "from tqdm import trange, tqdm"
   ]
  },
  {
   "cell_type": "code",
   "execution_count": 18,
   "id": "2611f1b4",
   "metadata": {},
   "outputs": [],
   "source": [
    "@jax.jit\n",
    "def f_integrand(x):\n",
    "    chi, chip, _chib = x[0], x[1], x[2]\n",
    "    chi = chi.reshape(-1, 1)\n",
    "    chip = chip.reshape(-1, 1)\n",
    "    _chib = _chib.reshape(-1, 1)\n",
    "\n",
    "    _delta = jnp.abs(1 - chi/_chib) #(p)\n",
    "    _delta = jnp.where(_delta < 1e-6, 1e-6, \n",
    "                     jnp.where(_delta > 0.7, 0.7, _delta))\n",
    "\n",
    "    _idx = ((chimin <= 2*_chib - chi) \n",
    "            & (2*_chib - chi <= chimax)) #(p)\n",
    "    cross_integrand = (2 * jnp.interp(x = chi, xp = chis, fp = _KI, left = 0, right = 0) \n",
    "                       * interp2d(xq = _chib.reshape(-1), yq=jnp.log(_delta).reshape(-1), \n",
    "                           x = chibs, y = jnp.log(deltas), f=inner_dkparp_integral,\n",
    "                           method='linear',) \n",
    "                       / (_chib**2))\n",
    "    cross_integrand *= jnp.where(_idx,\n",
    "                                 f_KILo(2*_chib - chi, \n",
    "                                        external_chi = chip,\n",
    "                                        Lambda=Lambda), 0) #(p)\n",
    "    return cross_integrand"
   ]
  },
  {
   "cell_type": "code",
   "execution_count": 6,
   "id": "61a96958",
   "metadata": {},
   "outputs": [],
   "source": [
    "cross = np.zeros((n_bins, n_bins), dtype=np.float64)"
   ]
  },
  {
   "cell_type": "code",
   "execution_count": 7,
   "id": "aa8efd6e",
   "metadata": {},
   "outputs": [],
   "source": [
    "from scipy.stats import qmc\n",
    "qrng = qmc.Halton(d = 3)\n"
   ]
  },
  {
   "cell_type": "code",
   "execution_count": 8,
   "id": "4fb7b103",
   "metadata": {},
   "outputs": [],
   "source": [
    "l1, r1 = chi_bin_edges[idx1], chi_bin_edges[idx1+1]\n",
    "l2, r2 = chi_bin_edges[idx2], chi_bin_edges[idx2+1]\n"
   ]
  },
  {
   "cell_type": "code",
   "execution_count": 9,
   "id": "e2bb4b08",
   "metadata": {},
   "outputs": [],
   "source": [
    "#because KLIM_LO(2chib - chi) has a window function we can bound\n",
    "a = np.array([l1, l2, (chimin + l1) / 2])\n",
    "b = np.array([r1, r2, (chimax + r1) / 2])"
   ]
  },
  {
   "cell_type": "code",
   "execution_count": null,
   "id": "0aa9d7b0",
   "metadata": {},
   "outputs": [],
   "source": []
  },
  {
   "cell_type": "code",
   "execution_count": 10,
   "id": "423020f6",
   "metadata": {},
   "outputs": [],
   "source": [
    "def _rng_spawn(rng, n_children):\n",
    "    bg = rng._bit_generator\n",
    "    ss = bg._seed_seq\n",
    "    child_rngs = [np.random.Generator(type(bg)(child_ss))\n",
    "                  for child_ss in ss.spawn(n_children)]\n",
    "    return child_rngs"
   ]
  },
  {
   "cell_type": "code",
   "execution_count": 14,
   "id": "821f334a",
   "metadata": {},
   "outputs": [
    {
     "name": "stderr",
     "output_type": "stream",
     "text": [
      "100%|██████████| 8/8 [00:15<00:00,  1.91s/it]"
     ]
    },
    {
     "name": "stdout",
     "output_type": "stream",
     "text": [
      "[0.00030953 0.00030947 0.0003094  0.00030932 0.00030924 0.00030916\n",
      " 0.00030907 0.00030897 0.00030888 0.00030878 0.00030867 0.00030856\n",
      " 0.00030846 0.00030835 0.00030824 0.00030813 0.00030802 0.00030792\n",
      " 0.00030783 0.00030774 0.00030767 0.00030762 0.00030758 0.00030757\n",
      " 0.00030758 0.00030763 0.00030772 0.00030786 0.00030805 0.0003083\n",
      " 0.00030862 0.00030902 0.0003095  0.00031008 0.00031076 0.00031156\n",
      " 0.00031248 0.00031353 0.00031471 0.00031603 0.00031747 0.00031904\n",
      " 0.00032072 0.0003225  0.00032435 0.00032625 0.00032818 0.00033014\n",
      " 0.00033215 0.00033428 0.00033656 0.00033914 0.0003422  0.00034587\n",
      " 0.00035031 0.00035556 0.00036152 0.00036792 0.00037431 0.00038023\n",
      " 0.00038549 0.00039043 0.00039592 0.00040309 0.00041259 0.00042368\n",
      " 0.00043455 0.00044351 0.00045122 0.00046069 0.00047399 0.0004891\n",
      " 0.00050148 0.00051148 0.00052477 0.00054213 0.00055706 0.00056958\n",
      " 0.0005863  0.00060377 0.00061841 0.00063587 0.00065325 0.00066994\n",
      " 0.00068816 0.00070562 0.00072407 0.0007424  0.00076139 0.00078061\n",
      " 0.00080052 0.00082123 0.00084287 0.00086564 0.0008898  0.00091566\n",
      " 0.00094359 0.00097399 0.00100726 0.00104386]\n"
     ]
    },
    {
     "name": "stderr",
     "output_type": "stream",
     "text": [
      "\n"
     ]
    }
   ],
   "source": [
    "\n",
    "n_estimates = 2**3\n",
    "n_points = 2**20\n",
    "estimates = np.zeros((n_estimates, 100))\n",
    "\n",
    "\n",
    "rngs = _rng_spawn(qrng.rng, n_estimates)\n",
    "\n",
    "A = np.prod(b - a)\n",
    "dA = A / n_points\n",
    "\n",
    "for i in trange(n_estimates):\n",
    "    sample = qrng.random(n = n_points)\n",
    "    x = jnp.array(qmc.scale(sample, a, b)).T\n",
    "    integrands = f_integrand(x)\n",
    "    estimates[i] = np.sum(integrands * dA, axis = 0)\n",
    "\n",
    "    qrng = type(qrng)(seed=rngs[i], **qrng._init_quad)\n",
    "    \n",
    "integral = np.mean(estimates, axis=0)\n",
    "standard_error = np.std(estimates, axis = 0, ddof = 1)\n",
    "\n",
    "\n",
    "print(standard_error/integral)"
   ]
  },
  {
   "cell_type": "code",
   "execution_count": 20,
   "id": "0d70ddbf",
   "metadata": {},
   "outputs": [],
   "source": [
    "np.save(oup_fname, integral/dchi_binned**2)"
   ]
  }
 ],
 "metadata": {
  "kernelspec": {
   "display_name": "cosmology",
   "language": "python",
   "name": "cosmology"
  },
  "language_info": {
   "codemirror_mode": {
    "name": "ipython",
    "version": 3
   },
   "file_extension": ".py",
   "mimetype": "text/x-python",
   "name": "python",
   "nbconvert_exporter": "python",
   "pygments_lexer": "ipython3",
   "version": "3.9.19"
  }
 },
 "nbformat": 4,
 "nbformat_minor": 5
}
