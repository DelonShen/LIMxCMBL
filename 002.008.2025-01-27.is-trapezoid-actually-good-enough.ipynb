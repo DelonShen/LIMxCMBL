{
 "cells": [
  {
   "cell_type": "code",
   "execution_count": 1,
   "id": "8b55404e",
   "metadata": {},
   "outputs": [],
   "source": [
    "from LIMxCMBL.cross_spectrum import *\n",
    "from LIMxCMBL.init import *\n",
    "from LIMxCMBL.kernels import get_f_Kkappa, get_f_KI, get_f_KILo, apply_window"
   ]
  },
  {
   "cell_type": "code",
   "execution_count": 2,
   "id": "c24c4e33",
   "metadata": {},
   "outputs": [
    {
     "data": {
      "text/plain": [
       "4.692048148168543"
      ]
     },
     "execution_count": 2,
     "metadata": {},
     "output_type": "execute_result"
    }
   ],
   "source": [
    "import numpy as np\n",
    "2*np.pi/np.mean(np.diff(np.linspace(0, chimax_sample, 2**13)))"
   ]
  },
  {
   "cell_type": "code",
   "execution_count": 3,
   "id": "db76aa2c",
   "metadata": {},
   "outputs": [],
   "source": [
    "from scipy.integrate import trapezoid, simpson"
   ]
  },
  {
   "cell_type": "code",
   "execution_count": 4,
   "id": "3a94a0e5",
   "metadata": {},
   "outputs": [],
   "source": [
    "# CCAT-prime\n",
    "zmin = 3.5\n",
    "zmax = 8.1\n",
    "\n",
    "chimin = ccl.comoving_angular_distance(cosmo, 1/(1+zmin))\n",
    "chimax = ccl.comoving_angular_distance(cosmo, 1/(1+zmax))\n",
    "\n",
    "Lambda = 1"
   ]
  },
  {
   "cell_type": "code",
   "execution_count": 5,
   "id": "a2029088",
   "metadata": {},
   "outputs": [],
   "source": [
    "window = np.where((chis_resample > chimin) & (chis_resample < chimax))[0]"
   ]
  },
  {
   "cell_type": "code",
   "execution_count": 6,
   "id": "ce46cd0b",
   "metadata": {},
   "outputs": [],
   "source": [
    "f_Kkappa = get_f_Kkappa()\n",
    "a_of_chibs = ccl.scale_factor_of_chi(cosmo, chibs)\n",
    "z_of_chibs = 1/a_of_chibs - 1"
   ]
  },
  {
   "cell_type": "code",
   "execution_count": 7,
   "id": "e5d61221",
   "metadata": {},
   "outputs": [
    {
     "data": {
      "text/plain": [
       "[]"
      ]
     },
     "execution_count": 7,
     "metadata": {},
     "output_type": "execute_result"
    },
    {
     "data": {
      "image/png": "[encoded data removed]",
      "text/plain": [
       "<Figure size 432x288 with 1 Axes>"
      ]
     },
     "metadata": {
      "needs_background": "light"
     },
     "output_type": "display_data"
    }
   ],
   "source": [
    "# get CMB lensing component\n",
    "from LIMxCMBL.kernels import get_f_Kkappa\n",
    "f_WkD = get_f_Kkappa()\n",
    "\n",
    "from LIMxCMBL.cross_spectrum import *\n",
    "ClKK = d_chib_integral(f_WkD, f_WkD) #[Mpc]^2\n",
    "\n",
    "\n",
    "# beam=1.4, noise=7\n",
    "from scipy.interpolate import interp1d\n",
    "N0_ells = np.logspace(1, np.log10(5000), 500)\n",
    "with open('LIMxCMBL/N0.npy', 'rb') as f:\n",
    "    N0 = np.load(f)\n",
    "    \n",
    "f_N0 = interp1d(x = N0_ells, y = N0)\n",
    "\n",
    "    \n",
    "plt.plot(ells, ClKK)\n",
    "plt.plot(ells, f_N0(ells))\n",
    "plt.loglog()"
   ]
  },
  {
   "cell_type": "code",
   "execution_count": 8,
   "id": "edb632b7",
   "metadata": {},
   "outputs": [],
   "source": [
    "#<I Kappa>\n",
    "f_KLIM   = get_f_KI()\n",
    "f_KLIM_windowed = apply_window(f_K = f_KLIM,\n",
    "                               chimin = chimin,\n",
    "                               chimax = chimax)\n",
    "trapz_Ik = d_delta_integral(f_KLIM_windowed, f_Kkappa)"
   ]
  },
  {
   "cell_type": "code",
   "execution_count": 9,
   "id": "b0f35a76",
   "metadata": {},
   "outputs": [
    {
     "data": {
      "text/plain": [
       "<matplotlib.image.AxesImage at 0x7f22946e7490>"
      ]
     },
     "execution_count": 9,
     "metadata": {},
     "output_type": "execute_result"
    },
    {
     "name": "stderr",
     "output_type": "stream",
     "text": [
      "/share/software/user/open/py-jupyter/1.0.0_py39/lib/python3.9/site-packages/IPython/core/events.py:89: UserWarning: Casting input data from float128 to float64 for imshow.\n",
      "  func(*args, **kwargs)\n",
      "/share/software/user/open/py-jupyter/1.0.0_py39/lib/python3.9/site-packages/IPython/core/pylabtools.py:134: UserWarning: Casting input data from float128 to float64 for imshow.\n",
      "  fig.canvas.print_figure(bytes_io, **kw)\n"
     ]
    },
    {
     "data": {
      "image/png": "[encoded data removed]",
      "text/plain": [
       "<Figure size 432x288 with 1 Axes>"
      ]
     },
     "metadata": {
      "needs_background": "light"
     },
     "output_type": "display_data"
    }
   ],
   "source": [
    "plt.imshow(trapz_Ik, aspect = 'auto')"
   ]
  },
  {
   "cell_type": "code",
   "execution_count": 10,
   "id": "ffadd417",
   "metadata": {},
   "outputs": [],
   "source": [
    "from tqdm import trange"
   ]
  },
  {
   "cell_type": "code",
   "execution_count": 11,
   "id": "e6ea08ca",
   "metadata": {},
   "outputs": [
    {
     "name": "stderr",
     "output_type": "stream",
     "text": [
      "100%|██████████| 64/64 [02:51<00:00,  2.69s/it]\n"
     ]
    }
   ],
   "source": [
    "#<ILo Kappa>\n",
    "ILok = np.zeros((len(ells), len(chis_resample)), dtype=np.float32)\n",
    "external_chis = chis_resample.reshape(-1,1, 1, 1)\n",
    "\n",
    "for i in trange(len(chis_resample) // 2**3):\n",
    "    idx_left = i * 2**3\n",
    "    idx_right = (i+1) * 2 ** 3\n",
    "    f_KLIMLo = get_f_KILo(external_chi = external_chis[idx_left:idx_right], Lambda=Lambda)\n",
    "    f_KLIMLo_windowed = apply_window(f_K = f_KLIMLo,\n",
    "                                     chimin = chimin,\n",
    "                                     chimax = chimax)\n",
    "    ILok[:, idx_left:idx_right] = d_chib_integral(f_KLIMLo_windowed, f_Kkappa).T"
   ]
  },
  {
   "cell_type": "code",
   "execution_count": 12,
   "id": "cf9d7279",
   "metadata": {},
   "outputs": [
    {
     "data": {
      "text/plain": [
       "<matplotlib.image.AxesImage at 0x7f229465edf0>"
      ]
     },
     "execution_count": 12,
     "metadata": {},
     "output_type": "execute_result"
    },
    {
     "data": {
      "image/png": "[encoded data removed]",
      "text/plain": [
       "<Figure size 432x288 with 1 Axes>"
      ]
     },
     "metadata": {
      "needs_background": "light"
     },
     "output_type": "display_data"
    }
   ],
   "source": [
    "plt.imshow(ILok, aspect = 'auto')"
   ]
  },
  {
   "cell_type": "code",
   "execution_count": 13,
   "id": "1ef75f3f",
   "metadata": {},
   "outputs": [],
   "source": [
    "integrand =  trapz_Ik**2 / (1/chis_resample**2) # [kJy^2/sr^2][Mpc^4]\n",
    "# total integral has unit #[kJy^2 / sr^2][Mpc^3] \n",
    "SNR2_per_mode_nocut = simpson(x = chis_resample[window], y = integrand[:,window])/(ClKK + f_N0(ells)) "
   ]
  },
  {
   "cell_type": "code",
   "execution_count": 14,
   "id": "9590eb2d",
   "metadata": {},
   "outputs": [],
   "source": [
    "IHi_kappa_orig = trapz_Ik - ILok\n",
    "\n",
    "integrand =  IHi_kappa_orig**2 / (1/chis_resample**2) # [kJy^2/sr^2][Mpc^4]\n",
    "# total integral has unit #[kJy^2 / sr^2][Mpc^3] \n",
    "SNR2_per_mode_orig = simpson(x = chis_resample[window], y = integrand[:,window])/(ClKK + f_N0(ells)) "
   ]
  },
  {
   "cell_type": "code",
   "execution_count": 15,
   "id": "29b04011",
   "metadata": {},
   "outputs": [
    {
     "data": {
      "text/plain": [
       "<matplotlib.legend.Legend at 0x7f2294583e50>"
      ]
     },
     "execution_count": 15,
     "metadata": {},
     "output_type": "execute_result"
    },
    {
     "data": {
      "image/png": "[encoded data removed]",
      "text/plain": [
       "<Figure size 432x288 with 1 Axes>"
      ]
     },
     "metadata": {},
     "output_type": "display_data"
    }
   ],
   "source": [
    "plt.figure(facecolor = 'w')\n",
    "plt.plot(ells, ells**2 * SNR2_per_mode_nocut, lw = 1, label='nocut')\n",
    "plt.plot(ells, ells**2 * SNR2_per_mode_orig, lw = 1, label='onecut')\n",
    "\n",
    "plt.xscale('log')\n",
    "plt.xlabel('ells')\n",
    "\n",
    "plt.legend(frameon=False)"
   ]
  },
  {
   "cell_type": "markdown",
   "id": "b1ca4c2f",
   "metadata": {},
   "source": [
    "# turns out I figured it out, I dont need to inerp1d(sinc(...)) I can do stuff like sinc(...) times interp1d(...)\n",
    "below is old when I hadnt figured this out and thought I needed to quad. trapezoid is good enough as long as I sample well enough. "
   ]
  },
  {
   "cell_type": "code",
   "execution_count": null,
   "id": "b799cdef",
   "metadata": {},
   "outputs": [],
   "source": [
    "## d_delta_integral but with quad_vec\n",
    "from scipy.interpolate import interp1d\n",
    "from scipy.integrate import quad_vec\n",
    "from functools import cache\n",
    "\n",
    "@cache\n",
    "def d_delta_integral_quad_vec(f_Kpsi, f_Kphi):\n",
    "\n",
    "\n",
    "    #integrand1\n",
    "    f_psi_term = f_Kpsi(minus_args)\n",
    "    f_phi_term = f_Kphi(plus_args)\n",
    "    integrand1 = (f_psi_term * f_phi_term / chibs_reshaped**2 * \n",
    "                2 * chibs_reshaped * inner_dkparp_integral)\n",
    "\n",
    "    #integrand2\n",
    "    f_psi_term = f_Kpsi(plus_args)\n",
    "    f_phi_term = f_Kphi(minus_args)\n",
    "    integrand2 = (f_psi_term * f_phi_term / chibs_reshaped**2 * \n",
    "                2 * chibs_reshaped * inner_dkparp_integral)\n",
    "\n",
    "    integrand = integrand1 + integrand2\n",
    "    \n",
    "    f_integrand = interp1d(x = np.log(deltas), y = integrand * deltas,\n",
    "                          fill_value = 'extrapolate')\n",
    "    oup, _ = quad_vec(f_integrand, np.log(min(deltas)), np.log(max(deltas)),\n",
    "                     epsabs = 0.0, epsrel = 1e-3, workers = 32)\n",
    "    return oup\n",
    "\n"
   ]
  },
  {
   "cell_type": "code",
   "execution_count": null,
   "id": "31c384ae",
   "metadata": {},
   "outputs": [],
   "source": [
    "quad_Ik = d_delta_integral_quad_vec(f_KLIM_windowed, f_Kkappa)"
   ]
  },
  {
   "cell_type": "code",
   "execution_count": null,
   "id": "e54d4f24",
   "metadata": {},
   "outputs": [],
   "source": [
    "idxs = np.where(quad_Ik > 0)\n",
    "frac_diff = np.zeros_like(quad_Ik)\n",
    "frac_diff[idxs] = (quad_Ik[idxs] - trapz_Ik[idxs])/quad_Ik[idxs]"
   ]
  },
  {
   "cell_type": "code",
   "execution_count": null,
   "id": "3509ef10",
   "metadata": {},
   "outputs": [],
   "source": [
    "cbound = np.max(np.abs(quad_Ik))\n",
    "plt.imshow(quad_Ik, vmin = -cbound, vmax=cbound, cmap='seismic')\n",
    "plt.show()\n",
    "plt.imshow(trapz_Ik, vmin = -cbound, vmax=cbound, cmap='seismic')\n",
    "plt.show()"
   ]
  },
  {
   "cell_type": "code",
   "execution_count": null,
   "id": "902abd4f",
   "metadata": {},
   "outputs": [],
   "source": [
    "cbound = np.max(np.abs(frac_diff))\n",
    "plt.imshow(frac_diff, vmin = -1, vmax=1, cmap='seismic')\n",
    "plt.show()"
   ]
  },
  {
   "cell_type": "code",
   "execution_count": null,
   "id": "74379759",
   "metadata": {},
   "outputs": [],
   "source": [
    "def d_chib_integral_outer_quad(f_Kpsi, f_Kphi):\n",
    "    integrand = d_delta_integral(f_Kpsi, f_Kphi)\n",
    "    f_integrand = interp1d(x = chibs, y = integrand)\n",
    "    oup, _ = quad_vec(f_integrand, min(chibs), max(chibs),\n",
    "                  epsabs = 0.0, epsrel = 1e-3, workers = 32)\n",
    "    return oup"
   ]
  },
  {
   "cell_type": "code",
   "execution_count": null,
   "id": "c475f184",
   "metadata": {},
   "outputs": [],
   "source": [
    "from tqdm import tqdm"
   ]
  },
  {
   "cell_type": "code",
   "execution_count": null,
   "id": "41570df1",
   "metadata": {},
   "outputs": [],
   "source": [
    "#<ILo Kappa> quad outer\n",
    "quadouter_ILok = np.zeros((len(ells), len(chibs)), dtype=np.float128)\n",
    "\n",
    "from tqdm import trange\n",
    "\n",
    "for chi_idx in tqdm(window):\n",
    "    chi = chibs[chi_idx]\n",
    "    f_KLIMLo   = get_f_KILo(external_chi = chi, Lambda=Lambda)\n",
    "    f_KLIMLo_windowed = apply_window(f_K = f_KLIMLo,\n",
    "                                     chimin = chimin,\n",
    "                                     chimax = chimax)\n",
    "    quadouter_ILok[:, chi_idx] = d_chib_integral_outer_quad(f_KLIMLo_windowed, f_Kkappa)"
   ]
  },
  {
   "cell_type": "code",
   "execution_count": null,
   "id": "62a1f71e",
   "metadata": {},
   "outputs": [],
   "source": []
  },
  {
   "cell_type": "code",
   "execution_count": null,
   "id": "e3690b3c",
   "metadata": {},
   "outputs": [],
   "source": [
    "IHi_kappa_qouter = quad_Ik - quadouter_ILok\n",
    "\n",
    "integrand =  IHi_kappa_qouter**2 / (1/chibs**2) # [kJy^2/sr^2][Mpc^4]\n",
    "SNR2_per_mode_qouter = simpson(x = chibs[window], y = integrand[:,window])/(ClKK + f_N0(ells)) "
   ]
  },
  {
   "cell_type": "code",
   "execution_count": null,
   "id": "47a137f4",
   "metadata": {},
   "outputs": [],
   "source": [
    "plt.figure(facecolor = 'w')\n",
    "plt.plot(ells, ells**2 * SNR2_per_mode_orig, lw = 1)\n",
    "plt.plot(ells, ells**2 * SNR2_per_mode_nocut, lw = 1)\n",
    "plt.plot(ells, ells**2 * SNR2_per_mode_qouter, 'k--', lw = 1,)\n",
    "\n",
    "plt.xscale('log')\n",
    "plt.xlabel('ells')\n",
    "plt.legend(frameon=False)"
   ]
  },
  {
   "cell_type": "code",
   "execution_count": null,
   "id": "75576af6",
   "metadata": {},
   "outputs": [],
   "source": [
    "def d_chib_integral_quad_inner(f_Kpsi, f_Kphi):\n",
    "    integrand = d_delta_integral_quad_vec(f_Kpsi, f_Kphi)\n",
    "    oup = trapezoid(x = chibs, y = integrand)\n",
    "    return oup\n",
    "\n",
    "def d_chib_integral_quad_all(f_Kpsi, f_Kphi):\n",
    "    integrand = d_delta_integral_quad_vec(f_Kpsi, f_Kphi)\n",
    "    f_integrand = interp1d(x = chibs, y = integrand)\n",
    "    oup, _ = quad_vec(f_integrand, min(chibs), max(chibs),\n",
    "                  epsabs = 0.0, epsrel = 1e-3, workers = 32)\n",
    "    return oup"
   ]
  },
  {
   "cell_type": "code",
   "execution_count": null,
   "id": "c917480d",
   "metadata": {},
   "outputs": [],
   "source": [
    "print(window)"
   ]
  },
  {
   "cell_type": "code",
   "execution_count": null,
   "id": "43b28287",
   "metadata": {},
   "outputs": [],
   "source": [
    "print(np.max(ILok))\n",
    "np.min(np.abs(ILok))"
   ]
  },
  {
   "cell_type": "code",
   "execution_count": null,
   "id": "c7961c4c",
   "metadata": {},
   "outputs": [],
   "source": [
    "from tqdm import tqdm, trange"
   ]
  },
  {
   "cell_type": "code",
   "execution_count": null,
   "id": "027d6b20",
   "metadata": {},
   "outputs": [],
   "source": []
  },
  {
   "cell_type": "code",
   "execution_count": null,
   "id": "e05d2121",
   "metadata": {},
   "outputs": [],
   "source": [
    "cmax = np.max(np.abs(quad_Ik))\n",
    "plt.imshow(quad_Ik, vmin = -cmax, vmax = cmax, cmap = 'seismic')\n",
    "plt.show()\n",
    "plt.imshow(ILok,  vmin = -cmax, vmax = cmax, cmap = 'seismic')"
   ]
  },
  {
   "cell_type": "code",
   "execution_count": null,
   "id": "fe2566a5",
   "metadata": {},
   "outputs": [],
   "source": [
    "#<ILo Kappa> quad inner\n",
    "quadinner_ILok = np.zeros((len(ells), len(chibs)), dtype=np.float128)\n",
    "quadall_ILok = np.zeros((len(ells), len(chibs)), dtype=np.float128)\n",
    "\n",
    "from tqdm import trange\n",
    "\n",
    "# for chi_idx in trange(len(chibs)):\n",
    "for chi_idx in tqdm(window):\n",
    "    chi = chibs[chi_idx]\n",
    "    f_KLIMLo   = get_f_KILo(external_chi = chi, Lambda=Lambda)\n",
    "    f_KLIMLo_windowed = apply_window(f_K = f_KLIMLo,\n",
    "                                     chimin = chimin,\n",
    "                                     chimax = chimax)\n",
    "    quadinner_ILok[:, chi_idx] = d_chib_integral_quad_inner(f_KLIMLo_windowed, f_Kkappa)\n",
    "    quadall_ILok[:, chi_idx]   = d_chib_integral_quad_all(f_KLIMLo_windowed, f_Kkappa)"
   ]
  },
  {
   "cell_type": "code",
   "execution_count": null,
   "id": "9964c59b",
   "metadata": {},
   "outputs": [],
   "source": [
    "IHi_kappa_quad_inner = quad_Ik - quadinner_ILok\n",
    "integrand =  IHi_kappa_quad_inner**2 / (1/chibs**2) # [kJy^2/sr^2][Mpc^4]\n",
    "f_integrand = interp1d(x = chibs, y = (integrand.T / (ClKK + f_N0(ells))).T)\n",
    "\n",
    "# SNR2_per_mode_qinner = simpson(x = chibs[window], y = integrand[:,window])/(ClKK + f_N0(ells))\n",
    "SNR2_per_mode_qinner, _ = quad_vec(f_integrand, chibs[window][0], chibs[window][-1], \n",
    "                                epsabs =0.0, epsrel = 1e-5)"
   ]
  },
  {
   "cell_type": "code",
   "execution_count": null,
   "id": "15776623",
   "metadata": {},
   "outputs": [],
   "source": [
    "IHi_kappa_quad_all = quad_Ik - quadall_ILok\n",
    "integrand =  IHi_kappa_quad_all**2 / (1/chibs**2) # [kJy^2/sr^2][Mpc^4]\n",
    "f_integrand = interp1d(x = chibs, y = (integrand.T / (ClKK + f_N0(ells))).T)\n",
    "\n",
    "# SNR2_per_mode_qinner = simpson(x = chibs[window], y = integrand[:,window])/(ClKK + f_N0(ells))\n",
    "SNR2_per_mode_qall, _ = quad_vec(f_integrand, chibs[window][0], chibs[window][-1], \n",
    "                                epsabs =0.0, epsrel = 1e-5)"
   ]
  },
  {
   "cell_type": "code",
   "execution_count": null,
   "id": "11611e2c",
   "metadata": {},
   "outputs": [],
   "source": [
    "plt.imshow(IHi_kappa_orig,  vmin = -cmax, vmax = cmax, cmap = 'seismic')\n",
    "plt.show()\n",
    "plt.imshow(IHi_kappa_quad_inner,  vmin = -cmax, vmax = cmax, cmap = 'seismic')\n",
    "plt.show()\n",
    "plt.imshow(IHi_kappa_quad_all,  vmin = -cmax, vmax = cmax, cmap = 'seismic')\n"
   ]
  },
  {
   "cell_type": "code",
   "execution_count": null,
   "id": "1232915d",
   "metadata": {},
   "outputs": [],
   "source": [
    "plt.figure(facecolor = 'w')\n",
    "plt.plot(ells, ells**2 * SNR2_per_mode_orig, lw = 1)\n",
    "plt.plot(ells, ells**2 * SNR2_per_mode_nocut, lw = 1)\n",
    "plt.plot(ells, ells**2 * SNR2_per_mode_qinner, 'k--', lw = 1)\n",
    "plt.plot(ells, ells**2 * SNR2_per_mode_qall, 'k--', lw = 1)\n",
    "\n",
    "plt.xscale('log')\n",
    "plt.xlabel('ells')\n",
    "plt.legend(frameon=False)"
   ]
  }
 ],
 "metadata": {
  "kernelspec": {
   "display_name": "cosmology",
   "language": "python",
   "name": "cosmology"
  },
  "language_info": {
   "codemirror_mode": {
    "name": "ipython",
    "version": 3
   },
   "file_extension": ".py",
   "mimetype": "text/x-python",
   "name": "python",
   "nbconvert_exporter": "python",
   "pygments_lexer": "ipython3",
   "version": "3.9.19"
  }
 },
 "nbformat": 4,
 "nbformat_minor": 5
}
