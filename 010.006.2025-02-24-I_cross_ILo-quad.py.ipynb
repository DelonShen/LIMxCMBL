{
 "cells": [
  {
   "cell_type": "code",
   "execution_count": 1,
   "id": "e74e8477",
   "metadata": {},
   "outputs": [],
   "source": [
    "from LIMxCMBL.init import *\n",
    "from LIMxCMBL.kernels import *\n",
    "import sys\n",
    "\n",
    "# Lambda_idx = int(sys.argv[1])\n",
    "# n_external = int(sys.argv[2])\n",
    "Lambda_idx = 15\n",
    "n_external = 10\n",
    "\n",
    "Lambda = Lambdas[Lambda_idx]\n",
    "# CCAT-prime\n",
    "zmin = 3.5\n",
    "zmax = 8.1\n",
    "\n",
    "Omega_field = 8 * (np.pi/180)**2 #rad^2\n",
    "Pei = 2.3e4 #Mpc^3 kJy^2 /sr^2 \n",
    "chimin = ccl.comoving_angular_distance(cosmo, 1/(1+zmin))\n",
    "chimax = ccl.comoving_angular_distance(cosmo, 1/(1+zmax))"
   ]
  },
  {
   "cell_type": "code",
   "execution_count": 2,
   "id": "3ce60741",
   "metadata": {},
   "outputs": [],
   "source": [
    "from  LIMxCMBL.kernels import *\n",
    "f_KLIM   = get_f_KI()\n",
    "\n",
    "f_KLIM_windowed = apply_window(f_K = f_KLIM,\n",
    "                               chimin = chimin,\n",
    "                               chimax = chimax)"
   ]
  },
  {
   "cell_type": "code",
   "execution_count": 3,
   "id": "8c8bce9e",
   "metadata": {},
   "outputs": [],
   "source": [
    "from scipy.interpolate import interp1d, interp2d, LinearNDInterpolator\n",
    "\n",
    "inner_dkparp_integral = np.load('/oak/stanford/orgs/kipac/users/delon/LIMxCMBL/inner_dkparp_integral.npy')"
   ]
  },
  {
   "cell_type": "code",
   "execution_count": 4,
   "id": "1f51abce",
   "metadata": {},
   "outputs": [],
   "source": [
    "from scipy.integrate import quad, quad_vec, trapezoid, dblquad"
   ]
  },
  {
   "cell_type": "code",
   "execution_count": 5,
   "id": "5d006634",
   "metadata": {},
   "outputs": [],
   "source": [
    "tmp_chibs = []\n",
    "tmp_log_deltas = []\n",
    "tmp_fnctn = []\n",
    "for i in range(len(chibs)):\n",
    "    for j in range(len(deltas)):\n",
    "        tmp_chibs += [chibs[i]]\n",
    "        tmp_log_deltas += [np.log10(deltas[j])]\n",
    "        tmp_fnctn += [inner_dkparp_integral[:,i,j]]\n",
    "        \n",
    "f_inner_integral = LinearNDInterpolator(list(zip(tmp_chibs, tmp_log_deltas)), tmp_fnctn)"
   ]
  },
  {
   "cell_type": "code",
   "execution_count": 6,
   "id": "19835220",
   "metadata": {},
   "outputs": [],
   "source": [
    "from tqdm import trange"
   ]
  },
  {
   "cell_type": "code",
   "execution_count": 7,
   "id": "e9345c99",
   "metadata": {},
   "outputs": [
    {
     "name": "stdout",
     "output_type": "stream",
     "text": [
      "external chi spacing 245.50420696147668\n"
     ]
    }
   ],
   "source": [
    "external_chis     =  np.linspace(chimin*(1+1e-8), chimax*(1 - 1e-8), n_external)\n",
    "print('external chi spacing', np.mean(np.diff(external_chis)))"
   ]
  },
  {
   "cell_type": "code",
   "execution_count": 8,
   "id": "5ccc4ed5",
   "metadata": {},
   "outputs": [],
   "source": [
    "cross = np.zeros((100, n_external, n_external), dtype=np.float64)"
   ]
  },
  {
   "cell_type": "code",
   "execution_count": 9,
   "id": "b225dcce",
   "metadata": {},
   "outputs": [
    {
     "name": "stderr",
     "output_type": "stream",
     "text": [
      "100%|██████████| 10/10 [00:28<00:00,  2.82s/it]\n"
     ]
    }
   ],
   "source": [
    "for chi_idx in trange(n_external):\n",
    "    chi = external_chis[chi_idx]\n",
    "    chip = external_chis\n",
    "    \n",
    "    f_KLIMLo = get_f_KILo(external_chi = chip.reshape(n_external), Lambda=Lambda)\n",
    "\n",
    "    f_KLIMLo_windowed = apply_window(f_K = f_KLIMLo,\n",
    "                                     chimin = chimin,\n",
    "                                     chimax = chimax)\n",
    "\n",
    "    def f_integrand(_chib):\n",
    "        _delta = np.abs(1 - chi/_chib)\n",
    "        _delta = min(0.7, max(1e-6, _delta))\n",
    "        integrand = 2 * f_KLIM_windowed(chi)\n",
    "        integrand *= f_inner_integral((_chib, np.log10(_delta)))\n",
    "        integrand /= (_chib**2)\n",
    "        kernel = f_KLIMLo_windowed((2*_chib - chi))\n",
    "        integrand = np.einsum('l,p->lp', integrand, kernel)\n",
    "        return integrand\n",
    "\n",
    "    ret, _ = quad_vec(f_integrand, (chimin + chi)/2, (chimax + chi)/2,\n",
    "            epsabs=0.0, epsrel=1e-3,\n",
    "                     workers = 1)\n",
    "    cross[:,chi_idx,:] = ret\n"
   ]
  },
  {
   "cell_type": "code",
   "execution_count": 15,
   "id": "2e871701",
   "metadata": {},
   "outputs": [],
   "source": [
    "cross = cross + np.moveaxis(cross, -1, -2) # the two cross terms are just from switching chi and chi'"
   ]
  },
  {
   "cell_type": "code",
   "execution_count": 17,
   "id": "a937639b",
   "metadata": {},
   "outputs": [
    {
     "data": {
      "text/plain": [
       "<matplotlib.image.AxesImage at 0x7f849d545640>"
      ]
     },
     "execution_count": 17,
     "metadata": {},
     "output_type": "execute_result"
    },
    {
     "data": {
      "image/png": "[encoded data removed]",
      "text/plain": [
       "<Figure size 432x288 with 1 Axes>"
      ]
     },
     "metadata": {
      "needs_background": "light"
     },
     "output_type": "display_data"
    }
   ],
   "source": [
    "plt.imshow(cross[0])"
   ]
  },
  {
   "cell_type": "code",
   "execution_count": 10,
   "id": "41965381",
   "metadata": {},
   "outputs": [],
   "source": [
    "# def compute_elem(params):\n",
    "#     chi_idx, chi = params\n",
    "#     chip = external_chis\n",
    "\n",
    "#     f_KLIMLo = get_f_KILo(external_chi = chip.reshape(n_external), Lambda=Lambda)\n",
    "\n",
    "#     f_KLIMLo_windowed = apply_window(f_K = f_KLIMLo,\n",
    "#                                      chimin = chimin,\n",
    "#                                      chimax = chimax)\n",
    "\n",
    "#     def f_integrand(_chib):\n",
    "#         _delta = np.abs(1 - chi/_chib)\n",
    "#         _delta = min(0.7, max(1e-6, _delta))\n",
    "#         integrand = 2 * f_KLIM_windowed(chi)\n",
    "#         integrand *= f_inner_integral((_chib, np.log10(_delta)))\n",
    "#         integrand /= (_chib**2)\n",
    "#         kernel = f_KLIMLo_windowed((2*_chib - chi))\n",
    "#         integrand = np.einsum('l,p->lp', integrand, kernel)\n",
    "#         return integrand\n",
    "\n",
    "#     ret, _ = quad_vec(f_integrand, (chimin + chi)/2, (chimax + chi)/2,\n",
    "#             epsabs=0.0, epsrel=1e-3,\n",
    "#                      workers = 32)\n",
    "#     return(chi_idx, ret)"
   ]
  },
  {
   "cell_type": "code",
   "execution_count": 11,
   "id": "b889e0bd",
   "metadata": {},
   "outputs": [],
   "source": [
    "# params_list = []\n",
    "# for chi_idx in range(n_external):\n",
    "#     params = (chi_idx, external_chis[chi_idx])\n",
    "#     params_list.append(params)"
   ]
  },
  {
   "cell_type": "code",
   "execution_count": 12,
   "id": "c0fc3f00",
   "metadata": {},
   "outputs": [],
   "source": [
    "# compute_elem(params_list[0])"
   ]
  },
  {
   "cell_type": "code",
   "execution_count": 13,
   "id": "7c1cf8c2",
   "metadata": {},
   "outputs": [],
   "source": [
    "# from tqdm import tqdm\n",
    "# from multiprocessing import Pool\n",
    "\n",
    "# with Pool(processes=1) as pool:\n",
    "#         results = list(tqdm(\n",
    "#             pool.imap(compute_elem, params_list),\n",
    "#             total=len(params_list)\n",
    "#         ))"
   ]
  }
 ],
 "metadata": {
  "kernelspec": {
   "display_name": "cosmology",
   "language": "python",
   "name": "cosmology"
  },
  "language_info": {
   "codemirror_mode": {
    "name": "ipython",
    "version": 3
   },
   "file_extension": ".py",
   "mimetype": "text/x-python",
   "name": "python",
   "nbconvert_exporter": "python",
   "pygments_lexer": "ipython3",
   "version": "3.9.19"
  }
 },
 "nbformat": 4,
 "nbformat_minor": 5
}
