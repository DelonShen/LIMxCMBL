{
 "cells": [
  {
   "cell_type": "code",
   "execution_count": null,
   "id": "6dc74936",
   "metadata": {},
   "outputs": [],
   "source": [
    "from LIMxCMBL.init import *\n",
    "from LIMxCMBL.noise import *\n",
    "\n",
    "import sys\n",
    "\n",
    "# Lambda_idx = int(sys.argv[1])\n",
    "# nbins = int(sys.argv[2])\n",
    "Lambda_idx = 15\n",
    "nbins = 10\n",
    "\n",
    "Lambda = Lambdas[Lambda_idx]"
   ]
  },
  {
   "cell_type": "code",
   "execution_count": null,
   "id": "27eda029",
   "metadata": {},
   "outputs": [],
   "source": [
    "# CCAT-prime\n",
    "zmin = 3.5\n",
    "zmax = 8.1\n",
    "\n",
    "Omega_field = 8 * (np.pi/180)**2 #rad^2\n",
    "Pei = 2.3e4 #Mpc^3 kJy^2 /sr^2 \n",
    "chimin = ccl.comoving_angular_distance(cosmo, 1/(1+zmin))\n",
    "chimax = ccl.comoving_angular_distance(cosmo, 1/(1+zmax))"
   ]
  },
  {
   "cell_type": "code",
   "execution_count": null,
   "id": "7f5986e7",
   "metadata": {},
   "outputs": [],
   "source": [
    "chi_bin_edges = np.linspace(chimin*(1+1e-8), chimax*(1 - 1e-8), nbins + 1)\n",
    "chi_bin_centers = (chi_bin_edges[1:] + chi_bin_edges[:-1])/2\n",
    "dchi_binned = np.mean(np.diff(chi_bin_edges))"
   ]
  },
  {
   "cell_type": "code",
   "execution_count": null,
   "id": "5f2a80f1",
   "metadata": {},
   "outputs": [],
   "source": [
    "# get CMB lensing component\n",
    "from LIMxCMBL.kernels import get_f_Kkappa\n",
    "f_WkD = get_f_Kkappa()\n",
    "\n",
    "from LIMxCMBL.cross_spectrum import *\n",
    "ClKK = d_chib_integral(f_WkD, f_WkD) #[Mpc]^2\n",
    "\n",
    "\n",
    "# beam=1.4, noise=7\n",
    "from scipy.interpolate import interp1d\n",
    "N0_ells = np.logspace(1, np.log10(5000), 500)\n",
    "with open('LIMxCMBL/N0.npy', 'rb') as f:\n",
    "    N0 = np.load(f)\n",
    "    \n",
    "f_N0 = interp1d(x = N0_ells, y = N0)\n",
    "\n",
    "    \n",
    "plt.plot(ells, ClKK)\n",
    "plt.plot(ells, f_N0(ells))\n",
    "plt.loglog()\n",
    "\n"
   ]
  },
  {
   "cell_type": "code",
   "execution_count": null,
   "id": "258bf021",
   "metadata": {},
   "outputs": [],
   "source": [
    "# if no high pass IKappa\n",
    "from  LIMxCMBL.kernels import *\n",
    "f_KLIM   = get_f_KI()\n",
    "f_Kkappa = get_f_Kkappa()\n",
    "\n",
    "f_KLIM_windowed = apply_window(f_K = f_KLIM,\n",
    "                               chimin = chimin,\n",
    "                               chimax = chimax)\n",
    "\n",
    "\n"
   ]
  },
  {
   "cell_type": "code",
   "execution_count": null,
   "id": "76ab421b",
   "metadata": {},
   "outputs": [],
   "source": [
    "from scipy.interpolate import interp1d\n",
    "from scipy.integrate import quad, quad_vec, trapezoid\n",
    "\n",
    "inner_dkparp_integral = np.load('/oak/stanford/orgs/kipac/users/delon/LIMxCMBL/inner_dkparp_integral.npy')\n",
    "f_inner_integral = interp1d(x = chibs, y = inner_dkparp_integral.astype(np.float64), axis = 1)"
   ]
  },
  {
   "cell_type": "code",
   "execution_count": null,
   "id": "50ac4d09",
   "metadata": {},
   "outputs": [],
   "source": [
    "def bin_integrand(chi):\n",
    "    f_KLIMLo = get_f_KILo(external_chi = chi, Lambda=Lambda)\n",
    "    f_KLIMLo_windowed = apply_window(f_K = f_KLIMLo,\n",
    "                                     chimin = chimin,\n",
    "                                     chimax = chimax)\n",
    "\n",
    "    def integrand(_chib):\n",
    "        plus = _chib*(1+deltas)\n",
    "        mins = _chib*(1-deltas)\n",
    "\n",
    "        _interm  = f_KLIMLo_windowed(plus) * f_Kkappa(mins)\n",
    "        _interm += f_KLIMLo_windowed(mins) * f_Kkappa(plus) \n",
    "\n",
    "        _factor = (2 / _chib)\n",
    "        _factor = _factor * deltas\n",
    "        _factor = np.einsum('d, ld->ld', _factor, f_inner_integral(_chib))\n",
    "\n",
    "        _interm  = np.einsum('d,ld->ld', _interm, _factor)\n",
    "\n",
    "        return trapezoid(x = np.log(deltas), y = _interm, axis=-1)\n",
    "\n",
    "    res, _ = quad_vec(integrand, 10, chimax_sample, epsrel = 1e-3, epsabs =0.0)\n",
    "    return res"
   ]
  },
  {
   "cell_type": "code",
   "execution_count": null,
   "id": "ccff573a",
   "metadata": {},
   "outputs": [],
   "source": [
    "from scipy.integrate import quad_vec\n",
    "ILo_kappa = np.zeros((len(ells), nbins), dtype = np.float64)\n",
    "for i, (left, right) in tqdm(enumerate(zip(chi_bin_edges, \n",
    "                                      chi_bin_edges[1:])), total=nbins):\n",
    "    ILo_kappa[:,i], _ = quad_vec(bin_integrand, left, right, epsabs =0, epsrel=1e-3, workers=1)\n",
    "    ILo_kappa[:,i] /= dchi_binned"
   ]
  },
  {
   "cell_type": "code",
   "execution_count": null,
   "id": "679becae",
   "metadata": {},
   "outputs": [],
   "source": [
    "# 13:49 to beat"
   ]
  },
  {
   "cell_type": "code",
   "execution_count": null,
   "id": "2855a455",
   "metadata": {},
   "outputs": [],
   "source": [
    "plt.imshow(res)"
   ]
  }
 ],
 "metadata": {
  "kernelspec": {
   "display_name": "cosmology",
   "language": "python",
   "name": "cosmology"
  },
  "language_info": {
   "codemirror_mode": {
    "name": "ipython",
    "version": 3
   },
   "file_extension": ".py",
   "mimetype": "text/x-python",
   "name": "python",
   "nbconvert_exporter": "python",
   "pygments_lexer": "ipython3",
   "version": "3.9.19"
  }
 },
 "nbformat": 4,
 "nbformat_minor": 5
}
