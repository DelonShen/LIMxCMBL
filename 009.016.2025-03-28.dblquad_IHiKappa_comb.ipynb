{
 "cells": [
  {
   "cell_type": "code",
   "execution_count": 1,
   "id": "210e9be8",
   "metadata": {},
   "outputs": [],
   "source": [
    "from LIMxCMBL.init import *\n",
    "from LIMxCMBL.kernels import *\n",
    "\n",
    "from LIMxCMBL.noise import *\n",
    "\n",
    "import sys\n",
    "\n",
    "Lambda_idx = 24#int(sys.argv[1])\n",
    "nbins = 100#int(sys.argv[2])\n",
    "curr_bin = 42#int(sys.argv[3])\n",
    "Lambda = Lambdas[Lambda_idx]\n"
   ]
  },
  {
   "cell_type": "code",
   "execution_count": 2,
   "id": "4bffee3e",
   "metadata": {},
   "outputs": [],
   "source": [
    "zmin = 2.4#float(sys.argv[4])\n",
    "zmax = 3.4#float(sys.argv[5])\n",
    "\n",
    "line_str = 'CO'#sys.argv[6]"
   ]
  },
  {
   "cell_type": "code",
   "execution_count": 3,
   "id": "76ec1d59",
   "metadata": {},
   "outputs": [],
   "source": [
    "chimin = ccl.comoving_angular_distance(cosmo, 1/(1+zmin))\n",
    "chimax = ccl.comoving_angular_distance(cosmo, 1/(1+zmax))"
   ]
  },
  {
   "cell_type": "code",
   "execution_count": 4,
   "id": "17631343",
   "metadata": {},
   "outputs": [],
   "source": [
    "chi_bin_edges = np.linspace(chimin*(1+1e-8), chimax*(1 - 1e-8), nbins + 1)\n",
    "chi_bin_centers = (chi_bin_edges[1:] + chi_bin_edges[:-1])/2\n",
    "dchi_binned = np.mean(np.diff(chi_bin_edges))"
   ]
  },
  {
   "cell_type": "code",
   "execution_count": 5,
   "id": "bb249176",
   "metadata": {},
   "outputs": [
    {
     "name": "stdout",
     "output_type": "stream",
     "text": [
      "/scratch/users/delon/LIMxCMBL/IHiKappa/CO_IHik_zmin_2.4_zmax_3.4_idx_24_dblquad_n_bins_100_curr_42.npy\n"
     ]
    }
   ],
   "source": [
    "oup_fname = '/scratch/users/delon/LIMxCMBL/IHiKappa/'\n",
    "oup_fname += '%s_IHik_zmin_%.1f_zmax_%.1f_idx_%d_dblquad_n_bins_%d_curr_%d.npy'%(line_str,\n",
    "                                                                                 zmin, \n",
    "                                                                                 zmax, \n",
    "                                                                                 Lambda_idx, \n",
    "                                                                                 nbins, \n",
    "                                                                                 curr_bin)\n",
    "print(oup_fname)\n"
   ]
  },
  {
   "cell_type": "code",
   "execution_count": 6,
   "id": "a293aa6a",
   "metadata": {},
   "outputs": [],
   "source": [
    "\n",
    "# get CMB lensing component\n",
    "from LIMxCMBL.kernels import get_f_Kkappa\n",
    "f_WkD = get_f_Kkappa()\n",
    "\n",
    "from LIMxCMBL.cross_spectrum import *\n",
    "ClKK = d_chib_integral(f_WkD, f_WkD) #[Mpc]^2\n"
   ]
  },
  {
   "cell_type": "code",
   "execution_count": 7,
   "id": "b275cf15",
   "metadata": {},
   "outputs": [],
   "source": [
    "kernels = {}\n",
    "kernels['CII'] = np.array(KI)\n",
    "kernels['CO'] = np.array(KI_CO)\n",
    "kernels['Lya'] = np.array(KI_Lya)\n",
    "kernels['HI'] = np.array(KI_HI)\n",
    "\n",
    "\n",
    "_KI = kernels[line_str]"
   ]
  },
  {
   "cell_type": "code",
   "execution_count": 8,
   "id": "dc6c2dd9",
   "metadata": {},
   "outputs": [],
   "source": [
    "from  LIMxCMBL.kernels import *\n",
    "f_KLIM   = interp1d(x=chis, y = _KI, bounds_error = False, fill_value=0)\n",
    "f_Kkappa = get_f_Kkappa()\n",
    "\n",
    "f_KLIM_windowed = apply_window(f_K = f_KLIM,\n",
    "                               chimin = chimin,\n",
    "                               chimax = chimax)"
   ]
  },
  {
   "cell_type": "code",
   "execution_count": 9,
   "id": "a02e5021",
   "metadata": {},
   "outputs": [],
   "source": [
    "from scipy.interpolate import interp1d\n",
    "from scipy.integrate import quad, quad_vec, trapezoid\n",
    "\n",
    "inner_dkparp_integral = np.load('/oak/stanford/orgs/kipac/users/delon/LIMxCMBL/inner_dkparp_integral.npy')\n",
    "inner_dkparp_integral = inner_dkparp_integral.astype(np.float64)\n",
    "\n",
    "f_inner_integral = interp1d(x = chibs, y = inner_dkparp_integral, axis = 1)"
   ]
  },
  {
   "cell_type": "code",
   "execution_count": 10,
   "id": "b359bc20",
   "metadata": {},
   "outputs": [],
   "source": [
    "from scipy.interpolate import interp1d, interp2d, LinearNDInterpolator\n",
    "\n",
    "tmp_chibs = []\n",
    "tmp_log_deltas = []\n",
    "tmp_fnctn = []\n",
    "for i in range(len(chibs)):\n",
    "    for j in range(len(deltas)):\n",
    "        tmp_chibs += [chibs[i]]\n",
    "        tmp_log_deltas += [np.log(deltas[j])]\n",
    "        tmp_fnctn += [inner_dkparp_integral[:,i,j]]\n",
    "        \n",
    "f_inner_integral_2d = LinearNDInterpolator(list(zip(tmp_chibs, tmp_log_deltas)), tmp_fnctn)"
   ]
  },
  {
   "cell_type": "code",
   "execution_count": 11,
   "id": "ac3a015c",
   "metadata": {},
   "outputs": [],
   "source": [
    "def get_f_KILo(external_chi, Lambda):\n",
    "    prefactor = Lambda / np.pi #units 1/cMpc\n",
    "    return lambda chi : prefactor * f_KLIM(chi) * np.sinc(Lambda * (external_chi - chi) / np.pi)\n",
    "\n",
    "def bin_integrand(chi):\n",
    "    f_KLIMLo = get_f_KILo(external_chi = chi, Lambda=Lambda)\n",
    "    f_KLIMLo_windowed = apply_window(f_K = f_KLIMLo,\n",
    "                                     chimin = chimin,\n",
    "                                     chimax = chimax)\n",
    "    _curr_KI = 2 * np.interp(x = chi, xp = chis, fp = _KI, left = 0, right = 0)\n",
    "    \n",
    "    \n",
    "    def integrand(_chib):\n",
    "        #Low passed\n",
    "        plus = _chib*(1+deltas)\n",
    "        mins = _chib*(1-deltas)\n",
    "\n",
    "        _interm  = f_KLIMLo_windowed(plus) * f_Kkappa(mins)\n",
    "        _interm += f_KLIMLo_windowed(mins) * f_Kkappa(plus) \n",
    "\n",
    "        _factor = (2 / _chib)\n",
    "        _factor = _factor * deltas\n",
    "        _factor = np.einsum('d, ld->ld', _factor, f_inner_integral(_chib))\n",
    "\n",
    "        _interm  = np.einsum('d,ld->ld', _interm, _factor)\n",
    "\n",
    "        LO_integrand = trapezoid(x = np.log(deltas), y = _interm, axis=-1)\n",
    "        \n",
    "        #unfiltered\n",
    "        _delta = np.abs(1 - chi / _chib)\n",
    "        _delta = np.where(_delta < 1e-6, 1e-6,\n",
    "                         np.where(_delta > 0.7, \n",
    "                                 0.7,\n",
    "                                 _delta))\n",
    "        unfiltered_integrand = (_curr_KI \n",
    "                                * np.interp(x = 2*_chib - chi, \n",
    "                                            xp = chis, fp = Wk * Dz, \n",
    "                                            left = 0, right = 0)\n",
    "                                * f_inner_integral_2d((_chib, np.log(_delta))) \n",
    "                                / _chib**2)\n",
    "        \n",
    "        return unfiltered_integrand - LO_integrand\n",
    "\n",
    "    res, _ = quad_vec(integrand, 10, chimax_sample, epsrel = 1e-3, epsabs =0.0)\n",
    "    return res"
   ]
  },
  {
   "cell_type": "code",
   "execution_count": 12,
   "id": "b9e77f98",
   "metadata": {},
   "outputs": [
    {
     "name": "stdout",
     "output_type": "stream",
     "text": [
      "6287.395441114092 6297.615764641349\n"
     ]
    }
   ],
   "source": [
    "from scipy.integrate import quad_vec\n",
    "left = chi_bin_edges[curr_bin]\n",
    "right = chi_bin_edges[curr_bin + 1]\n",
    "print(left, right)"
   ]
  },
  {
   "cell_type": "code",
   "execution_count": 13,
   "id": "23fd4f88",
   "metadata": {},
   "outputs": [],
   "source": [
    "# res, _ = quad_vec(bin_integrand, left, right, epsabs =0, epsrel=1e-3)\n",
    "# res /= dchi_binned\n",
    "\n",
    "# np.save(oup_fname, res)\n",
    "# print('outputted')"
   ]
  },
  {
   "cell_type": "code",
   "execution_count": 14,
   "id": "df776881",
   "metadata": {},
   "outputs": [],
   "source": [
    "IHiKappa = np.load(oup_fname)"
   ]
  },
  {
   "cell_type": "code",
   "execution_count": 15,
   "id": "f59a39bd",
   "metadata": {},
   "outputs": [],
   "source": [
    "n_bins = nbins"
   ]
  },
  {
   "cell_type": "code",
   "execution_count": 17,
   "id": "75e4e06f",
   "metadata": {},
   "outputs": [],
   "source": [
    "I_kappa_fname = '/scratch/users/delon/LIMxCMBL/IHiKappa/Ik_'\n",
    "I_kappa_fname +='zmin_%.5f_zmax_%.5f_quad_next_%d.npy'%(zmin, \n",
    "                                                        zmax, \n",
    "                                                        1000)\n",
    "\n",
    "I_kappa_unbinned = np.load(I_kappa_fname)\n",
    "\n",
    "I_kappa = np.zeros((len(ells), n_bins))\n",
    "external_chis = np.linspace(chimin*(1+1e-8), chimax*(1 - 1e-8), 1000)\n",
    "for i, (l1, r1) in enumerate(zip(chi_bin_edges, chi_bin_edges[1:])):\n",
    "            idx1 = np.where((external_chis > l1) & (external_chis <= r1))[0]\n",
    "            I_kappa[:,i] = (np.sum(I_kappa_unbinned[:,idx1[0]:idx1[-1]+1,], \n",
    "                                 axis=(1)) / len(idx1))\n",
    "            \n",
    "ILo_kappa = np.zeros((100, n_bins))\n",
    "\n",
    "oup_fname = '/scratch/users/delon/LIMxCMBL/IHiKappa/ILok_zmin_%.5f_zmax_%.5f_idx_%d_dblquad_n_bins_%d_curr_%d.npy'%(zmin, zmax, \n",
    "                                                                                                                    Lambda_idx, n_bins, \n",
    "                                                                                                                    curr_bin)\n",
    "ILo_kappa[:,curr_bin] = np.load(oup_fname)\n",
    "\n",
    "\n",
    "old_IHi_kappa = I_kappa - ILo_kappa"
   ]
  },
  {
   "cell_type": "code",
   "execution_count": 18,
   "id": "add52bad",
   "metadata": {},
   "outputs": [],
   "source": [
    "import matplotlib.pyplot as plt"
   ]
  },
  {
   "cell_type": "code",
   "execution_count": 19,
   "id": "8f0ccefb",
   "metadata": {},
   "outputs": [
    {
     "data": {
      "image/png": "[encoded data removed]",
      "text/plain": [
       "<Figure size 432x288 with 1 Axes>"
      ]
     },
     "metadata": {
      "needs_background": "light"
     },
     "output_type": "display_data"
    }
   ],
   "source": [
    "plt.plot(ells, IHiKappa, 'k')\n",
    "plt.plot(ells, old_IHi_kappa[:,curr_bin], 'r--')\n",
    "\n",
    "plt.xscale('log')"
   ]
  }
 ],
 "metadata": {
  "kernelspec": {
   "display_name": "cosmology",
   "language": "python",
   "name": "cosmology"
  },
  "language_info": {
   "codemirror_mode": {
    "name": "ipython",
    "version": 3
   },
   "file_extension": ".py",
   "mimetype": "text/x-python",
   "name": "python",
   "nbconvert_exporter": "python",
   "pygments_lexer": "ipython3",
   "version": "3.9.19"
  }
 },
 "nbformat": 4,
 "nbformat_minor": 5
}
