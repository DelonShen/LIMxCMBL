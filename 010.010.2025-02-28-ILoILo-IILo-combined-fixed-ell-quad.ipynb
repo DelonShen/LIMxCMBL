{
 "cells": [
  {
   "cell_type": "code",
   "execution_count": 1,
   "id": "ad2fb941",
   "metadata": {},
   "outputs": [
    {
     "name": "stdout",
     "output_type": "stream",
     "text": [
      "/scratch/users/delon/LIMxCMBL/I_auto/comb_zmin_3.5_zmax_8.1_Lambda_idx_18_n_ext_200_l_0_quad.npy\n"
     ]
    }
   ],
   "source": [
    "from LIMxCMBL.init import *\n",
    "from LIMxCMBL.kernels import *\n",
    "import sys\n",
    "\n",
    "# Lambda_idx = int(sys.argv[1])\n",
    "# n_external = int(sys.argv[2])\n",
    "# ell_idx = int(sys.argv[3])\n",
    "\n",
    "\n",
    "Lambda_idx = 18\n",
    "n_external = 200\n",
    "ell_idx = 0\n",
    "\n",
    "Lambda = Lambdas[Lambda_idx]\n",
    "\n",
    "# CCAT-prime\n",
    "zmin = 3.5\n",
    "zmax = 8.1\n",
    "\n",
    "oup_fname = '/scratch/users/delon/LIMxCMBL/I_auto/comb_zmin_%.1f_zmax_%.1f_Lambda_idx_%d_n_ext_%d_l_%d_quad.npy'%(zmin, zmax, \n",
    "                                                                                                                     Lambda_idx, \n",
    "                                                                                                                     n_external,\n",
    "                                                                                                                    ell_idx)\n",
    "print(oup_fname)"
   ]
  },
  {
   "cell_type": "code",
   "execution_count": 2,
   "id": "9981add2",
   "metadata": {},
   "outputs": [],
   "source": [
    "Omega_field = 8 * (np.pi/180)**2 #rad^2\n",
    "Pei = 2.3e4 #Mpc^3 kJy^2 /sr^2 \n",
    "chimin = ccl.comoving_angular_distance(cosmo, 1/(1+zmin))\n",
    "chimax = ccl.comoving_angular_distance(cosmo, 1/(1+zmax))"
   ]
  },
  {
   "cell_type": "code",
   "execution_count": 3,
   "id": "997a9062",
   "metadata": {},
   "outputs": [
    {
     "name": "stdout",
     "output_type": "stream",
     "text": [
      "external chi spacing 11.103205339966282\n"
     ]
    }
   ],
   "source": [
    "from scipy.interpolate import interp1d, LinearNDInterpolator\n",
    "from scipy.integrate import quad, quad_vec, trapezoid\n",
    "\n",
    "external_chis = np.linspace(chimin*(1+1e-8), chimax*(1 - 1e-8), n_external)\n",
    "print('external chi spacing', np.mean(np.diff(external_chis)))\n",
    "\n",
    "inner_dkparp_integral = np.load('/oak/stanford/orgs/kipac/users/delon/LIMxCMBL/inner_dkparp_integral.npy')\n",
    "tmp_chibs = []\n",
    "tmp_log_deltas = []\n",
    "tmp_fnctn = []\n",
    "for i in range(len(chibs)):\n",
    "    for j in range(len(deltas)):\n",
    "        tmp_chibs += [chibs[i]]\n",
    "        tmp_log_deltas += [np.log10(deltas[j])]\n",
    "        tmp_fnctn += [inner_dkparp_integral[ell_idx,i,j]]\n",
    "        \n",
    "f_inner_integral = LinearNDInterpolator(list(zip(tmp_chibs, tmp_log_deltas)), tmp_fnctn)\n",
    "f_inner_integral_LoLo = interp1d(x = chibs, y = inner_dkparp_integral[ell_idx], axis = 0)"
   ]
  },
  {
   "cell_type": "code",
   "execution_count": 4,
   "id": "d4c11f84",
   "metadata": {},
   "outputs": [],
   "source": [
    "from tqdm import trange\n",
    "\n",
    "# for LoLo\n",
    "\n",
    "f_KLIMLo1 = get_f_KILo(external_chi = external_chis.reshape(n_external,1,1), Lambda=Lambda)\n",
    "f_KLIMLo1_windowed = apply_window(f_K = f_KLIMLo1,\n",
    "                                 chimin = chimin,\n",
    "                                 chimax = chimax)\n",
    "\n",
    "f_KLIMLo2 = get_f_KILo(external_chi = external_chis.reshape(1,n_external, 1), Lambda=Lambda)\n",
    "f_KLIMLo2_windowed = apply_window(f_K = f_KLIMLo2,\n",
    "                                 chimin = chimin,\n",
    "                                 chimax = chimax)\n",
    "\n",
    "#for cross\n",
    "\n",
    "f_KLIM   = get_f_KI()\n",
    "\n",
    "f_KLIM_windowed = apply_window(f_K = f_KLIM,\n",
    "                               chimin = chimin,\n",
    "                               chimax = chimax)\n",
    "f_KLIMLo = get_f_KILo(external_chi = external_chis, Lambda=Lambda)\n",
    "\n",
    "f_KLIMLo_windowed = apply_window(f_K = f_KLIMLo,\n",
    "                                 chimin = chimin,\n",
    "                                 chimax = chimax)\n",
    "\n",
    "\n",
    "\n",
    "def f_integrand(_chib):\n",
    "    \n",
    "    #I Lo + Lo I\n",
    "    _delta = np.abs(1 - external_chis/_chib) #(n_ext)\n",
    "    _delta = np.where(_delta < 1e-6, 1e-6, \n",
    "                     np.where(_delta > 0.7, 0.7, _delta))\n",
    "    \n",
    "    cross_integrand = 2 * f_KLIM_windowed(external_chis) #chi (n_ext)\n",
    "    cross_integrand *= f_inner_integral([(_chib, np.log10(_d)) for _d in _delta]) #(n_ext)\n",
    "    cross_integrand /= (_chib**2) #(n_ext)\n",
    "    cross_integrand = np.einsum('x,xy->xy', \n",
    "                           cross_integrand, \n",
    "                           f_KLIMLo_windowed((2*_chib - external_chis.reshape(n_external, 1))))\n",
    "    cross_integrand = cross_integrand + np.moveaxis(cross_integrand, -1, -2) # the two cross terms are just from switching chi and chi'\n",
    "\n",
    "    \n",
    "    #LoLo\n",
    "    plus = _chib*(1+deltas)\n",
    "    mins = _chib*(1-deltas)\n",
    "    LoLo_integrand  = f_KLIMLo1_windowed(plus) * f_KLIMLo2_windowed(mins) #(x,y,d)\n",
    "    LoLo_integrand += f_KLIMLo1_windowed(mins) * f_KLIMLo2_windowed(plus) #(x,y,d)\n",
    "    LoLo_integrand *= (2 / _chib) #(x,y,d)\n",
    "    LoLo_integrand = np.einsum('xyd,d->xyd', LoLo_integrand, deltas)\n",
    "    LoLo_integrand = np.einsum('xyd,d->xyd', LoLo_integrand, f_inner_integral_LoLo(_chib))\n",
    "    LoLo_integrand = trapezoid(x = np.log(deltas), y = LoLo_integrand, axis=-1)\n",
    "    \n",
    "    return LoLo_integrand - cross_integrand"
   ]
  },
  {
   "cell_type": "code",
   "execution_count": 5,
   "id": "6303da6d",
   "metadata": {},
   "outputs": [],
   "source": [
    "res, _ = quad_vec(f_integrand, 10, chimax_sample, epsrel = 1e-3, epsabs =0.0, workers=32)"
   ]
  },
  {
   "cell_type": "code",
   "execution_count": 6,
   "id": "8728253b",
   "metadata": {},
   "outputs": [
    {
     "name": "stdout",
     "output_type": "stream",
     "text": [
      "outputted\n"
     ]
    }
   ],
   "source": [
    "np.save(oup_fname, res)\n",
    "print('outputted')"
   ]
  }
 ],
 "metadata": {
  "kernelspec": {
   "display_name": "cosmology",
   "language": "python",
   "name": "cosmology"
  },
  "language_info": {
   "codemirror_mode": {
    "name": "ipython",
    "version": 3
   },
   "file_extension": ".py",
   "mimetype": "text/x-python",
   "name": "python",
   "nbconvert_exporter": "python",
   "pygments_lexer": "ipython3",
   "version": "3.9.19"
  }
 },
 "nbformat": 4,
 "nbformat_minor": 5
}
