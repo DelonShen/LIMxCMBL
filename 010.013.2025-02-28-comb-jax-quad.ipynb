{
 "cells": [
  {
   "cell_type": "code",
   "execution_count": 1,
   "id": "b5856779",
   "metadata": {},
   "outputs": [],
   "source": [
    "import jax\n",
    "import jax.numpy as jnp"
   ]
  },
  {
   "cell_type": "code",
   "execution_count": 2,
   "id": "163548a9",
   "metadata": {},
   "outputs": [],
   "source": [
    "from LIMxCMBL.init import *\n"
   ]
  },
  {
   "cell_type": "code",
   "execution_count": 3,
   "id": "469398ba",
   "metadata": {},
   "outputs": [
    {
     "name": "stdout",
     "output_type": "stream",
     "text": [
      "/scratch/users/delon/LIMxCMBL/I_auto/comb_zmin_3.5_zmax_8.1_Lambda_idx_18_nb_100_jax.npy\n"
     ]
    }
   ],
   "source": [
    "# Lambda_idx = int(sys.argv[1])\n",
    "# nbins = int(sys.argv[2])\n",
    "# ell_idx = int(sys.argv[3])\n",
    "\n",
    "Lambda_idx = 18\n",
    "nbins = 100\n",
    "\n",
    "Lambda = Lambdas[Lambda_idx]\n",
    "\n",
    "# CCAT-prime\n",
    "zmin = 3.5\n",
    "zmax = 8.1\n",
    "\n",
    "oup_fname = '/scratch/users/delon/LIMxCMBL/I_auto/comb'\n",
    "oup_fname += '_zmin_%.1f_zmax_%.1f_Lambda_idx_%d_nb_%d_jax.npy'%(zmin, zmax, Lambda_idx, nbins)\n",
    "print(oup_fname)"
   ]
  },
  {
   "cell_type": "code",
   "execution_count": 4,
   "id": "24b3deb9",
   "metadata": {},
   "outputs": [],
   "source": [
    "Omega_field = 8 * (np.pi/180)**2 #rad^2\n",
    "Pei = 2.3e4 #Mpc^3 kJy^2 /sr^2 \n",
    "chimin = ccl.comoving_angular_distance(cosmo, 1/(1+zmin))\n",
    "chimax = ccl.comoving_angular_distance(cosmo, 1/(1+zmax))"
   ]
  },
  {
   "cell_type": "code",
   "execution_count": 5,
   "id": "29356ade",
   "metadata": {},
   "outputs": [],
   "source": [
    "from scipy.interpolate import interp1d, LinearNDInterpolator\n",
    "from scipy.integrate import quad, quad_vec, trapezoid, tplquad\n",
    "\n",
    "inner_dkparp_integral = np.load('LIMxCMBL/inner_dkparp_integral.npy')\n",
    "tmp_chibs = []\n",
    "tmp_log_deltas = []\n",
    "tmp_fnctn = []\n",
    "for i in range(len(chibs)):\n",
    "    for j in range(len(deltas)):\n",
    "        tmp_chibs += [chibs[i]]\n",
    "        tmp_log_deltas += [np.log10(deltas[j])]\n",
    "        tmp_fnctn += [inner_dkparp_integral[:,i,j]]\n",
    "        \n",
    "f_inner_integral = LinearNDInterpolator(list(zip(tmp_chibs, tmp_log_deltas)), tmp_fnctn)\n",
    "f_inner_integral_LoLo = interp1d(x = chibs, y = inner_dkparp_integral, axis = 1)"
   ]
  },
  {
   "cell_type": "code",
   "execution_count": 6,
   "id": "eb9c1ce2-4013-4315-af7c-1d509d693df5",
   "metadata": {},
   "outputs": [
    {
     "data": {
      "text/plain": [
       "(100, 256, 128)"
      ]
     },
     "execution_count": 6,
     "metadata": {},
     "output_type": "execute_result"
    }
   ],
   "source": [
    "inner_dkparp_integral.shape"
   ]
  },
  {
   "cell_type": "code",
   "execution_count": 7,
   "id": "72643948",
   "metadata": {},
   "outputs": [
    {
     "name": "stdout",
     "output_type": "stream",
     "text": [
      "(256, 128, 100)\n"
     ]
    }
   ],
   "source": [
    "from interpax import interp2d, interp1d\n",
    "inner_dkparp_integral = np.moveaxis(inner_dkparp_integral, [0,1,2], [2,0,1])\n",
    "print(inner_dkparp_integral.shape)\n",
    "inner_dkparp_integral = jnp.array(inner_dkparp_integral.astype(np.float64))"
   ]
  },
  {
   "cell_type": "code",
   "execution_count": 8,
   "id": "93f0bd99",
   "metadata": {},
   "outputs": [
    {
     "data": {
      "text/plain": [
       "array([7.52789430e+02, 7.53677751e+02, 7.54637646e+02, 7.55672991e+02,\n",
       "       7.56787517e+02, 7.57984717e+02, 7.59267738e+02, 7.60639235e+02,\n",
       "       7.62101205e+02, 7.63654832e+02, 7.65300305e+02, 7.67036579e+02,\n",
       "       7.68861100e+02, 7.70769452e+02, 7.72755076e+02, 7.74808880e+02,\n",
       "       7.76918816e+02, 7.79069426e+02, 7.81241326e+02, 7.83410668e+02,\n",
       "       7.85548579e+02, 7.87620536e+02, 7.89585741e+02, 7.91396524e+02,\n",
       "       7.92997694e+02, 7.94325987e+02, 7.95309590e+02, 7.95867771e+02,\n",
       "       7.95910696e+02, 7.95339538e+02, 7.94046896e+02, 7.91917717e+02,\n",
       "       7.88830703e+02, 7.84660582e+02, 7.79281068e+02, 7.72568865e+02,\n",
       "       7.64408751e+02, 7.54699746e+02, 7.43362411e+02, 7.30346923e+02,\n",
       "       7.15641865e+02, 6.99282815e+02, 6.81360160e+02, 6.62024577e+02,\n",
       "       6.41488863e+02, 6.20023961e+02, 5.97946678e+02, 5.75593866e+02,\n",
       "       5.53274567e+02, 5.31389699e+02, 5.10217842e+02, 4.89842814e+02,\n",
       "       4.70142244e+02, 4.50810230e+02, 4.31425206e+02, 4.11553485e+02,\n",
       "       3.90110695e+02, 3.66536294e+02, 3.40516679e+02, 3.12345281e+02,\n",
       "       2.83066707e+02, 2.54296804e+02, 2.27829907e+02, 2.05162671e+02,\n",
       "       1.86865436e+02, 1.72074808e+02, 1.58692285e+02, 1.44161896e+02,\n",
       "       1.26813885e+02, 1.07661321e+02, 8.98756157e+01, 7.62916552e+01,\n",
       "       6.73621757e+01, 6.02040798e+01, 5.15588993e+01, 4.12454772e+01,\n",
       "       3.24335509e+01, 2.71511984e+01, 2.33509128e+01, 1.84988749e+01,\n",
       "       1.37483736e+01, 1.09856005e+01, 8.91187625e+00, 6.44327249e+00,\n",
       "       4.78864361e+00, 3.70527627e+00, 2.55615900e+00, 1.86318127e+00,\n",
       "       1.30071896e+00, 8.78231732e-01, 5.98391823e-01, 3.84671888e-01,\n",
       "       2.45798840e-01, 1.50109244e-01, 9.28914224e-02, 5.58733654e-02,\n",
       "       3.22571126e-02, 1.77890945e-02, 9.41457767e-03, 4.77346443e-03])"
      ]
     },
     "execution_count": 8,
     "metadata": {},
     "output_type": "execute_result"
    }
   ],
   "source": [
    "f_inner_integral((7838, np.log10(0.001)))"
   ]
  },
  {
   "cell_type": "code",
   "execution_count": 9,
   "id": "ec3ae093-8658-48d0-837b-08044be1dda2",
   "metadata": {},
   "outputs": [
    {
     "data": {
      "text/plain": [
       "(256, 128, 100)"
      ]
     },
     "execution_count": 9,
     "metadata": {},
     "output_type": "execute_result"
    }
   ],
   "source": [
    "inner_dkparp_integral.shape"
   ]
  },
  {
   "cell_type": "code",
   "execution_count": 10,
   "id": "91d8b587",
   "metadata": {},
   "outputs": [
    {
     "data": {
      "text/plain": [
       "Array([[7.5279883e+02, 7.5368726e+02, 7.5464716e+02, 7.5568250e+02,\n",
       "        7.5679694e+02, 7.5799426e+02, 7.5927722e+02, 7.6064874e+02,\n",
       "        7.6211066e+02, 7.6366425e+02, 7.6530975e+02, 7.6704602e+02,\n",
       "        7.6887061e+02, 7.7077899e+02, 7.7276459e+02, 7.7481842e+02,\n",
       "        7.7692834e+02, 7.7907898e+02, 7.8125079e+02, 7.8342023e+02,\n",
       "        7.8555811e+02, 7.8763000e+02, 7.8959534e+02, 7.9140613e+02,\n",
       "        7.9300726e+02, 7.9433563e+02, 7.9531921e+02, 7.9587738e+02,\n",
       "        7.9592041e+02, 7.9534930e+02, 7.9405670e+02, 7.9192749e+02,\n",
       "        7.8884058e+02, 7.8467059e+02, 7.7929102e+02, 7.7257886e+02,\n",
       "        7.6441882e+02, 7.5470990e+02, 7.4337262e+02, 7.3035718e+02,\n",
       "        7.1565216e+02, 6.9929321e+02, 6.8137067e+02, 6.6203510e+02,\n",
       "        6.4149951e+02, 6.2003461e+02, 5.9795740e+02, 5.7560461e+02,\n",
       "        5.5328534e+02, 5.3140063e+02, 5.1022885e+02, 4.8985385e+02,\n",
       "        4.7015347e+02, 4.5082159e+02, 4.3143671e+02, 4.1156506e+02,\n",
       "        3.9012241e+02, 3.6654800e+02, 3.4052823e+02, 3.1235651e+02,\n",
       "        2.8307745e+02, 2.5430695e+02, 2.2783955e+02, 2.0517195e+02,\n",
       "        1.8687460e+02, 1.7208411e+02, 1.5870180e+02, 1.4417142e+02,\n",
       "        1.2682281e+02, 1.0766908e+02, 8.9882118e+01, 7.6297424e+01,\n",
       "        6.7368019e+01, 6.0210297e+01, 5.1564800e+01, 4.1250088e+01,\n",
       "        3.2436935e+01, 2.7154472e+01, 2.3354519e+01, 1.8501862e+01,\n",
       "        1.3750282e+01, 1.0987388e+01, 8.9137707e+00, 6.4444866e+00,\n",
       "        4.7895651e+00, 3.7062473e+00, 2.5567248e+00, 1.8636810e+00,\n",
       "        1.3010995e+00, 8.7847912e-01, 5.9859651e-01, 3.8479066e-01,\n",
       "        2.4587791e-01, 1.5014613e-01, 9.2921145e-02, 5.5897485e-02,\n",
       "        3.2274447e-02, 1.7799769e-02, 9.4205029e-03, 4.7762957e-03]],      dtype=float32)"
      ]
     },
     "execution_count": 10,
     "metadata": {},
     "output_type": "execute_result"
    }
   ],
   "source": [
    "interp2d(xq = [7838], yq=[np.log(0.001)], \n",
    "         x = chibs, y = np.log(deltas), f=inner_dkparp_integral,\n",
    "        method='linear',)"
   ]
  },
  {
   "cell_type": "code",
   "execution_count": 11,
   "id": "005ed06e",
   "metadata": {},
   "outputs": [],
   "source": [
    "chi_bin_edges = jnp.linspace(chimin*(1+1e-8), chimax*(1 - 1e-8), nbins + 1)\n",
    "chi_bin_centers = (chi_bin_edges[1:] + chi_bin_edges[:-1])/2\n",
    "dchi_binned = jnp.mean(jnp.diff(chi_bin_edges))"
   ]
  },
  {
   "cell_type": "code",
   "execution_count": 12,
   "id": "0348a309",
   "metadata": {},
   "outputs": [],
   "source": [
    "from jax import jit"
   ]
  },
  {
   "cell_type": "code",
   "execution_count": 13,
   "id": "d024bdc1",
   "metadata": {},
   "outputs": [],
   "source": [
    "_tmp = np.load('LIMxCMBL/_KI.npy')\n",
    "_chis, _KI = _tmp[0], _tmp[1]"
   ]
  },
  {
   "cell_type": "code",
   "execution_count": 14,
   "id": "1e2deded",
   "metadata": {},
   "outputs": [],
   "source": [
    "_chis = jnp.array(_chis)\n",
    "_KI = jnp.array(_KI)"
   ]
  },
  {
   "cell_type": "code",
   "execution_count": 15,
   "id": "7045e82e",
   "metadata": {},
   "outputs": [],
   "source": [
    "@jit\n",
    "def f_KILo(chi, external_chi, Lambda):\n",
    "    return (Lambda / jnp.pi \n",
    "            * jnp.interp(x = chi, xp = _chis, \n",
    "                         fp = _KI, left = 0, right = 0) \n",
    "            * jnp.sinc(Lambda * (external_chi - chi) / np.pi))\n",
    "\n",
    "@jit\n",
    "def f_integrand(_chib, chip, chi):\n",
    "    # by assumption chimin <= chi,chip <= chimax\n",
    "    #I Lo\n",
    "    _delta = jnp.abs(1 - chi/_chib) #(1)\n",
    "    _delta = jnp.where(_delta < 1e-6, 1e-6, _delta)\n",
    "    _delta = jnp.where(_delta > 0.7, 0.7, _delta)\n",
    "    c1    = jnp.where(chimin <= (2*_chib - chi), \n",
    "            jnp.where((2*_chib - chi) <= chimax, \n",
    "            jnp.where(chimin <= chi, \n",
    "            jnp.where(chi <= chimax,\n",
    "                2 * jnp.interp(x = chi, xp = _chis, fp = _KI, left = 0, right = 0) \n",
    "                * interp2d(xq = _chib, yq=jnp.log(_delta), \n",
    "                           x = chibs, y = jnp.log(deltas), f=inner_dkparp_integral,\n",
    "                           method='linear',) #\n",
    "                / (_chib**2) \n",
    "                * f_KILo(2*_chib - chi, external_chi = chip, Lambda=Lambda),\n",
    "                      0),0),0),0)\n",
    "    _delta = jnp.abs(1 - chip/_chib) #(1)\n",
    "    _delta = jnp.where(_delta < 1e-6, 1e-6, _delta)\n",
    "    _delta = jnp.where(_delta > 0.7, 0.7, _delta)\n",
    "\n",
    "    c2    = jnp.where(chimin <= (2*_chib - chip), \n",
    "            jnp.where((2*_chib - chip) <= chimax, \n",
    "            jnp.where(chimin <= chip, \n",
    "            jnp.where(chip <= chimax,\n",
    "                2 * jnp.interp(x = chip, xp = _chis, fp = _KI, left = 0, right = 0)\n",
    "                * interp2d(xq = _chib, yq=jnp.log(_delta), \n",
    "                           x = chibs, y = jnp.log(deltas), f=inner_dkparp_integral,\n",
    "                           method='linear',)\n",
    "                / (_chib**2)\n",
    "                * f_KILo(2*_chib - chip, external_chi = chi, Lambda=Lambda),\n",
    "                      0),0),0),0)\n",
    "\n",
    "    cross_integrand = c1+c2\n",
    "    \n",
    "    #LoLo\n",
    "    plus = _chib*(1+deltas) #(d)\n",
    "    mins = _chib*(1-deltas) #(d)\n",
    "    _idxs = (chimin < plus) & (plus < chimax) & (chimin < mins) & (mins < chimax)\n",
    "    LoLo_integrand  = jnp.where(_idxs,\n",
    "                               f_KILo(plus, external_chi = chi, Lambda=Lambda) \n",
    "                                * f_KILo(mins, external_chi = chip, Lambda=Lambda),\n",
    "                               0) #(d)\n",
    "    LoLo_integrand += jnp.where(_idxs,\n",
    "                               f_KILo(mins, external_chi = chi, Lambda=Lambda) \n",
    "                                * f_KILo(plus, external_chi = chip, Lambda=Lambda),\n",
    "                               0) #(d)\n",
    "    \n",
    "    LoLo_integrand *= (2 / _chib) #(d)\n",
    "    LoLo_integrand *= deltas\n",
    "    LoLo_integrand = jnp.einsum('d, dl->ld',\n",
    "                                LoLo_integrand,\n",
    "                                interp1d(xq = _chib,\n",
    "                                         x = chibs, f=inner_dkparp_integral,\n",
    "                                         method='linear',))           \n",
    "    \n",
    "    LoLo_integrand = jnp.trapezoid(x = jnp.log(deltas), y = LoLo_integrand, axis=-1)\n",
    "    return LoLo_integrand - cross_integrand"
   ]
  },
  {
   "cell_type": "code",
   "execution_count": 16,
   "id": "22c9fed7",
   "metadata": {},
   "outputs": [
    {
     "data": {
      "text/plain": [
       "Array([-6.6355819e-09, -6.6383814e-09, -6.6414092e-09, -6.6446759e-09,\n",
       "       -6.6481927e-09, -6.6519688e-09, -6.6560131e-09, -6.6603327e-09,\n",
       "       -6.6649295e-09, -6.6698047e-09, -6.6749544e-09, -6.6803660e-09,\n",
       "       -6.6860251e-09, -6.6919075e-09, -6.6979782e-09, -6.7041910e-09,\n",
       "       -6.7104908e-09, -6.7168009e-09, -6.7230306e-09, -6.7290666e-09,\n",
       "       -6.7347767e-09, -6.7399952e-09, -6.7445343e-09, -6.7481674e-09,\n",
       "       -6.7506356e-09, -6.7516384e-09, -6.7508341e-09, -6.7478343e-09,\n",
       "       -6.7422072e-09, -6.7334707e-09, -6.7210983e-09, -6.7045192e-09,\n",
       "       -6.6831261e-09, -6.6562817e-09, -6.6233334e-09, -6.5836279e-09,\n",
       "       -6.5365389e-09, -6.4814900e-09, -6.4179906e-09, -6.3456755e-09,\n",
       "       -6.2643442e-09, -6.1740049e-09, -6.0749143e-09, -5.9676086e-09,\n",
       "       -5.8529173e-09, -5.7319465e-09, -5.6060432e-09, -5.4766800e-09,\n",
       "       -5.3452824e-09, -5.2134901e-09, -5.0826534e-09, -4.9531717e-09,\n",
       "       -4.8244519e-09, -4.6949591e-09, -4.5624868e-09, -4.4246105e-09,\n",
       "       -4.2767598e-09, -4.1149950e-09, -3.9377754e-09, -3.7460364e-09,\n",
       "       -3.5446297e-09, -3.3417107e-09, -3.1468010e-09, -2.9683276e-09,\n",
       "       -2.8104934e-09, -2.6702416e-09, -2.5374021e-09, -2.3985398e-09,\n",
       "       -2.2432836e-09, -2.0739830e-09, -1.9069886e-09, -1.7595472e-09,\n",
       "       -1.6379602e-09, -1.5298822e-09, -1.4160454e-09, -1.2911984e-09,\n",
       "       -1.1708913e-09, -1.0707641e-09, -9.8420239e-10, -8.9480018e-10,\n",
       "       -8.0468626e-10, -7.2716572e-10, -6.5874844e-10, -5.9045846e-10,\n",
       "       -5.2813132e-10, -4.7349957e-10, -4.2144446e-10, -3.7469661e-10,\n",
       "       -3.3248518e-10, -2.9382305e-10, -2.5929919e-10, -2.2799186e-10,\n",
       "       -2.0002208e-10, -1.7492466e-10, -1.5255949e-10, -1.3260798e-10,\n",
       "       -1.1487271e-10, -9.9161464e-11, -8.5282635e-11, -7.3051537e-11],      dtype=float32)"
      ]
     },
     "execution_count": 16,
     "metadata": {},
     "output_type": "execute_result"
    }
   ],
   "source": [
    "f_integrand(8000, 8001, 8004)"
   ]
  },
  {
   "cell_type": "code",
   "execution_count": 17,
   "id": "399dace4",
   "metadata": {},
   "outputs": [],
   "source": [
    "from quadax import quadgk, quadcc"
   ]
  },
  {
   "cell_type": "code",
   "execution_count": 18,
   "id": "fc69533e",
   "metadata": {},
   "outputs": [],
   "source": [
    "@jit\n",
    "def chib_quad(y, x, L, R):\n",
    "    return quadgk(f_integrand, [L, R],\n",
    "                  epsabs = 0.0, epsrel = 1e-3, \n",
    "                  args=(y, x))[0]\n",
    "\n",
    "chib_quad(8080,8080, chimin, chimin*(1+1e-1));"
   ]
  },
  {
   "cell_type": "code",
   "execution_count": 19,
   "id": "a8529572-894d-4e53-81d6-f5512fb99f1c",
   "metadata": {},
   "outputs": [],
   "source": [
    "@jit\n",
    "def bin_j_quad(x, lj, L, rj, R):\n",
    "    return quadgk(chib_quad, [lj, rj],\n",
    "                  epsabs = 0.0, epsrel = 1e-3, \n",
    "                  args=(x, L, R))[0]\n",
    "\n",
    "bin_j_quad(8080, 8080, chimin, 8081, chimin*(1+1e-1));"
   ]
  },
  {
   "cell_type": "code",
   "execution_count": 20,
   "id": "5cd6b696-1b68-40fd-bcdd-cec12f8bb1c6",
   "metadata": {},
   "outputs": [],
   "source": [
    "@jit\n",
    "def bin_i_quad(li, lj, L, ri, rj, R):\n",
    "    return quadgk(bin_j_quad, [li, ri],\n",
    "                  epsabs = 0.0, epsrel = 1e-3, \n",
    "                  args=(lj, L, rj, R))[0]"
   ]
  },
  {
   "cell_type": "code",
   "execution_count": 21,
   "id": "aba2be90",
   "metadata": {},
   "outputs": [],
   "source": [
    "i = 13\n",
    "li, ri = chi_bin_edges[i], chi_bin_edges[i+1]\n",
    "\n",
    "j = 14\n",
    "lj, rj = chi_bin_edges[j], chi_bin_edges[j+1]\n"
   ]
  },
  {
   "cell_type": "code",
   "execution_count": null,
   "id": "52ccff61",
   "metadata": {},
   "outputs": [],
   "source": [
    "res = bin_i_quad(li, lj, 10, ri, rj, chimax_sample)"
   ]
  },
  {
   "cell_type": "code",
   "execution_count": null,
   "id": "823596d3-3cbb-4e10-bb75-9db74f442461",
   "metadata": {},
   "outputs": [],
   "source": [
    "res / dchi_binned**2"
   ]
  },
  {
   "cell_type": "code",
   "execution_count": null,
   "id": "f3bce1b9-4c42-41b7-851a-b669047c9d64",
   "metadata": {},
   "outputs": [],
   "source": [
    "from tqdm import trange"
   ]
  },
  {
   "cell_type": "code",
   "execution_count": null,
   "id": "8c0dfb3f-8bb0-4510-9cd3-d54105cac3e4",
   "metadata": {},
   "outputs": [],
   "source": [
    "# comb_binned = np.zeros((len(ells), nbins, nbins))\n",
    "# for i in range(nbins):\n",
    "#     print(i+1,'/',nbins)\n",
    "#     for j in trange(i, nbins):\n",
    "#         li, ri = chi_bin_edges[i], chi_bin_edges[i+1]\n",
    "#         lj, rj = chi_bin_edges[j], chi_bin_edges[j+1]\n",
    "#         comb_binned[:, i,j], _ = bin_i_quad(li, lj, 10, ri, rj, chimax_sample)\n",
    "#         comb_binned[:, i,j] /= dchi_binned**2\n",
    "#         comb_binned[:, j, i] = comb_binned[:, i,j]"
   ]
  }
 ],
 "metadata": {
  "kernelspec": {
   "display_name": "Python 3 (ipykernel)",
   "language": "python",
   "name": "python3"
  },
  "language_info": {
   "codemirror_mode": {
    "name": "ipython",
    "version": 3
   },
   "file_extension": ".py",
   "mimetype": "text/x-python",
   "name": "python",
   "nbconvert_exporter": "python",
   "pygments_lexer": "ipython3",
   "version": "3.12.8"
  }
 },
 "nbformat": 4,
 "nbformat_minor": 5
}
