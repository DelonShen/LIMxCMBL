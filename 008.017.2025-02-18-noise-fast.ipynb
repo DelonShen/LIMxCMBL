{
 "cells": [
  {
   "cell_type": "code",
   "execution_count": 1,
   "id": "3dc9fc77",
   "metadata": {},
   "outputs": [],
   "source": [
    "import numpy as np\n",
    "\n",
    "import matplotlib.pyplot as plt\n",
    "\n",
    "from LIMxCMBL.cross_spectrum import *\n",
    "from LIMxCMBL.init import *\n",
    "from LIMxCMBL.noise import *\n",
    "from LIMxCMBL.kernels import *\n",
    "\n",
    "from tqdm import tqdm\n",
    "\n",
    "# CCAT-prime\n",
    "zmin = 3.5\n",
    "zmax = 8.1\n",
    "chimin = ccl.comoving_angular_distance(cosmo, 1/(1+zmin))\n",
    "chimax = ccl.comoving_angular_distance(cosmo, 1/(1+zmax))\n",
    "\n",
    "Lambdas = np.logspace(-5, -1, 25)\n",
    "Lambda = Lambdas[18]"
   ]
  },
  {
   "cell_type": "code",
   "execution_count": 2,
   "id": "2d36e3fa",
   "metadata": {},
   "outputs": [
    {
     "name": "stdout",
     "output_type": "stream",
     "text": [
      "0.01\n"
     ]
    }
   ],
   "source": [
    "print(Lambda)"
   ]
  },
  {
   "cell_type": "code",
   "execution_count": 3,
   "id": "f4fc331c",
   "metadata": {},
   "outputs": [],
   "source": [
    "log2 = 13"
   ]
  },
  {
   "cell_type": "code",
   "execution_count": 4,
   "id": "b138fcf7",
   "metadata": {},
   "outputs": [],
   "source": [
    "external_chis   = np.linspace(chimin*(1+1e-8), chimax*(1 - 1e-8), 2**log2)"
   ]
  },
  {
   "cell_type": "code",
   "execution_count": 5,
   "id": "f0a874f0",
   "metadata": {},
   "outputs": [],
   "source": [
    "analytical_diag = np.real(eLOeLO_diag_numpy(a = chimin, \n",
    "                                            b = chimax, \n",
    "                                            x = external_chis, \n",
    "                                            L = Lambda))"
   ]
  },
  {
   "cell_type": "code",
   "execution_count": 6,
   "id": "14a620db",
   "metadata": {},
   "outputs": [],
   "source": [
    "_chi  = external_chis.reshape(-1, 1)\n",
    "_chip = external_chis.reshape(1, -1)\n"
   ]
  },
  {
   "cell_type": "code",
   "execution_count": 7,
   "id": "b120117e",
   "metadata": {},
   "outputs": [
    {
     "name": "stderr",
     "output_type": "stream",
     "text": [
      "<lambdifygenerated-3>:2: RuntimeWarning: divide by zero encountered in divide\n",
      "  return -1/2*(2*L*a*b*x**2*xp*cos(L*(x + xp))*Si(2*L*a) - 2*L*a*b*x**2*xp*cos(L*(x + xp))*Si(2*L*b) - 2*L*a*b*x*xp**2*cos(L*(x + xp))*Si(2*L*a) + 2*L*a*b*x*xp**2*cos(L*(x + xp))*Si(2*L*b) + a*b*x**2*log(a)*cos(L*(x - xp)) - a*b*x**2*log(b)*cos(L*(x - xp)) - a*b*x**2*log(-a + xp)*cos(L*(x - xp)) + a*b*x**2*log(b - xp)*cos(L*(x - xp)) + a*b*x**2*sin(L*(x - xp))*Si(2*L*(a - xp)) - a*b*x**2*sin(L*(x - xp))*Si(2*L*(b - xp)) - a*b*x**2*sin(L*(x + xp))*Si(2*L*a) + a*b*x**2*sin(L*(x + xp))*Si(2*L*b) + a*b*x**2*cos(L*(x - xp))*Ci(2*L*(a - xp)) - a*b*x**2*cos(L*(x - xp))*Ci(2*L*(b - xp)) - 1j*pi*a*b*x**2*cos(L*(x - xp)) - a*b*xp**2*log(a)*cos(L*(x - xp)) + a*b*xp**2*log(b)*cos(L*(x - xp)) + a*b*xp**2*log(-a + x)*cos(L*(x - xp)) - a*b*xp**2*log(b - x)*cos(L*(x - xp)) + a*b*xp**2*sin(L*(x - xp))*Si(2*L*(a - x)) + a*b*xp**2*sin(L*(x - xp))*Si(2*L*(-b + x)) + a*b*xp**2*sin(L*(x + xp))*Si(2*L*a) - a*b*xp**2*sin(L*(x + xp))*Si(2*L*b) - a*b*xp**2*cos(L*(x - xp))*Ci(2*L*(a - x)) + a*b*xp**2*cos(L*(x - xp))*Ci(2*L*(b - x)) + 1j*pi*a*b*xp**2*cos(L*(x - xp)) - a*b*(x - xp)*(2*L*x*xp*sin(L*(x + xp)) + (x + xp)*cos(L*(x + xp)))*Ci(2*L*a) + a*b*(x - xp)*(2*L*x*xp*sin(L*(x + xp)) + (x + xp)*cos(L*(x + xp)))*Ci(2*L*b) + a*x**2*xp*cos(L*(x - xp)) - a*x**2*xp*cos(L*(2*b - x - xp)) - a*x*xp**2*cos(L*(x - xp)) + a*x*xp**2*cos(L*(2*b - x - xp)) - b*x**2*xp*cos(L*(x - xp)) + b*x**2*xp*cos(L*(2*a - x - xp)) + b*x*xp**2*cos(L*(x - xp)) - b*x*xp**2*cos(L*(2*a - x - xp)))/(pi**2*a*b*x**2*xp**2*(x - xp))\n",
      "<lambdifygenerated-3>:2: RuntimeWarning: invalid value encountered in divide\n",
      "  return -1/2*(2*L*a*b*x**2*xp*cos(L*(x + xp))*Si(2*L*a) - 2*L*a*b*x**2*xp*cos(L*(x + xp))*Si(2*L*b) - 2*L*a*b*x*xp**2*cos(L*(x + xp))*Si(2*L*a) + 2*L*a*b*x*xp**2*cos(L*(x + xp))*Si(2*L*b) + a*b*x**2*log(a)*cos(L*(x - xp)) - a*b*x**2*log(b)*cos(L*(x - xp)) - a*b*x**2*log(-a + xp)*cos(L*(x - xp)) + a*b*x**2*log(b - xp)*cos(L*(x - xp)) + a*b*x**2*sin(L*(x - xp))*Si(2*L*(a - xp)) - a*b*x**2*sin(L*(x - xp))*Si(2*L*(b - xp)) - a*b*x**2*sin(L*(x + xp))*Si(2*L*a) + a*b*x**2*sin(L*(x + xp))*Si(2*L*b) + a*b*x**2*cos(L*(x - xp))*Ci(2*L*(a - xp)) - a*b*x**2*cos(L*(x - xp))*Ci(2*L*(b - xp)) - 1j*pi*a*b*x**2*cos(L*(x - xp)) - a*b*xp**2*log(a)*cos(L*(x - xp)) + a*b*xp**2*log(b)*cos(L*(x - xp)) + a*b*xp**2*log(-a + x)*cos(L*(x - xp)) - a*b*xp**2*log(b - x)*cos(L*(x - xp)) + a*b*xp**2*sin(L*(x - xp))*Si(2*L*(a - x)) + a*b*xp**2*sin(L*(x - xp))*Si(2*L*(-b + x)) + a*b*xp**2*sin(L*(x + xp))*Si(2*L*a) - a*b*xp**2*sin(L*(x + xp))*Si(2*L*b) - a*b*xp**2*cos(L*(x - xp))*Ci(2*L*(a - x)) + a*b*xp**2*cos(L*(x - xp))*Ci(2*L*(b - x)) + 1j*pi*a*b*xp**2*cos(L*(x - xp)) - a*b*(x - xp)*(2*L*x*xp*sin(L*(x + xp)) + (x + xp)*cos(L*(x + xp)))*Ci(2*L*a) + a*b*(x - xp)*(2*L*x*xp*sin(L*(x + xp)) + (x + xp)*cos(L*(x + xp)))*Ci(2*L*b) + a*x**2*xp*cos(L*(x - xp)) - a*x**2*xp*cos(L*(2*b - x - xp)) - a*x*xp**2*cos(L*(x - xp)) + a*x*xp**2*cos(L*(2*b - x - xp)) - b*x**2*xp*cos(L*(x - xp)) + b*x**2*xp*cos(L*(2*a - x - xp)) + b*x*xp**2*cos(L*(x - xp)) - b*x*xp**2*cos(L*(2*a - x - xp)))/(pi**2*a*b*x**2*xp**2*(x - xp))\n"
     ]
    }
   ],
   "source": [
    "analytical_eLOeLO = eLOeLO_off_diag_numpy(L = Lambda, \n",
    "                                          a = chimin, \n",
    "                                          b = chimax, \n",
    "                                          x = _chi, \n",
    "                                          xp = _chip)\n",
    "#set the diagonal to the correct quantity\n",
    "np.fill_diagonal(analytical_eLOeLO, analytical_diag)"
   ]
  },
  {
   "cell_type": "code",
   "execution_count": 8,
   "id": "fa0ea275",
   "metadata": {},
   "outputs": [],
   "source": [
    "vb = np.max(np.abs(analytical_eLOeLO))"
   ]
  },
  {
   "cell_type": "code",
   "execution_count": 9,
   "id": "e6a0cff1",
   "metadata": {
    "scrolled": true
   },
   "outputs": [
    {
     "data": {
      "text/plain": [
       "<matplotlib.image.AxesImage at 0x7f954c4f86a0>"
      ]
     },
     "execution_count": 9,
     "metadata": {},
     "output_type": "execute_result"
    },
    {
     "data": {
      "image/png": "[encoded data removed]",
      "text/plain": [
       "<Figure size 432x288 with 1 Axes>"
      ]
     },
     "metadata": {
      "needs_background": "light"
     },
     "output_type": "display_data"
    }
   ],
   "source": [
    "plt.imshow(np.real(analytical_eLOeLO), vmin = -vb, vmax = vb, cmap = 'seismic')"
   ]
  },
  {
   "cell_type": "code",
   "execution_count": 10,
   "id": "04fe6319",
   "metadata": {},
   "outputs": [],
   "source": [
    "dchi = np.mean(np.diff(external_chis))"
   ]
  },
  {
   "cell_type": "code",
   "execution_count": 11,
   "id": "0ca42f48",
   "metadata": {},
   "outputs": [
    {
     "data": {
      "text/plain": [
       "array([7.64453438e-08, 7.64394217e-08, 7.64335002e-08, ...,\n",
       "       4.40593376e-08, 4.40567464e-08, 4.40541553e-08])"
      ]
     },
     "execution_count": 11,
     "metadata": {},
     "output_type": "execute_result"
    }
   ],
   "source": [
    "f_eIeI(external_chis, dchi = dchi, Lambda = Lambda)"
   ]
  },
  {
   "cell_type": "code",
   "execution_count": 12,
   "id": "f06889ca",
   "metadata": {},
   "outputs": [
    {
     "data": {
      "text/plain": [
       "array([[ 1.31279128e-10,  1.31273884e-10,  1.31268322e-10, ...,\n",
       "        -4.62196564e-13, -4.74700389e-13, -4.87197167e-13],\n",
       "       [ 1.31273884e-10,  1.31268958e-10,  1.31263714e-10, ...,\n",
       "        -4.49654011e-13, -4.62163910e-13, -4.74666852e-13],\n",
       "       [ 1.31268322e-10,  1.31263714e-10,  1.31258789e-10, ...,\n",
       "        -4.37106362e-13, -4.49622245e-13, -4.62131261e-13],\n",
       "       ...,\n",
       "       [-4.62196564e-13, -4.49654011e-13, -4.37106362e-13, ...,\n",
       "         7.56628349e-11,  7.56605181e-11,  7.56580180e-11],\n",
       "       [-4.74700389e-13, -4.62163910e-13, -4.49622245e-13, ...,\n",
       "         7.56605181e-11,  7.56583849e-11,  7.56560683e-11],\n",
       "       [-4.87197167e-13, -4.74666852e-13, -4.62131261e-13, ...,\n",
       "         7.56580180e-11,  7.56560683e-11,  7.56539353e-11]])"
      ]
     },
     "execution_count": 12,
     "metadata": {},
     "output_type": "execute_result"
    }
   ],
   "source": [
    "f_cross(chi = _chi,\n",
    "       chip = _chip,\n",
    "       Lambda = Lambda)"
   ]
  }
 ],
 "metadata": {
  "kernelspec": {
   "display_name": "cosmology",
   "language": "python",
   "name": "cosmology"
  },
  "language_info": {
   "codemirror_mode": {
    "name": "ipython",
    "version": 3
   },
   "file_extension": ".py",
   "mimetype": "text/x-python",
   "name": "python",
   "nbconvert_exporter": "python",
   "pygments_lexer": "ipython3",
   "version": "3.9.19"
  }
 },
 "nbformat": 4,
 "nbformat_minor": 5
}
