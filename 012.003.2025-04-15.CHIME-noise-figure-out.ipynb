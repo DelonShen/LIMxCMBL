{
 "cells": [
  {
   "cell_type": "markdown",
   "id": "0952dba9",
   "metadata": {},
   "source": [
    "basically trying to figure out how $n(u)$ is computed in Appendix A.3 of 2201.07869 which follows Appendix C. of 1405.1452\n",
    "\n",
    "this boils down to trying to parse https://github.com/philbull/RadioFisher and in particular     `RadioFisher/process_chime_baselines.py`\n",
    "which relies on data files distributed at http://philbull.com/radiofisher_array_config.tar.gz"
   ]
  },
  {
   "cell_type": "code",
   "execution_count": 1,
   "id": "cba7dce0",
   "metadata": {},
   "outputs": [],
   "source": [
    "import numpy as np\n",
    "import scipy.integrate\n",
    "import astropy.units as u\n",
    "import astropy.constants as cu"
   ]
  },
  {
   "cell_type": "code",
   "execution_count": 6,
   "id": "02116b84",
   "metadata": {},
   "outputs": [],
   "source": [
    "#table 2. of 2201.07869\n",
    "Tsys = 55*u.K\n",
    "Ssky = 31000 * u.deg**2\n",
    "\n",
    "zcenter = 1.15\n",
    "lmbda = 21*u.cm*(1+zcenter)\n",
    "nu_center = cu.c / (lmbda)\n",
    "\n",
    "\n",
    "ttot = 1*u.yr\n",
    "Nant = 256\n",
    "npol = 2\n",
    "Ncyl = 4\n",
    "wcyl = 20*u.m\n",
    "lcyl = 78*u.m\n",
    "\n",
    "SFOV = (90*u.deg * (lmbda/wcyl *(u.rad)))\n",
    "\n",
    "\n",
    "eta = 0.7\n",
    "Ae = eta * lcyl/Nant * wcyl\n",
    "\n",
    "l4_over_Ae2 = ((lmbda/wcyl).si * u.rad)**2 * lmbda**2/(eta * lcyl / Nant)**2\n",
    "\n",
    "nu_HI = cu.c / (21 * u.cm)"
   ]
  },
  {
   "cell_type": "code",
   "execution_count": 7,
   "id": "13a650e6",
   "metadata": {},
   "outputs": [
    {
     "data": {
      "text/latex": [
       "$663.99216 \\; \\mathrm{MHz}$"
      ],
      "text/plain": [
       "<Quantity 663.99215504 MHz>"
      ]
     },
     "execution_count": 7,
     "metadata": {},
     "output_type": "execute_result"
    }
   ],
   "source": [
    "nu_center.to(u.MHz)"
   ]
  },
  {
   "cell_type": "code",
   "execution_count": 8,
   "id": "d00c0d07",
   "metadata": {},
   "outputs": [],
   "source": [
    "Ddish = 20. #I believe thisis the same as cylinder width in 2201.07869\n",
    "Dmin = 20.\n",
    "Ndish = Nant * Ncyl\n",
    "\n",
    "nu = nu_center.to(u.MHz).value # MHz\n",
    "l = 3e8 / (nu * 1e6) # Lambda [m]"
   ]
  },
  {
   "cell_type": "code",
   "execution_count": 9,
   "id": "2cda78df",
   "metadata": {},
   "outputs": [
    {
     "data": {
      "text/latex": [
       "$663.99216 \\; \\mathrm{MHz}$"
      ],
      "text/plain": [
       "<Quantity 663.99215504 MHz>"
      ]
     },
     "execution_count": 9,
     "metadata": {},
     "output_type": "execute_result"
    }
   ],
   "source": [
    "nu_center.to(u.MHz)"
   ]
  },
  {
   "cell_type": "code",
   "execution_count": 21,
   "id": "b93f419e",
   "metadata": {},
   "outputs": [],
   "source": [
    "# Cut baselines d < d_fov\n",
    "\n",
    "nu_data = 800 #[MHz] they choose to tabulate at a different central nu but we're close enough\n",
    "outfile = \"data/nx_CHIME_%d.dat\" % nu_data\n",
    "AVG_SMALL_BASELINES = False\n",
    "Dcut = Ddish # Cut baselines below this separation"
   ]
  },
  {
   "cell_type": "code",
   "execution_count": 22,
   "id": "351ff76a",
   "metadata": {},
   "outputs": [
    {
     "data": {
      "text/latex": [
       "$299.79246 \\; \\mathrm{m}$"
      ],
      "text/plain": [
       "<Quantity 299.792458 m>"
      ]
     },
     "execution_count": 22,
     "metadata": {},
     "output_type": "execute_result"
    }
   ],
   "source": [
    "(cu.c / u.MHz).si"
   ]
  },
  {
   "cell_type": "code",
   "execution_count": 23,
   "id": "84e181b1",
   "metadata": {},
   "outputs": [
    {
     "data": {
      "text/plain": [
       "300.0"
      ]
     },
     "execution_count": 23,
     "metadata": {},
     "output_type": "execute_result"
    }
   ],
   "source": [
    "3e8/1e6"
   ]
  },
  {
   "cell_type": "code",
   "execution_count": 24,
   "id": "f8a0b7b7",
   "metadata": {},
   "outputs": [],
   "source": [
    "def fov(nu, D):\n",
    "    \"\"\"\n",
    "    Field of view, in rad^2, as a fn. of frequency.\n",
    "    \"\"\"\n",
    "    l = 3e8 / (nu*1e6) #[length]\n",
    "    #basically c/Mhz = 3e8/1e6 [meters]  ~ 300 Meters\n",
    "    #so this converts nu to wavelength in units meters\n",
    "    \n",
    "    #l is lambda and then D is units meters\n",
    "    \n",
    "    #rayleigh criterion:\n",
    "    #theta ~ 1.22 lambda/D\n",
    "    #so theta = 1.22 l/d is units radians by definition\n",
    "    #(pi/180)**2 converts from deg2 to radians2\n",
    "    #I guess that implies that 180 * theta has units deg2\n",
    "    #but that makes no sense unless 180 has units deg^2/rad\n",
    "    #what the heck is 180 \n",
    "    #the CHIME beam is 180 deg in one direction...\n",
    "    #but this factor of 180 is also around in e.g. RadioFisher/process_tianlai_baselines.py\n",
    "    \n",
    "    #I guess maybe this doesnt matter, I never use this code but they do use it in\n",
    "    #    RadioFisher/process_chime_baselines.py\n",
    "    # and other codes...\n",
    "    \n",
    "    return 180. * 1.22 * (l/D) * (np.pi/180.)**2. \n",
    "\n",
    "def ubin_width(nu, D):\n",
    "    \"\"\"\n",
    "    Bin width, corresponding to du at a given frequency (u = d / lambda).\n",
    "    \"\"\"\n",
    "    return (1./30.) / np.sqrt(fov(nu, D)) # units 1/rad\n",
    "\n",
    "#so I guess u has units 1/rad?"
   ]
  },
  {
   "cell_type": "code",
   "execution_count": 25,
   "id": "9fb00cdc",
   "metadata": {},
   "outputs": [],
   "source": [
    "data = np.loadtxt(outfile)"
   ]
  },
  {
   "cell_type": "code",
   "execution_count": 26,
   "id": "f7efbcbd",
   "metadata": {},
   "outputs": [],
   "source": [
    "x, n_x = data.T\n",
    "_u = x * nu\n",
    "nn = n_x / nu**2"
   ]
  },
  {
   "cell_type": "code",
   "execution_count": 27,
   "id": "c8744d91",
   "metadata": {},
   "outputs": [
    {
     "name": "stdout",
     "output_type": "stream",
     "text": [
      "n(u) renorm. factor: 0.7041507993199257 (not applied)\n"
     ]
    },
    {
     "name": "stderr",
     "output_type": "stream",
     "text": [
      "/tmp/ipykernel_184743/1923997928.py:1: DeprecationWarning: 'scipy.integrate.simps' is deprecated in favour of 'scipy.integrate.simpson' and will be removed in SciPy 1.14.0\n",
      "  norm = scipy.integrate.simps(2.*np.pi*nn*_u, _u)\n"
     ]
    }
   ],
   "source": [
    "norm = scipy.integrate.simps(2.*np.pi*nn*_u, _u)\n",
    "print(\"n(u) renorm. factor:\", 0.5 * Ndish * (Ndish - 1) / norm, \"(not applied)\")\n",
    "nn_normalized = nn * 0.5 * Ndish * (Ndish - 1) / norm"
   ]
  },
  {
   "cell_type": "code",
   "execution_count": 52,
   "id": "406e145c",
   "metadata": {},
   "outputs": [],
   "source": [
    "idxs = np.where(nn_normalized > 0)\n",
    "fid_n_u = np.median(nn_normalized[idxs]) * u.rad**2 #I think that n_u should be rad^2 bc u is units 1/rad\n",
    "# fid_n_u = np.min(nn_normalized[idxs]) * u.rad**2 #I think that n_u should be rad^2 bc u is units 1/rad"
   ]
  },
  {
   "cell_type": "code",
   "execution_count": 53,
   "id": "33eede8f",
   "metadata": {},
   "outputs": [],
   "source": [
    "\n",
    "#as density increases, noise decreases"
   ]
  },
  {
   "cell_type": "code",
   "execution_count": 54,
   "id": "ca74126e",
   "metadata": {},
   "outputs": [
    {
     "data": {
      "text/plain": [
       "Text(0, 0.5, 'n(u) [sr]')"
      ]
     },
     "execution_count": 54,
     "metadata": {},
     "output_type": "execute_result"
    },
    {
     "data": {
      "image/png": "[encoded data removed]",
      "text/plain": [
       "<Figure size 432x288 with 1 Axes>"
      ]
     },
     "metadata": {
      "needs_background": "light"
     },
     "output_type": "display_data"
    }
   ],
   "source": [
    "import matplotlib.pyplot as plt\n",
    "plt.plot(_u, nn_normalized)\n",
    "plt.axhline(fid_n_u.value, c='r')\n",
    "plt.xlabel('u [1/rad]')\n",
    "plt.ylabel('n(u) [sr]')"
   ]
  },
  {
   "cell_type": "markdown",
   "id": "b849ef4a",
   "metadata": {},
   "source": [
    "based on Eq.(6) of 1405.1452, e.g.\n",
    "$$n(u) = \\frac{N_d(N_d-1)}{2\\pi (u_{\\rm max}^2 - u_{\\rm min}^2)} $$\n",
    "where $u_{\\rm max}=D_{\\rm max} /\\lambda$ and $u_{\\rm min}= D_{\\rm min} / \\lambda$ and the $D_{\\dots}$ are the lenghts of the longest/shortest baselines, I believe that $n(u)$ is either dimensionless or has units per sterradian or something. "
   ]
  },
  {
   "cell_type": "markdown",
   "id": "cc74e439",
   "metadata": {},
   "source": [
    "From Eq. (A9) 2201.07869 and assuming that $n(u)$ is a constant set to its mean value we have\n",
    "$$C^N(z) = \\frac{T_{\\rm sys}^2}{\\nu_{21}n_{\\rm pol} t_{\\rm tot} }\\frac{\\lambda^4 S_{\\rm sky}}{A_e^2 S_{\\rm FOV}}\\frac 1 {n_{\\rm fid}}$$\n",
    "This is also Eq. (D2) of Bull+14\n",
    "\n",
    "A key question is what the heck the units of everything is. It seems like $\\sigma_S$ is $\\sigma_T$ but converted with rayleigh jeans and a little more. To me it looks like the units of $\\sigma_T$ is units kelvin per sterradian (see DERIVATION OF NOISE EXPRESSIONS of Bull+14). This can then be put back into Jy/sr with another rayleigh jeans\n",
    "\n",
    "Now because $P_N = \\sigma_T^2 V_{\\rm pix}$ it seems like $P_N$ has units $({\\rm Jy/sr})^2 {\\rm Mpc}^3$. From there we have (above Eq. (D1)) that $C^N = P_N / (r^2r_\\nu)$ meaning it looks like the $C^N$ we are computing should have units $({\\rm Jy/sr})^2$\n",
    "\n",
    "for everything we pull values from Table. 2 of 2201.07869"
   ]
  },
  {
   "cell_type": "code",
   "execution_count": 55,
   "id": "ddeca857",
   "metadata": {},
   "outputs": [
    {
     "data": {
      "text/latex": [
       "$3088335.6 \\; \\mathrm{\\frac{m}{cm\\,s}}$"
      ],
      "text/plain": [
       "<Quantity 3088335.60483144 m / (cm s)>"
      ]
     },
     "execution_count": 55,
     "metadata": {},
     "output_type": "execute_result"
    }
   ],
   "source": [
    "(cu.c / (lmbda * (1+zcenter)))"
   ]
  },
  {
   "cell_type": "code",
   "execution_count": 56,
   "id": "092a002f",
   "metadata": {},
   "outputs": [
    {
     "data": {
      "text/latex": [
       "$\\mathrm{1 \\times 10^{-26}\\,\\frac{kg}{s^{2}}}$"
      ],
      "text/plain": [
       "Unit(\"1e-26 kg / s2\")"
      ]
     },
     "execution_count": 56,
     "metadata": {},
     "output_type": "execute_result"
    }
   ],
   "source": [
    "u.Jy.si"
   ]
  },
  {
   "cell_type": "code",
   "execution_count": null,
   "id": "b0036416",
   "metadata": {},
   "outputs": [],
   "source": []
  },
  {
   "cell_type": "code",
   "execution_count": 57,
   "id": "dd16f9e6",
   "metadata": {},
   "outputs": [],
   "source": [
    "noise_power = Tsys**2 / (nu_HI * npol * ttot) * Ssky/(SFOV) * l4_over_Ae2 * 1/fid_n_u"
   ]
  },
  {
   "cell_type": "code",
   "execution_count": 58,
   "id": "b1df0253",
   "metadata": {},
   "outputs": [
    {
     "data": {
      "text/latex": [
       "$6.889713 \\times 10^{-15} \\; \\mathrm{K^{2}}$"
      ],
      "text/plain": [
       "<Quantity 6.88971304e-15 K2>"
      ]
     },
     "execution_count": 58,
     "metadata": {},
     "output_type": "execute_result"
    }
   ],
   "source": [
    "noise_power.si"
   ]
  },
  {
   "cell_type": "code",
   "execution_count": 59,
   "id": "b41fad26",
   "metadata": {},
   "outputs": [],
   "source": [
    "noise_sigma = (2. * nu_center**2 * cu.k_B\n",
    "               * np.sqrt(noise_power)\n",
    "               / cu.c**2) / u.sr"
   ]
  },
  {
   "cell_type": "code",
   "execution_count": 60,
   "id": "1d38c8f2",
   "metadata": {},
   "outputs": [],
   "source": [
    "CN = (noise_sigma**2).to(u.kJy**2/u.sr**2)"
   ]
  },
  {
   "cell_type": "code",
   "execution_count": 61,
   "id": "fdc14575",
   "metadata": {},
   "outputs": [
    {
     "data": {
      "text/latex": [
       "$1.2641444 \\times 10^{-12} \\; \\mathrm{\\frac{kJy^{2}}{sr^{2}}}$"
      ],
      "text/plain": [
       "<Quantity 1.26414436e-12 kJy2 / sr2>"
      ]
     },
     "execution_count": 61,
     "metadata": {},
     "output_type": "execute_result"
    }
   ],
   "source": [
    "CN"
   ]
  },
  {
   "cell_type": "markdown",
   "id": "78507a12",
   "metadata": {},
   "source": [
    "now we need to get to the 3D nosie spectrum. In the \"Interferometer (cross-correlation)\" section of App. \"DERIVATION OF NOISE EXPRESSIONS\" we have\n",
    "$$\\textrm{3D Noise Power}= r^2 r_\\nu C^N $$\n",
    "Where I believe $r$ is the comoving distance to some freq/redshift. \n",
    "I will take $r$ to be the comoving distance to the central redshift. \n",
    "This appears because $\\vec r_\\perp = r \\vec \\theta$.\n",
    "$r_\\nu$ is something related to comoving depth. From `RadioFisher/plotting/plot_Veff.py` it's computed as \n",
    "\n",
    "`rnu = C*(1.+z)**2. / H(z)`\n",
    "\n",
    "where `C = 3e5 # Speed of light, km/s`"
   ]
  },
  {
   "cell_type": "code",
   "execution_count": 62,
   "id": "2e03a931",
   "metadata": {},
   "outputs": [],
   "source": [
    "from LIMxCMBL.init import *"
   ]
  },
  {
   "cell_type": "code",
   "execution_count": 63,
   "id": "2447791b",
   "metadata": {},
   "outputs": [],
   "source": [
    "rnu = (cu.c * (1+zcenter)**2 / (cosmo['h']*(100*(u.km/u.s/u.Mpc))*ccl.background.h_over_h0(cosmo, 1./(zcenter+1)))).to(u.Mpc)"
   ]
  },
  {
   "cell_type": "code",
   "execution_count": 64,
   "id": "1daf3a69",
   "metadata": {},
   "outputs": [
    {
     "data": {
      "text/latex": [
       "$0.18873682 \\; \\mathrm{\\frac{Mpc^{3}\\,kJy^{2}}{sr^{2}}}$"
      ],
      "text/plain": [
       "<Quantity 0.18873682 kJy2 Mpc3 / sr2>"
      ]
     },
     "execution_count": 64,
     "metadata": {},
     "output_type": "execute_result"
    }
   ],
   "source": [
    "CN * rnu * (ccl.comoving_radial_distance(cosmo, 1/(1+zcenter))**2 * u.Mpc**2)"
   ]
  }
 ],
 "metadata": {
  "kernelspec": {
   "display_name": "cosmology",
   "language": "python",
   "name": "cosmology"
  },
  "language_info": {
   "codemirror_mode": {
    "name": "ipython",
    "version": 3
   },
   "file_extension": ".py",
   "mimetype": "text/x-python",
   "name": "python",
   "nbconvert_exporter": "python",
   "pygments_lexer": "ipython3",
   "version": "3.9.19"
  }
 },
 "nbformat": 4,
 "nbformat_minor": 5
}
