{
 "cells": [
  {
   "cell_type": "code",
   "execution_count": 1,
   "id": "4cf89701",
   "metadata": {},
   "outputs": [
    {
     "name": "stdout",
     "output_type": "stream",
     "text": [
      "/scratch/users/delon/LIMxCMBL/IHiKappa/Ik_zmin_3.50000_zmax_8.10000_quad_nbins_100.npy\n"
     ]
    }
   ],
   "source": [
    "from LIMxCMBL.init import *\n",
    "from LIMxCMBL.noise import *\n",
    "\n",
    "import sys\n",
    "# nbins = int(sys.argv[1])\n",
    "nbins = 100\n",
    "\n",
    "# CCAT-prime\n",
    "zmin = 3.5\n",
    "zmax = 8.1\n",
    "\n",
    "Omega_field = 8 * (np.pi/180)**2 #rad^2\n",
    "Pei = 2.3e4 #Mpc^3 kJy^2 /sr^2 \n",
    "chimin = ccl.comoving_angular_distance(cosmo, 1/(1+zmin))\n",
    "chimax = ccl.comoving_angular_distance(cosmo, 1/(1+zmax))\n",
    "\n",
    "oup_fname = '/scratch/users/delon/LIMxCMBL/IHiKappa/Ik_zmin_%.5f_zmax_%.5f_quad_nbins_%d.npy'%(zmin, zmax, nbins)\n",
    "print(oup_fname)"
   ]
  },
  {
   "cell_type": "code",
   "execution_count": 2,
   "id": "ded52398",
   "metadata": {},
   "outputs": [],
   "source": [
    "# get CMB lensing component\n",
    "from LIMxCMBL.kernels import get_f_Kkappa\n",
    "f_WkD = get_f_Kkappa()\n",
    "\n",
    "from LIMxCMBL.cross_spectrum import *\n",
    "ClKK = d_chib_integral(f_WkD, f_WkD) #[Mpc]^2\n",
    "\n",
    "\n",
    "# beam=1.4, noise=7\n",
    "from scipy.interpolate import interp1d\n",
    "N0_ells = np.logspace(1, np.log10(5000), 500)\n",
    "with open('LIMxCMBL/N0.npy', 'rb') as f:\n",
    "    N0 = np.load(f)\n",
    "    \n",
    "f_N0 = interp1d(x = N0_ells, y = N0)"
   ]
  },
  {
   "cell_type": "code",
   "execution_count": 3,
   "id": "7b7ece18",
   "metadata": {},
   "outputs": [],
   "source": [
    "# if no high pass IKappa\n",
    "from  LIMxCMBL.kernels import *\n",
    "f_Kkappa = get_f_Kkappa()"
   ]
  },
  {
   "cell_type": "code",
   "execution_count": 4,
   "id": "4431ab04",
   "metadata": {},
   "outputs": [],
   "source": [
    "_KI = np.array(KI)"
   ]
  },
  {
   "cell_type": "code",
   "execution_count": 5,
   "id": "d4008bb6",
   "metadata": {},
   "outputs": [],
   "source": [
    "from interpax import interp2d, interp1d\n",
    "import jax.numpy as jnp\n",
    "from jax import jit"
   ]
  },
  {
   "cell_type": "code",
   "execution_count": 6,
   "id": "c049209b",
   "metadata": {},
   "outputs": [],
   "source": [
    "inner_dkparp_integral = np.load('/oak/stanford/orgs/kipac/users/delon/LIMxCMBL/inner_dkparp_integral.npy')\n",
    "inner_dkparp_integral = inner_dkparp_integral.astype(np.float64)\n",
    "\n",
    "from scipy.interpolate import interp1d, interp2d, LinearNDInterpolator\n",
    "\n",
    "tmp_chibs = []\n",
    "tmp_log_deltas = []\n",
    "tmp_fnctn = []\n",
    "for i in range(len(chibs)):\n",
    "    for j in range(len(deltas)):\n",
    "        tmp_chibs += [chibs[i]]\n",
    "        tmp_log_deltas += [np.log(deltas[j])]\n",
    "        tmp_fnctn += [inner_dkparp_integral[:,i,j]]\n",
    "        \n",
    "f_inner_integral = LinearNDInterpolator(list(zip(tmp_chibs, tmp_log_deltas)), tmp_fnctn)"
   ]
  },
  {
   "cell_type": "code",
   "execution_count": 8,
   "id": "a5197e3a",
   "metadata": {},
   "outputs": [],
   "source": [
    "import matplotlib.pyplot as plt"
   ]
  },
  {
   "cell_type": "code",
   "execution_count": 9,
   "id": "36eefa5d",
   "metadata": {},
   "outputs": [
    {
     "data": {
      "text/plain": [
       "<matplotlib.lines.Line2D at 0x7f69586e0130>"
      ]
     },
     "execution_count": 9,
     "metadata": {},
     "output_type": "execute_result"
    },
    {
     "data": {
      "image/png": "[encoded data removed]",
      "text/plain": [
       "<Figure size 432x288 with 1 Axes>"
      ]
     },
     "metadata": {
      "needs_background": "light"
     },
     "output_type": "display_data"
    }
   ],
   "source": [
    "plt.plot(chis, _KI)\n",
    "plt.axvline(chimin)\n",
    "plt.axvline(chimax)"
   ]
  },
  {
   "cell_type": "code",
   "execution_count": 10,
   "id": "d422d698",
   "metadata": {},
   "outputs": [],
   "source": [
    "def integrand(chib, chi, ell_idx):\n",
    "    _delta = np.abs(1 - chi / chib)\n",
    "    _delta = min(0.7, max(1e-6, _delta))\n",
    "    \n",
    "    return np.float64(2 * np.interp(x = chi, xp = chis, fp = _KI, left = 0, right = 0) \n",
    "            * np.interp(x = 2*chib - chi, xp = chis, fp = Wk * Dz, left = 0, right = 0)\n",
    "            / chib**2\n",
    "            * f_inner_integral((chib, np.log(_delta)))[ell_idx])"
   ]
  },
  {
   "cell_type": "code",
   "execution_count": 11,
   "id": "cdf8061b",
   "metadata": {},
   "outputs": [
    {
     "data": {
      "text/plain": [
       "6.219324525663354e-10"
      ]
     },
     "execution_count": 11,
     "metadata": {},
     "output_type": "execute_result"
    }
   ],
   "source": [
    "integrand(8080, 8081, 0)"
   ]
  },
  {
   "cell_type": "code",
   "execution_count": 12,
   "id": "e0422f08",
   "metadata": {},
   "outputs": [
    {
     "name": "stderr",
     "output_type": "stream",
     "text": [
      "/tmp/ipykernel_4563/741012178.py:2: RuntimeWarning: divide by zero encountered in scalar divide\n",
      "  _delta = np.abs(1 - chi / chib)\n",
      "/tmp/ipykernel_4563/741012178.py:5: RuntimeWarning: invalid value encountered in scalar divide\n",
      "  return np.float64(2 * np.interp(x = chi, xp = chis, fp = _KI, left = 0, right = 0)\n"
     ]
    },
    {
     "data": {
      "text/plain": [
       "<matplotlib.lines.Line2D at 0x7f69584d1700>"
      ]
     },
     "execution_count": 12,
     "metadata": {},
     "output_type": "execute_result"
    },
    {
     "data": {
      "image/png": "[encoded data removed]",
      "text/plain": [
       "<Figure size 432x288 with 1 Axes>"
      ]
     },
     "metadata": {
      "needs_background": "light"
     },
     "output_type": "display_data"
    }
   ],
   "source": [
    "plt.plot(chis, [integrand(chib, (chimin+chimax)/2, 13) for chib in chis])\n",
    "plt.axvline(chimin, c='r')\n",
    "plt.axvline(chimax, c='g')"
   ]
  },
  {
   "cell_type": "code",
   "execution_count": 13,
   "id": "424a608f",
   "metadata": {},
   "outputs": [],
   "source": [
    "chi_bin_edges = np.linspace(chimin*(1+1e-8), chimax*(1 - 1e-8), nbins + 1)\n",
    "chi_bin_centers = (chi_bin_edges[1:] + chi_bin_edges[:-1])/2\n",
    "dchi_binned = np.mean(np.diff(chi_bin_edges))"
   ]
  },
  {
   "cell_type": "code",
   "execution_count": 14,
   "id": "8f88ea73",
   "metadata": {},
   "outputs": [],
   "source": [
    "from scipy.integrate import quad_vec, dblquad, nquad\n"
   ]
  },
  {
   "cell_type": "code",
   "execution_count": 18,
   "id": "27dcb31c",
   "metadata": {},
   "outputs": [],
   "source": [
    "options={'limit':11234567, 'epsabs':0.0, 'epsrel':1e-3}\n",
    "def compute_bin_element(params):\n",
    "    i,l,r,ell_idx = params\n",
    "    res, _ = nquad(integrand, [[10, chimax_sample], #chib\n",
    "                            [l, r]], #chi\n",
    "                opts=[options,options],\n",
    "                args=(ell_idx,))\n",
    "    res /= dchi_binned\n",
    "    return (ell_idx, i, res)"
   ]
  },
  {
   "cell_type": "code",
   "execution_count": 19,
   "id": "836cea37",
   "metadata": {},
   "outputs": [],
   "source": [
    "params_list = []\n",
    "for ell_idx in range(len(ells)):\n",
    "    for i in range(nbins):\n",
    "        l, r = chi_bin_edges[i], chi_bin_edges[i+1]\n",
    "        params = (i, l, r, ell_idx)\n",
    "        params_list.append(params)"
   ]
  },
  {
   "cell_type": "code",
   "execution_count": 20,
   "id": "5fd5834d",
   "metadata": {},
   "outputs": [
    {
     "data": {
      "text/plain": [
       "(0, 0, 3.6057035946420324e-08)"
      ]
     },
     "execution_count": 20,
     "metadata": {},
     "output_type": "execute_result"
    }
   ],
   "source": [
    "compute_bin_element(params_list[0])"
   ]
  },
  {
   "cell_type": "code",
   "execution_count": 21,
   "id": "dd19e00d",
   "metadata": {},
   "outputs": [
    {
     "name": "stderr",
     "output_type": "stream",
     "text": [
      "  5%|▍         | 469/10000 [04:47<1:37:16,  1.63it/s]/home/users/delon/.local/lib/python3.9/site-packages/scipy/integrate/_quadpack_py.py:1272: IntegrationWarning: The integral is probably divergent, or slowly convergent.\n",
      "  quad_r = quad(f, low, high, args=args, full_output=self.full_output,\n",
      " 10%|▉         | 979/10000 [07:25<41:52,  3.59it/s]  /home/users/delon/.local/lib/python3.9/site-packages/scipy/integrate/_quadpack_py.py:1272: IntegrationWarning: The integral is probably divergent, or slowly convergent.\n",
      "  quad_r = quad(f, low, high, args=args, full_output=self.full_output,\n",
      " 11%|█▏        | 1131/10000 [08:22<50:46,  2.91it/s]  /home/users/delon/.local/lib/python3.9/site-packages/scipy/integrate/_quadpack_py.py:1272: IntegrationWarning: The integral is probably divergent, or slowly convergent.\n",
      "  quad_r = quad(f, low, high, args=args, full_output=self.full_output,\n",
      " 13%|█▎        | 1284/10000 [09:03<32:19,  4.49it/s]  /home/users/delon/.local/lib/python3.9/site-packages/scipy/integrate/_quadpack_py.py:1272: IntegrationWarning: The integral is probably divergent, or slowly convergent.\n",
      "  quad_r = quad(f, low, high, args=args, full_output=self.full_output,\n",
      " 13%|█▎        | 1331/10000 [09:32<47:27,  3.04it/s]  /home/users/delon/.local/lib/python3.9/site-packages/scipy/integrate/_quadpack_py.py:1272: IntegrationWarning: The integral is probably divergent, or slowly convergent.\n",
      "  quad_r = quad(f, low, high, args=args, full_output=self.full_output,\n",
      " 14%|█▍        | 1389/10000 [10:43<1:56:45,  1.23it/s]/home/users/delon/.local/lib/python3.9/site-packages/scipy/integrate/_quadpack_py.py:1272: IntegrationWarning: The integral is probably divergent, or slowly convergent.\n",
      "  quad_r = quad(f, low, high, args=args, full_output=self.full_output,\n",
      " 18%|█▊        | 1772/10000 [11:16<25:30,  5.38it/s]  /home/users/delon/.local/lib/python3.9/site-packages/scipy/integrate/_quadpack_py.py:1272: IntegrationWarning: The integral is probably divergent, or slowly convergent.\n",
      "  quad_r = quad(f, low, high, args=args, full_output=self.full_output,\n",
      " 18%|█▊        | 1792/10000 [11:39<42:56,  3.19it/s]/home/users/delon/.local/lib/python3.9/site-packages/scipy/integrate/_quadpack_py.py:1272: IntegrationWarning: The integral is probably divergent, or slowly convergent.\n",
      "  quad_r = quad(f, low, high, args=args, full_output=self.full_output,\n",
      " 20%|█▉        | 1950/10000 [11:57<22:42,  5.91it/s]/home/users/delon/.local/lib/python3.9/site-packages/scipy/integrate/_quadpack_py.py:1272: IntegrationWarning: The integral is probably divergent, or slowly convergent.\n",
      "  quad_r = quad(f, low, high, args=args, full_output=self.full_output,\n",
      " 20%|█▉        | 1950/10000 [12:09<22:42,  5.91it/s]/home/users/delon/.local/lib/python3.9/site-packages/scipy/integrate/_quadpack_py.py:1272: IntegrationWarning: The integral is probably divergent, or slowly convergent.\n",
      "  quad_r = quad(f, low, high, args=args, full_output=self.full_output,\n",
      " 21%|██▏       | 2136/10000 [12:45<23:21,  5.61it/s]/home/users/delon/.local/lib/python3.9/site-packages/scipy/integrate/_quadpack_py.py:1272: IntegrationWarning: The integral is probably divergent, or slowly convergent.\n",
      "  quad_r = quad(f, low, high, args=args, full_output=self.full_output,\n",
      " 23%|██▎       | 2294/10000 [13:10<19:10,  6.70it/s]/home/users/delon/.local/lib/python3.9/site-packages/scipy/integrate/_quadpack_py.py:1272: IntegrationWarning: The integral is probably divergent, or slowly convergent.\n",
      "  quad_r = quad(f, low, high, args=args, full_output=self.full_output,\n",
      " 24%|██▎       | 2358/10000 [13:25<23:03,  5.52it/s]/home/users/delon/.local/lib/python3.9/site-packages/scipy/integrate/_quadpack_py.py:1272: IntegrationWarning: The integral is probably divergent, or slowly convergent.\n",
      "  quad_r = quad(f, low, high, args=args, full_output=self.full_output,\n",
      " 25%|██▍       | 2452/10000 [13:31<15:44,  7.99it/s]/home/users/delon/.local/lib/python3.9/site-packages/scipy/integrate/_quadpack_py.py:1272: IntegrationWarning: The integral is probably divergent, or slowly convergent.\n",
      "  quad_r = quad(f, low, high, args=args, full_output=self.full_output,\n",
      " 25%|██▍       | 2452/10000 [13:49<15:44,  7.99it/s]/home/users/delon/.local/lib/python3.9/site-packages/scipy/integrate/_quadpack_py.py:1272: IntegrationWarning: The integral is probably divergent, or slowly convergent.\n",
      "  quad_r = quad(f, low, high, args=args, full_output=self.full_output,\n",
      " 53%|█████▎    | 5331/10000 [22:16<17:03,  4.56it/s]/home/users/delon/.local/lib/python3.9/site-packages/scipy/integrate/_quadpack_py.py:1272: IntegrationWarning: The integral is probably divergent, or slowly convergent.\n",
      "  quad_r = quad(f, low, high, args=args, full_output=self.full_output,\n",
      " 58%|█████▊    | 5815/10000 [23:42<13:37,  5.12it/s]/home/users/delon/.local/lib/python3.9/site-packages/scipy/integrate/_quadpack_py.py:1272: IntegrationWarning: The integral is probably divergent, or slowly convergent.\n",
      "  quad_r = quad(f, low, high, args=args, full_output=self.full_output,\n",
      " 63%|██████▎   | 6326/10000 [25:05<10:46,  5.68it/s]/home/users/delon/.local/lib/python3.9/site-packages/scipy/integrate/_quadpack_py.py:1272: IntegrationWarning: The integral is probably divergent, or slowly convergent.\n",
      "  quad_r = quad(f, low, high, args=args, full_output=self.full_output,\n",
      " 66%|██████▋   | 6628/10000 [26:08<17:02,  3.30it/s]/home/users/delon/.local/lib/python3.9/site-packages/scipy/integrate/_quadpack_py.py:1272: IntegrationWarning: The algorithm does not converge.  Roundoff error is detected\n",
      "  in the extrapolation table.  It is assumed that the requested tolerance\n",
      "  cannot be achieved, and that the returned result (if full_output = 1) is \n",
      "  the best which can be obtained.\n",
      "  quad_r = quad(f, low, high, args=args, full_output=self.full_output,\n",
      " 68%|██████▊   | 6758/10000 [26:41<14:42,  3.67it/s]/home/users/delon/.local/lib/python3.9/site-packages/scipy/integrate/_quadpack_py.py:1272: IntegrationWarning: The algorithm does not converge.  Roundoff error is detected\n",
      "  in the extrapolation table.  It is assumed that the requested tolerance\n",
      "  cannot be achieved, and that the returned result (if full_output = 1) is \n",
      "  the best which can be obtained.\n",
      "  quad_r = quad(f, low, high, args=args, full_output=self.full_output,\n",
      " 70%|███████   | 7034/10000 [27:31<09:31,  5.19it/s]/home/users/delon/.local/lib/python3.9/site-packages/scipy/integrate/_quadpack_py.py:1272: IntegrationWarning: The algorithm does not converge.  Roundoff error is detected\n",
      "  in the extrapolation table.  It is assumed that the requested tolerance\n",
      "  cannot be achieved, and that the returned result (if full_output = 1) is \n",
      "  the best which can be obtained.\n",
      "  quad_r = quad(f, low, high, args=args, full_output=self.full_output,\n",
      " 73%|███████▎  | 7311/10000 [28:46<11:24,  3.93it/s]/home/users/delon/.local/lib/python3.9/site-packages/scipy/integrate/_quadpack_py.py:1272: IntegrationWarning: The algorithm does not converge.  Roundoff error is detected\n",
      "  in the extrapolation table.  It is assumed that the requested tolerance\n",
      "  cannot be achieved, and that the returned result (if full_output = 1) is \n",
      "  the best which can be obtained.\n",
      "  quad_r = quad(f, low, high, args=args, full_output=self.full_output,\n",
      " 73%|███████▎  | 7311/10000 [28:59<11:24,  3.93it/s]/home/users/delon/.local/lib/python3.9/site-packages/scipy/integrate/_quadpack_py.py:1272: IntegrationWarning: The algorithm does not converge.  Roundoff error is detected\n",
      "  in the extrapolation table.  It is assumed that the requested tolerance\n",
      "  cannot be achieved, and that the returned result (if full_output = 1) is \n",
      "  the best which can be obtained.\n",
      "  quad_r = quad(f, low, high, args=args, full_output=self.full_output,\n",
      "/home/users/delon/.local/lib/python3.9/site-packages/scipy/integrate/_quadpack_py.py:1272: IntegrationWarning: The algorithm does not converge.  Roundoff error is detected\n",
      "  in the extrapolation table.  It is assumed that the requested tolerance\n",
      "  cannot be achieved, and that the returned result (if full_output = 1) is \n",
      "  the best which can be obtained.\n",
      "  quad_r = quad(f, low, high, args=args, full_output=self.full_output,\n",
      "/home/users/delon/.local/lib/python3.9/site-packages/scipy/integrate/_quadpack_py.py:1272: IntegrationWarning: The algorithm does not converge.  Roundoff error is detected\n",
      "  in the extrapolation table.  It is assumed that the requested tolerance\n",
      "  cannot be achieved, and that the returned result (if full_output = 1) is \n",
      "  the best which can be obtained.\n",
      "  quad_r = quad(f, low, high, args=args, full_output=self.full_output,\n"
     ]
    },
    {
     "name": "stderr",
     "output_type": "stream",
     "text": [
      " 74%|███████▍  | 7426/10000 [29:29<11:50,  3.62it/s]/home/users/delon/.local/lib/python3.9/site-packages/scipy/integrate/_quadpack_py.py:1272: IntegrationWarning: The algorithm does not converge.  Roundoff error is detected\n",
      "  in the extrapolation table.  It is assumed that the requested tolerance\n",
      "  cannot be achieved, and that the returned result (if full_output = 1) is \n",
      "  the best which can be obtained.\n",
      "  quad_r = quad(f, low, high, args=args, full_output=self.full_output,\n",
      " 76%|███████▌  | 7569/10000 [29:52<07:45,  5.22it/s]/home/users/delon/.local/lib/python3.9/site-packages/scipy/integrate/_quadpack_py.py:1272: IntegrationWarning: The algorithm does not converge.  Roundoff error is detected\n",
      "  in the extrapolation table.  It is assumed that the requested tolerance\n",
      "  cannot be achieved, and that the returned result (if full_output = 1) is \n",
      "  the best which can be obtained.\n",
      "  quad_r = quad(f, low, high, args=args, full_output=self.full_output,\n",
      "/home/users/delon/.local/lib/python3.9/site-packages/scipy/integrate/_quadpack_py.py:1272: IntegrationWarning: The algorithm does not converge.  Roundoff error is detected\n",
      "  in the extrapolation table.  It is assumed that the requested tolerance\n",
      "  cannot be achieved, and that the returned result (if full_output = 1) is \n",
      "  the best which can be obtained.\n",
      "  quad_r = quad(f, low, high, args=args, full_output=self.full_output,\n",
      "/home/users/delon/.local/lib/python3.9/site-packages/scipy/integrate/_quadpack_py.py:1272: IntegrationWarning: The algorithm does not converge.  Roundoff error is detected\n",
      "  in the extrapolation table.  It is assumed that the requested tolerance\n",
      "  cannot be achieved, and that the returned result (if full_output = 1) is \n",
      "  the best which can be obtained.\n",
      "  quad_r = quad(f, low, high, args=args, full_output=self.full_output,\n",
      " 76%|███████▋  | 7626/10000 [30:11<09:05,  4.35it/s]/home/users/delon/.local/lib/python3.9/site-packages/scipy/integrate/_quadpack_py.py:1272: IntegrationWarning: The algorithm does not converge.  Roundoff error is detected\n",
      "  in the extrapolation table.  It is assumed that the requested tolerance\n",
      "  cannot be achieved, and that the returned result (if full_output = 1) is \n",
      "  the best which can be obtained.\n",
      "  quad_r = quad(f, low, high, args=args, full_output=self.full_output,\n",
      " 77%|███████▋  | 7687/10000 [30:29<09:54,  3.89it/s]/home/users/delon/.local/lib/python3.9/site-packages/scipy/integrate/_quadpack_py.py:1272: IntegrationWarning: The algorithm does not converge.  Roundoff error is detected\n",
      "  in the extrapolation table.  It is assumed that the requested tolerance\n",
      "  cannot be achieved, and that the returned result (if full_output = 1) is \n",
      "  the best which can be obtained.\n",
      "  quad_r = quad(f, low, high, args=args, full_output=self.full_output,\n",
      " 78%|███████▊  | 7790/10000 [30:47<09:41,  3.80it/s]/home/users/delon/.local/lib/python3.9/site-packages/scipy/integrate/_quadpack_py.py:1272: IntegrationWarning: The algorithm does not converge.  Roundoff error is detected\n",
      "  in the extrapolation table.  It is assumed that the requested tolerance\n",
      "  cannot be achieved, and that the returned result (if full_output = 1) is \n",
      "  the best which can be obtained.\n",
      "  quad_r = quad(f, low, high, args=args, full_output=self.full_output,\n",
      "/home/users/delon/.local/lib/python3.9/site-packages/scipy/integrate/_quadpack_py.py:1272: IntegrationWarning: The algorithm does not converge.  Roundoff error is detected\n",
      "  in the extrapolation table.  It is assumed that the requested tolerance\n",
      "  cannot be achieved, and that the returned result (if full_output = 1) is \n",
      "  the best which can be obtained.\n",
      "  quad_r = quad(f, low, high, args=args, full_output=self.full_output,\n",
      " 78%|███████▊  | 7811/10000 [31:21<24:41,  1.48it/s]/home/users/delon/.local/lib/python3.9/site-packages/scipy/integrate/_quadpack_py.py:1272: IntegrationWarning: The integral is probably divergent, or slowly convergent.\n",
      "  quad_r = quad(f, low, high, args=args, full_output=self.full_output,\n",
      "/home/users/delon/.local/lib/python3.9/site-packages/scipy/integrate/_quadpack_py.py:1272: IntegrationWarning: The algorithm does not converge.  Roundoff error is detected\n",
      "  in the extrapolation table.  It is assumed that the requested tolerance\n",
      "  cannot be achieved, and that the returned result (if full_output = 1) is \n",
      "  the best which can be obtained.\n",
      "  quad_r = quad(f, low, high, args=args, full_output=self.full_output,\n",
      " 78%|███████▊  | 7829/10000 [31:34<24:46,  1.46it/s]/home/users/delon/.local/lib/python3.9/site-packages/scipy/integrate/_quadpack_py.py:1272: IntegrationWarning: The algorithm does not converge.  Roundoff error is detected\n",
      "  in the extrapolation table.  It is assumed that the requested tolerance\n",
      "  cannot be achieved, and that the returned result (if full_output = 1) is \n",
      "  the best which can be obtained.\n",
      "  quad_r = quad(f, low, high, args=args, full_output=self.full_output,\n",
      "/home/users/delon/.local/lib/python3.9/site-packages/scipy/integrate/_quadpack_py.py:1272: IntegrationWarning: The integral is probably divergent, or slowly convergent.\n",
      "  quad_r = quad(f, low, high, args=args, full_output=self.full_output,\n",
      "/home/users/delon/.local/lib/python3.9/site-packages/scipy/integrate/_quadpack_py.py:1272: IntegrationWarning: The algorithm does not converge.  Roundoff error is detected\n",
      "  in the extrapolation table.  It is assumed that the requested tolerance\n",
      "  cannot be achieved, and that the returned result (if full_output = 1) is \n",
      "  the best which can be obtained.\n",
      "  quad_r = quad(f, low, high, args=args, full_output=self.full_output,\n",
      "/home/users/delon/.local/lib/python3.9/site-packages/scipy/integrate/_quadpack_py.py:1272: IntegrationWarning: The algorithm does not converge.  Roundoff error is detected\n",
      "  in the extrapolation table.  It is assumed that the requested tolerance\n",
      "  cannot be achieved, and that the returned result (if full_output = 1) is \n",
      "  the best which can be obtained.\n",
      "  quad_r = quad(f, low, high, args=args, full_output=self.full_output,\n",
      "/home/users/delon/.local/lib/python3.9/site-packages/scipy/integrate/_quadpack_py.py:1272: IntegrationWarning: The algorithm does not converge.  Roundoff error is detected\n",
      "  in the extrapolation table.  It is assumed that the requested tolerance\n",
      "  cannot be achieved, and that the returned result (if full_output = 1) is \n",
      "  the best which can be obtained.\n",
      "  quad_r = quad(f, low, high, args=args, full_output=self.full_output,\n",
      "/home/users/delon/.local/lib/python3.9/site-packages/scipy/integrate/_quadpack_py.py:1272: IntegrationWarning: The algorithm does not converge.  Roundoff error is detected\n",
      "  in the extrapolation table.  It is assumed that the requested tolerance\n",
      "  cannot be achieved, and that the returned result (if full_output = 1) is \n",
      "  the best which can be obtained.\n",
      "  quad_r = quad(f, low, high, args=args, full_output=self.full_output,\n",
      "/home/users/delon/.local/lib/python3.9/site-packages/scipy/integrate/_quadpack_py.py:1272: IntegrationWarning: The integral is probably divergent, or slowly convergent.\n",
      "  quad_r = quad(f, low, high, args=args, full_output=self.full_output,\n",
      "/home/users/delon/.local/lib/python3.9/site-packages/scipy/integrate/_quadpack_py.py:1272: IntegrationWarning: The algorithm does not converge.  Roundoff error is detected\n",
      "  in the extrapolation table.  It is assumed that the requested tolerance\n",
      "  cannot be achieved, and that the returned result (if full_output = 1) is \n",
      "  the best which can be obtained.\n",
      "  quad_r = quad(f, low, high, args=args, full_output=self.full_output,\n",
      " 78%|███████▊  | 7847/10000 [32:14<40:28,  1.13s/it]/home/users/delon/.local/lib/python3.9/site-packages/scipy/integrate/_quadpack_py.py:1272: IntegrationWarning: The algorithm does not converge.  Roundoff error is detected\n",
      "  in the extrapolation table.  It is assumed that the requested tolerance\n",
      "  cannot be achieved, and that the returned result (if full_output = 1) is \n",
      "  the best which can be obtained.\n",
      "  quad_r = quad(f, low, high, args=args, full_output=self.full_output,\n",
      " 80%|████████  | 8011/10000 [32:22<08:52,  3.73it/s]/home/users/delon/.local/lib/python3.9/site-packages/scipy/integrate/_quadpack_py.py:1272: IntegrationWarning: The algorithm does not converge.  Roundoff error is detected\n",
      "  in the extrapolation table.  It is assumed that the requested tolerance\n",
      "  cannot be achieved, and that the returned result (if full_output = 1) is \n",
      "  the best which can be obtained.\n",
      "  quad_r = quad(f, low, high, args=args, full_output=self.full_output,\n"
     ]
    },
    {
     "name": "stderr",
     "output_type": "stream",
     "text": [
      " 80%|████████  | 8017/10000 [32:38<13:11,  2.51it/s]/home/users/delon/.local/lib/python3.9/site-packages/scipy/integrate/_quadpack_py.py:1272: IntegrationWarning: The algorithm does not converge.  Roundoff error is detected\n",
      "  in the extrapolation table.  It is assumed that the requested tolerance\n",
      "  cannot be achieved, and that the returned result (if full_output = 1) is \n",
      "  the best which can be obtained.\n",
      "  quad_r = quad(f, low, high, args=args, full_output=self.full_output,\n",
      "/home/users/delon/.local/lib/python3.9/site-packages/scipy/integrate/_quadpack_py.py:1272: IntegrationWarning: The integral is probably divergent, or slowly convergent.\n",
      "  quad_r = quad(f, low, high, args=args, full_output=self.full_output,\n",
      "/home/users/delon/.local/lib/python3.9/site-packages/scipy/integrate/_quadpack_py.py:1272: IntegrationWarning: The algorithm does not converge.  Roundoff error is detected\n",
      "  in the extrapolation table.  It is assumed that the requested tolerance\n",
      "  cannot be achieved, and that the returned result (if full_output = 1) is \n",
      "  the best which can be obtained.\n",
      "  quad_r = quad(f, low, high, args=args, full_output=self.full_output,\n",
      "/home/users/delon/.local/lib/python3.9/site-packages/scipy/integrate/_quadpack_py.py:1272: IntegrationWarning: The algorithm does not converge.  Roundoff error is detected\n",
      "  in the extrapolation table.  It is assumed that the requested tolerance\n",
      "  cannot be achieved, and that the returned result (if full_output = 1) is \n",
      "  the best which can be obtained.\n",
      "  quad_r = quad(f, low, high, args=args, full_output=self.full_output,\n",
      "/home/users/delon/.local/lib/python3.9/site-packages/scipy/integrate/_quadpack_py.py:1272: IntegrationWarning: The algorithm does not converge.  Roundoff error is detected\n",
      "  in the extrapolation table.  It is assumed that the requested tolerance\n",
      "  cannot be achieved, and that the returned result (if full_output = 1) is \n",
      "  the best which can be obtained.\n",
      "  quad_r = quad(f, low, high, args=args, full_output=self.full_output,\n",
      "/home/users/delon/.local/lib/python3.9/site-packages/scipy/integrate/_quadpack_py.py:1272: IntegrationWarning: The integral is probably divergent, or slowly convergent.\n",
      "  quad_r = quad(f, low, high, args=args, full_output=self.full_output,\n",
      "/home/users/delon/.local/lib/python3.9/site-packages/scipy/integrate/_quadpack_py.py:1272: IntegrationWarning: The integral is probably divergent, or slowly convergent.\n",
      "  quad_r = quad(f, low, high, args=args, full_output=self.full_output,\n",
      " 80%|████████  | 8026/10000 [33:44<36:18,  1.10s/it]/home/users/delon/.local/lib/python3.9/site-packages/scipy/integrate/_quadpack_py.py:1272: IntegrationWarning: The algorithm does not converge.  Roundoff error is detected\n",
      "  in the extrapolation table.  It is assumed that the requested tolerance\n",
      "  cannot be achieved, and that the returned result (if full_output = 1) is \n",
      "  the best which can be obtained.\n",
      "  quad_r = quad(f, low, high, args=args, full_output=self.full_output,\n",
      "/home/users/delon/.local/lib/python3.9/site-packages/scipy/integrate/_quadpack_py.py:1272: IntegrationWarning: The algorithm does not converge.  Roundoff error is detected\n",
      "  in the extrapolation table.  It is assumed that the requested tolerance\n",
      "  cannot be achieved, and that the returned result (if full_output = 1) is \n",
      "  the best which can be obtained.\n",
      "  quad_r = quad(f, low, high, args=args, full_output=self.full_output,\n",
      "/home/users/delon/.local/lib/python3.9/site-packages/scipy/integrate/_quadpack_py.py:1272: IntegrationWarning: The algorithm does not converge.  Roundoff error is detected\n",
      "  in the extrapolation table.  It is assumed that the requested tolerance\n",
      "  cannot be achieved, and that the returned result (if full_output = 1) is \n",
      "  the best which can be obtained.\n",
      "  quad_r = quad(f, low, high, args=args, full_output=self.full_output,\n",
      "/home/users/delon/.local/lib/python3.9/site-packages/scipy/integrate/_quadpack_py.py:1272: IntegrationWarning: The algorithm does not converge.  Roundoff error is detected\n",
      "  in the extrapolation table.  It is assumed that the requested tolerance\n",
      "  cannot be achieved, and that the returned result (if full_output = 1) is \n",
      "  the best which can be obtained.\n",
      "  quad_r = quad(f, low, high, args=args, full_output=self.full_output,\n",
      "/home/users/delon/.local/lib/python3.9/site-packages/scipy/integrate/_quadpack_py.py:1272: IntegrationWarning: The integral is probably divergent, or slowly convergent.\n",
      "  quad_r = quad(f, low, high, args=args, full_output=self.full_output,\n",
      "/home/users/delon/.local/lib/python3.9/site-packages/scipy/integrate/_quadpack_py.py:1272: IntegrationWarning: The integral is probably divergent, or slowly convergent.\n",
      "  quad_r = quad(f, low, high, args=args, full_output=self.full_output,\n",
      "/home/users/delon/.local/lib/python3.9/site-packages/scipy/integrate/_quadpack_py.py:1272: IntegrationWarning: The integral is probably divergent, or slowly convergent.\n",
      "  quad_r = quad(f, low, high, args=args, full_output=self.full_output,\n",
      "/home/users/delon/.local/lib/python3.9/site-packages/scipy/integrate/_quadpack_py.py:1272: IntegrationWarning: The integral is probably divergent, or slowly convergent.\n",
      "  quad_r = quad(f, low, high, args=args, full_output=self.full_output,\n",
      " 81%|████████  | 8101/10000 [44:18<2:42:42,  5.14s/it]/home/users/delon/.local/lib/python3.9/site-packages/scipy/integrate/_quadpack_py.py:1272: IntegrationWarning: The integral is probably divergent, or slowly convergent.\n",
      "  quad_r = quad(f, low, high, args=args, full_output=self.full_output,\n",
      " 84%|████████▍ | 8428/10000 [47:47<43:24,  1.66s/it]  /home/users/delon/.local/lib/python3.9/site-packages/scipy/integrate/_quadpack_py.py:1272: IntegrationWarning: The integral is probably divergent, or slowly convergent.\n",
      "  quad_r = quad(f, low, high, args=args, full_output=self.full_output,\n",
      "/home/users/delon/.local/lib/python3.9/site-packages/scipy/integrate/_quadpack_py.py:1272: IntegrationWarning: The integral is probably divergent, or slowly convergent.\n",
      "  quad_r = quad(f, low, high, args=args, full_output=self.full_output,\n",
      "/home/users/delon/.local/lib/python3.9/site-packages/scipy/integrate/_quadpack_py.py:1272: IntegrationWarning: The integral is probably divergent, or slowly convergent.\n",
      "  quad_r = quad(f, low, high, args=args, full_output=self.full_output,\n",
      " 87%|████████▋ | 8718/10000 [1:11:33<10:31,  2.03it/s]  \n"
     ]
    },
    {
     "ename": "KeyboardInterrupt",
     "evalue": "",
     "output_type": "error",
     "traceback": [
      "\u001b[0;31m---------------------------------------------------------------------------\u001b[0m",
      "\u001b[0;31mIndexError\u001b[0m                                Traceback (most recent call last)",
      "\u001b[0;32m/oak/stanford/orgs/kipac/users/delon/miniconda3/envs/cosmology/lib/python3.9/multiprocessing/pool.py\u001b[0m in \u001b[0;36mnext\u001b[0;34m(self, timeout)\u001b[0m\n\u001b[1;32m    852\u001b[0m             \u001b[0;32mtry\u001b[0m\u001b[0;34m:\u001b[0m\u001b[0;34m\u001b[0m\u001b[0;34m\u001b[0m\u001b[0m\n\u001b[0;32m--> 853\u001b[0;31m                 \u001b[0mitem\u001b[0m \u001b[0;34m=\u001b[0m \u001b[0mself\u001b[0m\u001b[0;34m.\u001b[0m\u001b[0m_items\u001b[0m\u001b[0;34m.\u001b[0m\u001b[0mpopleft\u001b[0m\u001b[0;34m(\u001b[0m\u001b[0;34m)\u001b[0m\u001b[0;34m\u001b[0m\u001b[0;34m\u001b[0m\u001b[0m\n\u001b[0m\u001b[1;32m    854\u001b[0m             \u001b[0;32mexcept\u001b[0m \u001b[0mIndexError\u001b[0m\u001b[0;34m:\u001b[0m\u001b[0;34m\u001b[0m\u001b[0;34m\u001b[0m\u001b[0m\n",
      "\u001b[0;31mIndexError\u001b[0m: pop from an empty deque",
      "\nDuring handling of the above exception, another exception occurred:\n",
      "\u001b[0;31mKeyboardInterrupt\u001b[0m                         Traceback (most recent call last)",
      "\u001b[0;32m/tmp/ipykernel_4563/2478233785.py\u001b[0m in \u001b[0;36m<module>\u001b[0;34m\u001b[0m\n\u001b[1;32m      1\u001b[0m \u001b[0;32mwith\u001b[0m \u001b[0mPool\u001b[0m\u001b[0;34m(\u001b[0m\u001b[0mprocesses\u001b[0m\u001b[0;34m=\u001b[0m\u001b[0;36m32\u001b[0m\u001b[0;34m)\u001b[0m \u001b[0;32mas\u001b[0m \u001b[0mpool\u001b[0m\u001b[0;34m:\u001b[0m\u001b[0;34m\u001b[0m\u001b[0;34m\u001b[0m\u001b[0m\n\u001b[0;32m----> 2\u001b[0;31m         results = list(tqdm(\n\u001b[0m\u001b[1;32m      3\u001b[0m             \u001b[0mpool\u001b[0m\u001b[0;34m.\u001b[0m\u001b[0mimap\u001b[0m\u001b[0;34m(\u001b[0m\u001b[0mcompute_bin_element\u001b[0m\u001b[0;34m,\u001b[0m \u001b[0mparams_list\u001b[0m\u001b[0;34m)\u001b[0m\u001b[0;34m,\u001b[0m\u001b[0;34m\u001b[0m\u001b[0;34m\u001b[0m\u001b[0m\n\u001b[1;32m      4\u001b[0m             \u001b[0mtotal\u001b[0m\u001b[0;34m=\u001b[0m\u001b[0mlen\u001b[0m\u001b[0;34m(\u001b[0m\u001b[0mparams_list\u001b[0m\u001b[0;34m)\u001b[0m\u001b[0;34m\u001b[0m\u001b[0;34m\u001b[0m\u001b[0m\n\u001b[1;32m      5\u001b[0m         ))\n",
      "\u001b[0;32m~/.local/lib/python3.9/site-packages/tqdm/std.py\u001b[0m in \u001b[0;36m__iter__\u001b[0;34m(self)\u001b[0m\n\u001b[1;32m   1179\u001b[0m \u001b[0;34m\u001b[0m\u001b[0m\n\u001b[1;32m   1180\u001b[0m         \u001b[0;32mtry\u001b[0m\u001b[0;34m:\u001b[0m\u001b[0;34m\u001b[0m\u001b[0;34m\u001b[0m\u001b[0m\n\u001b[0;32m-> 1181\u001b[0;31m             \u001b[0;32mfor\u001b[0m \u001b[0mobj\u001b[0m \u001b[0;32min\u001b[0m \u001b[0miterable\u001b[0m\u001b[0;34m:\u001b[0m\u001b[0;34m\u001b[0m\u001b[0;34m\u001b[0m\u001b[0m\n\u001b[0m\u001b[1;32m   1182\u001b[0m                 \u001b[0;32myield\u001b[0m \u001b[0mobj\u001b[0m\u001b[0;34m\u001b[0m\u001b[0;34m\u001b[0m\u001b[0m\n\u001b[1;32m   1183\u001b[0m                 \u001b[0;31m# Update and possibly print the progressbar.\u001b[0m\u001b[0;34m\u001b[0m\u001b[0;34m\u001b[0m\u001b[0m\n",
      "\u001b[0;32m/oak/stanford/orgs/kipac/users/delon/miniconda3/envs/cosmology/lib/python3.9/multiprocessing/pool.py\u001b[0m in \u001b[0;36mnext\u001b[0;34m(self, timeout)\u001b[0m\n\u001b[1;32m    856\u001b[0m                     \u001b[0mself\u001b[0m\u001b[0;34m.\u001b[0m\u001b[0m_pool\u001b[0m \u001b[0;34m=\u001b[0m \u001b[0;32mNone\u001b[0m\u001b[0;34m\u001b[0m\u001b[0;34m\u001b[0m\u001b[0m\n\u001b[1;32m    857\u001b[0m                     \u001b[0;32mraise\u001b[0m \u001b[0mStopIteration\u001b[0m \u001b[0;32mfrom\u001b[0m \u001b[0;32mNone\u001b[0m\u001b[0;34m\u001b[0m\u001b[0;34m\u001b[0m\u001b[0m\n\u001b[0;32m--> 858\u001b[0;31m                 \u001b[0mself\u001b[0m\u001b[0;34m.\u001b[0m\u001b[0m_cond\u001b[0m\u001b[0;34m.\u001b[0m\u001b[0mwait\u001b[0m\u001b[0;34m(\u001b[0m\u001b[0mtimeout\u001b[0m\u001b[0;34m)\u001b[0m\u001b[0;34m\u001b[0m\u001b[0;34m\u001b[0m\u001b[0m\n\u001b[0m\u001b[1;32m    859\u001b[0m                 \u001b[0;32mtry\u001b[0m\u001b[0;34m:\u001b[0m\u001b[0;34m\u001b[0m\u001b[0;34m\u001b[0m\u001b[0m\n\u001b[1;32m    860\u001b[0m                     \u001b[0mitem\u001b[0m \u001b[0;34m=\u001b[0m \u001b[0mself\u001b[0m\u001b[0;34m.\u001b[0m\u001b[0m_items\u001b[0m\u001b[0;34m.\u001b[0m\u001b[0mpopleft\u001b[0m\u001b[0;34m(\u001b[0m\u001b[0;34m)\u001b[0m\u001b[0;34m\u001b[0m\u001b[0;34m\u001b[0m\u001b[0m\n",
      "\u001b[0;32m/oak/stanford/orgs/kipac/users/delon/miniconda3/envs/cosmology/lib/python3.9/threading.py\u001b[0m in \u001b[0;36mwait\u001b[0;34m(self, timeout)\u001b[0m\n\u001b[1;32m    310\u001b[0m         \u001b[0;32mtry\u001b[0m\u001b[0;34m:\u001b[0m    \u001b[0;31m# restore state no matter what (e.g., KeyboardInterrupt)\u001b[0m\u001b[0;34m\u001b[0m\u001b[0;34m\u001b[0m\u001b[0m\n\u001b[1;32m    311\u001b[0m             \u001b[0;32mif\u001b[0m \u001b[0mtimeout\u001b[0m \u001b[0;32mis\u001b[0m \u001b[0;32mNone\u001b[0m\u001b[0;34m:\u001b[0m\u001b[0;34m\u001b[0m\u001b[0;34m\u001b[0m\u001b[0m\n\u001b[0;32m--> 312\u001b[0;31m                 \u001b[0mwaiter\u001b[0m\u001b[0;34m.\u001b[0m\u001b[0macquire\u001b[0m\u001b[0;34m(\u001b[0m\u001b[0;34m)\u001b[0m\u001b[0;34m\u001b[0m\u001b[0;34m\u001b[0m\u001b[0m\n\u001b[0m\u001b[1;32m    313\u001b[0m                 \u001b[0mgotit\u001b[0m \u001b[0;34m=\u001b[0m \u001b[0;32mTrue\u001b[0m\u001b[0;34m\u001b[0m\u001b[0;34m\u001b[0m\u001b[0m\n\u001b[1;32m    314\u001b[0m             \u001b[0;32melse\u001b[0m\u001b[0;34m:\u001b[0m\u001b[0;34m\u001b[0m\u001b[0;34m\u001b[0m\u001b[0m\n",
      "\u001b[0;31mKeyboardInterrupt\u001b[0m: "
     ]
    }
   ],
   "source": [
    "with Pool(processes=32) as pool:\n",
    "        results = list(tqdm(\n",
    "            pool.imap(compute_bin_element, params_list),\n",
    "            total=len(params_list)\n",
    "        ))"
   ]
  },
  {
   "cell_type": "code",
   "execution_count": null,
   "id": "48c66b25",
   "metadata": {},
   "outputs": [],
   "source": [
    "I_kappa = np.zeros((len(ells), nbins), dtype = np.float64)\n",
    "for ell_idx, i, res in results:\n",
    "    I_kappa[ell_idx, i] = res"
   ]
  },
  {
   "cell_type": "code",
   "execution_count": null,
   "id": "b9b55c58",
   "metadata": {},
   "outputs": [],
   "source": [
    "np.max(np.abs(I_kappa))"
   ]
  },
  {
   "cell_type": "code",
   "execution_count": null,
   "id": "5d8b70da",
   "metadata": {},
   "outputs": [],
   "source": [
    "np.save(oup_fname, I_kappa)"
   ]
  },
  {
   "cell_type": "code",
   "execution_count": null,
   "id": "137834c6",
   "metadata": {},
   "outputs": [],
   "source": [
    "plt.figure(dpi = 300, facecolor = 'w')\n",
    "for Lambda_idx in range(25):\n",
    "    if(Lambda_idx % 6 != 0):\n",
    "        continue\n",
    "    ILo_kappa = np.zeros((100, nbins))\n",
    "\n",
    "    for curr_bin in range(nbins):\n",
    "        oup_fname = '/scratch/users/delon/LIMxCMBL/IHiKappa/ILok_'\n",
    "        oup_fname+= 'zmin_%.5f_zmax_%.5f_idx_%d_dblquad_n_bins_%d_curr_%d.npy'%(zmin, zmax, \n",
    "                                                                                Lambda_idx, \n",
    "                                                                                nbins, \n",
    "                                                                                curr_bin)\n",
    "        ILo_kappa[:,curr_bin] = np.load(oup_fname)\n",
    "\n",
    "\n",
    "    IHi_kappa = I_kappa - ILo_kappa\n",
    "\n",
    "    plt.plot(chi_bin_centers, IHi_kappa[42], label = 'Lambda = %.1e'%(Lambdas[Lambda_idx]))\n",
    "    plt.legend(frameon= False)\n",
    "    plt.xlim(chimin, chimin + 1000)\n",
    "    plt.xlabel('chi')\n",
    "    plt.ylabel('IHi Kappa ell = 140')\n"
   ]
  }
 ],
 "metadata": {
  "kernelspec": {
   "display_name": "cosmology",
   "language": "python",
   "name": "cosmology"
  },
  "language_info": {
   "codemirror_mode": {
    "name": "ipython",
    "version": 3
   },
   "file_extension": ".py",
   "mimetype": "text/x-python",
   "name": "python",
   "nbconvert_exporter": "python",
   "pygments_lexer": "ipython3",
   "version": "3.9.19"
  }
 },
 "nbformat": 4,
 "nbformat_minor": 5
}
