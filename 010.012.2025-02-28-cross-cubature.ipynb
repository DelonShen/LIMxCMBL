{
 "cells": [
  {
   "cell_type": "code",
   "execution_count": 3,
   "id": "61af8533",
   "metadata": {},
   "outputs": [
    {
     "name": "stdout",
     "output_type": "stream",
     "text": [
      "/scratch/users/delon/LIMxCMBL/I_auto/comb_zmin_3.5_zmax_8.1_Lambda_idx_18_nb_100_cubature.npy\n"
     ]
    }
   ],
   "source": [
    "from LIMxCMBL.init import *\n",
    "from LIMxCMBL.kernels import *\n",
    "import sys\n",
    "\n",
    "Lambda_idx = 18\n",
    "nbins = 100\n",
    "\n",
    "Lambda = Lambdas[Lambda_idx]\n",
    "\n",
    "# CCAT-prime\n",
    "zmin = 3.5\n",
    "zmax = 8.1\n",
    "\n",
    "oup_fname = '/scratch/users/delon/LIMxCMBL/I_auto/comb'\n",
    "oup_fname += '_zmin_%.1f_zmax_%.1f_Lambda_idx_%d_nb_%d_cubature.npy'%(zmin, zmax, Lambda_idx, nbins)\n",
    "print(oup_fname)\n",
    "Omega_field = 8 * (np.pi/180)**2 #rad^2\n",
    "Pei = 2.3e4 #Mpc^3 kJy^2 /sr^2 \n",
    "chimin = ccl.comoving_angular_distance(cosmo, 1/(1+zmin))\n",
    "chimax = ccl.comoving_angular_distance(cosmo, 1/(1+zmax))"
   ]
  },
  {
   "cell_type": "code",
   "execution_count": 6,
   "id": "7761ec64",
   "metadata": {},
   "outputs": [],
   "source": [
    "from scipy.interpolate import interp1d, LinearNDInterpolator\n",
    "from scipy.integrate import quad, quad_vec, trapezoid, tplquad\n",
    "\n",
    "inner_dkparp_integral = np.load('/oak/stanford/orgs/kipac/users/delon/LIMxCMBL/inner_dkparp_integral.npy')\n",
    "tmp_chibs = []\n",
    "tmp_log_deltas = []\n",
    "tmp_fnctn = []\n",
    "for i in range(len(chibs)):\n",
    "    for j in range(len(deltas)):\n",
    "        tmp_chibs += [chibs[i]]\n",
    "        tmp_log_deltas += [np.log10(deltas[j])]\n",
    "        tmp_fnctn += [inner_dkparp_integral[:,i,j]]\n",
    "        \n",
    "f_inner_integral = LinearNDInterpolator(list(zip(tmp_chibs, tmp_log_deltas)), tmp_fnctn)\n",
    "\n",
    "chi_bin_edges = np.linspace(chimin*(1+1e-8), chimax*(1 - 1e-8), nbins + 1)\n",
    "chi_bin_centers = (chi_bin_edges[1:] + chi_bin_edges[:-1])/2\n",
    "dchi_binned = np.mean(np.diff(chi_bin_edges))\n",
    "\n"
   ]
  },
  {
   "cell_type": "code",
   "execution_count": 8,
   "id": "667c40d7",
   "metadata": {},
   "outputs": [
    {
     "data": {
      "text/plain": [
       "(2, 100)"
      ]
     },
     "execution_count": 8,
     "metadata": {},
     "output_type": "execute_result"
    }
   ],
   "source": [
    "f_inner_integral([(1,1),(1,2)]).shape"
   ]
  },
  {
   "cell_type": "code",
   "execution_count": 35,
   "id": "66e622d6",
   "metadata": {},
   "outputs": [],
   "source": [
    "from tqdm import trange\n",
    "\n",
    "# f_KLIM   = get_f_KI()\n",
    "def f_cross_integrand(x):\n",
    "    '''\n",
    "    x should be of shape (npoints, ndim)\n",
    "    output should be of shape (npoints, output_dim_1,...)\n",
    "    '''\n",
    "    chi, chip, _chib = x[:,0], x[:,1], x[:,2]\n",
    "    \n",
    "    #I Lo\n",
    "    _delta = np.abs(1 - chi/_chib) #(p)\n",
    "    _delta = np.where(_delta < 1e-6, 1e-6,\n",
    "                     np.where(_delta > .7, 0.7, _delta)) #(p)\n",
    "    \n",
    "    _idx = ((chimin <= 2*_chib - chi) \n",
    "            & (2*_chib - chi <= chimax)\n",
    "            & (chimin <= chi)\n",
    "            & (chi <= chimax))\n",
    "    \n",
    "    _c1 =  np.where(_idx.reshape(-1, 1),\n",
    "                    np.einsum('p,pl,p,p->pl', \n",
    "                       2 * f_KI1D(chi),\n",
    "                       f_inner_integral([(_b, np.log10(_d)) for _b, _d in zip(_chib,_delta)]),\n",
    "                       1/(_chib**2),\n",
    "                       f_KILo(2*_chib - chi, external_chi = chip, Lambda=Lambda)),\n",
    "                    0)\n",
    "        \n",
    "    #Lo I\n",
    "    _delta = np.abs(1 - chip/_chib) #(p)\n",
    "    _delta = np.where(_delta < 1e-6, 1e-6,\n",
    "                     np.where(_delta > .7, 0.7, _delta)) #(p)\n",
    "    \n",
    "    _idx = ((chimin <= 2*_chib - chip) \n",
    "            & (2*_chib - chip <= chimax)\n",
    "            & (chimin <= chip)\n",
    "            & (chip <= chimax))\n",
    "    \n",
    "    _c2 =  np.where(_idx.reshape(-1, 1),\n",
    "                    np.einsum('p,pl,p,p->pl', \n",
    "                       2 * f_KI1D(chip),\n",
    "                       f_inner_integral([(_b, np.log10(_d)) for _b, _d in zip(_chib,_delta)]),\n",
    "                       1/(_chib**2),\n",
    "                       f_KILo(2*_chib - chip, external_chi = chi, Lambda=Lambda)),\n",
    "                    0)\n",
    "\n",
    "    return _c1 + _c2"
   ]
  },
  {
   "cell_type": "code",
   "execution_count": 36,
   "id": "83110d5e",
   "metadata": {},
   "outputs": [
    {
     "data": {
      "text/plain": [
       "(2, 100)"
      ]
     },
     "execution_count": 36,
     "metadata": {},
     "output_type": "execute_result"
    }
   ],
   "source": [
    "f_cross_integrand(np.array([[1,2,3],[4,5,6]])).shape"
   ]
  },
  {
   "cell_type": "code",
   "execution_count": 37,
   "id": "c6ab2921",
   "metadata": {},
   "outputs": [],
   "source": [
    "cross = np.zeros((100, nbins, nbins), dtype=np.float64)"
   ]
  },
  {
   "cell_type": "code",
   "execution_count": 38,
   "id": "d0710330",
   "metadata": {},
   "outputs": [],
   "source": [
    "params_list = []\n",
    "for i in range(nbins):\n",
    "    l1, r1 = chi_bin_edges[i], chi_bin_edges[i+1]\n",
    "    for j in range(i, nbins):\n",
    "        l2, r2 = chi_bin_edges[j], chi_bin_edges[j+1]\n",
    "        params = (i, j, l1, r1, l2, r2)\n",
    "        params_list.append(params)"
   ]
  },
  {
   "cell_type": "code",
   "execution_count": 39,
   "id": "bfab00d3",
   "metadata": {},
   "outputs": [],
   "source": [
    "def elem(params):\n",
    "    i, j, l1, r1, l2, r2 = params\n",
    "    res = cubature(integrand, [l1, l2, chimin], [r1, r2, chimax],\n",
    "                   atol = 0.0,\n",
    "                   rtol = 1e-3,)\n",
    "    \n",
    "    return (i, j, res.estimate / dchi_binned**2)"
   ]
  },
  {
   "cell_type": "code",
   "execution_count": null,
   "id": "b5d29ed8",
   "metadata": {},
   "outputs": [],
   "source": []
  }
 ],
 "metadata": {
  "kernelspec": {
   "display_name": "cosmology",
   "language": "python",
   "name": "cosmology"
  },
  "language_info": {
   "codemirror_mode": {
    "name": "ipython",
    "version": 3
   },
   "file_extension": ".py",
   "mimetype": "text/x-python",
   "name": "python",
   "nbconvert_exporter": "python",
   "pygments_lexer": "ipython3",
   "version": "3.9.19"
  }
 },
 "nbformat": 4,
 "nbformat_minor": 5
}
