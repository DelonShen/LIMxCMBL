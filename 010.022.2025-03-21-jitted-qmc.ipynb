{
 "cells": [
  {
   "cell_type": "code",
   "execution_count": 1,
   "id": "af9a96c3",
   "metadata": {},
   "outputs": [
    {
     "name": "stdout",
     "output_type": "stream",
     "text": [
      "CO\n",
      "/scratch/users/delon/LIMxCMBL/I_auto/comb_CO_zmin_2.4_zmax_3.4_Lambda_idx_24_n_b_100_l_58_jax_quad.npy\n"
     ]
    }
   ],
   "source": [
    "from LIMxCMBL.init import *\n",
    "from LIMxCMBL.kernels import *\n",
    "\n",
    "from scipy.interpolate import interp1d, LinearNDInterpolator\n",
    "from scipy.integrate import quad, quad_vec, trapezoid, qmc_quad\n",
    "\n",
    "import sys\n",
    "from os.path import isfile\n",
    "import jax\n",
    "import jax.numpy as jnp\n",
    "\n",
    "from jax import config\n",
    "config.update(\"jax_enable_x64\", True)\n",
    "# config.update('jax_platform_name', 'cpu')\n",
    "\n",
    "\n",
    "\n",
    "\n",
    "Lambda_idx = 24#int(sys.argv[1])\n",
    "n_bins = 100#int(sys.argv[2])\n",
    "ell_idx = 58#int(sys.argv[3])\n",
    "\n",
    "\n",
    "Lambda = Lambdas[Lambda_idx]\n",
    "\n",
    "zmin = 2.4#float(sys.argv[4])\n",
    "zmax = 3.4#float(sys.argv[5])\n",
    "\n",
    "kernels = {}\n",
    "kernels['CII'] = np.array(KI)\n",
    "kernels['CO'] = np.array(KI_CO)\n",
    "kernels['Lya'] = np.array(KI_Lya)\n",
    "kernels['HI'] = np.array(KI_HI)\n",
    "\n",
    "\n",
    "line_str = 'CO'#sys.argv[6]\n",
    "print(line_str)\n",
    "_KI = kernels[line_str]\n",
    "\n",
    "oup_fname = '/scratch/users/delon/LIMxCMBL/I_auto/comb_'\n",
    "oup_fname += '%s_zmin_%.1f_zmax_%.1f_Lambda_idx_%d_n_b_%d_l_%d_jax_quad.npy'%(line_str,\n",
    "                                                                                zmin, zmax, \n",
    "                                                                                Lambda_idx, \n",
    "                                                                                n_bins,\n",
    "                                                                                ell_idx)\n",
    "\n",
    "\n",
    "print(oup_fname)\n",
    "\n",
    "chimin = ccl.comoving_angular_distance(cosmo, 1/(1+zmin))\n",
    "chimax = ccl.comoving_angular_distance(cosmo, 1/(1+zmax))\n",
    "\n",
    "inner_dkparp_integral = np.load('/oak/stanford/orgs/kipac/users/delon/LIMxCMBL/inner_dkparp_integral.npy')\n",
    "inner_dkparp_integral = inner_dkparp_integral.astype(np.float64)\n",
    "inner_dkparp_integral = np.moveaxis(inner_dkparp_integral, 0, -1)\n",
    "\n",
    "@jax.jit\n",
    "def f_KILo(chi, external_chi, Lambda):\n",
    "    return (Lambda / jnp.pi \n",
    "            * jnp.interp(x = chi, xp = chis, \n",
    "                         fp = _KI, left = 0, right = 0) \n",
    "            * jnp.sinc(Lambda * (external_chi - chi) / np.pi))\n"
   ]
  },
  {
   "cell_type": "code",
   "execution_count": 2,
   "id": "54859116",
   "metadata": {},
   "outputs": [],
   "source": [
    "chi_bin_edges = np.linspace(chimin*(1+1e-8), chimax*(1 - 1e-8), n_bins + 1)\n",
    "chi_bin_centers = (chi_bin_edges[1:] + chi_bin_edges[:-1])/2\n",
    "dchi_binned = np.mean(np.diff(chi_bin_edges))"
   ]
  },
  {
   "cell_type": "code",
   "execution_count": 3,
   "id": "c1f44a0d",
   "metadata": {},
   "outputs": [],
   "source": [
    "from interpax import interp2d\n",
    "from interpax import interp1d as interp1dx"
   ]
  },
  {
   "cell_type": "code",
   "execution_count": 4,
   "id": "249a5af5",
   "metadata": {},
   "outputs": [],
   "source": [
    "from tqdm import trange, tqdm"
   ]
  },
  {
   "cell_type": "code",
   "execution_count": 5,
   "id": "60600dc5",
   "metadata": {},
   "outputs": [
    {
     "data": {
      "text/plain": [
       "5858.14183362481"
      ]
     },
     "execution_count": 5,
     "metadata": {},
     "output_type": "execute_result"
    }
   ],
   "source": [
    "chimin"
   ]
  },
  {
   "cell_type": "code",
   "execution_count": null,
   "id": "25eb5849",
   "metadata": {},
   "outputs": [],
   "source": []
  },
  {
   "cell_type": "code",
   "execution_count": 6,
   "id": "906b20b5",
   "metadata": {},
   "outputs": [
    {
     "data": {
      "text/plain": [
       "(256, 128, 100)"
      ]
     },
     "execution_count": 6,
     "metadata": {},
     "output_type": "execute_result"
    }
   ],
   "source": [
    "inner_dkparp_integral.shape"
   ]
  },
  {
   "cell_type": "code",
   "execution_count": 19,
   "id": "83b830c7",
   "metadata": {},
   "outputs": [],
   "source": [
    "@jax.jit\n",
    "def f_integrand(x):\n",
    "    chi, chip, _chib = x[0], x[1], x[2]\n",
    "    chi = chi.reshape(-1, 1)\n",
    "    chip = chip.reshape(-1, 1)\n",
    "    _chib = _chib.reshape(-1, 1)\n",
    "\n",
    "    _delta = jnp.abs(1 - chi/_chib) #(p)\n",
    "    _delta = jnp.where(_delta < 1e-6, 1e-6, \n",
    "                     jnp.where(_delta > 0.7, 0.7, _delta))\n",
    "\n",
    "    _idx = ((chimin <= 2*_chib - chi) \n",
    "            & (2*_chib - chi <= chimax)) #(p)\n",
    "    cross_integrand = (2 * jnp.interp(x = chi, xp = chis, fp = _KI, left = 0, right = 0) \n",
    "                       * interp2d(xq = _chib.reshape(-1), yq=jnp.log(_delta).reshape(-1), \n",
    "                           x = chibs, y = jnp.log(deltas), f=inner_dkparp_integral,\n",
    "                           method='linear',) \n",
    "                       / (_chib**2))\n",
    "    cross_integrand *= jnp.where(_idx,\n",
    "                                 f_KILo(2*_chib - chi, \n",
    "                                        external_chi = chip,\n",
    "                                        Lambda=Lambda), 0) #(p)\n",
    "\n",
    "    _delta = jnp.abs(1 - chip/_chib) #(p)\n",
    "    _delta = jnp.where(_delta < 1e-6, 1e-6, \n",
    "                     jnp.where(_delta > 0.7, 0.7, _delta))\n",
    "\n",
    "    _idx = ((chimin <= 2*_chib - chip) \n",
    "            & (2*_chib - chip <= chimax)) #(p)\n",
    "\n",
    "\n",
    "    cross_integrand_2 = (2 * jnp.interp(x = chip, xp = chis, fp = _KI, left = 0, right = 0) \n",
    "                       * interp2d(xq = _chib.reshape(-1), yq=jnp.log(_delta).reshape(-1), \n",
    "                           x = chibs, y = jnp.log(deltas), f=inner_dkparp_integral,\n",
    "                           method='linear',) \n",
    "                       / (_chib**2))\n",
    "\n",
    "    cross_integrand_2 *= jnp.where(_idx,\n",
    "                               f_KILo(2*_chib - chip, \n",
    "                                        external_chi = chi,\n",
    "                                        Lambda=Lambda),0)\n",
    "\n",
    "    cross_integrand += cross_integrand_2\n",
    "\n",
    "    #LoLo\n",
    "    plus = _chib.reshape(-1, 1)*(1+deltas.reshape(1, -1))\n",
    "    mins = _chib.reshape(-1, 1)*(1-deltas.reshape(1, -1))\n",
    "    _idxs = (chimin < plus) & (plus < chimax) & (chimin < mins) & (mins < chimax)\n",
    "    LoLo_integrand  = jnp.where(_idxs,\n",
    "                               f_KILo(plus, \n",
    "                                      external_chi = chi.reshape(-1, 1),\n",
    "                                      Lambda=Lambda) \n",
    "                                * f_KILo(mins, \n",
    "                                         external_chi = chip.reshape(-1, 1),\n",
    "                                         Lambda=Lambda),\n",
    "                               0)\n",
    "\n",
    "    LoLo_integrand += jnp.where(_idxs,\n",
    "                               f_KILo(mins, \n",
    "                                      external_chi = chi.reshape(-1, 1),\n",
    "                                      Lambda=Lambda) \n",
    "                                * f_KILo(plus, \n",
    "                                         external_chi = chip.reshape(-1, 1),\n",
    "                                         Lambda=Lambda),0)\n",
    "    LoLo_integrand *= (2 / _chib.reshape(-1, 1)) \n",
    "    LoLo_integrand *= deltas.reshape(1, -1)\n",
    "    LoLo_integrand = jnp.einsum('pd, pdl->pld', LoLo_integrand,\n",
    "                                interp1dx(xq = _chib.reshape(-1),x = chibs, \n",
    "                                f=inner_dkparp_integral,\n",
    "                                method='linear',))\n",
    "\n",
    "    LoLo_integrand = jnp.trapezoid(x = np.log(deltas), y = LoLo_integrand, axis=-1)\n",
    "    return LoLo_integrand - cross_integrand"
   ]
  },
  {
   "cell_type": "code",
   "execution_count": 20,
   "id": "3e75f9b4",
   "metadata": {},
   "outputs": [],
   "source": [
    "from scipy.stats import qmc\n"
   ]
  },
  {
   "cell_type": "code",
   "execution_count": 21,
   "id": "5b661559",
   "metadata": {},
   "outputs": [],
   "source": [
    "qrng = qmc.Halton(d = 3)"
   ]
  },
  {
   "cell_type": "code",
   "execution_count": 22,
   "id": "9cae2de7",
   "metadata": {},
   "outputs": [],
   "source": [
    "\n",
    "params_list = []\n",
    "for i in range(n_bins):\n",
    "    l1, r1 = chi_bin_edges[i], chi_bin_edges[i+1]\n",
    "    for j in range(i, n_bins):\n",
    "        l2, r2 = chi_bin_edges[j], chi_bin_edges[j+1]\n",
    "        params = (i, j, l1, r1, l2, r2)\n",
    "        params_list.append(params)\n",
    "        \n",
    "    "
   ]
  },
  {
   "cell_type": "code",
   "execution_count": 23,
   "id": "0d9e4aff",
   "metadata": {},
   "outputs": [],
   "source": [
    "oup = np.zeros((n_bins, n_bins), dtype=np.float64)\n"
   ]
  },
  {
   "cell_type": "code",
   "execution_count": 33,
   "id": "1602876c",
   "metadata": {},
   "outputs": [],
   "source": [
    "a = np.array([l1, l2, chimin])\n",
    "b = np.array([r1, r2, chimax])\n",
    "\n",
    "sample = qrng.random(n = 2**25)\n",
    "scaled_samples = qmc.scale(sample, a, b)\n"
   ]
  },
  {
   "cell_type": "code",
   "execution_count": 29,
   "id": "5d8cc2b4",
   "metadata": {},
   "outputs": [],
   "source": [
    "scaled_samples = jnp.array(scaled_samples)"
   ]
  },
  {
   "cell_type": "code",
   "execution_count": 30,
   "id": "4e0ab4b9",
   "metadata": {},
   "outputs": [],
   "source": [
    "tmp = f_integrand(scaled_samples)"
   ]
  },
  {
   "cell_type": "code",
   "execution_count": 31,
   "id": "d23eeb41",
   "metadata": {},
   "outputs": [
    {
     "data": {
      "text/plain": [
       "(1048576, 3)"
      ]
     },
     "execution_count": 31,
     "metadata": {},
     "output_type": "execute_result"
    }
   ],
   "source": [
    "scaled_samples.shape"
   ]
  },
  {
   "cell_type": "code",
   "execution_count": 32,
   "id": "73baad59",
   "metadata": {},
   "outputs": [
    {
     "data": {
      "text/plain": [
       "(3, 100)"
      ]
     },
     "execution_count": 32,
     "metadata": {},
     "output_type": "execute_result"
    }
   ],
   "source": [
    "tmp.shape"
   ]
  },
  {
   "cell_type": "code",
   "execution_count": null,
   "id": "0a0ed24b",
   "metadata": {},
   "outputs": [],
   "source": [
    "jax.default_backend()"
   ]
  },
  {
   "cell_type": "code",
   "execution_count": null,
   "id": "0dbb8015",
   "metadata": {},
   "outputs": [],
   "source": [
    "_oup"
   ]
  },
  {
   "cell_type": "code",
   "execution_count": null,
   "id": "6dcd35cd",
   "metadata": {},
   "outputs": [],
   "source": [
    "comb_n_external = 301\n",
    "comb_unbinned = np.zeros((len(ells), comb_n_external, comb_n_external))\n",
    "comb_fname = '/scratch/users/delon/LIMxCMBL/I_auto/comb_'\n",
    "comb_fname += '%s_zmin_%.1f_zmax_%.1f_Lambda_idx_%d_n_ext_%d_l_%d_jax_quad.npy'%('CO',\n",
    "                                                                              zmin, zmax, \n",
    "                                                                              Lambda_idx, \n",
    "                                                                              comb_n_external,\n",
    "                                                                              ell_idx)\n",
    "\n",
    "\n",
    "comb_unbinned[ell_idx] = np.load(comb_fname)"
   ]
  },
  {
   "cell_type": "code",
   "execution_count": null,
   "id": "85e8f210",
   "metadata": {},
   "outputs": [],
   "source": [
    "def get_binned(base, n_external = 300):\n",
    "    external_chis = np.linspace(chimin*(1+1e-8), chimax*(1 - 1e-8), n_external)\n",
    "    \n",
    "    oup = np.zeros((100, n_bins, n_bins), dtype=np.float64)\n",
    "    for i, (l1, r1) in enumerate(zip(chi_bin_edges, chi_bin_edges[1:])):\n",
    "        for j, (l2, r2) in enumerate(zip(chi_bin_edges, chi_bin_edges[1:])):\n",
    "            idx1 = np.where((external_chis > l1) & (external_chis <= r1))[0]\n",
    "            idx2 = np.where((external_chis > l2) & (external_chis <= r2))[0]\n",
    "            oup[:,i,j] = (np.sum(base[:,\n",
    "                                      idx1[0]:idx1[-1]+1,\n",
    "                                      idx2[0]:idx2[-1]+1], \n",
    "                                 axis=(1, 2)) / len(idx1) / len(idx2))\n",
    "    return oup"
   ]
  },
  {
   "cell_type": "code",
   "execution_count": null,
   "id": "d3bd4d98",
   "metadata": {},
   "outputs": [],
   "source": [
    "comb = get_binned(comb_unbinned, n_external = comb_n_external)\n"
   ]
  },
  {
   "cell_type": "code",
   "execution_count": null,
   "id": "ecb8e4fd",
   "metadata": {},
   "outputs": [],
   "source": [
    "comb[ell_idx][0][0]"
   ]
  },
  {
   "cell_type": "code",
   "execution_count": null,
   "id": "3ff397be",
   "metadata": {},
   "outputs": [],
   "source": [
    "2**21"
   ]
  },
  {
   "cell_type": "code",
   "execution_count": null,
   "id": "6817457d",
   "metadata": {},
   "outputs": [],
   "source": [
    "301**2"
   ]
  },
  {
   "cell_type": "code",
   "execution_count": null,
   "id": "ed4472d3",
   "metadata": {},
   "outputs": [],
   "source": []
  },
  {
   "cell_type": "code",
   "execution_count": null,
   "id": "55ba08b9",
   "metadata": {},
   "outputs": [],
   "source": []
  },
  {
   "cell_type": "code",
   "execution_count": null,
   "id": "0ef9f180",
   "metadata": {},
   "outputs": [],
   "source": [
    "@jax.jit\n",
    "def f_integrand(_chib, chip, chi):\n",
    "    _delta = jnp.abs(1 - chi/_chib) #(1)\n",
    "    _delta = jnp.where(_delta < 1e-6, 1e-6, \n",
    "                     jnp.where(_delta > 0.7, 0.7, _delta))\n",
    "\n",
    "    _idx = ((chimin <= 2*_chib - chi) \n",
    "            & (2*_chib - chi <= chimax)) #(1)\n",
    "    cross_integrand = (2 * jnp.interp(x = chi, xp = chis, fp = _KI, left = 0, right = 0) \n",
    "                       * interp2d(xq = _chib, yq=jnp.log(_delta), \n",
    "                           x = chibs, y = jnp.log(deltas), f=inner_dkparp_integral,\n",
    "                           method='linear',) \n",
    "                       / (_chib**2))\n",
    "    cross_integrand *= jnp.where(_idx,\n",
    "                                 f_KILo(2*_chib - chi, \n",
    "                                        external_chi = chip,\n",
    "                                        Lambda=Lambda), 0) #(1)\n",
    "\n",
    "    _delta = jnp.abs(1 - chip/_chib) #(1)\n",
    "    _delta = jnp.where(_delta < 1e-6, 1e-6, \n",
    "                     jnp.where(_delta > 0.7, 0.7, _delta))\n",
    "\n",
    "    _idx = ((chimin <= 2*_chib - chip) \n",
    "            & (2*_chib - chip <= chimax)) #(1)\n",
    "\n",
    "\n",
    "    cross_integrand_2 = (2 * jnp.interp(x = chip, xp = chis, fp = _KI, left = 0, right = 0) \n",
    "                       * interp2d(xq = _chib, yq=jnp.log(_delta), \n",
    "                           x = chibs, y = jnp.log(deltas), f=inner_dkparp_integral,\n",
    "                           method='linear',) \n",
    "                       / (_chib**2))\n",
    "\n",
    "    cross_integrand_2 *= jnp.where(_idx,\n",
    "                               f_KILo(2*_chib - chip, \n",
    "                                        external_chi = chi,\n",
    "                                        Lambda=Lambda),0)\n",
    "\n",
    "    cross_integrand += cross_integrand_2\n",
    "\n",
    "    #LoLo\n",
    "    plus = _chib*(1+deltas)\n",
    "    mins = _chib*(1-deltas)\n",
    "    _idxs = (chimin < plus) & (plus < chimax) & (chimin < mins) & (mins < chimax)\n",
    "\n",
    "    LoLo_integrand  = jnp.where(_idxs,\n",
    "                               f_KILo(plus, \n",
    "                                      external_chi = chi,\n",
    "                                      Lambda=Lambda) \n",
    "                                * f_KILo(mins, \n",
    "                                         external_chi = chip,\n",
    "                                         Lambda=Lambda),\n",
    "                               0)\n",
    "    LoLo_integrand += jnp.where(_idxs,\n",
    "                               f_KILo(mins, \n",
    "                                      external_chi = chi,\n",
    "                                      Lambda=Lambda) \n",
    "                                * f_KILo(plus, \n",
    "                                         external_chi = chip,\n",
    "                                         Lambda=Lambda),0)\n",
    "    LoLo_integrand *= (2 / _chib) * deltas\n",
    "    LoLo_integrand *= interp1dx(xq = _chib,\n",
    "                                x = chibs, f=inner_dkparp_integral,\n",
    "                                method='linear',)\n",
    "\n",
    "    LoLo_integrand = jnp.trapezoid(x = np.log(deltas), y = LoLo_integrand, axis=-1)\n",
    "    return LoLo_integrand - cross_integrand"
   ]
  },
  {
   "cell_type": "code",
   "execution_count": null,
   "id": "11791cb7",
   "metadata": {},
   "outputs": [],
   "source": [
    "f_integrand(5733.5, 5734, 5733)"
   ]
  },
  {
   "cell_type": "code",
   "execution_count": null,
   "id": "0c5611c3",
   "metadata": {},
   "outputs": [],
   "source": [
    "oup = np.zeros((n_bins, n_bins), dtype=np.float64)\n",
    "\n",
    "params_list = []\n",
    "for i in range(n_bins):\n",
    "    l1, r1 = chi_bin_edges[i], chi_bin_edges[i+1]\n",
    "    for j in range(i, n_bins):\n",
    "        l2, r2 = chi_bin_edges[j], chi_bin_edges[j+1]\n",
    "        params = (i, j, l1, r1, l2, r2)\n",
    "        params_list.append(params)"
   ]
  },
  {
   "cell_type": "code",
   "execution_count": null,
   "id": "c8110bc4",
   "metadata": {},
   "outputs": [],
   "source": [
    "from scipy.integrate import nquad"
   ]
  },
  {
   "cell_type": "code",
   "execution_count": null,
   "id": "ffb71daf",
   "metadata": {},
   "outputs": [],
   "source": [
    "options={'limit':100000, 'epsabs': 0.0, 'epsrel':1e-3}"
   ]
  },
  {
   "cell_type": "code",
   "execution_count": null,
   "id": "2a023551",
   "metadata": {},
   "outputs": [],
   "source": [
    "def elem(params):\n",
    "    i, j, l1, r1, l2, r2 = params\n",
    "    res, err, info = nquad(f_integrand,\n",
    "                 [[10, chimax_sample],[l2, r2],[l1,r1]],\n",
    "                opts=[options]*3, full_output = True)\n",
    "\n",
    "    \n",
    "    return (i, j, res / dchi_binned**2, info)\n",
    "\n",
    "for params in tqdm(params_list):\n",
    "    i, j, _oup, info = elem(params)\n",
    "    oup[i,j] = oup[j,i] = _oup\n",
    "    print(info.success, info.status, info.message)\n",
    "    print('ninters', info.intervals.shape)\n",
    "    break"
   ]
  },
  {
   "cell_type": "code",
   "execution_count": null,
   "id": "71e18fdf",
   "metadata": {},
   "outputs": [],
   "source": []
  }
 ],
 "metadata": {
  "kernelspec": {
   "display_name": "cosmology",
   "language": "python",
   "name": "cosmology"
  },
  "language_info": {
   "codemirror_mode": {
    "name": "ipython",
    "version": 3
   },
   "file_extension": ".py",
   "mimetype": "text/x-python",
   "name": "python",
   "nbconvert_exporter": "python",
   "pygments_lexer": "ipython3",
   "version": "3.9.19"
  }
 },
 "nbformat": 4,
 "nbformat_minor": 5
}
