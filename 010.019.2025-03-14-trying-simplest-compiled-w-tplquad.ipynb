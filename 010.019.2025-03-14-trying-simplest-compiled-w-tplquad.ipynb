{
 "cells": [
  {
   "cell_type": "code",
   "execution_count": 1,
   "id": "f0ced108",
   "metadata": {},
   "outputs": [],
   "source": [
    "from LIMxCMBL.init import *\n",
    "from LIMxCMBL.kernels import *\n",
    "\n",
    "from jax import random\n",
    "import sys"
   ]
  },
  {
   "cell_type": "code",
   "execution_count": 2,
   "id": "f7f6c983",
   "metadata": {},
   "outputs": [],
   "source": [
    "Lambda_idx = 18\n",
    "n_bins = 100\n",
    "ell_idx = 0"
   ]
  },
  {
   "cell_type": "code",
   "execution_count": 3,
   "id": "15e33757",
   "metadata": {},
   "outputs": [],
   "source": [
    "#SPHEREx\n",
    "zmin = 5\n",
    "zmax = 8\n",
    "\n",
    "chimin = ccl.comoving_angular_distance(cosmo, 1/(1+zmin))\n",
    "chimax = ccl.comoving_angular_distance(cosmo, 1/(1+zmax))"
   ]
  },
  {
   "cell_type": "code",
   "execution_count": 4,
   "id": "11b95bb2",
   "metadata": {},
   "outputs": [],
   "source": [
    "Lambda = Lambdas[Lambda_idx]"
   ]
  },
  {
   "cell_type": "code",
   "execution_count": 5,
   "id": "886be0d7",
   "metadata": {},
   "outputs": [],
   "source": [
    "from scipy.interpolate import interp1d, LinearNDInterpolator\n",
    "from scipy.integrate import quad, quad_vec, trapezoid"
   ]
  },
  {
   "cell_type": "code",
   "execution_count": 6,
   "id": "dd2046ee",
   "metadata": {},
   "outputs": [
    {
     "name": "stdout",
     "output_type": "stream",
     "text": [
      "Lya\n"
     ]
    }
   ],
   "source": [
    "#CII\n",
    "#_KI = np.array(KI)\n",
    "\n",
    "#CO\n",
    "#print('CO')\n",
    "#_KI = np.array(KI_CO)\n",
    "\n",
    "#Lya\n",
    "print('Lya')\n",
    "_KI = np.array(KI_Lya)"
   ]
  },
  {
   "cell_type": "code",
   "execution_count": 7,
   "id": "17f8b4e8",
   "metadata": {},
   "outputs": [],
   "source": [
    "import jax\n",
    "import jax.numpy as jnp\n",
    "@jax.jit\n",
    "def f_KILo(chi, external_chi, Lambda):\n",
    "    return (Lambda / jnp.pi \n",
    "            * jnp.interp(x = chi, xp = chis, \n",
    "                         fp = _KI, left = 0, right = 0) \n",
    "            * jnp.sinc(Lambda * (external_chi - chi) / np.pi))"
   ]
  },
  {
   "cell_type": "code",
   "execution_count": 8,
   "id": "7e32ff78",
   "metadata": {},
   "outputs": [
    {
     "name": "stderr",
     "output_type": "stream",
     "text": [
      "2025-03-14 15:54:22.778492: W external/xla/xla/service/gpu/nvptx_compiler.cc:765] The NVIDIA driver's CUDA version is 12.4 which is older than the ptxas CUDA version (12.6.85). Because the driver is older than the ptxas version, XLA is disabling parallel compilation, which may slow down compilation. You should update your NVIDIA driver or use the NVIDIA-provided CUDA forward compatibility packages.\n"
     ]
    }
   ],
   "source": [
    "inner_dkparp_integral = np.load('/oak/stanford/orgs/kipac/users/delon/LIMxCMBL/inner_dkparp_integral.npy')\n",
    "inner_dkparp_integral = jnp.array(inner_dkparp_integral.astype(np.float64))\n",
    "\n",
    "from interpax import interp2d, interp1d"
   ]
  },
  {
   "cell_type": "code",
   "execution_count": 9,
   "id": "1b6d9ec0",
   "metadata": {},
   "outputs": [],
   "source": [
    "@jax.jit\n",
    "def f_aux(_chib, chi, chip):\n",
    "    _delta = jnp.abs(1 - chi/_chib)\n",
    "    _delta = jnp.where(_delta < 1e-6, 1e-6, \n",
    "                     jnp.where(_delta > 0.7, 0.7, _delta))\n",
    "\n",
    "    cross_integrand_1 = (2 * jnp.interp(x = chi, xp = chis, fp = _KI, left = 0, right = 0) \n",
    "                       * interp2d(xq = _chib, yq=jnp.log(_delta), \n",
    "                           x = chibs, y = jnp.log(deltas), f=inner_dkparp_integral[ell_idx],\n",
    "                           method='linear',) \n",
    "                       / (_chib**2))\n",
    "\n",
    "    cross_integrand_1 *= f_KILo(2*_chib - chi, \n",
    "                                        external_chi = chip,\n",
    "                                        Lambda=Lambda)\n",
    "    return cross_integrand_1\n",
    "\n",
    "@jax.jit\n",
    "def f_integrand(_chib, chip, chi, ell_idx):\n",
    "    #I Lo + Lo I\n",
    "    \n",
    "    \n",
    "\n",
    "    cross_integrand_1 = jnp.where((chimin <= 2*_chib - chi) & (2*_chib - chi <= chimax),\n",
    "                                  f_aux(_chib, chi, chip),\n",
    "                                  0)\n",
    "            \n",
    "    cross_integrand_2 = jnp.where((chimin <= 2*_chib - chip) & (2*_chib - chip <= chimax),\n",
    "                                  f_aux(_chib, chip, chi),\n",
    "                                  0)\n",
    "            \n",
    "    cross_integrand = cross_integrand_1 + cross_integrand_2\n",
    "    \n",
    "    #LoLo\n",
    "    plus = _chib*(1+deltas)\n",
    "    mins = _chib*(1-deltas)\n",
    "    _idxs = (chimin < plus) & (plus < chimax) & (chimin < mins) & (mins < chimax)\n",
    "    \n",
    "    LoLo_integrand  = jnp.where(_idxs,\n",
    "                               f_KILo(plus, \n",
    "                                      external_chi = chi,\n",
    "                                      Lambda=Lambda) \n",
    "                                * f_KILo(mins, \n",
    "                                         external_chi = chip,\n",
    "                                         Lambda=Lambda),\n",
    "                               0)\n",
    "    LoLo_integrand += jnp.where(_idxs,\n",
    "                               f_KILo(mins, \n",
    "                                      external_chi = chi,\n",
    "                                      Lambda=Lambda) \n",
    "                                * f_KILo(plus, \n",
    "                                         external_chi = chip,\n",
    "                                         Lambda=Lambda),0)\n",
    "    LoLo_integrand *= (2 / _chib) #(d)\n",
    "    LoLo_integrand *= deltas\n",
    "    LoLo_integrand *= interp1d(xq = _chib,\n",
    "                               x = chibs, f=inner_dkparp_integral[ell_idx],\n",
    "                               method='linear',)\n",
    "    \n",
    "    LoLo_integrand = jnp.trapezoid(x = np.log(deltas), y = LoLo_integrand, axis=-1)\n",
    "    return LoLo_integrand - cross_integrand"
   ]
  },
  {
   "cell_type": "code",
   "execution_count": 10,
   "id": "c10b69ea",
   "metadata": {},
   "outputs": [
    {
     "data": {
      "text/plain": [
       "Array(-6.6066954e-13, dtype=float32)"
      ]
     },
     "execution_count": 10,
     "metadata": {},
     "output_type": "execute_result"
    }
   ],
   "source": [
    "f_integrand(chimin+1, chimin+0.5, chimin+0.9, ell_idx)"
   ]
  },
  {
   "cell_type": "code",
   "execution_count": 11,
   "id": "bad9ced1",
   "metadata": {},
   "outputs": [],
   "source": [
    "from scipy.integrate import nquad"
   ]
  },
  {
   "cell_type": "code",
   "execution_count": 12,
   "id": "958fc284",
   "metadata": {},
   "outputs": [],
   "source": [
    "chi_bin_edges = np.linspace(chimin*(1+1e-8), chimax*(1 - 1e-8), n_bins + 1)\n",
    "dchi = np.mean(np.diff(chi_bin_edges))"
   ]
  },
  {
   "cell_type": "code",
   "execution_count": 13,
   "id": "257b15d7",
   "metadata": {},
   "outputs": [],
   "source": [
    "bin1_idx = 0\n",
    "bin2_idx = 0"
   ]
  },
  {
   "cell_type": "code",
   "execution_count": 14,
   "id": "4ae2ce97",
   "metadata": {},
   "outputs": [],
   "source": [
    "l1, r1 = chi_bin_edges[bin1_idx], chi_bin_edges[bin1_idx + 1]\n",
    "l2, r2 = chi_bin_edges[bin2_idx], chi_bin_edges[bin2_idx + 1]"
   ]
  },
  {
   "cell_type": "code",
   "execution_count": 15,
   "id": "7a66ddf8",
   "metadata": {},
   "outputs": [],
   "source": [
    "options={'limit':100000, 'epsabs': 0.0, 'epsrel':1e-3}"
   ]
  },
  {
   "cell_type": "code",
   "execution_count": 16,
   "id": "82df2239",
   "metadata": {},
   "outputs": [],
   "source": [
    "from quadax import quadgk"
   ]
  },
  {
   "cell_type": "code",
   "execution_count": null,
   "id": "082babf2",
   "metadata": {},
   "outputs": [
    {
     "name": "stderr",
     "output_type": "stream",
     "text": [
      "/home/users/delon/.local/lib/python3.9/site-packages/jax/_src/core.py:678: FutureWarning: unhashable type: <class 'jax._src.interpreters.partial_eval.DynamicJaxprTracer'>. Attempting to hash a tracer will lead to an error in a future JAX release.\n",
      "  warnings.warn(\n",
      "/home/users/delon/.local/lib/python3.9/site-packages/jax/_src/core.py:678: FutureWarning: unhashable type: <class 'jax._src.interpreters.partial_eval.DynamicJaxprTracer'>. Attempting to hash a tracer will lead to an error in a future JAX release.\n",
      "  warnings.warn(\n",
      "/home/users/delon/.local/lib/python3.9/site-packages/jax/_src/core.py:678: FutureWarning: unhashable type: <class 'jax._src.interpreters.partial_eval.DynamicJaxprTracer'>. Attempting to hash a tracer will lead to an error in a future JAX release.\n",
      "  warnings.warn(\n",
      "/home/users/delon/.local/lib/python3.9/site-packages/jax/_src/core.py:678: FutureWarning: unhashable type: <class 'jax._src.interpreters.partial_eval.DynamicJaxprTracer'>. Attempting to hash a tracer will lead to an error in a future JAX release.\n",
      "  warnings.warn(\n",
      "/home/users/delon/.local/lib/python3.9/site-packages/jax/_src/core.py:678: FutureWarning: unhashable type: <class 'jax._src.interpreters.partial_eval.DynamicJaxprTracer'>. Attempting to hash a tracer will lead to an error in a future JAX release.\n",
      "  warnings.warn(\n"
     ]
    }
   ],
   "source": [
    "def chip_quad(chip, chi, b1, b2, ell_idx):\n",
    "    bnds = jnp.hstack([jnp.linspace(b1, chimin,210), \n",
    "                       jnp.linspace(chimin, chimax, 9000),\n",
    "                       jnp.linspace(chimax, b2,210)])\n",
    "    return quadgk(f_integrand, bnds,\n",
    "                  epsabs = 0.0, epsrel = 1e-3,\n",
    "                  order = 61, max_ninter=10000,\n",
    "                  args=(chip, chi, ell_idx))[0]\n",
    "\n",
    "def chi_quad(chi, l2, r2, b1, b2, ell_idx):\n",
    "    return quadgk(chip_quad, [l2, r2], \n",
    "                  epsabs = 0.0, epsrel = 1e-3,\n",
    "                  order = 61, max_ninter=10000,\n",
    "                  args=(chi, b1, b2, ell_idx))[0]\n",
    "\n",
    "res, _ = quadgk(chi_quad, [l1, r1],\n",
    "               epsabs=0.0, epsrel=1e-3,\n",
    "               order=61, max_ninter=10000,\n",
    "               args=(l2, r2, 10, chimax_sample, ell_idx))"
   ]
  },
  {
   "cell_type": "code",
   "execution_count": null,
   "id": "3c65d456",
   "metadata": {},
   "outputs": [],
   "source": [
    "# res, err = nquad(f_integrand,\n",
    "#                  [[10, chimax_sample],[l2, r2],[l1,r1]],\n",
    "#                  args=(ell_idx,),\n",
    "#                  opts=[options]*3)"
   ]
  }
 ],
 "metadata": {
  "kernelspec": {
   "display_name": "cosmology",
   "language": "python",
   "name": "cosmology"
  },
  "language_info": {
   "codemirror_mode": {
    "name": "ipython",
    "version": 3
   },
   "file_extension": ".py",
   "mimetype": "text/x-python",
   "name": "python",
   "nbconvert_exporter": "python",
   "pygments_lexer": "ipython3",
   "version": "3.9.19"
  }
 },
 "nbformat": 4,
 "nbformat_minor": 5
}
