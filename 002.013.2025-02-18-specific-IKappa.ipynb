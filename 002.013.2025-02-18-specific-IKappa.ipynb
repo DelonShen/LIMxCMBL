{
 "cells": [
  {
   "cell_type": "code",
   "execution_count": 1,
   "id": "d7180e6f",
   "metadata": {},
   "outputs": [
    {
     "name": "stdout",
     "output_type": "stream",
     "text": [
      "outputting to /scratch/users/delon/LIMxCMBL/IHiKappa/zmin_3.50000_zmax_8.10000_Lambda_0.00100_chi_sample_2e8.npy\n"
     ]
    }
   ],
   "source": [
    "from LIMxCMBL.cross_spectrum import *\n",
    "from LIMxCMBL.init import *\n",
    "from LIMxCMBL.kernels import get_f_Kkappa, get_f_KI, get_f_KILo, apply_window\n",
    "\n",
    "import sys\n",
    "zmin = 3.5\n",
    "zmax = 8.1\n",
    "Lambda = 1e-3\n",
    "chis_resample_len = int(np.log2(len(chis_resample)))\n",
    "oup_fname = '/scratch/users/delon/LIMxCMBL/IHiKappa/zmin_%.5f_zmax_%.5f_Lambda_%.5f_chi_sample_2e%d.npy'%(zmin, zmax, Lambda,chis_resample_len)\n",
    "oup_ILo_fname = '/scratch/users/delon/LIMxCMBL/IHiKappa/ILoKappa/zmin_%.5f_zmax_%.5f_Lambda_%.5f_chi_sample_2e%d.npy'%(zmin, zmax, Lambda,chis_resample_len)\n",
    "print('outputting to', oup_fname)\n",
    "\n",
    "\n",
    "chimin = ccl.comoving_angular_distance(cosmo, 1/(1+zmin))\n",
    "chimax = ccl.comoving_angular_distance(cosmo, 1/(1+zmax))\n",
    "\n",
    "f_Kkappa = get_f_Kkappa()\n",
    "a_of_chibs = ccl.scale_factor_of_chi(cosmo, chibs)\n",
    "z_of_chibs = 1/a_of_chibs - 1\n",
    "\n",
    "\n",
    "#<I Kappa>\n",
    "f_KLIM   = get_f_KI()\n",
    "f_KLIM_windowed = apply_window(f_K = f_KLIM,\n",
    "                               chimin = chimin,\n",
    "                               chimax = chimax)\n"
   ]
  },
  {
   "cell_type": "code",
   "execution_count": 2,
   "id": "dc699402",
   "metadata": {},
   "outputs": [],
   "source": [
    "window = np.where((chis_resample > chimin) & (chis_resample < chimax))[0]"
   ]
  },
  {
   "cell_type": "code",
   "execution_count": 3,
   "id": "03f5b626",
   "metadata": {},
   "outputs": [
    {
     "data": {
      "text/plain": [
       "2048"
      ]
     },
     "execution_count": 3,
     "metadata": {},
     "output_type": "execute_result"
    }
   ],
   "source": [
    "2**11"
   ]
  },
  {
   "cell_type": "code",
   "execution_count": 4,
   "id": "560d0e6b",
   "metadata": {},
   "outputs": [],
   "source": [
    "_deltas = deltas.reshape(1, 1, -1)\n",
    "\n",
    "\n",
    "_chis   = np.linspace(chimin*(1+1e-8), chimax*(1 - 1e-8), 2**13)\n",
    "_chis   = np.linspace(chis_resample[window][0], chis_resample[window][-1], len(window))\n",
    "\n",
    "_chis_rs = _chis.reshape(1, -1, 1)\n",
    "_minus = _chis_rs * (1 - _deltas)\n",
    "_plus  = _chis_rs * (1 + _deltas)"
   ]
  },
  {
   "cell_type": "code",
   "execution_count": 5,
   "id": "7378fbb8",
   "metadata": {},
   "outputs": [
    {
     "data": {
      "text/plain": [
       "(1, 52, 128)"
      ]
     },
     "execution_count": 5,
     "metadata": {},
     "output_type": "execute_result"
    }
   ],
   "source": [
    "_minus.shape"
   ]
  },
  {
   "cell_type": "code",
   "execution_count": 6,
   "id": "4f92dd4f",
   "metadata": {},
   "outputs": [
    {
     "data": {
      "text/plain": [
       "(1, 52, 1)"
      ]
     },
     "execution_count": 6,
     "metadata": {},
     "output_type": "execute_result"
    }
   ],
   "source": [
    "prefactor = 2 / _chis_rs\n",
    "prefactor.shape"
   ]
  },
  {
   "cell_type": "code",
   "execution_count": 7,
   "id": "bd17942b",
   "metadata": {},
   "outputs": [],
   "source": [
    "f_Kpsi = f_KLIM_windowed\n",
    "f_Kphi = f_Kkappa"
   ]
  },
  {
   "cell_type": "code",
   "execution_count": 8,
   "id": "b0e23f1d",
   "metadata": {},
   "outputs": [
    {
     "data": {
      "text/plain": [
       "(1, 52, 128)"
      ]
     },
     "execution_count": 8,
     "metadata": {},
     "output_type": "execute_result"
    }
   ],
   "source": [
    "kernels = (f_Kpsi(_minus) * f_Kphi(_plus) + f_Kpsi(_plus) * f_Kphi(_minus))\n",
    "kernels.shape"
   ]
  },
  {
   "cell_type": "code",
   "execution_count": 9,
   "id": "e4a6fd13",
   "metadata": {},
   "outputs": [
    {
     "data": {
      "text/plain": [
       "(100, 52, 128)"
      ]
     },
     "execution_count": 9,
     "metadata": {},
     "output_type": "execute_result"
    }
   ],
   "source": [
    "inner_integral_resampled = f_inner_integral(_chis)\n",
    "inner_integral_resampled.shape"
   ]
  },
  {
   "cell_type": "code",
   "execution_count": 20,
   "id": "a7dfa6e3",
   "metadata": {},
   "outputs": [
    {
     "data": {
      "text/plain": [
       "(100, 256, 128)"
      ]
     },
     "execution_count": 20,
     "metadata": {},
     "output_type": "execute_result"
    }
   ],
   "source": [
    "inner_dkparp_integral.shape"
   ]
  },
  {
   "cell_type": "code",
   "execution_count": 10,
   "id": "586b89a7",
   "metadata": {},
   "outputs": [],
   "source": [
    "integrand = prefactor*kernels*inner_integral_resampled*deltas_reshaped"
   ]
  },
  {
   "cell_type": "code",
   "execution_count": 11,
   "id": "f264bfae",
   "metadata": {},
   "outputs": [],
   "source": [
    "result = trapezoid(y=integrand, x=np.log(deltas), axis = -1)"
   ]
  },
  {
   "cell_type": "code",
   "execution_count": 12,
   "id": "5f7c1797",
   "metadata": {},
   "outputs": [],
   "source": [
    "vb = np.max(np.abs(result))"
   ]
  },
  {
   "cell_type": "code",
   "execution_count": 13,
   "id": "904512a5",
   "metadata": {},
   "outputs": [
    {
     "data": {
      "text/plain": [
       "4096"
      ]
     },
     "execution_count": 13,
     "metadata": {},
     "output_type": "execute_result"
    }
   ],
   "source": [
    "2**12"
   ]
  },
  {
   "cell_type": "code",
   "execution_count": 14,
   "id": "a215947e",
   "metadata": {},
   "outputs": [
    {
     "data": {
      "text/plain": [
       "2.3100020285805547"
      ]
     },
     "execution_count": 14,
     "metadata": {},
     "output_type": "execute_result"
    }
   ],
   "source": [
    "np.log2(2**13 / 1652)"
   ]
  },
  {
   "cell_type": "code",
   "execution_count": 15,
   "id": "501645b7",
   "metadata": {},
   "outputs": [
    {
     "data": {
      "text/plain": [
       "<matplotlib.image.AxesImage at 0x7f3b202a9d90>"
      ]
     },
     "execution_count": 15,
     "metadata": {},
     "output_type": "execute_result"
    },
    {
     "name": "stderr",
     "output_type": "stream",
     "text": [
      "/share/software/user/open/py-jupyter/1.0.0_py39/lib/python3.9/site-packages/IPython/core/events.py:89: UserWarning: Casting input data from float128 to float64 for imshow.\n",
      "  func(*args, **kwargs)\n",
      "/share/software/user/open/py-jupyter/1.0.0_py39/lib/python3.9/site-packages/IPython/core/pylabtools.py:134: UserWarning: Casting input data from float128 to float64 for imshow.\n",
      "  fig.canvas.print_figure(bytes_io, **kw)\n"
     ]
    },
    {
     "data": {
      "image/png": "[encoded data removed]",
      "text/plain": [
       "<Figure size 432x288 with 1 Axes>"
      ]
     },
     "metadata": {
      "needs_background": "light"
     },
     "output_type": "display_data"
    }
   ],
   "source": [
    "plt.imshow(result, aspect='auto', vmin = -vb, vmax = vb, cmap= 'seismic')"
   ]
  },
  {
   "cell_type": "code",
   "execution_count": 16,
   "id": "65180f7e",
   "metadata": {},
   "outputs": [],
   "source": [
    "Ik = d_delta_integral(f_KLIM_windowed, f_Kkappa)\n"
   ]
  },
  {
   "cell_type": "code",
   "execution_count": 17,
   "id": "4ed17736",
   "metadata": {},
   "outputs": [
    {
     "data": {
      "text/plain": [
       "<matplotlib.image.AxesImage at 0x7f3b200dd610>"
      ]
     },
     "execution_count": 17,
     "metadata": {},
     "output_type": "execute_result"
    },
    {
     "data": {
      "image/png": "[encoded data removed]",
      "text/plain": [
       "<Figure size 432x288 with 1 Axes>"
      ]
     },
     "metadata": {
      "needs_background": "light"
     },
     "output_type": "display_data"
    }
   ],
   "source": [
    "plt.imshow(Ik[:,window], aspect='auto', vmin = -vb, vmax = vb, cmap= 'seismic')"
   ]
  },
  {
   "cell_type": "code",
   "execution_count": 18,
   "id": "bc9b3ea4",
   "metadata": {},
   "outputs": [
    {
     "data": {
      "text/plain": [
       "<matplotlib.image.AxesImage at 0x7f3b200cbac0>"
      ]
     },
     "execution_count": 18,
     "metadata": {},
     "output_type": "execute_result"
    },
    {
     "data": {
      "image/png": "[encoded data removed]",
      "text/plain": [
       "<Figure size 432x288 with 1 Axes>"
      ]
     },
     "metadata": {
      "needs_background": "light"
     },
     "output_type": "display_data"
    }
   ],
   "source": [
    "plt.imshow((Ik[:,window] - result) / result, aspect='auto', vmin = -1e-10, vmax = 1e-10, cmap= 'seismic')"
   ]
  }
 ],
 "metadata": {
  "kernelspec": {
   "display_name": "cosmology",
   "language": "python",
   "name": "cosmology"
  },
  "language_info": {
   "codemirror_mode": {
    "name": "ipython",
    "version": 3
   },
   "file_extension": ".py",
   "mimetype": "text/x-python",
   "name": "python",
   "nbconvert_exporter": "python",
   "pygments_lexer": "ipython3",
   "version": "3.9.19"
  }
 },
 "nbformat": 4,
 "nbformat_minor": 5
}
