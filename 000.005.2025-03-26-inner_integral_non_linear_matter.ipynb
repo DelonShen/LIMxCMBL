{
 "cells": [
  {
   "cell_type": "code",
   "execution_count": 1,
   "id": "0aa8371b",
   "metadata": {},
   "outputs": [
    {
     "name": "stdout",
     "output_type": "stream",
     "text": [
      "ell_idx 42\n"
     ]
    }
   ],
   "source": [
    "import sys\n",
    "\n",
    "ell_idx = 42#eval(sys.argv[1])\n",
    "print('ell_idx', ell_idx)\n",
    "\n",
    "from LIMxCMBL.init import *\n",
    "from tqdm import trange"
   ]
  },
  {
   "cell_type": "code",
   "execution_count": 2,
   "id": "300ae160",
   "metadata": {
    "scrolled": true
   },
   "outputs": [
    {
     "name": "stdout",
     "output_type": "stream",
     "text": [
      "outputting to /scratch/users/delon/LIMxCMBL/NON_LIN_dkparp_integral/ell_idx_42.npy\n",
      "chib bounds 10.0 10968.678928805972\n",
      "delta bounds 1e-06 0.7\n",
      "oup dimension (256, 128)\n",
      "geometric recalibration\n"
     ]
    }
   ],
   "source": [
    "ell_curr = ells[ell_idx]\n",
    "oup_fname = '/scratch/users/delon/LIMxCMBL/NON_LIN_dkparp_integral/ell_idx_%d.npy'%(ell_idx)\n",
    "print('outputting to', oup_fname)\n",
    "\n",
    "print('chib bounds', min(chibs), max(chibs))\n",
    "print('delta bounds', min(deltas), max(deltas))\n",
    "_chibs, _deltas = np.meshgrid(chibs, deltas, indexing='ij')\n",
    "print('oup dimension', _chibs.shape)\n",
    "\n",
    "_chibs  = np.reshape(_chibs,  (len(chibs) * len(deltas)))\n",
    "_deltas = np.reshape(_deltas, (len(chibs) * len(deltas)))\n",
    "\n",
    "print('geometric recalibration')\n",
    "kperp2s = ell_curr*(ell_curr+1) / (_chibs**2 * (1 - _deltas**2))"
   ]
  },
  {
   "cell_type": "code",
   "execution_count": 3,
   "id": "cecc05fb",
   "metadata": {},
   "outputs": [],
   "source": [
    "from scipy.interpolate import interp1d\n",
    "\n",
    "_tmp_ks = np.logspace(-10, 10, 1000)\n",
    "f_logPnl = interp1d(x = np.log(_tmp_ks),\n",
    "                 y = np.log(ccl.nonlin_matter_power(cosmo, _tmp_ks, 1)),\n",
    "                 bounds_error=False, fill_value=0)"
   ]
  },
  {
   "cell_type": "code",
   "execution_count": 5,
   "id": "e76f66d4",
   "metadata": {
    "scrolled": true
   },
   "outputs": [
    {
     "data": {
      "text/plain": [
       "[]"
      ]
     },
     "execution_count": 5,
     "metadata": {},
     "output_type": "execute_result"
    },
    {
     "data": {
      "image/png": "[encoded data removed]",
      "text/plain": [
       "<Figure size 432x288 with 1 Axes>"
      ]
     },
     "metadata": {
      "needs_background": "light"
     },
     "output_type": "display_data"
    }
   ],
   "source": [
    "import matplotlib.pyplot as plt\n",
    "_tmp_ks = np.logspace(-10, 10, 1000)\n",
    "plt.plot(_tmp_ks, ccl.linear_matter_power(cosmo, _tmp_ks, 1), c='gray')\n",
    "plt.plot(_tmp_ks, ccl.nonlin_matter_power(cosmo, _tmp_ks, 1), c='k')\n",
    "plt.plot(_tmp_ks, np.exp(f_logPnl(np.log(_tmp_ks))), 'r--')\n",
    "\n",
    "plt.loglog()"
   ]
  },
  {
   "cell_type": "code",
   "execution_count": null,
   "id": "4170f8b3",
   "metadata": {},
   "outputs": [],
   "source": [
    "from scipy.integrate import quad, quad_vec\n",
    "from scipy.interpolate import interp1d\n",
    "\n",
    "for i in range(len(chibs)):\n",
    "    for j in range(len(deltas)):\n",
    "        assert(np.abs(kperp2s[i*len(deltas)+j] - ell_curr*(ell_curr+1) / (chibs[i]**2 * (1 - deltas[j]**2))) < 1e-8)\n",
    "\n",
    "def integrand(kparp):\n",
    "    return 2/(2*np.pi) * np.cos(kparp * 2 * _chibs * _deltas) * f_Pnl(np.sqrt(kparp**2 + kperp2s))\n",
    "\n",
    "print('beginning quad_vec')\n",
    "\n",
    "res, err = quad_vec(integrand, 0, np.inf,\n",
    "                  epsabs = 0.0, epsrel=1e-4, limit=1123456, workers=32)\n",
    "\n",
    "oup = np.reshape(res, (len(chibs), len(deltas)))\n",
    "\n",
    "\n",
    "np.save(oup_fname, oup)\n",
    "print('outputted to', oup_fname)"
   ]
  },
  {
   "cell_type": "code",
   "execution_count": null,
   "id": "dffaccc1",
   "metadata": {},
   "outputs": [],
   "source": []
  }
 ],
 "metadata": {
  "kernelspec": {
   "display_name": "cosmology",
   "language": "python",
   "name": "cosmology"
  },
  "language_info": {
   "codemirror_mode": {
    "name": "ipython",
    "version": 3
   },
   "file_extension": ".py",
   "mimetype": "text/x-python",
   "name": "python",
   "nbconvert_exporter": "python",
   "pygments_lexer": "ipython3",
   "version": "3.9.19"
  }
 },
 "nbformat": 4,
 "nbformat_minor": 5
}
