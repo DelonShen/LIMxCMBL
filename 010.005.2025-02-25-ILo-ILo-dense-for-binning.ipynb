{
 "cells": [
  {
   "cell_type": "code",
   "execution_count": 1,
   "id": "f9dfa4b0",
   "metadata": {},
   "outputs": [],
   "source": [
    "from LIMxCMBL.init import *\n",
    "from LIMxCMBL.kernels import *\n",
    "from scipy.signal.windows import dpss\n",
    "import sys\n",
    "\n",
    "# Lambda_idx = int(sys.argv[1])\n",
    "# n_external = int(sys.argv[2])\n",
    "# n_chibs = int(sys.argv[3])\n",
    "\n",
    "Lambda_idx = 18\n",
    "\n",
    "n_external = 103\n",
    "n_chibs = 2048\n",
    "\n",
    "Lambda = Lambdas[Lambda_idx]\n",
    "\n"
   ]
  },
  {
   "cell_type": "code",
   "execution_count": 2,
   "id": "4ea91a13",
   "metadata": {},
   "outputs": [],
   "source": [
    "# CCAT-prime\n",
    "zmin = 3.5\n",
    "zmax = 8.1\n",
    "\n",
    "Omega_field = 8 * (np.pi/180)**2 #rad^2\n",
    "Pei = 2.3e4 #Mpc^3 kJy^2 /sr^2 \n",
    "chimin = ccl.comoving_angular_distance(cosmo, 1/(1+zmin))\n",
    "chimax = ccl.comoving_angular_distance(cosmo, 1/(1+zmax))"
   ]
  },
  {
   "cell_type": "code",
   "execution_count": 3,
   "id": "badbf8c8",
   "metadata": {},
   "outputs": [],
   "source": [
    "from scipy.interpolate import interp1d\n",
    "from scipy.integrate import quad, quad_vec, trapezoid\n",
    "\n",
    "inner_dkparp_integral = np.load('/oak/stanford/orgs/kipac/users/delon/LIMxCMBL/inner_dkparp_integral.npy')\n",
    "f_inner_integral = interp1d(x = chibs, y = inner_dkparp_integral, axis = 1)"
   ]
  },
  {
   "cell_type": "code",
   "execution_count": 4,
   "id": "a2c2fcf3",
   "metadata": {},
   "outputs": [
    {
     "name": "stdout",
     "output_type": "stream",
     "text": [
      "external chi spacing 21.662135908365588\n",
      "chib spacing 5.353531599201998\n"
     ]
    }
   ],
   "source": [
    "external_chis = np.linspace(chimin*(1+1e-8), chimax*(1 - 1e-8), n_external)\n",
    "print('external chi spacing', np.mean(np.diff(external_chis)))\n",
    "_chibs = np.linspace(10, chimax_sample, n_chibs)\n",
    "print('chib spacing', (chimax_sample - 10)/((n_chibs - 1)))"
   ]
  },
  {
   "cell_type": "code",
   "execution_count": 5,
   "id": "675a1d28",
   "metadata": {},
   "outputs": [],
   "source": [
    "interpolated_inner_integral = f_inner_integral(_chibs).astype(np.float64)"
   ]
  },
  {
   "cell_type": "code",
   "execution_count": 6,
   "id": "aa8c95e5",
   "metadata": {},
   "outputs": [],
   "source": [
    "from tqdm import trange"
   ]
  },
  {
   "cell_type": "code",
   "execution_count": 7,
   "id": "77b02050",
   "metadata": {},
   "outputs": [],
   "source": [
    "plus = np.einsum('b,d->bd',_chibs, (1+deltas))\n",
    "mins = np.einsum('b,d->bd',_chibs, (1-deltas))\n"
   ]
  },
  {
   "cell_type": "code",
   "execution_count": 8,
   "id": "44712b28",
   "metadata": {},
   "outputs": [],
   "source": [
    "def compute_elem(params):\n",
    "    chi_idx, chi, chip_idx, chip = params\n",
    "    \n",
    "    f_KLIMLo1 = get_f_KILo(external_chi = chi, Lambda=Lambda)\n",
    "    f_KLIMLo1_windowed = apply_window(f_K = f_KLIMLo1,\n",
    "                                     chimin = chimin,\n",
    "                                     chimax = chimax)\n",
    "    \n",
    "    f_KLIMLo2 = get_f_KILo(external_chi = chip, Lambda=Lambda)\n",
    "    f_KLIMLo2_windowed = apply_window(f_K = f_KLIMLo2,\n",
    "                                     chimin = chimin,\n",
    "                                     chimax = chimax)\n",
    "\n",
    "    \n",
    "\n",
    "    _interm  = f_KLIMLo1_windowed(plus) * f_KLIMLo2_windowed(mins)\n",
    "    _interm += f_KLIMLo1_windowed(mins) * f_KLIMLo2_windowed(plus) \n",
    "\n",
    "    _factor = (2 / _chibs)\n",
    "    _factor = np.einsum('b,d->bd', _factor, deltas)\n",
    "    _factor = np.einsum('bd, lbd->lbd', _factor, interpolated_inner_integral)\n",
    "    \n",
    "    _interm  = np.einsum('bd,lbd->lbd', \n",
    "                     _interm, _factor)\n",
    "    \n",
    "    \n",
    "    \n",
    "    d_delta_integral = trapezoid(x = np.log(deltas), y = _interm, axis=-1)\n",
    "\n",
    "    #(ells)\n",
    "    ret = trapezoid(x = _chibs, y = d_delta_integral, axis=-1)\n",
    "    return (chi_idx, chip_idx, ret)"
   ]
  },
  {
   "cell_type": "code",
   "execution_count": 9,
   "id": "174b2c55",
   "metadata": {
    "scrolled": true
   },
   "outputs": [],
   "source": [
    "params_list = []\n",
    "\n",
    "for i in range(n_external):\n",
    "    chi = external_chis[i]\n",
    "    for j in range(i, n_external):\n",
    "        chip = external_chis[j]\n",
    "        params = (i, chi, j, chip)\n",
    "        params_list.append(params)"
   ]
  },
  {
   "cell_type": "code",
   "execution_count": 10,
   "id": "6d968675",
   "metadata": {},
   "outputs": [],
   "source": [
    "from tqdm import tqdm"
   ]
  },
  {
   "cell_type": "code",
   "execution_count": 11,
   "id": "5614c40a",
   "metadata": {},
   "outputs": [
    {
     "name": "stderr",
     "output_type": "stream",
     "text": [
      "100%|██████████| 5356/5356 [03:46<00:00, 23.68it/s]\n"
     ]
    }
   ],
   "source": [
    "from multiprocessing import Pool\n",
    "\n",
    "with Pool(processes=32) as pool:\n",
    "        results = list(tqdm(\n",
    "            pool.imap(compute_elem, params_list),\n",
    "            total=len(params_list)\n",
    "        ))"
   ]
  },
  {
   "cell_type": "code",
   "execution_count": 12,
   "id": "dcb5ac67",
   "metadata": {},
   "outputs": [],
   "source": [
    "#EXPORT RESULTS"
   ]
  },
  {
   "cell_type": "code",
   "execution_count": 13,
   "id": "12432602",
   "metadata": {},
   "outputs": [],
   "source": [
    "ILoILo = np.zeros((len(ells), (n_external), (n_external)), dtype=np.float64)"
   ]
  },
  {
   "cell_type": "code",
   "execution_count": 14,
   "id": "b3d3e781",
   "metadata": {},
   "outputs": [],
   "source": [
    "for i, j, value in results:\n",
    "    ILoILo[:,i,j] = ILoILo[:,j,i] = value"
   ]
  },
  {
   "cell_type": "code",
   "execution_count": 15,
   "id": "5656d51d",
   "metadata": {},
   "outputs": [],
   "source": [
    "#EXPORT ILoILo"
   ]
  },
  {
   "cell_type": "code",
   "execution_count": 16,
   "id": "e7ea8302",
   "metadata": {},
   "outputs": [],
   "source": [
    "old_oup_fname = '/scratch/users/delon/LIMxCMBL/I_auto/ILo_ILo'\n",
    "old_oup_fname += '_zmin_%.1f_zmax_%.1f_Lambda_idx_%d_n_ext_%d_n_chib_%d.npy'%(zmin, \n",
    "                                                                              zmax, \n",
    "                                                                              Lambda_idx, \n",
    "                                                                              100, \n",
    "                                                                              2048)\n",
    "old_ILoILo = np.load(old_oup_fname)"
   ]
  },
  {
   "cell_type": "code",
   "execution_count": 17,
   "id": "ea507e0a",
   "metadata": {},
   "outputs": [],
   "source": [
    "vb = np.max(np.abs(ILoILo))"
   ]
  },
  {
   "cell_type": "code",
   "execution_count": 18,
   "id": "47fef0f3",
   "metadata": {},
   "outputs": [
    {
     "data": {
      "text/plain": [
       "([], [])"
      ]
     },
     "execution_count": 18,
     "metadata": {},
     "output_type": "execute_result"
    },
    {
     "data": {
      "image/png": "[encoded data removed]",
      "text/plain": [
       "<Figure size 432x288 with 1 Axes>"
      ]
     },
     "metadata": {},
     "output_type": "display_data"
    }
   ],
   "source": [
    "plt.imshow(ILoILo[0],\n",
    "          vmin = -vb,\n",
    "          vmax = vb,\n",
    "          cmap='seismic')\n",
    "plt.xticks([])\n",
    "plt.yticks([])"
   ]
  },
  {
   "cell_type": "code",
   "execution_count": 19,
   "id": "ed4f4ba8",
   "metadata": {},
   "outputs": [
    {
     "data": {
      "text/plain": [
       "([], [])"
      ]
     },
     "execution_count": 19,
     "metadata": {},
     "output_type": "execute_result"
    },
    {
     "data": {
      "image/png": "[encoded data removed]",
      "text/plain": [
       "<Figure size 432x288 with 1 Axes>"
      ]
     },
     "metadata": {},
     "output_type": "display_data"
    }
   ],
   "source": [
    "plt.imshow(old_ILoILo[0],\n",
    "          vmin = -vb,\n",
    "          vmax = vb,\n",
    "          cmap='seismic')\n",
    "plt.xticks([])\n",
    "plt.yticks([])"
   ]
  }
 ],
 "metadata": {
  "kernelspec": {
   "display_name": "cosmology",
   "language": "python",
   "name": "cosmology"
  },
  "language_info": {
   "codemirror_mode": {
    "name": "ipython",
    "version": 3
   },
   "file_extension": ".py",
   "mimetype": "text/x-python",
   "name": "python",
   "nbconvert_exporter": "python",
   "pygments_lexer": "ipython3",
   "version": "3.9.19"
  }
 },
 "nbformat": 4,
 "nbformat_minor": 5
}
