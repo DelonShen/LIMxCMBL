{
 "cells": [
  {
   "cell_type": "code",
   "execution_count": 1,
   "id": "084d1964",
   "metadata": {},
   "outputs": [
    {
     "name": "stdout",
     "output_type": "stream",
     "text": [
      "/scratch/users/delon/LIMxCMBL/I_auto/I_ILo_zmin_3.5_zmax_8.1_Lambda_idx_0_nbins_5_cubature.npy\n"
     ]
    }
   ],
   "source": [
    "from LIMxCMBL.init import *\n",
    "from LIMxCMBL.kernels import *\n",
    "from tqdm import trange\n",
    "import sys\n",
    "\n",
    "Lambda_idx = 0\n",
    "nbins = 5\n",
    "\n",
    "\n",
    "\n",
    "Lambda = Lambdas[Lambda_idx]\n",
    "\n",
    "\n",
    "# CCAT-prime\n",
    "zmin = 3.5\n",
    "zmax = 8.1\n",
    "\n",
    "Omega_field = 8 * (np.pi/180)**2 #rad^2\n",
    "Pei = 2.3e4 #Mpc^3 kJy^2 /sr^2 \n",
    "chimin = ccl.comoving_angular_distance(cosmo, 1/(1+zmin))\n",
    "chimax = ccl.comoving_angular_distance(cosmo, 1/(1+zmax))\n",
    "\n",
    "chi_bin_edges = np.linspace(chimin*(1+1e-8), chimax*(1 - 1e-8), nbins + 1)\n",
    "chi_bin_centers = (chi_bin_edges[1:] + chi_bin_edges[:-1])/2\n",
    "dchi_binned = np.mean(np.diff(chi_bin_edges))\n",
    "\n",
    "\n",
    "oup_fname = '/scratch/users/delon/LIMxCMBL/I_auto/I_ILo_zmin_%.1f_zmax_%.1f_Lambda_idx_%d_nbins_%d_cubature.npy'%(zmin, zmax, Lambda_idx, nbins)\n",
    "print(oup_fname)\n",
    "\n",
    "Omega_field = 8 * (np.pi/180)**2 #rad^2\n",
    "Pei = 2.3e4 #Mpc^3 kJy^2 /sr^2 \n",
    "chimin = ccl.comoving_angular_distance(cosmo, 1/(1+zmin))\n",
    "chimax = ccl.comoving_angular_distance(cosmo, 1/(1+zmax))\n",
    "\n",
    "from  LIMxCMBL.kernels import *\n",
    "f_KLIM   = get_f_KI()\n",
    "\n",
    "f_KLIM_windowed = apply_window(f_K = f_KLIM,\n",
    "                               chimin = chimin,\n",
    "                               chimax = chimax)\n",
    "\n",
    "from scipy.interpolate import interp1d, interp2d, LinearNDInterpolator\n",
    "\n",
    "inner_dkparp_integral = np.load('/oak/stanford/orgs/kipac/users/delon/LIMxCMBL/inner_dkparp_integral.npy')\n",
    "\n",
    "from scipy.integrate import quad_vec#, cubature\n",
    "\n",
    "tmp_chibs = []\n",
    "tmp_log_deltas = []\n",
    "tmp_fnctn = []\n",
    "for i in range(len(chibs)):\n",
    "    for j in range(len(deltas)):\n",
    "        tmp_chibs += [chibs[i]]\n",
    "        tmp_log_deltas += [np.log10(deltas[j])]\n",
    "        tmp_fnctn += [inner_dkparp_integral[:,i,j]]\n",
    "        \n",
    "f_inner_integral = LinearNDInterpolator(list(zip(tmp_chibs, tmp_log_deltas)), tmp_fnctn)"
   ]
  },
  {
   "cell_type": "code",
   "execution_count": 2,
   "id": "4f628d22",
   "metadata": {},
   "outputs": [],
   "source": [
    "#cant cubature in notebook because sherlock is weird, but can run py3.13 in terminal\n",
    "#will just make sure integrand has correct properties"
   ]
  },
  {
   "cell_type": "code",
   "execution_count": 107,
   "id": "e9b69156",
   "metadata": {},
   "outputs": [],
   "source": [
    "\n",
    "def integrand(x):\n",
    "    '''\n",
    "    x should be of shape (npoints, ndim)\n",
    "    output should be of shape (npoints, output_dim_1,...)\n",
    "    '''\n",
    "    p = len(x)\n",
    "    chi  = x[:,0]\n",
    "    chips = x[:,1:nbins+1]\n",
    "    _chib = x[:,-1]\n",
    "    \n",
    "    \n",
    "    _delta = np.abs(1 - chi, 1/_chib)\n",
    "    _delta = np.where(_delta < 1e-6, 1e-6,\n",
    "                     np.where(_delta > 0.7, 0.7,\n",
    "                              _delta))\n",
    "          \n",
    "    integrand = 2 * f_KLIM_windowed(chi)\n",
    "    print(integrand.shape)\n",
    "    integrand = np.einsum('p,pl->pl',\n",
    "                          integrand,\n",
    "                          f_inner_integral(list(zip(_chib, np.log10(_delta)))))\n",
    "\n",
    "    integrand = np.einsum('p,pl->pl', 1/(_chib**2), integrand)\n",
    "    \n",
    "    f_KLIMLo = get_f_KILo(external_chi = chips, Lambda=Lambda)\n",
    "\n",
    "    f_KLIMLo_windowed = apply_window(f_K = f_KLIMLo,\n",
    "                                     chimin = chimin,\n",
    "                                     chimax = chimax)\n",
    "\n",
    "    kernel = f_KLIMLo_windowed((2*_chib.reshape(-1,1) - chi.reshape(p,1)))\n",
    "    return np.einsum('pj, pl->plj', kernel, integrand)"
   ]
  },
  {
   "cell_type": "code",
   "execution_count": 112,
   "id": "6a1db741",
   "metadata": {},
   "outputs": [],
   "source": [
    "inp = np.array([np.hstack([np.random.uniform(chimin, chimax), chi_bin_centers, np.random.uniform(chimin, chimax)]) for _ in range(1000000)])"
   ]
  },
  {
   "cell_type": "code",
   "execution_count": 113,
   "id": "b1af1218",
   "metadata": {},
   "outputs": [
    {
     "name": "stdout",
     "output_type": "stream",
     "text": [
      "[7430.46225215 8228.17820808 8082.73753129]\n"
     ]
    }
   ],
   "source": [
    "print(inp[:3,0])"
   ]
  },
  {
   "cell_type": "code",
   "execution_count": 114,
   "id": "da4aba92",
   "metadata": {},
   "outputs": [
    {
     "name": "stdout",
     "output_type": "stream",
     "text": [
      "(1000000,)\n",
      "[[-1.11277220e-19 -1.11278859e-19 -1.11279773e-19 -1.11279963e-19\n",
      "  -1.11279428e-19]\n",
      " [-4.28930425e-20 -4.28935372e-20 -4.28937528e-20 -4.28936891e-20\n",
      "  -4.28933462e-20]\n",
      " [ 0.00000000e+00  0.00000000e+00  0.00000000e+00  0.00000000e+00\n",
      "   0.00000000e+00]]\n"
     ]
    }
   ],
   "source": [
    "print(integrand(inp)[:3, 0])"
   ]
  },
  {
   "cell_type": "code",
   "execution_count": 115,
   "id": "863d1cb0",
   "metadata": {},
   "outputs": [
    {
     "name": "stdout",
     "output_type": "stream",
     "text": [
      "(1000000,)\n",
      "         390 function calls in 4.175 seconds\n",
      "\n",
      "   Ordered by: standard name\n",
      "\n",
      "   ncalls  tottime  percall  cumtime  percall filename:lineno(function)\n",
      "        1    1.440    1.440    4.018    4.018 1855438159.py:1(integrand)\n",
      "        1    0.157    0.157    4.175    4.175 <string>:1(<module>)\n",
      "        4    0.000    0.000    0.000    0.000 _base.py:1513(issparse)\n",
      "        6    0.000    0.000    0.000    0.000 _interpolate.py:381(_do_extrapolate)\n",
      "        3    0.000    0.000    0.001    0.000 _interpolate.py:496(__init__)\n",
      "        3    0.000    0.000    0.000    0.000 _interpolate.py:649(fill_value)\n",
      "        3    0.000    0.000    0.000    0.000 _interpolate.py:680(_check_and_update_bounds_error_for_extrapolation)\n",
      "        4    0.062    0.016    0.416    0.104 _interpolate.py:690(_call_linear)\n",
      "        4    0.000    0.000    0.416    0.104 _interpolate.py:759(_evaluate)\n",
      "        4    0.004    0.001    0.004    0.001 _methods.py:90(_clip)\n",
      "        3    0.000    0.000    0.000    0.000 _polyint.py:107(_reshape_yi)\n",
      "        3    0.000    0.000    0.000    0.000 _polyint.py:115(_set_yi)\n",
      "        3    0.000    0.000    0.000    0.000 _polyint.py:135(_set_dtype)\n",
      "        3    0.000    0.000    0.000    0.000 _polyint.py:52(__init__)\n",
      "        4    0.000    0.000    0.423    0.106 _polyint.py:59(__call__)\n",
      "        4    0.000    0.000    0.007    0.002 _polyint.py:90(_prepare_x)\n",
      "        4    0.000    0.000    0.000    0.000 _polyint.py:96(_finish_y)\n",
      "        4    0.000    0.000    0.000    0.000 _util.py:275(_asarray_validated)\n",
      "        4    0.000    0.000    0.000    0.000 core.py:6485(isMaskedArray)\n",
      "       15    0.000    0.000    0.000    0.000 einsumfunc.py:1001(_einsum_dispatcher)\n",
      "        3    0.000    0.000    1.887    0.629 einsumfunc.py:1009(einsum)\n",
      "        3    0.000    0.000    0.000    0.000 fromnumeric.py:1021(_argsort_dispatcher)\n",
      "        3    0.000    0.000    0.000    0.000 fromnumeric.py:1025(argsort)\n",
      "        4    0.000    0.000    0.000    0.000 fromnumeric.py:1328(_searchsorted_dispatcher)\n",
      "        4    0.000    0.000    0.347    0.087 fromnumeric.py:1332(searchsorted)\n",
      "       10    0.000    0.000    0.347    0.035 fromnumeric.py:53(_wrapfunc)\n",
      "        3    0.000    0.000    0.000    0.000 fromnumeric.py:91(_take_dispatcher)\n",
      "        3    0.000    0.000    0.000    0.000 fromnumeric.py:95(take)\n",
      "        1    0.000    0.000    0.000    0.000 function_base.py:3628(_sinc_dispatcher)\n",
      "        1    0.078    0.078    0.078    0.078 function_base.py:3632(sinc)\n",
      "        2    0.000    0.000    0.000    0.000 function_base.py:869(_copy_dispatcher)\n",
      "        2    0.000    0.000    0.144    0.072 function_base.py:873(copy)\n",
      "        3    0.000    0.000    0.000    0.000 iostream.py:206(schedule)\n",
      "        2    0.000    0.000    0.000    0.000 iostream.py:408(_is_master_process)\n",
      "        2    0.000    0.000    0.000    0.000 iostream.py:427(_schedule_flush)\n",
      "        2    0.000    0.000    0.000    0.000 iostream.py:490(write)\n",
      "        3    0.000    0.000    0.000    0.000 iostream.py:96(_event_pipe)\n",
      "        1    0.000    0.000    0.000    0.000 kernels.py:159(get_f_KI)\n",
      "        1    0.000    0.000    0.000    0.000 kernels.py:164(apply_window)\n",
      "        2    0.011    0.006    0.546    0.273 kernels.py:167(<lambda>)\n",
      "        1    0.000    0.000    0.000    0.000 kernels.py:176(get_f_KILo)\n",
      "        1    0.033    0.033    0.222    0.222 kernels.py:179(<lambda>)\n",
      "        1    0.000    0.000    0.000    0.000 multiarray.py:1080(copyto)\n",
      "        3    0.000    0.000    0.000    0.000 multiarray.py:346(where)\n",
      "        1    0.000    0.000    0.000    0.000 multiarray.py:85(empty_like)\n",
      "        6    0.000    0.000    0.000    0.000 numeric.py:1330(normalize_axis_tuple)\n",
      "        6    0.000    0.000    0.000    0.000 numeric.py:1380(<listcomp>)\n",
      "        3    0.000    0.000    0.000    0.000 numeric.py:1389(_moveaxis_dispatcher)\n",
      "        3    0.000    0.000    0.000    0.000 numeric.py:1393(moveaxis)\n",
      "        3    0.000    0.000    0.000    0.000 numeric.py:1455(<listcomp>)\n",
      "        1    0.000    0.000    0.000    0.000 numeric.py:63(_zeros_like_dispatcher)\n",
      "        1    0.000    0.000    0.000    0.000 numeric.py:67(zeros_like)\n",
      "       20    0.000    0.000    0.000    0.000 numerictypes.py:283(issubclass_)\n",
      "       10    0.000    0.000    0.000    0.000 numerictypes.py:357(issubdtype)\n",
      "        3    0.000    0.000    0.000    0.000 socket.py:474(send)\n",
      "        3    0.000    0.000    0.000    0.000 threading.py:1066(_wait_for_tstate_lock)\n",
      "        3    0.000    0.000    0.000    0.000 threading.py:1133(is_alive)\n",
      "        3    0.000    0.000    0.000    0.000 threading.py:536(is_set)\n",
      "        6    0.000    0.000    0.000    0.000 {built-in method _operator.index}\n",
      "        1    0.000    0.000    4.175    4.175 {built-in method builtins.exec}\n",
      "       10    0.000    0.000    0.000    0.000 {built-in method builtins.getattr}\n",
      "       19    0.000    0.000    0.000    0.000 {built-in method builtins.isinstance}\n",
      "       33    0.000    0.000    0.000    0.000 {built-in method builtins.issubclass}\n",
      "       31    0.000    0.000    0.000    0.000 {built-in method builtins.len}\n",
      "        1    0.000    0.000    0.000    0.000 {built-in method builtins.print}\n",
      "        3    0.000    0.000    0.000    0.000 {built-in method builtins.sorted}\n",
      "        8    0.144    0.018    0.144    0.018 {built-in method numpy.array}\n",
      "        1    0.000    0.000    0.000    0.000 {built-in method numpy.asanyarray}\n",
      "       14    0.000    0.000    0.000    0.000 {built-in method numpy.asarray}\n",
      "        3    1.887    0.629    1.887    0.629 {built-in method numpy.core._multiarray_umath.c_einsum}\n",
      "        6    0.000    0.000    0.000    0.000 {built-in method numpy.core._multiarray_umath.normalize_axis_index}\n",
      "        1    0.000    0.000    0.000    0.000 {built-in method numpy.zeros}\n",
      "        2    0.000    0.000    0.000    0.000 {built-in method posix.getpid}\n",
      "        3    0.000    0.000    0.000    0.000 {method 'acquire' of '_thread.lock' objects}\n",
      "        3    0.000    0.000    0.000    0.000 {method 'append' of 'collections.deque' objects}\n",
      "        3    0.000    0.000    0.000    0.000 {method 'argsort' of 'numpy.ndarray' objects}\n",
      "        4    0.003    0.001    0.003    0.001 {method 'astype' of 'numpy.ndarray' objects}\n",
      "        4    0.000    0.000    0.004    0.001 {method 'clip' of 'numpy.ndarray' objects}\n",
      "        1    0.000    0.000    0.000    0.000 {method 'disable' of '_lsprof.Profiler' objects}\n",
      "        3    0.000    0.000    0.000    0.000 {method 'insert' of 'list' objects}\n",
      "        4    0.006    0.002    0.006    0.002 {method 'ravel' of 'numpy.ndarray' objects}\n",
      "        9    0.000    0.000    0.000    0.000 {method 'reshape' of 'numpy.ndarray' objects}\n",
      "        4    0.347    0.087    0.347    0.087 {method 'searchsorted' of 'numpy.ndarray' objects}\n",
      "        3    0.000    0.000    0.000    0.000 {method 'take' of 'numpy.ndarray' objects}\n",
      "        3    0.000    0.000    0.000    0.000 {method 'transpose' of 'numpy.ndarray' objects}\n",
      "\n",
      "\n"
     ]
    }
   ],
   "source": [
    "import cProfile\n",
    "cProfile.run('integrand(inp)')"
   ]
  }
 ],
 "metadata": {
  "kernelspec": {
   "display_name": "cosmology",
   "language": "python",
   "name": "cosmology"
  },
  "language_info": {
   "codemirror_mode": {
    "name": "ipython",
    "version": 3
   },
   "file_extension": ".py",
   "mimetype": "text/x-python",
   "name": "python",
   "nbconvert_exporter": "python",
   "pygments_lexer": "ipython3",
   "version": "3.9.19"
  }
 },
 "nbformat": 4,
 "nbformat_minor": 5
}
