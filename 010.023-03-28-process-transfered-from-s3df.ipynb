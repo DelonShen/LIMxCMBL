{
 "cells": [
  {
   "cell_type": "code",
   "execution_count": 1,
   "id": "7c60e128",
   "metadata": {},
   "outputs": [],
   "source": [
    "from LIMxCMBL.init import *\n",
    "from tqdm import tqdm, trange\n",
    "\n",
    "\n",
    "from LIMxCMBL.experiments import *\n",
    "experiment = 'CHIME'\n",
    "zmin = experiments[experiment]['zmin']\n",
    "zmax = experiments[experiment]['zmax']\n",
    "line_str = experiments[experiment]['line_str']\n",
    "\n",
    "n_bins = 100"
   ]
  },
  {
   "cell_type": "code",
   "execution_count": 2,
   "id": "f5e43379",
   "metadata": {},
   "outputs": [],
   "source": [
    "chimin = ccl.comoving_angular_distance(cosmo, 1/(1+zmin))\n",
    "chimax = ccl.comoving_angular_distance(cosmo, 1/(1+zmax))\n"
   ]
  },
  {
   "cell_type": "code",
   "execution_count": 3,
   "id": "dd4b73f8",
   "metadata": {},
   "outputs": [
    {
     "name": "stderr",
     "output_type": "stream",
     "text": [
      "100%|██████████| 100/100 [00:12<00:00,  8.27it/s]\n",
      "100%|██████████| 100/100 [00:07<00:00, 14.21it/s]\n",
      "100%|██████████| 100/100 [00:12<00:00,  8.31it/s]\n",
      "100%|██████████| 100/100 [00:12<00:00,  7.98it/s]\n",
      "100%|██████████| 100/100 [00:10<00:00,  9.42it/s]\n",
      "100%|██████████| 100/100 [00:14<00:00,  6.94it/s]\n",
      "100%|██████████| 100/100 [00:15<00:00,  6.48it/s]\n"
     ]
    }
   ],
   "source": [
    "for Lambda_idx in range(25):\n",
    "    Lambda = Lambdas[Lambda_idx]\n",
    "    if(Lambda < 2 * np.pi/(chimax-chimin)):\n",
    "        continue\n",
    "    #IHi_IHi############################################\n",
    "    IHiIHi = np.zeros((len(ells), n_bins, n_bins))\n",
    "\n",
    "    for idx1 in trange(n_bins):\n",
    "        for idx2 in range(idx1, n_bins):\n",
    "            IHiIHi_fname = '/scratch/users/delon/LIMxCMBL/I_auto/from_s3df/%s/comb_'%(experiment)\n",
    "            IHiIHi_fname += '%s_zmin_%.1f_zmax_%.1f_Lambda_idx_%d_n_b_%d_%d_%d_jax_qmc.npy'%(line_str,\n",
    "                                                                                            zmin, zmax, \n",
    "                                                                                            Lambda_idx, \n",
    "                                                                                            n_bins,idx1, idx2)\n",
    "\n",
    "            IHiIHi[:, idx1, idx2] = np.load(IHiIHi_fname)\n",
    "            IHiIHi[:, idx2, idx1] = IHiIHi[:, idx1, idx2]\n",
    "    \n",
    "    \n",
    "    oup_fname = '/oak/stanford/orgs/kipac/users/delon/LIMxCMBL/LIM_auto/'\n",
    "    oup_fname += '%s_zmin_%.1f_zmax_%.1f_Lambda_idx_%d_n_b_%d_jax_qmc.npy'%(line_str,\n",
    "                                                                            zmin, zmax, \n",
    "                                                                            Lambda_idx, \n",
    "                                                                            n_bins)\n",
    "    \n",
    "    np.save(oup_fname, IHiIHi)"
   ]
  }
 ],
 "metadata": {
  "kernelspec": {
   "display_name": "cosmology",
   "language": "python",
   "name": "cosmology"
  },
  "language_info": {
   "codemirror_mode": {
    "name": "ipython",
    "version": 3
   },
   "file_extension": ".py",
   "mimetype": "text/x-python",
   "name": "python",
   "nbconvert_exporter": "python",
   "pygments_lexer": "ipython3",
   "version": "3.9.19"
  }
 },
 "nbformat": 4,
 "nbformat_minor": 5
}
