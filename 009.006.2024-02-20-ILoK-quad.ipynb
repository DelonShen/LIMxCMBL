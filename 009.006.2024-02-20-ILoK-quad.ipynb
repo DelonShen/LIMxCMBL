{
 "cells": [
  {
   "cell_type": "code",
   "execution_count": null,
   "id": "c4b23def",
   "metadata": {},
   "outputs": [],
   "source": [
    "from LIMxCMBL.init import *\n",
    "from LIMxCMBL.noise import *\n",
    "\n",
    "import sys\n",
    "\n",
    "# Lambda_idx = int(sys.argv[1])\n",
    "# nbins = int(sys.argv[2])\n",
    "\n",
    "Lambda_idx = 13\n",
    "nbins = 3\n",
    "Lambda = Lambdas[Lambda_idx]\n",
    "# CCAT-prime\n",
    "zmin = 3.5\n",
    "zmax = 8.1\n",
    "\n",
    "Omega_field = 8 * (np.pi/180)**2 #rad^2\n",
    "Pei = 2.3e4 #Mpc^3 kJy^2 /sr^2 \n",
    "chimin = ccl.comoving_angular_distance(cosmo, 1/(1+zmin))\n",
    "chimax = ccl.comoving_angular_distance(cosmo, 1/(1+zmax))\n",
    "\n",
    "oup_fname = '/scratch/users/delon/LIMxCMBL/IHiKappa/Ik_zmin_%.5f_zmax_%.5f_quad_nbins_%d.npy'%(zmin, zmax, nbins)\n",
    "print(oup_fname)\n",
    "\n",
    "\n",
    "# get CMB lensing component\n",
    "from LIMxCMBL.kernels import get_f_Kkappa\n",
    "f_WkD = get_f_Kkappa()\n",
    "\n",
    "from LIMxCMBL.cross_spectrum import *\n",
    "ClKK = d_chib_integral(f_WkD, f_WkD) #[Mpc]^2\n",
    "\n",
    "\n",
    "# beam=1.4, noise=7\n",
    "from scipy.interpolate import interp1d\n",
    "N0_ells = np.logspace(1, np.log10(5000), 500)\n",
    "with open('LIMxCMBL/N0.npy', 'rb') as f:\n",
    "    N0 = np.load(f)\n",
    "    \n",
    "f_N0 = interp1d(x = N0_ells, y = N0)\n",
    "\n",
    "    \n",
    "plt.plot(ells, ClKK)\n",
    "plt.plot(ells, f_N0(ells))\n",
    "plt.loglog()\n",
    "\n",
    "# if no high pass IKappa\n",
    "from  LIMxCMBL.kernels import *\n",
    "f_KLIM   = get_f_KI()\n",
    "f_Kkappa = get_f_Kkappa()\n",
    "\n",
    "f_KLIM_windowed = apply_window(f_K = f_KLIM,\n",
    "                               chimin = chimin,\n",
    "                               chimax = chimax)\n",
    "\n"
   ]
  },
  {
   "cell_type": "code",
   "execution_count": null,
   "id": "badf16cd",
   "metadata": {},
   "outputs": [],
   "source": [
    "def ILOk_integrand(chi):\n",
    "    external_chis = np.array([chi]).reshape(-1, 1, 1, 1)\n",
    "    f_KLIMLo = get_f_KILo(external_chi = external_chis, Lambda=Lambda)\n",
    "    f_KLIMLo_windowed = apply_window(f_K = f_KLIMLo,\n",
    "                                     chimin = chimin,\n",
    "                                     chimax = chimax)\n",
    "    return d_chib_integral(f_KLIMLo_windowed, f_Kkappa)"
   ]
  },
  {
   "cell_type": "code",
   "execution_count": null,
   "id": "34a7ddd7",
   "metadata": {},
   "outputs": [],
   "source": [
    "chi_bin_edges = np.linspace(chimin*(1+1e-8), chimax*(1 - 1e-8), nbins + 1)\n",
    "chi_bin_centers = (chi_bin_edges[1:] + chi_bin_edges[:-1])/2\n",
    "dchi_binned = np.mean(np.diff(chi_bin_edges))"
   ]
  },
  {
   "cell_type": "code",
   "execution_count": null,
   "id": "c58d99ae",
   "metadata": {},
   "outputs": [],
   "source": [
    "from scipy.integrate import quad_vec\n",
    "ILo_kappa = np.zeros((len(ells), nbins), dtype = np.float64)\n",
    "for i, (left, right) in tqdm(enumerate(zip(chi_bin_edges, \n",
    "                                      chi_bin_edges[1:])), total=nbins):\n",
    "    ILo_kappa[:,i], _ = quad_vec(ILOk_integrand, left, right, epsabs =0, epsrel=1e-3)\n",
    "    ILo_kappa[:,i] /= dchi_binned"
   ]
  }
 ],
 "metadata": {
  "kernelspec": {
   "display_name": "cosmology",
   "language": "python",
   "name": "cosmology"
  },
  "language_info": {
   "codemirror_mode": {
    "name": "ipython",
    "version": 3
   },
   "file_extension": ".py",
   "mimetype": "text/x-python",
   "name": "python",
   "nbconvert_exporter": "python",
   "pygments_lexer": "ipython3",
   "version": "3.9.19"
  }
 },
 "nbformat": 4,
 "nbformat_minor": 5
}
