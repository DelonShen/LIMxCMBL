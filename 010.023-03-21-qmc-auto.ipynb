{
 "cells": [
  {
   "cell_type": "code",
   "execution_count": 1,
   "id": "a32d51c8",
   "metadata": {},
   "outputs": [
    {
     "name": "stdout",
     "output_type": "stream",
     "text": [
      "CO\n",
      "/scratch/users/delon/LIMxCMBL/I_auto/lolo_CO_zmin_2.4_zmax_3.4_Lambda_idx_24_n_b_100_0_0_jax_quad.npy\n"
     ]
    }
   ],
   "source": [
    "from LIMxCMBL.init import *\n",
    "from LIMxCMBL.kernels import *\n",
    "\n",
    "from scipy.interpolate import interp1d, LinearNDInterpolator\n",
    "from scipy.integrate import quad, quad_vec, trapezoid, qmc_quad\n",
    "\n",
    "import sys\n",
    "from os.path import isfile\n",
    "import jax\n",
    "import jax.numpy as jnp\n",
    "\n",
    "from jax import config\n",
    "config.update(\"jax_enable_x64\", True)\n",
    "config.update('jax_platform_name', 'cpu')\n",
    "\n",
    "\n",
    "\n",
    "\n",
    "Lambda_idx = 24#int(sys.argv[1])\n",
    "n_bins = 100#int(sys.argv[2])\n",
    "\n",
    "idx1 = 0#int(sys.argv[3])\n",
    "idx2 = 0#int(sys.argv[4])\n",
    "\n",
    "Lambda = Lambdas[Lambda_idx]\n",
    "\n",
    "zmin = 2.4#float(sys.argv[5])\n",
    "zmax = 3.4#float(sys.argv[6])\n",
    "\n",
    "kernels = {}\n",
    "kernels['CII'] = np.array(KI)\n",
    "kernels['CO'] = np.array(KI_CO)\n",
    "kernels['Lya'] = np.array(KI_Lya)\n",
    "kernels['HI'] = np.array(KI_HI)\n",
    "\n",
    "\n",
    "line_str = 'CO'#sys.argv[7]\n",
    "print(line_str)\n",
    "_KI = kernels[line_str]\n",
    "\n",
    "oup_fname = '/scratch/users/delon/LIMxCMBL/I_auto/lolo_'\n",
    "oup_fname += '%s_zmin_%.1f_zmax_%.1f_Lambda_idx_%d_n_b_%d_%d_%d_jax_quad.npy'%(line_str,\n",
    "                                                                                zmin, zmax, \n",
    "                                                                                Lambda_idx, \n",
    "                                                                                n_bins,idx1, idx2)\n",
    "\n",
    "\n",
    "print(oup_fname)\n",
    "\n",
    "chimin = ccl.comoving_angular_distance(cosmo, 1/(1+zmin))\n",
    "chimax = ccl.comoving_angular_distance(cosmo, 1/(1+zmax))\n",
    "\n",
    "inner_dkparp_integral = np.load('/oak/stanford/orgs/kipac/users/delon/LIMxCMBL/inner_dkparp_integral.npy')\n",
    "inner_dkparp_integral = inner_dkparp_integral.astype(np.float64)\n",
    "inner_dkparp_integral = np.moveaxis(inner_dkparp_integral, 0, -1)\n",
    "\n",
    "@jax.jit\n",
    "def f_KILo(chi, external_chi, Lambda):\n",
    "    return (Lambda / jnp.pi \n",
    "            * jnp.interp(x = chi, xp = chis, \n",
    "                         fp = _KI, left = 0, right = 0) \n",
    "            * jnp.sinc(Lambda * (external_chi - chi) / np.pi))\n"
   ]
  },
  {
   "cell_type": "code",
   "execution_count": 2,
   "id": "7f542ba0",
   "metadata": {},
   "outputs": [
    {
     "data": {
      "text/plain": [
       "(256, 128, 100)"
      ]
     },
     "execution_count": 2,
     "metadata": {},
     "output_type": "execute_result"
    }
   ],
   "source": [
    "inner_dkparp_integral.shape"
   ]
  },
  {
   "cell_type": "code",
   "execution_count": 3,
   "id": "ebd050d0",
   "metadata": {},
   "outputs": [],
   "source": [
    "chi_bin_edges = np.linspace(chimin*(1+1e-8), chimax*(1 - 1e-8), n_bins + 1)\n",
    "chi_bin_centers = (chi_bin_edges[1:] + chi_bin_edges[:-1])/2\n",
    "dchi_binned = np.mean(np.diff(chi_bin_edges))"
   ]
  },
  {
   "cell_type": "code",
   "execution_count": 4,
   "id": "3a1b4fb9",
   "metadata": {},
   "outputs": [],
   "source": [
    "from interpax import interp2d\n",
    "from interpax import interp1d as interp1dx\n",
    "\n",
    "from tqdm import trange, tqdm"
   ]
  },
  {
   "cell_type": "code",
   "execution_count": 5,
   "id": "2611f1b4",
   "metadata": {},
   "outputs": [],
   "source": [
    "@jax.jit\n",
    "def f_integrand(x):\n",
    "    chi, chip, _chib = x[0], x[1], x[2]\n",
    "    chi = chi.reshape(-1, 1)\n",
    "    chip = chip.reshape(-1, 1)\n",
    "    _chib = _chib.reshape(-1, 1)    \n",
    "    #LoLo\n",
    "    plus = _chib*(1+deltas.reshape(1, -1))\n",
    "    mins = _chib*(1-deltas.reshape(1, -1))\n",
    "    _idxs = (chimin < plus) & (plus < chimax) & (chimin < mins) & (mins < chimax)\n",
    "    LoLo_integrand  = jnp.where(_idxs,\n",
    "                               f_KILo(plus, \n",
    "                                      external_chi = chi,\n",
    "                                      Lambda=Lambda) \n",
    "                                * f_KILo(mins, \n",
    "                                         external_chi = chip,\n",
    "                                         Lambda=Lambda),\n",
    "                               0)\n",
    "\n",
    "    LoLo_integrand += jnp.where(_idxs,\n",
    "                               f_KILo(mins, \n",
    "                                      external_chi = chi,\n",
    "                                      Lambda=Lambda) \n",
    "                                * f_KILo(plus, \n",
    "                                         external_chi = chip,\n",
    "                                         Lambda=Lambda),0)\n",
    "    LoLo_integrand *= (2 / _chib) * deltas.reshape(1, -1)\n",
    "    LoLo_integrand = jnp.einsum('pd, pdl->pld', LoLo_integrand,\n",
    "                                interp1dx(xq = _chib.reshape(-1),x = chibs, \n",
    "                                f=inner_dkparp_integral,\n",
    "                                method='linear',))\n",
    "\n",
    "    LoLo_integrand = jnp.trapezoid(x = np.log(deltas), y = LoLo_integrand, axis=-1)\n",
    "    return LoLo_integrand"
   ]
  },
  {
   "cell_type": "code",
   "execution_count": 6,
   "id": "aa8efd6e",
   "metadata": {},
   "outputs": [],
   "source": [
    "from scipy.stats import qmc\n",
    "qrng = qmc.Halton(d = 3)\n"
   ]
  },
  {
   "cell_type": "code",
   "execution_count": 7,
   "id": "4fb7b103",
   "metadata": {},
   "outputs": [],
   "source": [
    "l1, r1 = chi_bin_edges[idx1], chi_bin_edges[idx1+1]\n",
    "l2, r2 = chi_bin_edges[idx2], chi_bin_edges[idx2+1]\n"
   ]
  },
  {
   "cell_type": "code",
   "execution_count": null,
   "id": "e2bb4b08",
   "metadata": {},
   "outputs": [],
   "source": []
  },
  {
   "cell_type": "code",
   "execution_count": 8,
   "id": "423020f6",
   "metadata": {},
   "outputs": [],
   "source": [
    "def _rng_spawn(rng, n_children):\n",
    "    bg = rng._bit_generator\n",
    "    ss = bg._seed_seq\n",
    "    child_rngs = [np.random.Generator(type(bg)(child_ss))\n",
    "                  for child_ss in ss.spawn(n_children)]\n",
    "    return child_rngs"
   ]
  },
  {
   "cell_type": "code",
   "execution_count": 10,
   "id": "821f334a",
   "metadata": {},
   "outputs": [
    {
     "name": "stderr",
     "output_type": "stream",
     "text": [
      "100%|██████████| 8/8 [00:49<00:00,  6.22s/it]\n"
     ]
    }
   ],
   "source": [
    "\n",
    "n_estimates = 2**3\n",
    "n_points = 2**16\n",
    "estimates = np.zeros((n_estimates, 100))\n",
    "\n",
    "\n",
    "rngs = _rng_spawn(qrng.rng, n_estimates)\n",
    "\n",
    "\n",
    "\n",
    "for i in trange(n_estimates):\n",
    "    sample = qrng.random(n = n_points)\n",
    "\n",
    "    def _curr(a, b):\n",
    "        A = np.prod(b - a)\n",
    "        dA = A / n_points\n",
    "\n",
    "        x = jnp.array(qmc.scale(sample, a, b)).T\n",
    "        return np.sum(f_integrand(x) * dA, axis = 0)\n",
    "        \n",
    "    for (l3, r3) in [(10, chimin), (chimin, chimax), (chimax, chimax_sample)]:\n",
    "        a = np.array([l1, l2, l3, ])\n",
    "        b = np.array([r1, r2, r3, ])\n",
    "        estimates[i] += _curr(a,b)\n",
    "    qrng = type(qrng)(seed=rngs[i], **qrng._init_quad)\n",
    "    \n",
    "integral = np.mean(estimates, axis=0)\n",
    "standard_error = np.std(estimates, axis = 0, ddof = 1)"
   ]
  },
  {
   "cell_type": "code",
   "execution_count": 11,
   "id": "0d70ddbf",
   "metadata": {},
   "outputs": [
    {
     "name": "stdout",
     "output_type": "stream",
     "text": [
      "[0.00040088 0.00040119 0.00040154 0.0004019  0.00040229 0.00040271\n",
      " 0.00040315 0.00040362 0.00040411 0.00040463 0.00040517 0.00040573\n",
      " 0.00040631 0.00040691 0.00040752 0.00040813 0.00040875 0.00040937\n",
      " 0.00040997 0.00041054 0.00041109 0.00041158 0.00041202 0.00041237\n",
      " 0.00041264 0.00041279 0.0004128  0.00041265 0.00041232 0.00041177\n",
      " 0.00041098 0.00040993 0.00040857 0.00040689 0.00040486 0.00040245\n",
      " 0.00039966 0.00039648 0.00039292 0.00038901 0.00038479 0.00038034\n",
      " 0.00037574 0.00037112 0.0003666  0.00036237 0.00035853 0.00035516\n",
      " 0.00035226 0.00034975 0.00034749 0.00034516 0.00034222 0.00033825\n",
      " 0.00033284 0.00032584 0.00031749 0.00030848 0.00029993 0.00029309\n",
      " 0.00028873 0.00028657 0.00028521 0.00028245 0.00027657 0.00026822\n",
      " 0.00026    0.000255   0.00025376 0.00025313 0.00024948 0.00024297\n",
      " 0.00023795 0.00023675 0.00023615 0.00023308 0.00022995 0.00022927\n",
      " 0.00022885 0.00022758 0.00022737 0.00022786 0.00022822 0.00022925\n",
      " 0.00023065 0.00023231 0.00023444 0.00023682 0.00023957 0.00024257\n",
      " 0.00024584 0.00024936 0.00025309 0.00025699 0.00026104 0.00026519\n",
      " 0.00026943 0.00027372 0.00027804 0.00028236]\n"
     ]
    }
   ],
   "source": [
    "np.save(oup_fname, integral/dchi_binned**2)\n",
    "np.save(oup_fname + 'relerr', standard_error/integral)\n",
    "\n",
    "print(standard_error/integral)"
   ]
  },
  {
   "cell_type": "code",
   "execution_count": 12,
   "id": "b50dd212",
   "metadata": {},
   "outputs": [],
   "source": [
    "import matplotlib.pyplot as plt"
   ]
  },
  {
   "cell_type": "code",
   "execution_count": 13,
   "id": "c030e52e",
   "metadata": {},
   "outputs": [],
   "source": [
    "cross_fname = '/scratch/users/delon/LIMxCMBL/I_auto/cross_'\n",
    "cross_fname += '%s_zmin_%.1f_zmax_%.1f_Lambda_idx_%d_n_b_%d_%d_%d_jax_quad.npy'%(line_str,\n",
    "                                                                                zmin, zmax, \n",
    "                                                                                Lambda_idx, \n",
    "                                                                                n_bins,idx1, idx2)\n",
    "\n",
    "cross = np.load(cross_fname)"
   ]
  },
  {
   "cell_type": "code",
   "execution_count": 14,
   "id": "1cb03790",
   "metadata": {},
   "outputs": [
    {
     "data": {
      "text/plain": [
       "[<matplotlib.lines.Line2D at 0x7f35f42f2820>]"
      ]
     },
     "execution_count": 14,
     "metadata": {},
     "output_type": "execute_result"
    },
    {
     "data": {
      "image/png": "[encoded data removed]",
      "text/plain": [
       "<Figure size 432x288 with 1 Axes>"
      ]
     },
     "metadata": {
      "needs_background": "light"
     },
     "output_type": "display_data"
    }
   ],
   "source": [
    "plt.plot(integral/dchi_binned**2)\n",
    "plt.plot(cross)"
   ]
  },
  {
   "cell_type": "code",
   "execution_count": 17,
   "id": "eafa8bd6",
   "metadata": {},
   "outputs": [],
   "source": [
    "def get_binned(base, n_external = 300):\n",
    "    external_chis = np.linspace(chimin*(1+1e-8), chimax*(1 - 1e-8), n_external)\n",
    "    \n",
    "    oup = np.zeros((100, n_bins, n_bins), dtype=np.float64)\n",
    "    for i, (l1, r1) in enumerate(zip(chi_bin_edges, chi_bin_edges[1:])):\n",
    "        for j, (l2, r2) in enumerate(zip(chi_bin_edges, chi_bin_edges[1:])):\n",
    "            idx1 = np.where((external_chis > l1) & (external_chis <= r1))[0]\n",
    "            idx2 = np.where((external_chis > l2) & (external_chis <= r2))[0]\n",
    "            oup[:,i,j] = (np.sum(base[:,\n",
    "                                      idx1[0]:idx1[-1]+1,\n",
    "                                      idx2[0]:idx2[-1]+1], \n",
    "                                 axis=(1, 2)) / len(idx1) / len(idx2))\n",
    "    return oup"
   ]
  },
  {
   "cell_type": "code",
   "execution_count": 29,
   "id": "473891d0",
   "metadata": {},
   "outputs": [],
   "source": [
    "comb_n_external = 101\n",
    "comb_unbinned = np.zeros((len(ells), comb_n_external, comb_n_external))\n",
    "for ell_idx in range(len(ells)):\n",
    "    comb_fname = '/scratch/users/delon/LIMxCMBL/I_auto/comb_'\n",
    "    comb_fname += '%s_zmin_%.1f_zmax_%.1f_Lambda_idx_%d_n_ext_%d_l_%d_jax_quad.npy'%('CO',\n",
    "                                                                                  zmin, zmax, \n",
    "                                                                                  Lambda_idx, \n",
    "                                                                                  comb_n_external,\n",
    "                                                                                  ell_idx)\n",
    "\n",
    "\n",
    "    comb_unbinned[ell_idx] = np.load(comb_fname)\n",
    "\n",
    "comb = get_binned(comb_unbinned, n_external = comb_n_external)\n"
   ]
  },
  {
   "cell_type": "code",
   "execution_count": 30,
   "id": "7f75d506",
   "metadata": {},
   "outputs": [
    {
     "data": {
      "text/plain": [
       "(-1.2e-07, 1e-08)"
      ]
     },
     "execution_count": 30,
     "metadata": {},
     "output_type": "execute_result"
    },
    {
     "data": {
      "image/png": "[encoded data removed]",
      "text/plain": [
       "<Figure size 432x288 with 1 Axes>"
      ]
     },
     "metadata": {
      "needs_background": "light"
     },
     "output_type": "display_data"
    }
   ],
   "source": [
    "plt.plot(integral/dchi_binned**2 - 2 * cross)\n",
    "plt.title(comb_n_external)\n",
    "plt.plot(comb[:,0,0])\n",
    "plt.ylim(-1.2e-7,1e-8)"
   ]
  },
  {
   "cell_type": "code",
   "execution_count": 31,
   "id": "1692c5c3",
   "metadata": {},
   "outputs": [],
   "source": [
    "comb_n_external = 301\n",
    "comb_unbinned = np.zeros((len(ells), comb_n_external, comb_n_external))\n",
    "for ell_idx in range(len(ells)):\n",
    "    comb_fname = '/scratch/users/delon/LIMxCMBL/I_auto/comb_'\n",
    "    comb_fname += '%s_zmin_%.1f_zmax_%.1f_Lambda_idx_%d_n_ext_%d_l_%d_jax_quad.npy'%('CO',\n",
    "                                                                                  zmin, zmax, \n",
    "                                                                                  Lambda_idx, \n",
    "                                                                                  comb_n_external,\n",
    "                                                                                  ell_idx)\n",
    "\n",
    "\n",
    "    comb_unbinned[ell_idx] = np.load(comb_fname)\n",
    "\n",
    "comb = get_binned(comb_unbinned, n_external = comb_n_external)\n"
   ]
  },
  {
   "cell_type": "code",
   "execution_count": 32,
   "id": "231f6162",
   "metadata": {},
   "outputs": [
    {
     "data": {
      "text/plain": [
       "(-1.2e-07, 1e-08)"
      ]
     },
     "execution_count": 32,
     "metadata": {},
     "output_type": "execute_result"
    },
    {
     "data": {
      "image/png": "[encoded data removed]",
      "text/plain": [
       "<Figure size 432x288 with 1 Axes>"
      ]
     },
     "metadata": {
      "needs_background": "light"
     },
     "output_type": "display_data"
    }
   ],
   "source": [
    "plt.plot(integral/dchi_binned**2 - 2 * cross)\n",
    "plt.title(comb_n_external)\n",
    "plt.plot(comb[:,0,0])\n",
    "plt.ylim(-1.2e-7,1e-8)"
   ]
  },
  {
   "cell_type": "code",
   "execution_count": 33,
   "id": "ca3d36ba",
   "metadata": {},
   "outputs": [],
   "source": [
    "# it looks like its converging to the qmc "
   ]
  }
 ],
 "metadata": {
  "kernelspec": {
   "display_name": "cosmology",
   "language": "python",
   "name": "cosmology"
  },
  "language_info": {
   "codemirror_mode": {
    "name": "ipython",
    "version": 3
   },
   "file_extension": ".py",
   "mimetype": "text/x-python",
   "name": "python",
   "nbconvert_exporter": "python",
   "pygments_lexer": "ipython3",
   "version": "3.9.19"
  }
 },
 "nbformat": 4,
 "nbformat_minor": 5
}
